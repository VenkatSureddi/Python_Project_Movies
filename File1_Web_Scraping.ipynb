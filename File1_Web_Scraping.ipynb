{
 "cells": [
  {
   "cell_type": "code",
   "execution_count": 1,
   "metadata": {},
   "outputs": [
    {
     "name": "stdout",
     "output_type": "stream",
     "text": [
      "Requirement already satisfied: beautifulsoup4 in c:\\users\\himaj\\anaconda3\\lib\\site-packages (4.8.0)\n",
      "Requirement already satisfied: requests in c:\\users\\himaj\\anaconda3\\lib\\site-packages (2.22.0)\n",
      "Requirement already satisfied: pandas in c:\\users\\himaj\\anaconda3\\lib\\site-packages (0.25.1)\n",
      "Requirement already satisfied: soupsieve>=1.2 in c:\\users\\himaj\\anaconda3\\lib\\site-packages (from beautifulsoup4) (1.9.3)\n",
      "Requirement already satisfied: chardet<3.1.0,>=3.0.2 in c:\\users\\himaj\\anaconda3\\lib\\site-packages (from requests) (3.0.4)\n",
      "Requirement already satisfied: urllib3!=1.25.0,!=1.25.1,<1.26,>=1.21.1 in c:\\users\\himaj\\anaconda3\\lib\\site-packages (from requests) (1.24.2)\n",
      "Requirement already satisfied: idna<2.9,>=2.5 in c:\\users\\himaj\\anaconda3\\lib\\site-packages (from requests) (2.8)\n",
      "Requirement already satisfied: certifi>=2017.4.17 in c:\\users\\himaj\\anaconda3\\lib\\site-packages (from requests) (2019.9.11)\n",
      "Requirement already satisfied: pytz>=2017.2 in c:\\users\\himaj\\anaconda3\\lib\\site-packages (from pandas) (2019.3)\n",
      "Requirement already satisfied: numpy>=1.13.3 in c:\\users\\himaj\\anaconda3\\lib\\site-packages (from pandas) (1.16.5)\n",
      "Requirement already satisfied: python-dateutil>=2.6.1 in c:\\users\\himaj\\anaconda3\\lib\\site-packages (from pandas) (2.8.0)\n",
      "Requirement already satisfied: six>=1.5 in c:\\users\\himaj\\anaconda3\\lib\\site-packages (from python-dateutil>=2.6.1->pandas) (1.12.0)\n",
      "Note: you may need to restart the kernel to use updated packages.\n"
     ]
    }
   ],
   "source": [
    "pip install beautifulsoup4 requests pandas"
   ]
  },
  {
   "cell_type": "code",
   "execution_count": 7,
   "metadata": {},
   "outputs": [],
   "source": [
    "import bs4\n",
    "import pandas as pd\n",
    "import requests"
   ]
  },
  {
   "cell_type": "code",
   "execution_count": 9,
   "metadata": {},
   "outputs": [],
   "source": [
    "from time import sleep\n",
    "from random import randint"
   ]
  },
  {
   "cell_type": "code",
   "execution_count": 10,
   "metadata": {},
   "outputs": [],
   "source": [
    "#Set the pages & years \n",
    "pages = [str(i) for i in range(1,20)]\n",
    "years_url = [str(i) for i in range(1990,2019)]"
   ]
  },
  {
   "cell_type": "code",
   "execution_count": 11,
   "metadata": {},
   "outputs": [],
   "source": [
    "#Get page contents function\n",
    "def get_page_contents(url):\n",
    "    page = requests.get(url)\n",
    "    return bs4.BeautifulSoup(page.text, \"html.parser\")"
   ]
  },
  {
   "cell_type": "code",
   "execution_count": 12,
   "metadata": {},
   "outputs": [],
   "source": [
    "#Get movie titles and release years\n",
    "def get_title_year(soup): \n",
    "    movies = soup.findAll('h3', class_='lister-item-header')\n",
    "    titles = [movie.find('a').text for movie in movies]\n",
    "    release = [movie.find('span', class_='lister-item-year text-muted unbold').text[-5:-1] for movie in movies]\n",
    "   # bad_chars = ['(I) ']\n",
    "    #final1=[]\n",
    "    #for i in bad_chars:\n",
    "     #   for j in release:\n",
    "      #      j = j.replace(i,'').replace(\"(\",\"\").replace(\")\",\"\")\n",
    "       #     final1.append(j)\n",
    "    DF=pd.DataFrame()\n",
    "    DF['MovieTitle']=titles\n",
    "    DF['ReleaseYear']=release\n",
    "    return DF"
   ]
  },
  {
   "cell_type": "code",
   "execution_count": 13,
   "metadata": {},
   "outputs": [],
   "source": [
    "#Function to get the IMDB rating\n",
    "def get_rating(soup):\n",
    "    movies1=soup.findAll('div', class_=\"ratings-bar\")\n",
    "    rating=[]\n",
    "    for movie in movies1:\n",
    "        rating.append(float(movie.find('div', 'inline-block ratings-imdb-rating')['data-value']))\n",
    "    DF=pd.DataFrame()\n",
    "    DF['Rating']=rating\n",
    "    return DF"
   ]
  },
  {
   "cell_type": "code",
   "execution_count": 14,
   "metadata": {},
   "outputs": [],
   "source": [
    "#Function to get the votes & earnings\n",
    "def get_votes_earnings(soup):\n",
    "    movies2=soup.findAll('p', class_='sort-num_votes-visible')\n",
    "    num=[]\n",
    "    votes=[]\n",
    "    earnings=[]\n",
    "    votes_available=1\n",
    "    earnings_available=1\n",
    "    i=0\n",
    "    for movie in movies2:\n",
    "        num.append(movie.findAll('span' , attrs = {'name' : 'nv'}))\n",
    "        try:\n",
    "            v=str(num[i][0])\n",
    "        except:\n",
    "            votes_available=0\n",
    "        try:\n",
    "            e=str(num[i][1])\n",
    "        except:\n",
    "            earnings_available=0\n",
    "        if votes_available!=0: votes.append(v.split('\"')[1])\n",
    "        else: votes.append(None)\n",
    "        if  earnings_available!=0: earnings.append(e.split('\"')[1])\n",
    "        else: earnings.append(None)\n",
    "        i=i+1  \n",
    "    DF=pd.DataFrame()\n",
    "    DF['Votes']=votes\n",
    "    DF['GrossEarnings']=earnings\n",
    "    return DF"
   ]
  },
  {
   "cell_type": "code",
   "execution_count": 15,
   "metadata": {},
   "outputs": [],
   "source": [
    "#Function to get the genre,runtime & certificate\n",
    "def get_genre_runtime(soup):\n",
    "    movies3=soup.findAll('p', class_='text-muted')\n",
    "    genre=[]\n",
    "    runtime=[]\n",
    "    certificate=[]\n",
    "    i=0\n",
    "    a = [i for i in range(100)]\n",
    "    for i in a:\n",
    "        if i%2==0:\n",
    "            a=(movies3[i].find('span' , class_='genre').text).lstrip()\n",
    "            genre.append(str(a).strip())\n",
    "            runtime.append(movies3[i].find('span' , class_='runtime').text)\n",
    "            certificate.append(movies3[i].find('span' , class_='certificate').text)\n",
    "    DF=pd.DataFrame()\n",
    "    DF['Genre']=genre\n",
    "    DF['RunTime']=runtime\n",
    "    DF['Certificate']=certificate\n",
    "    return DF"
   ]
  },
  {
   "cell_type": "code",
   "execution_count": 16,
   "metadata": {},
   "outputs": [],
   "source": [
    "#Function to get the meta score of the movies\n",
    "def get_metascore(soup):\n",
    "    movies4=soup.findAll('div',class_='inline-block ratings-metascore')\n",
    "    metascore=[]\n",
    "    metascore_param=[]\n",
    "    for movie in movies4:\n",
    "        try:\n",
    "            metascore.append(movie.find('span',class_='metascore favorable').text)\n",
    "            metascore_param.append('Favorable')\n",
    "        except:\n",
    "            try:\n",
    "                metascore.append(movie.find('span',class_='metascore mixed').text)\n",
    "                metascore_param.append('Mixed')\n",
    "            except:\n",
    "                metascore.append(movie.find('span',class_='metascore unfavorable').text)\n",
    "                metascore_param.append('Unfavorable')\n",
    "    DF=pd.DataFrame()\n",
    "    DF['Metascore_Value']=metascore\n",
    "    DF['Metascore_Key']=metascore_param\n",
    "    return DF"
   ]
  },
  {
   "cell_type": "code",
   "execution_count": 17,
   "metadata": {},
   "outputs": [],
   "source": [
    "#Pull the data - web scraping\n",
    "DF_Final=pd.DataFrame()\n",
    "DF_new=pd.DataFrame()\n",
    "for year_url in years_url:\n",
    "\n",
    "    # For every page in the interval 1-4\n",
    "    for page in pages:\n",
    "\n",
    "        url='http://www.imdb.com/search/title?release_date=' + year_url + '&sort=num_votes,desc&page=' + page\n",
    "        soup = get_page_contents(url)\n",
    "        DF1=get_title_year(soup)\n",
    "        DF2=get_genre_runtime(soup)\n",
    "        DF3=get_rating(soup)\n",
    "        DF4=get_votes_earnings(soup)\n",
    "        DF5=get_metascore(soup)\n",
    "        DF_new=pd.concat([DF1,DF2,DF3,DF4,DF5], axis=1, ignore_index=True)\n",
    "        DF_Final=DF_Final.append(DF_new) \n",
    "        "
   ]
  },
  {
   "cell_type": "code",
   "execution_count": 18,
   "metadata": {},
   "outputs": [
    {
     "data": {
      "text/plain": [
       "(27550, 10)"
      ]
     },
     "execution_count": 18,
     "metadata": {},
     "output_type": "execute_result"
    }
   ],
   "source": [
    "#Check the data frame dimensions\n",
    "DF_Final.shape"
   ]
  },
  {
   "cell_type": "code",
   "execution_count": 19,
   "metadata": {},
   "outputs": [],
   "source": [
    "#Renaming the columns\n",
    "DF_Final.columns = ['Title','ReleaseYear','Genre','Duration','Certificate','IMDB_Rating','Votes','GrossIncome','Metascore_Value','Metascore_Key']"
   ]
  },
  {
   "cell_type": "code",
   "execution_count": 20,
   "metadata": {},
   "outputs": [
    {
     "data": {
      "text/plain": [
       "MovieTitle          object\n",
       "ReleaseYear         object\n",
       "Genre               object\n",
       "Duration            object\n",
       "Certificate         object\n",
       "IMDB_Rating        float64\n",
       "Votes               object\n",
       "GrossIncome         object\n",
       "Metascore_Value     object\n",
       "Metascore_Key       object\n",
       "dtype: object"
      ]
     },
     "execution_count": 20,
     "metadata": {},
     "output_type": "execute_result"
    }
   ],
   "source": [
    "#Checking the data types\n",
    "DF_Final.dtypes"
   ]
  },
  {
   "cell_type": "code",
   "execution_count": 87,
   "metadata": {},
   "outputs": [],
   "source": [
    "#DF_Final=DF_Final.reset_index(drop=True)"
   ]
  },
  {
   "cell_type": "code",
   "execution_count": 21,
   "metadata": {},
   "outputs": [
    {
     "data": {
      "text/html": [
       "<div>\n",
       "<style scoped>\n",
       "    .dataframe tbody tr th:only-of-type {\n",
       "        vertical-align: middle;\n",
       "    }\n",
       "\n",
       "    .dataframe tbody tr th {\n",
       "        vertical-align: top;\n",
       "    }\n",
       "\n",
       "    .dataframe thead th {\n",
       "        text-align: right;\n",
       "    }\n",
       "</style>\n",
       "<table border=\"1\" class=\"dataframe\">\n",
       "  <thead>\n",
       "    <tr style=\"text-align: right;\">\n",
       "      <th></th>\n",
       "      <th>MovieTitle</th>\n",
       "      <th>ReleaseYear</th>\n",
       "      <th>Genre</th>\n",
       "      <th>Duration</th>\n",
       "      <th>Certificate</th>\n",
       "      <th>IMDB_Rating</th>\n",
       "      <th>Votes</th>\n",
       "      <th>GrossIncome</th>\n",
       "      <th>Metascore_Value</th>\n",
       "      <th>Metascore_Key</th>\n",
       "    </tr>\n",
       "  </thead>\n",
       "  <tbody>\n",
       "    <tr>\n",
       "      <td>0</td>\n",
       "      <td>Goodfellas</td>\n",
       "      <td>1990</td>\n",
       "      <td>Biography, Crime, Drama</td>\n",
       "      <td>146 min</td>\n",
       "      <td>R</td>\n",
       "      <td>8.7</td>\n",
       "      <td>961282</td>\n",
       "      <td>46,836,394</td>\n",
       "      <td>90</td>\n",
       "      <td>Favorable</td>\n",
       "    </tr>\n",
       "    <tr>\n",
       "      <td>1</td>\n",
       "      <td>Home Alone</td>\n",
       "      <td>1990</td>\n",
       "      <td>Comedy, Family</td>\n",
       "      <td>103 min</td>\n",
       "      <td>PG</td>\n",
       "      <td>7.6</td>\n",
       "      <td>442270</td>\n",
       "      <td>285,761,243</td>\n",
       "      <td>63</td>\n",
       "      <td>Favorable</td>\n",
       "    </tr>\n",
       "    <tr>\n",
       "      <td>2</td>\n",
       "      <td>Edward Scissorhands</td>\n",
       "      <td>1990</td>\n",
       "      <td>Drama, Fantasy, Romance</td>\n",
       "      <td>105 min</td>\n",
       "      <td>PG-13</td>\n",
       "      <td>7.9</td>\n",
       "      <td>429128</td>\n",
       "      <td>56,362,352</td>\n",
       "      <td>74</td>\n",
       "      <td>Favorable</td>\n",
       "    </tr>\n",
       "    <tr>\n",
       "      <td>3</td>\n",
       "      <td>Back to the Future Part III</td>\n",
       "      <td>1990</td>\n",
       "      <td>Adventure, Comedy, Sci-Fi</td>\n",
       "      <td>118 min</td>\n",
       "      <td>PG</td>\n",
       "      <td>7.4</td>\n",
       "      <td>380294</td>\n",
       "      <td>87,727,583</td>\n",
       "      <td>55</td>\n",
       "      <td>Mixed</td>\n",
       "    </tr>\n",
       "    <tr>\n",
       "      <td>4</td>\n",
       "      <td>The Godfather: Part III</td>\n",
       "      <td>1990</td>\n",
       "      <td>Crime, Drama</td>\n",
       "      <td>162 min</td>\n",
       "      <td>R</td>\n",
       "      <td>7.6</td>\n",
       "      <td>339644</td>\n",
       "      <td>66,666,062</td>\n",
       "      <td>60</td>\n",
       "      <td>Mixed</td>\n",
       "    </tr>\n",
       "  </tbody>\n",
       "</table>\n",
       "</div>"
      ],
      "text/plain": [
       "                    MovieTitle ReleaseYear                      Genre  \\\n",
       "0                   Goodfellas        1990    Biography, Crime, Drama   \n",
       "1                   Home Alone        1990             Comedy, Family   \n",
       "2          Edward Scissorhands        1990    Drama, Fantasy, Romance   \n",
       "3  Back to the Future Part III        1990  Adventure, Comedy, Sci-Fi   \n",
       "4      The Godfather: Part III        1990               Crime, Drama   \n",
       "\n",
       "  Duration Certificate  IMDB_Rating   Votes  GrossIncome Metascore_Value  \\\n",
       "0  146 min           R          8.7  961282   46,836,394      90           \n",
       "1  103 min          PG          7.6  442270  285,761,243      63           \n",
       "2  105 min       PG-13          7.9  429128   56,362,352      74           \n",
       "3  118 min          PG          7.4  380294   87,727,583      55           \n",
       "4  162 min           R          7.6  339644   66,666,062      60           \n",
       "\n",
       "  Metascore_Key  \n",
       "0     Favorable  \n",
       "1     Favorable  \n",
       "2     Favorable  \n",
       "3         Mixed  \n",
       "4         Mixed  "
      ]
     },
     "execution_count": 21,
     "metadata": {},
     "output_type": "execute_result"
    }
   ],
   "source": [
    "#check some records\n",
    "DF_Final.head()"
   ]
  },
  {
   "cell_type": "code",
   "execution_count": 22,
   "metadata": {},
   "outputs": [],
   "source": [
    "#Filter the movie data - remove the drams's data\n",
    "DF_IMDB=pd.DataFrame()\n",
    "DF_IMDB=DF_Final[DF_Final['Certificate'].isin(['R','G','PG','PG-13','NC-17']) ]"
   ]
  },
  {
   "cell_type": "code",
   "execution_count": 28,
   "metadata": {},
   "outputs": [
    {
     "data": {
      "text/plain": [
       "(25308, 10)"
      ]
     },
     "execution_count": 28,
     "metadata": {},
     "output_type": "execute_result"
    }
   ],
   "source": [
    "#Check the final data frame dimensions\n",
    "DF_IMDB.shape"
   ]
  },
  {
   "cell_type": "code",
   "execution_count": 24,
   "metadata": {},
   "outputs": [
    {
     "data": {
      "text/html": [
       "<div>\n",
       "<style scoped>\n",
       "    .dataframe tbody tr th:only-of-type {\n",
       "        vertical-align: middle;\n",
       "    }\n",
       "\n",
       "    .dataframe tbody tr th {\n",
       "        vertical-align: top;\n",
       "    }\n",
       "\n",
       "    .dataframe thead th {\n",
       "        text-align: right;\n",
       "    }\n",
       "</style>\n",
       "<table border=\"1\" class=\"dataframe\">\n",
       "  <thead>\n",
       "    <tr style=\"text-align: right;\">\n",
       "      <th></th>\n",
       "      <th>MovieTitle</th>\n",
       "      <th>ReleaseYear</th>\n",
       "      <th>Genre</th>\n",
       "      <th>Duration</th>\n",
       "      <th>Certificate</th>\n",
       "      <th>IMDB_Rating</th>\n",
       "      <th>Votes</th>\n",
       "      <th>GrossIncome</th>\n",
       "      <th>Metascore_Value</th>\n",
       "      <th>Metascore_Key</th>\n",
       "    </tr>\n",
       "  </thead>\n",
       "  <tbody>\n",
       "    <tr>\n",
       "      <td>0</td>\n",
       "      <td>Goodfellas</td>\n",
       "      <td>1990</td>\n",
       "      <td>Biography, Crime, Drama</td>\n",
       "      <td>146 min</td>\n",
       "      <td>R</td>\n",
       "      <td>8.7</td>\n",
       "      <td>961282</td>\n",
       "      <td>46,836,394</td>\n",
       "      <td>90</td>\n",
       "      <td>Favorable</td>\n",
       "    </tr>\n",
       "    <tr>\n",
       "      <td>1</td>\n",
       "      <td>Home Alone</td>\n",
       "      <td>1990</td>\n",
       "      <td>Comedy, Family</td>\n",
       "      <td>103 min</td>\n",
       "      <td>PG</td>\n",
       "      <td>7.6</td>\n",
       "      <td>442270</td>\n",
       "      <td>285,761,243</td>\n",
       "      <td>63</td>\n",
       "      <td>Favorable</td>\n",
       "    </tr>\n",
       "    <tr>\n",
       "      <td>2</td>\n",
       "      <td>Edward Scissorhands</td>\n",
       "      <td>1990</td>\n",
       "      <td>Drama, Fantasy, Romance</td>\n",
       "      <td>105 min</td>\n",
       "      <td>PG-13</td>\n",
       "      <td>7.9</td>\n",
       "      <td>429128</td>\n",
       "      <td>56,362,352</td>\n",
       "      <td>74</td>\n",
       "      <td>Favorable</td>\n",
       "    </tr>\n",
       "    <tr>\n",
       "      <td>3</td>\n",
       "      <td>Back to the Future Part III</td>\n",
       "      <td>1990</td>\n",
       "      <td>Adventure, Comedy, Sci-Fi</td>\n",
       "      <td>118 min</td>\n",
       "      <td>PG</td>\n",
       "      <td>7.4</td>\n",
       "      <td>380294</td>\n",
       "      <td>87,727,583</td>\n",
       "      <td>55</td>\n",
       "      <td>Mixed</td>\n",
       "    </tr>\n",
       "    <tr>\n",
       "      <td>4</td>\n",
       "      <td>The Godfather: Part III</td>\n",
       "      <td>1990</td>\n",
       "      <td>Crime, Drama</td>\n",
       "      <td>162 min</td>\n",
       "      <td>R</td>\n",
       "      <td>7.6</td>\n",
       "      <td>339644</td>\n",
       "      <td>66,666,062</td>\n",
       "      <td>60</td>\n",
       "      <td>Mixed</td>\n",
       "    </tr>\n",
       "  </tbody>\n",
       "</table>\n",
       "</div>"
      ],
      "text/plain": [
       "                    MovieTitle ReleaseYear                      Genre  \\\n",
       "0                   Goodfellas        1990    Biography, Crime, Drama   \n",
       "1                   Home Alone        1990             Comedy, Family   \n",
       "2          Edward Scissorhands        1990    Drama, Fantasy, Romance   \n",
       "3  Back to the Future Part III        1990  Adventure, Comedy, Sci-Fi   \n",
       "4      The Godfather: Part III        1990               Crime, Drama   \n",
       "\n",
       "  Duration Certificate  IMDB_Rating   Votes  GrossIncome Metascore_Value  \\\n",
       "0  146 min           R          8.7  961282   46,836,394      90           \n",
       "1  103 min          PG          7.6  442270  285,761,243      63           \n",
       "2  105 min       PG-13          7.9  429128   56,362,352      74           \n",
       "3  118 min          PG          7.4  380294   87,727,583      55           \n",
       "4  162 min           R          7.6  339644   66,666,062      60           \n",
       "\n",
       "  Metascore_Key  \n",
       "0     Favorable  \n",
       "1     Favorable  \n",
       "2     Favorable  \n",
       "3         Mixed  \n",
       "4         Mixed  "
      ]
     },
     "execution_count": 24,
     "metadata": {},
     "output_type": "execute_result"
    }
   ],
   "source": [
    "#check some records\n",
    "DF_IMDB.head()"
   ]
  },
  {
   "cell_type": "code",
   "execution_count": 25,
   "metadata": {},
   "outputs": [],
   "source": [
    "#Drop duplicates if any\n",
    "DF_Updated=DF_IMDB.drop_duplicates(subset=None, keep='first', inplace=False)\n",
    "DF_Updated.shape"
   ]
  },
  {
   "cell_type": "code",
   "execution_count": 29,
   "metadata": {},
   "outputs": [],
   "source": [
    "#Write the data into a csv file\n",
    "DF_Updated.to_csv('IMDB_data_Updated.csv', index = False)"
   ]
  }
 ],
 "metadata": {
  "kernelspec": {
   "display_name": "Python 3",
   "language": "python",
   "name": "python3"
  },
  "language_info": {
   "codemirror_mode": {
    "name": "ipython",
    "version": 3
   },
   "file_extension": ".py",
   "mimetype": "text/x-python",
   "name": "python",
   "nbconvert_exporter": "python",
   "pygments_lexer": "ipython3",
   "version": "3.7.4"
  }
 },
 "nbformat": 4,
 "nbformat_minor": 4
}
