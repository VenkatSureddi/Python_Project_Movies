{
 "cells": [
  {
   "cell_type": "code",
   "execution_count": 1,
   "metadata": {},
   "outputs": [],
   "source": [
    "import pandas as pd"
   ]
  },
  {
   "cell_type": "code",
   "execution_count": 75,
   "metadata": {},
   "outputs": [],
   "source": [
    "import warnings\n",
    "warnings.filterwarnings('ignore')"
   ]
  },
  {
   "cell_type": "code",
   "execution_count": 2,
   "metadata": {},
   "outputs": [
    {
     "data": {
      "text/plain": [
       "(1421, 11)"
      ]
     },
     "execution_count": 2,
     "metadata": {},
     "output_type": "execute_result"
    }
   ],
   "source": [
    "Final_DF=pd.read_csv('IMDB_Final.csv')\n",
    "Final_DF.shape"
   ]
  },
  {
   "cell_type": "code",
   "execution_count": 89,
   "metadata": {},
   "outputs": [],
   "source": [
    "Model_DF=Final_DF[['Title','Plot']]"
   ]
  },
  {
   "cell_type": "code",
   "execution_count": 83,
   "metadata": {},
   "outputs": [],
   "source": [
    "Genre_Dummies=Final_DF['Genre'].str.get_dummies(sep=', ')"
   ]
  },
  {
   "cell_type": "code",
   "execution_count": 64,
   "metadata": {},
   "outputs": [],
   "source": [
    "def genre_func(DF,*args):\n",
    "    DF1=[]\n",
    "    for i in range(len(DF)):\n",
    "        a=0\n",
    "        for num in args:\n",
    "            a=a or DF[num].iloc[i]\n",
    "        DF1.append(a)  \n",
    "    return DF1"
   ]
  },
  {
   "cell_type": "code",
   "execution_count": 90,
   "metadata": {},
   "outputs": [],
   "source": [
    "DF1=genre_func(Genre_Dummies,'Action','War')\n",
    "DF2=genre_func(Genre_Dummies,'Adventure','Western')\n",
    "DF3=genre_func(Genre_Dummies,'Thriller','Mystery')\n",
    "DF4=genre_func(Genre_Dummies,'Family','Drama')\n",
    "DF5=genre_func(Genre_Dummies,'Music','Musical')\n",
    "DF6=genre_func(Genre_Dummies,'Biography','History','Documentary')"
   ]
  },
  {
   "cell_type": "code",
   "execution_count": 91,
   "metadata": {},
   "outputs": [],
   "source": [
    "Model_DF['Action']=DF1\n",
    "Model_DF['Adventure']=DF2\n",
    "Model_DF['Thriller']=DF3\n",
    "Model_DF['Drama']=DF4\n",
    "Model_DF['Musical']=DF5\n",
    "Model_DF['History']=DF6"
   ]
  },
  {
   "cell_type": "code",
   "execution_count": 92,
   "metadata": {},
   "outputs": [],
   "source": [
    "Model_DF['Comedy']=Genre_Dummies['Comedy']\n",
    "Model_DF['Crime']=Genre_Dummies['Crime']\n",
    "Model_DF['Animation']=Genre_Dummies['Animation']\n",
    "Model_DF['Horror']=Genre_Dummies['Horror']\n",
    "Model_DF['SciFi']=Genre_Dummies['Sci-Fi']\n",
    "Model_DF['Romance']=Genre_Dummies['Romance']\n",
    "Model_DF['Fantasy']=Genre_Dummies['Fantasy']\n",
    "Model_DF['Sport']=Genre_Dummies['Sport']"
   ]
  },
  {
   "cell_type": "code",
   "execution_count": 93,
   "metadata": {},
   "outputs": [
    {
     "data": {
      "text/plain": [
       "(1421, 16)"
      ]
     },
     "execution_count": 93,
     "metadata": {},
     "output_type": "execute_result"
    }
   ],
   "source": [
    "Model_DF.shape"
   ]
  },
  {
   "cell_type": "code",
   "execution_count": 94,
   "metadata": {},
   "outputs": [],
   "source": [
    "#Write the data into a csv file\n",
    "Model_DF.to_csv('Model_DF.csv',index = False)"
   ]
  },
  {
   "cell_type": "code",
   "execution_count": null,
   "metadata": {},
   "outputs": [],
   "source": []
  }
 ],
 "metadata": {
  "kernelspec": {
   "display_name": "Python 3",
   "language": "python",
   "name": "python3"
  },
  "language_info": {
   "codemirror_mode": {
    "name": "ipython",
    "version": 3
   },
   "file_extension": ".py",
   "mimetype": "text/x-python",
   "name": "python",
   "nbconvert_exporter": "python",
   "pygments_lexer": "ipython3",
   "version": "3.7.4"
  }
 },
 "nbformat": 4,
 "nbformat_minor": 4
}
