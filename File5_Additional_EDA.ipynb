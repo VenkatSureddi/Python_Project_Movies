{
 "cells": [
  {
   "cell_type": "code",
   "execution_count": 52,
   "metadata": {},
   "outputs": [],
   "source": [
    "import plotly.graph_objects as go\n",
    "import pandas as pd"
   ]
  },
  {
   "cell_type": "code",
   "execution_count": 53,
   "metadata": {},
   "outputs": [
    {
     "data": {
      "text/plain": [
       "(1421, 11)"
      ]
     },
     "execution_count": 53,
     "metadata": {},
     "output_type": "execute_result"
    }
   ],
   "source": [
    "import pandas as pd\n",
    "import os\n",
    "os.chdir(r\"C:\\Users\\venka\\Downloads\")\n",
    "Final_DF=pd.read_csv('IMDB_Final.csv')\n",
    "Final_DF.shape"
   ]
  },
  {
   "cell_type": "code",
   "execution_count": 54,
   "metadata": {},
   "outputs": [
    {
     "data": {
      "text/html": [
       "<div>\n",
       "<style scoped>\n",
       "    .dataframe tbody tr th:only-of-type {\n",
       "        vertical-align: middle;\n",
       "    }\n",
       "\n",
       "    .dataframe tbody tr th {\n",
       "        vertical-align: top;\n",
       "    }\n",
       "\n",
       "    .dataframe thead th {\n",
       "        text-align: right;\n",
       "    }\n",
       "</style>\n",
       "<table border=\"1\" class=\"dataframe\">\n",
       "  <thead>\n",
       "    <tr style=\"text-align: right;\">\n",
       "      <th></th>\n",
       "      <th>Title</th>\n",
       "      <th>ReleaseYear</th>\n",
       "      <th>Genre</th>\n",
       "      <th>Duration</th>\n",
       "      <th>Certificate</th>\n",
       "      <th>IMDB_Rating</th>\n",
       "      <th>Votes</th>\n",
       "      <th>GrossIncome</th>\n",
       "      <th>Metascore_Value</th>\n",
       "      <th>Metascore_Key</th>\n",
       "      <th>Plot</th>\n",
       "    </tr>\n",
       "  </thead>\n",
       "  <tbody>\n",
       "    <tr>\n",
       "      <th>0</th>\n",
       "      <td>goodfellas</td>\n",
       "      <td>1990</td>\n",
       "      <td>Biography, Crime, Drama</td>\n",
       "      <td>146 min</td>\n",
       "      <td>R</td>\n",
       "      <td>8.7</td>\n",
       "      <td>961282</td>\n",
       "      <td>46,836,394</td>\n",
       "      <td>90.0</td>\n",
       "      <td>Favorable</td>\n",
       "      <td>In 1955, Henry Hill works for Paul \"Paulie\" Ci...</td>\n",
       "    </tr>\n",
       "    <tr>\n",
       "      <th>1</th>\n",
       "      <td>home alone</td>\n",
       "      <td>1990</td>\n",
       "      <td>Comedy, Family</td>\n",
       "      <td>103 min</td>\n",
       "      <td>PG</td>\n",
       "      <td>7.6</td>\n",
       "      <td>442270</td>\n",
       "      <td>285,761,243</td>\n",
       "      <td>63.0</td>\n",
       "      <td>Favorable</td>\n",
       "      <td>The McCallister family is preparing to spend C...</td>\n",
       "    </tr>\n",
       "    <tr>\n",
       "      <th>2</th>\n",
       "      <td>edward scissorhands</td>\n",
       "      <td>1990</td>\n",
       "      <td>Drama, Fantasy, Romance</td>\n",
       "      <td>105 min</td>\n",
       "      <td>PG-13</td>\n",
       "      <td>7.9</td>\n",
       "      <td>429128</td>\n",
       "      <td>56,362,352</td>\n",
       "      <td>74.0</td>\n",
       "      <td>Favorable</td>\n",
       "      <td>An elderly woman tells her granddaughter the s...</td>\n",
       "    </tr>\n",
       "    <tr>\n",
       "      <th>3</th>\n",
       "      <td>back to the future part iii</td>\n",
       "      <td>1990</td>\n",
       "      <td>Adventure, Comedy, Sci-Fi</td>\n",
       "      <td>118 min</td>\n",
       "      <td>PG</td>\n",
       "      <td>7.4</td>\n",
       "      <td>380294</td>\n",
       "      <td>87,727,583</td>\n",
       "      <td>55.0</td>\n",
       "      <td>Mixed</td>\n",
       "      <td>On November 12, 1955, Marty McFly discovers th...</td>\n",
       "    </tr>\n",
       "    <tr>\n",
       "      <th>4</th>\n",
       "      <td>the godfather: part iii</td>\n",
       "      <td>1990</td>\n",
       "      <td>Crime, Drama</td>\n",
       "      <td>162 min</td>\n",
       "      <td>R</td>\n",
       "      <td>7.6</td>\n",
       "      <td>339644</td>\n",
       "      <td>66,666,062</td>\n",
       "      <td>60.0</td>\n",
       "      <td>Mixed</td>\n",
       "      <td>NaN</td>\n",
       "    </tr>\n",
       "  </tbody>\n",
       "</table>\n",
       "</div>"
      ],
      "text/plain": [
       "                         Title  ReleaseYear                      Genre  \\\n",
       "0                   goodfellas         1990    Biography, Crime, Drama   \n",
       "1                   home alone         1990             Comedy, Family   \n",
       "2          edward scissorhands         1990    Drama, Fantasy, Romance   \n",
       "3  back to the future part iii         1990  Adventure, Comedy, Sci-Fi   \n",
       "4      the godfather: part iii         1990               Crime, Drama   \n",
       "\n",
       "  Duration Certificate  IMDB_Rating   Votes  GrossIncome  Metascore_Value  \\\n",
       "0  146 min           R          8.7  961282   46,836,394             90.0   \n",
       "1  103 min          PG          7.6  442270  285,761,243             63.0   \n",
       "2  105 min       PG-13          7.9  429128   56,362,352             74.0   \n",
       "3  118 min          PG          7.4  380294   87,727,583             55.0   \n",
       "4  162 min           R          7.6  339644   66,666,062             60.0   \n",
       "\n",
       "  Metascore_Key                                               Plot  \n",
       "0     Favorable  In 1955, Henry Hill works for Paul \"Paulie\" Ci...  \n",
       "1     Favorable  The McCallister family is preparing to spend C...  \n",
       "2     Favorable  An elderly woman tells her granddaughter the s...  \n",
       "3         Mixed  On November 12, 1955, Marty McFly discovers th...  \n",
       "4         Mixed                                                NaN  "
      ]
     },
     "execution_count": 54,
     "metadata": {},
     "output_type": "execute_result"
    }
   ],
   "source": [
    "Final_DF.head()"
   ]
  },
  {
   "cell_type": "code",
   "execution_count": 55,
   "metadata": {},
   "outputs": [
    {
     "data": {
      "text/html": [
       "<div>\n",
       "<style scoped>\n",
       "    .dataframe tbody tr th:only-of-type {\n",
       "        vertical-align: middle;\n",
       "    }\n",
       "\n",
       "    .dataframe tbody tr th {\n",
       "        vertical-align: top;\n",
       "    }\n",
       "\n",
       "    .dataframe thead th {\n",
       "        text-align: right;\n",
       "    }\n",
       "</style>\n",
       "<table border=\"1\" class=\"dataframe\">\n",
       "  <thead>\n",
       "    <tr style=\"text-align: right;\">\n",
       "      <th></th>\n",
       "      <th>Title</th>\n",
       "      <th>Plot</th>\n",
       "      <th>ReleaseYear</th>\n",
       "      <th>IMDB_Rating</th>\n",
       "      <th>Metascore_Value</th>\n",
       "      <th>Metascore_Key</th>\n",
       "      <th>Genre</th>\n",
       "    </tr>\n",
       "  </thead>\n",
       "  <tbody>\n",
       "    <tr>\n",
       "      <th>0</th>\n",
       "      <td>goodfellas</td>\n",
       "      <td>In 1955, Henry Hill works for Paul \"Paulie\" Ci...</td>\n",
       "      <td>1990</td>\n",
       "      <td>8.7</td>\n",
       "      <td>90.0</td>\n",
       "      <td>Favorable</td>\n",
       "      <td>Biography, Crime, Drama</td>\n",
       "    </tr>\n",
       "    <tr>\n",
       "      <th>1</th>\n",
       "      <td>home alone</td>\n",
       "      <td>The McCallister family is preparing to spend C...</td>\n",
       "      <td>1990</td>\n",
       "      <td>7.6</td>\n",
       "      <td>63.0</td>\n",
       "      <td>Favorable</td>\n",
       "      <td>Comedy, Family</td>\n",
       "    </tr>\n",
       "    <tr>\n",
       "      <th>2</th>\n",
       "      <td>edward scissorhands</td>\n",
       "      <td>An elderly woman tells her granddaughter the s...</td>\n",
       "      <td>1990</td>\n",
       "      <td>7.9</td>\n",
       "      <td>74.0</td>\n",
       "      <td>Favorable</td>\n",
       "      <td>Drama, Fantasy, Romance</td>\n",
       "    </tr>\n",
       "    <tr>\n",
       "      <th>3</th>\n",
       "      <td>back to the future part iii</td>\n",
       "      <td>On November 12, 1955, Marty McFly discovers th...</td>\n",
       "      <td>1990</td>\n",
       "      <td>7.4</td>\n",
       "      <td>55.0</td>\n",
       "      <td>Mixed</td>\n",
       "      <td>Adventure, Comedy, Sci-Fi</td>\n",
       "    </tr>\n",
       "    <tr>\n",
       "      <th>4</th>\n",
       "      <td>the godfather: part iii</td>\n",
       "      <td>NaN</td>\n",
       "      <td>1990</td>\n",
       "      <td>7.6</td>\n",
       "      <td>60.0</td>\n",
       "      <td>Mixed</td>\n",
       "      <td>Crime, Drama</td>\n",
       "    </tr>\n",
       "  </tbody>\n",
       "</table>\n",
       "</div>"
      ],
      "text/plain": [
       "                         Title  \\\n",
       "0                   goodfellas   \n",
       "1                   home alone   \n",
       "2          edward scissorhands   \n",
       "3  back to the future part iii   \n",
       "4      the godfather: part iii   \n",
       "\n",
       "                                                Plot  ReleaseYear  \\\n",
       "0  In 1955, Henry Hill works for Paul \"Paulie\" Ci...         1990   \n",
       "1  The McCallister family is preparing to spend C...         1990   \n",
       "2  An elderly woman tells her granddaughter the s...         1990   \n",
       "3  On November 12, 1955, Marty McFly discovers th...         1990   \n",
       "4                                                NaN         1990   \n",
       "\n",
       "   IMDB_Rating  Metascore_Value Metascore_Key                      Genre  \n",
       "0          8.7             90.0     Favorable    Biography, Crime, Drama  \n",
       "1          7.6             63.0     Favorable             Comedy, Family  \n",
       "2          7.9             74.0     Favorable    Drama, Fantasy, Romance  \n",
       "3          7.4             55.0         Mixed  Adventure, Comedy, Sci-Fi  \n",
       "4          7.6             60.0         Mixed               Crime, Drama  "
      ]
     },
     "execution_count": 55,
     "metadata": {},
     "output_type": "execute_result"
    }
   ],
   "source": [
    "Model_DF=Final_DF[['Title','Plot','ReleaseYear','IMDB_Rating','Metascore_Value','Metascore_Key','Genre']]\n",
    "Model_DF.head()"
   ]
  },
  {
   "cell_type": "code",
   "execution_count": 56,
   "metadata": {},
   "outputs": [
    {
     "data": {
      "text/plain": [
       "Index(['Title', 'Plot', 'ReleaseYear', 'IMDB_Rating', 'Metascore_Value',\n",
       "       'Metascore_Key', 'Genre'],\n",
       "      dtype='object')"
      ]
     },
     "execution_count": 56,
     "metadata": {},
     "output_type": "execute_result"
    }
   ],
   "source": [
    "Model_DF.columns"
   ]
  },
  {
   "cell_type": "code",
   "execution_count": 57,
   "metadata": {},
   "outputs": [
    {
     "data": {
      "text/plain": [
       "array([1990, 1991, 1992, 1993, 1994, 1995, 1996, 1997, 1998, 1999, 2000,\n",
       "       2001, 2002, 2003, 2004, 2005, 2006, 2007, 2008, 2009, 2010, 2011,\n",
       "       2012, 2013, 2014, 2015, 2016, 2017, 2018], dtype=int64)"
      ]
     },
     "execution_count": 57,
     "metadata": {},
     "output_type": "execute_result"
    }
   ],
   "source": [
    "Model_DF.ReleaseYear.unique()"
   ]
  },
  {
   "cell_type": "code",
   "execution_count": 58,
   "metadata": {},
   "outputs": [
    {
     "data": {
      "text/plain": [
       "Title               object\n",
       "Plot                object\n",
       "ReleaseYear          int64\n",
       "IMDB_Rating        float64\n",
       "Metascore_Value    float64\n",
       "Metascore_Key       object\n",
       "Genre               object\n",
       "dtype: object"
      ]
     },
     "execution_count": 58,
     "metadata": {},
     "output_type": "execute_result"
    }
   ],
   "source": [
    "Model_DF.dtypes"
   ]
  },
  {
   "cell_type": "code",
   "execution_count": 59,
   "metadata": {},
   "outputs": [],
   "source": [
    "import matplotlib.pyplot as plt; plt.rcdefaults()\n",
    "import numpy as np\n",
    "import matplotlib.pyplot as plt\n",
    "import plotly.graph_objects as go\n",
    "import plotly.express as px"
   ]
  },
  {
   "cell_type": "code",
   "execution_count": 60,
   "metadata": {},
   "outputs": [
    {
     "data": {
      "text/html": [
       "<div>\n",
       "<style scoped>\n",
       "    .dataframe tbody tr th:only-of-type {\n",
       "        vertical-align: middle;\n",
       "    }\n",
       "\n",
       "    .dataframe tbody tr th {\n",
       "        vertical-align: top;\n",
       "    }\n",
       "\n",
       "    .dataframe thead th {\n",
       "        text-align: right;\n",
       "    }\n",
       "</style>\n",
       "<table border=\"1\" class=\"dataframe\">\n",
       "  <thead>\n",
       "    <tr style=\"text-align: right;\">\n",
       "      <th></th>\n",
       "      <th>Title</th>\n",
       "      <th>Plot</th>\n",
       "      <th>ReleaseYear</th>\n",
       "      <th>IMDB_Rating</th>\n",
       "      <th>Metascore_Value</th>\n",
       "      <th>Metascore_Key</th>\n",
       "      <th>Genre</th>\n",
       "    </tr>\n",
       "  </thead>\n",
       "  <tbody>\n",
       "    <tr>\n",
       "      <th>0</th>\n",
       "      <td>goodfellas</td>\n",
       "      <td>In 1955, Henry Hill works for Paul \"Paulie\" Ci...</td>\n",
       "      <td>1990</td>\n",
       "      <td>8.7</td>\n",
       "      <td>90.0</td>\n",
       "      <td>Favorable</td>\n",
       "      <td>Biography</td>\n",
       "    </tr>\n",
       "    <tr>\n",
       "      <th>0</th>\n",
       "      <td>goodfellas</td>\n",
       "      <td>In 1955, Henry Hill works for Paul \"Paulie\" Ci...</td>\n",
       "      <td>1990</td>\n",
       "      <td>8.7</td>\n",
       "      <td>90.0</td>\n",
       "      <td>Favorable</td>\n",
       "      <td>Crime</td>\n",
       "    </tr>\n",
       "    <tr>\n",
       "      <th>0</th>\n",
       "      <td>goodfellas</td>\n",
       "      <td>In 1955, Henry Hill works for Paul \"Paulie\" Ci...</td>\n",
       "      <td>1990</td>\n",
       "      <td>8.7</td>\n",
       "      <td>90.0</td>\n",
       "      <td>Favorable</td>\n",
       "      <td>Drama</td>\n",
       "    </tr>\n",
       "    <tr>\n",
       "      <th>1</th>\n",
       "      <td>home alone</td>\n",
       "      <td>The McCallister family is preparing to spend C...</td>\n",
       "      <td>1990</td>\n",
       "      <td>7.6</td>\n",
       "      <td>63.0</td>\n",
       "      <td>Favorable</td>\n",
       "      <td>Comedy</td>\n",
       "    </tr>\n",
       "    <tr>\n",
       "      <th>1</th>\n",
       "      <td>home alone</td>\n",
       "      <td>The McCallister family is preparing to spend C...</td>\n",
       "      <td>1990</td>\n",
       "      <td>7.6</td>\n",
       "      <td>63.0</td>\n",
       "      <td>Favorable</td>\n",
       "      <td>Family</td>\n",
       "    </tr>\n",
       "  </tbody>\n",
       "</table>\n",
       "</div>"
      ],
      "text/plain": [
       "        Title                                               Plot  ReleaseYear  \\\n",
       "0  goodfellas  In 1955, Henry Hill works for Paul \"Paulie\" Ci...         1990   \n",
       "0  goodfellas  In 1955, Henry Hill works for Paul \"Paulie\" Ci...         1990   \n",
       "0  goodfellas  In 1955, Henry Hill works for Paul \"Paulie\" Ci...         1990   \n",
       "1  home alone  The McCallister family is preparing to spend C...         1990   \n",
       "1  home alone  The McCallister family is preparing to spend C...         1990   \n",
       "\n",
       "   IMDB_Rating  Metascore_Value Metascore_Key      Genre  \n",
       "0          8.7             90.0     Favorable  Biography  \n",
       "0          8.7             90.0     Favorable      Crime  \n",
       "0          8.7             90.0     Favorable      Drama  \n",
       "1          7.6             63.0     Favorable     Comedy  \n",
       "1          7.6             63.0     Favorable     Family  "
      ]
     },
     "execution_count": 60,
     "metadata": {},
     "output_type": "execute_result"
    }
   ],
   "source": [
    "#Splitting of Genres to create additional rows\n",
    "Model_DF_Temp = Model_DF.drop('Genre', axis=1).join(\n",
    "  Model_DF['Genre'].str.split(',', expand=True).stack().reset_index(level=1,drop=True).rename('Genre'))\n",
    "Model_DF_Temp.head()"
   ]
  },
  {
   "cell_type": "code",
   "execution_count": 61,
   "metadata": {},
   "outputs": [
    {
     "data": {
      "application/vnd.plotly.v1+json": {
       "config": {
        "plotlyServerURL": "https://plot.ly"
       },
       "data": [
        {
         "alignmentgroup": "True",
         "hovertemplate": "Genre=%{y}<br>ReleaseYear=%{x}<extra></extra>",
         "legendgroup": "Biography",
         "marker": {
          "color": "#636efa"
         },
         "name": "Biography",
         "offsetgroup": "Biography",
         "orientation": "v",
         "showlegend": true,
         "textposition": "auto",
         "type": "bar",
         "x": [
          1990,
          1990,
          1991,
          1992,
          1992,
          1993,
          1993,
          1993,
          1994,
          1994,
          1994,
          1995,
          1995,
          1996,
          1997,
          1998,
          1998,
          1999,
          1999,
          1999,
          2000,
          2000,
          2000,
          2001,
          2001,
          2002,
          2002,
          2003,
          2004,
          2004,
          2004,
          2004,
          2005,
          2005,
          2006,
          2006,
          2007,
          2008,
          2009,
          2009,
          2010,
          2010,
          2010,
          2010,
          2010,
          2011,
          2011,
          2012,
          2012,
          2013,
          2013,
          2013,
          2013,
          2013,
          2014,
          2014,
          2015,
          2015,
          2015,
          2015,
          2015,
          2015,
          2015,
          2015,
          2015,
          2016,
          2016,
          2016,
          2016,
          2016,
          2016,
          2016,
          2016,
          2017,
          2017,
          2017,
          2017,
          2018,
          2018,
          2018,
          2018,
          2018,
          2018,
          2018,
          2018
         ],
         "xaxis": "x",
         "y": [
          "Biography",
          "Biography",
          "Biography",
          "Biography",
          "Biography",
          "Biography",
          "Biography",
          "Biography",
          "Biography",
          "Biography",
          "Biography",
          "Biography",
          "Biography",
          "Biography",
          "Biography",
          "Biography",
          "Biography",
          "Biography",
          "Biography",
          "Biography",
          "Biography",
          "Biography",
          "Biography",
          "Biography",
          "Biography",
          "Biography",
          "Biography",
          "Biography",
          "Biography",
          "Biography",
          "Biography",
          "Biography",
          "Biography",
          "Biography",
          "Biography",
          "Biography",
          "Biography",
          "Biography",
          "Biography",
          "Biography",
          "Biography",
          "Biography",
          "Biography",
          "Biography",
          "Biography",
          "Biography",
          "Biography",
          "Biography",
          "Biography",
          "Biography",
          "Biography",
          "Biography",
          "Biography",
          "Biography",
          "Biography",
          "Biography",
          "Biography",
          "Biography",
          "Biography",
          "Biography",
          "Biography",
          "Biography",
          "Biography",
          "Biography",
          "Biography",
          "Biography",
          "Biography",
          "Biography",
          "Biography",
          "Biography",
          "Biography",
          "Biography",
          "Biography",
          "Biography",
          "Biography",
          "Biography",
          "Biography",
          "Biography",
          "Biography",
          "Biography",
          "Biography",
          "Biography",
          "Biography",
          "Biography",
          "Biography"
         ],
         "yaxis": "y"
        },
        {
         "alignmentgroup": "True",
         "hovertemplate": "Genre=%{y}<br>ReleaseYear=%{x}<extra></extra>",
         "legendgroup": " Crime",
         "marker": {
          "color": "#EF553B"
         },
         "name": " Crime",
         "offsetgroup": " Crime",
         "orientation": "v",
         "showlegend": true,
         "textposition": "auto",
         "type": "bar",
         "x": [
          1990,
          1990,
          1990,
          1990,
          1990,
          1990,
          1990,
          1990,
          1991,
          1991,
          1991,
          1991,
          1991,
          1991,
          1991,
          1991,
          1992,
          1992,
          1992,
          1992,
          1992,
          1992,
          1992,
          1992,
          1992,
          1992,
          1993,
          1993,
          1994,
          1994,
          1994,
          1994,
          1994,
          1994,
          1994,
          1994,
          1994,
          1994,
          1995,
          1995,
          1995,
          1995,
          1995,
          1995,
          1995,
          1995,
          1996,
          1996,
          1996,
          1996,
          1996,
          1996,
          1997,
          1997,
          1997,
          1997,
          1997,
          1997,
          1998,
          1998,
          1998,
          1998,
          1998,
          1998,
          1998,
          1998,
          1999,
          1999,
          1999,
          1999,
          2000,
          2000,
          2000,
          2000,
          2000,
          2000,
          2001,
          2001,
          2001,
          2001,
          2001,
          2002,
          2002,
          2002,
          2002,
          2002,
          2003,
          2003,
          2003,
          2003,
          2003,
          2003,
          2003,
          2003,
          2003,
          2003,
          2004,
          2004,
          2005,
          2005,
          2005,
          2005,
          2006,
          2006,
          2006,
          2007,
          2007,
          2007,
          2007,
          2008,
          2008,
          2008,
          2008,
          2008,
          2008,
          2008,
          2009,
          2009,
          2009,
          2009,
          2010,
          2010,
          2010,
          2010,
          2010,
          2011,
          2011,
          2012,
          2012,
          2012,
          2012,
          2012,
          2012,
          2012,
          2013,
          2013,
          2013,
          2013,
          2013,
          2014,
          2014,
          2014,
          2014,
          2014,
          2014,
          2014,
          2015,
          2015,
          2015,
          2015,
          2015,
          2015,
          2015,
          2015,
          2016,
          2016,
          2016,
          2016,
          2016,
          2016,
          2017,
          2017,
          2017,
          2017,
          2017,
          2018,
          2018,
          2018,
          2018,
          2018,
          2018,
          2018
         ],
         "xaxis": "x",
         "y": [
          " Crime",
          " Crime",
          " Crime",
          " Crime",
          " Crime",
          " Crime",
          " Crime",
          " Crime",
          " Crime",
          " Crime",
          " Crime",
          " Crime",
          " Crime",
          " Crime",
          " Crime",
          " Crime",
          " Crime",
          " Crime",
          " Crime",
          " Crime",
          " Crime",
          " Crime",
          " Crime",
          " Crime",
          " Crime",
          " Crime",
          " Crime",
          " Crime",
          " Crime",
          " Crime",
          " Crime",
          " Crime",
          " Crime",
          " Crime",
          " Crime",
          " Crime",
          " Crime",
          " Crime",
          " Crime",
          " Crime",
          " Crime",
          " Crime",
          " Crime",
          " Crime",
          " Crime",
          " Crime",
          " Crime",
          " Crime",
          " Crime",
          " Crime",
          " Crime",
          " Crime",
          " Crime",
          " Crime",
          " Crime",
          " Crime",
          " Crime",
          " Crime",
          " Crime",
          " Crime",
          " Crime",
          " Crime",
          " Crime",
          " Crime",
          " Crime",
          " Crime",
          " Crime",
          " Crime",
          " Crime",
          " Crime",
          " Crime",
          " Crime",
          " Crime",
          " Crime",
          " Crime",
          " Crime",
          " Crime",
          " Crime",
          " Crime",
          " Crime",
          " Crime",
          " Crime",
          " Crime",
          " Crime",
          " Crime",
          " Crime",
          " Crime",
          " Crime",
          " Crime",
          " Crime",
          " Crime",
          " Crime",
          " Crime",
          " Crime",
          " Crime",
          " Crime",
          " Crime",
          " Crime",
          " Crime",
          " Crime",
          " Crime",
          " Crime",
          " Crime",
          " Crime",
          " Crime",
          " Crime",
          " Crime",
          " Crime",
          " Crime",
          " Crime",
          " Crime",
          " Crime",
          " Crime",
          " Crime",
          " Crime",
          " Crime",
          " Crime",
          " Crime",
          " Crime",
          " Crime",
          " Crime",
          " Crime",
          " Crime",
          " Crime",
          " Crime",
          " Crime",
          " Crime",
          " Crime",
          " Crime",
          " Crime",
          " Crime",
          " Crime",
          " Crime",
          " Crime",
          " Crime",
          " Crime",
          " Crime",
          " Crime",
          " Crime",
          " Crime",
          " Crime",
          " Crime",
          " Crime",
          " Crime",
          " Crime",
          " Crime",
          " Crime",
          " Crime",
          " Crime",
          " Crime",
          " Crime",
          " Crime",
          " Crime",
          " Crime",
          " Crime",
          " Crime",
          " Crime",
          " Crime",
          " Crime",
          " Crime",
          " Crime",
          " Crime",
          " Crime",
          " Crime",
          " Crime",
          " Crime",
          " Crime",
          " Crime",
          " Crime",
          " Crime",
          " Crime",
          " Crime"
         ],
         "yaxis": "y"
        },
        {
         "alignmentgroup": "True",
         "hovertemplate": "Genre=%{y}<br>ReleaseYear=%{x}<extra></extra>",
         "legendgroup": " Drama",
         "marker": {
          "color": "#00cc96"
         },
         "name": " Drama",
         "offsetgroup": " Drama",
         "orientation": "v",
         "showlegend": true,
         "textposition": "auto",
         "type": "bar",
         "x": [
          1990,
          1990,
          1990,
          1990,
          1990,
          1990,
          1990,
          1990,
          1990,
          1991,
          1991,
          1991,
          1991,
          1991,
          1991,
          1991,
          1991,
          1991,
          1991,
          1991,
          1991,
          1991,
          1991,
          1991,
          1991,
          1992,
          1992,
          1992,
          1992,
          1992,
          1992,
          1992,
          1992,
          1992,
          1992,
          1992,
          1992,
          1992,
          1992,
          1992,
          1992,
          1992,
          1993,
          1993,
          1993,
          1993,
          1993,
          1993,
          1993,
          1993,
          1993,
          1993,
          1993,
          1993,
          1993,
          1993,
          1993,
          1993,
          1993,
          1993,
          1993,
          1993,
          1994,
          1994,
          1994,
          1994,
          1994,
          1994,
          1994,
          1994,
          1994,
          1994,
          1994,
          1994,
          1994,
          1994,
          1994,
          1994,
          1994,
          1995,
          1995,
          1995,
          1995,
          1995,
          1995,
          1995,
          1995,
          1995,
          1995,
          1995,
          1995,
          1995,
          1995,
          1995,
          1995,
          1995,
          1995,
          1996,
          1996,
          1996,
          1996,
          1996,
          1996,
          1996,
          1996,
          1996,
          1996,
          1996,
          1996,
          1996,
          1996,
          1996,
          1996,
          1996,
          1996,
          1997,
          1997,
          1997,
          1997,
          1997,
          1997,
          1997,
          1997,
          1997,
          1997,
          1997,
          1997,
          1997,
          1997,
          1997,
          1998,
          1998,
          1998,
          1998,
          1998,
          1998,
          1998,
          1998,
          1998,
          1998,
          1998,
          1998,
          1998,
          1998,
          1998,
          1998,
          1998,
          1999,
          1999,
          1999,
          1999,
          1999,
          1999,
          1999,
          1999,
          1999,
          1999,
          1999,
          1999,
          1999,
          2000,
          2000,
          2000,
          2000,
          2000,
          2000,
          2000,
          2000,
          2000,
          2000,
          2000,
          2000,
          2000,
          2000,
          2000,
          2001,
          2001,
          2001,
          2001,
          2001,
          2001,
          2001,
          2001,
          2001,
          2001,
          2001,
          2002,
          2002,
          2002,
          2002,
          2002,
          2002,
          2002,
          2002,
          2002,
          2002,
          2002,
          2002,
          2002,
          2002,
          2002,
          2002,
          2002,
          2002,
          2002,
          2003,
          2003,
          2003,
          2003,
          2003,
          2003,
          2003,
          2003,
          2003,
          2003,
          2003,
          2003,
          2003,
          2003,
          2003,
          2004,
          2004,
          2004,
          2004,
          2004,
          2004,
          2004,
          2004,
          2004,
          2004,
          2004,
          2004,
          2005,
          2005,
          2005,
          2005,
          2005,
          2005,
          2005,
          2005,
          2005,
          2005,
          2005,
          2006,
          2006,
          2006,
          2006,
          2006,
          2006,
          2006,
          2006,
          2006,
          2006,
          2006,
          2006,
          2006,
          2006,
          2006,
          2007,
          2007,
          2007,
          2007,
          2007,
          2007,
          2007,
          2007,
          2007,
          2007,
          2007,
          2007,
          2007,
          2007,
          2007,
          2008,
          2008,
          2008,
          2008,
          2008,
          2008,
          2008,
          2008,
          2008,
          2009,
          2009,
          2009,
          2009,
          2009,
          2009,
          2009,
          2009,
          2009,
          2009,
          2009,
          2009,
          2009,
          2009,
          2010,
          2010,
          2010,
          2010,
          2010,
          2010,
          2010,
          2010,
          2010,
          2010,
          2010,
          2010,
          2010,
          2010,
          2011,
          2011,
          2011,
          2011,
          2011,
          2011,
          2011,
          2011,
          2011,
          2011,
          2011,
          2011,
          2011,
          2011,
          2011,
          2011,
          2011,
          2012,
          2012,
          2012,
          2012,
          2012,
          2012,
          2012,
          2012,
          2012,
          2012,
          2012,
          2012,
          2012,
          2012,
          2013,
          2013,
          2013,
          2013,
          2013,
          2013,
          2013,
          2013,
          2013,
          2013,
          2013,
          2013,
          2013,
          2013,
          2013,
          2013,
          2013,
          2013,
          2013,
          2014,
          2014,
          2014,
          2014,
          2014,
          2014,
          2014,
          2014,
          2014,
          2014,
          2014,
          2014,
          2014,
          2015,
          2015,
          2015,
          2015,
          2015,
          2015,
          2015,
          2015,
          2015,
          2015,
          2015,
          2015,
          2015,
          2015,
          2015,
          2015,
          2015,
          2016,
          2016,
          2016,
          2016,
          2016,
          2016,
          2016,
          2016,
          2016,
          2016,
          2016,
          2016,
          2016,
          2016,
          2016,
          2016,
          2016,
          2017,
          2017,
          2017,
          2017,
          2017,
          2017,
          2017,
          2017,
          2017,
          2017,
          2017,
          2017,
          2017,
          2017,
          2017,
          2017,
          2017,
          2017,
          2018,
          2018,
          2018,
          2018,
          2018,
          2018,
          2018,
          2018,
          2018,
          2018,
          2018,
          2018,
          2018,
          2018,
          2018
         ],
         "xaxis": "x",
         "y": [
          " Drama",
          " Drama",
          " Drama",
          " Drama",
          " Drama",
          " Drama",
          " Drama",
          " Drama",
          " Drama",
          " Drama",
          " Drama",
          " Drama",
          " Drama",
          " Drama",
          " Drama",
          " Drama",
          " Drama",
          " Drama",
          " Drama",
          " Drama",
          " Drama",
          " Drama",
          " Drama",
          " Drama",
          " Drama",
          " Drama",
          " Drama",
          " Drama",
          " Drama",
          " Drama",
          " Drama",
          " Drama",
          " Drama",
          " Drama",
          " Drama",
          " Drama",
          " Drama",
          " Drama",
          " Drama",
          " Drama",
          " Drama",
          " Drama",
          " Drama",
          " Drama",
          " Drama",
          " Drama",
          " Drama",
          " Drama",
          " Drama",
          " Drama",
          " Drama",
          " Drama",
          " Drama",
          " Drama",
          " Drama",
          " Drama",
          " Drama",
          " Drama",
          " Drama",
          " Drama",
          " Drama",
          " Drama",
          " Drama",
          " Drama",
          " Drama",
          " Drama",
          " Drama",
          " Drama",
          " Drama",
          " Drama",
          " Drama",
          " Drama",
          " Drama",
          " Drama",
          " Drama",
          " Drama",
          " Drama",
          " Drama",
          " Drama",
          " Drama",
          " Drama",
          " Drama",
          " Drama",
          " Drama",
          " Drama",
          " Drama",
          " Drama",
          " Drama",
          " Drama",
          " Drama",
          " Drama",
          " Drama",
          " Drama",
          " Drama",
          " Drama",
          " Drama",
          " Drama",
          " Drama",
          " Drama",
          " Drama",
          " Drama",
          " Drama",
          " Drama",
          " Drama",
          " Drama",
          " Drama",
          " Drama",
          " Drama",
          " Drama",
          " Drama",
          " Drama",
          " Drama",
          " Drama",
          " Drama",
          " Drama",
          " Drama",
          " Drama",
          " Drama",
          " Drama",
          " Drama",
          " Drama",
          " Drama",
          " Drama",
          " Drama",
          " Drama",
          " Drama",
          " Drama",
          " Drama",
          " Drama",
          " Drama",
          " Drama",
          " Drama",
          " Drama",
          " Drama",
          " Drama",
          " Drama",
          " Drama",
          " Drama",
          " Drama",
          " Drama",
          " Drama",
          " Drama",
          " Drama",
          " Drama",
          " Drama",
          " Drama",
          " Drama",
          " Drama",
          " Drama",
          " Drama",
          " Drama",
          " Drama",
          " Drama",
          " Drama",
          " Drama",
          " Drama",
          " Drama",
          " Drama",
          " Drama",
          " Drama",
          " Drama",
          " Drama",
          " Drama",
          " Drama",
          " Drama",
          " Drama",
          " Drama",
          " Drama",
          " Drama",
          " Drama",
          " Drama",
          " Drama",
          " Drama",
          " Drama",
          " Drama",
          " Drama",
          " Drama",
          " Drama",
          " Drama",
          " Drama",
          " Drama",
          " Drama",
          " Drama",
          " Drama",
          " Drama",
          " Drama",
          " Drama",
          " Drama",
          " Drama",
          " Drama",
          " Drama",
          " Drama",
          " Drama",
          " Drama",
          " Drama",
          " Drama",
          " Drama",
          " Drama",
          " Drama",
          " Drama",
          " Drama",
          " Drama",
          " Drama",
          " Drama",
          " Drama",
          " Drama",
          " Drama",
          " Drama",
          " Drama",
          " Drama",
          " Drama",
          " Drama",
          " Drama",
          " Drama",
          " Drama",
          " Drama",
          " Drama",
          " Drama",
          " Drama",
          " Drama",
          " Drama",
          " Drama",
          " Drama",
          " Drama",
          " Drama",
          " Drama",
          " Drama",
          " Drama",
          " Drama",
          " Drama",
          " Drama",
          " Drama",
          " Drama",
          " Drama",
          " Drama",
          " Drama",
          " Drama",
          " Drama",
          " Drama",
          " Drama",
          " Drama",
          " Drama",
          " Drama",
          " Drama",
          " Drama",
          " Drama",
          " Drama",
          " Drama",
          " Drama",
          " Drama",
          " Drama",
          " Drama",
          " Drama",
          " Drama",
          " Drama",
          " Drama",
          " Drama",
          " Drama",
          " Drama",
          " Drama",
          " Drama",
          " Drama",
          " Drama",
          " Drama",
          " Drama",
          " Drama",
          " Drama",
          " Drama",
          " Drama",
          " Drama",
          " Drama",
          " Drama",
          " Drama",
          " Drama",
          " Drama",
          " Drama",
          " Drama",
          " Drama",
          " Drama",
          " Drama",
          " Drama",
          " Drama",
          " Drama",
          " Drama",
          " Drama",
          " Drama",
          " Drama",
          " Drama",
          " Drama",
          " Drama",
          " Drama",
          " Drama",
          " Drama",
          " Drama",
          " Drama",
          " Drama",
          " Drama",
          " Drama",
          " Drama",
          " Drama",
          " Drama",
          " Drama",
          " Drama",
          " Drama",
          " Drama",
          " Drama",
          " Drama",
          " Drama",
          " Drama",
          " Drama",
          " Drama",
          " Drama",
          " Drama",
          " Drama",
          " Drama",
          " Drama",
          " Drama",
          " Drama",
          " Drama",
          " Drama",
          " Drama",
          " Drama",
          " Drama",
          " Drama",
          " Drama",
          " Drama",
          " Drama",
          " Drama",
          " Drama",
          " Drama",
          " Drama",
          " Drama",
          " Drama",
          " Drama",
          " Drama",
          " Drama",
          " Drama",
          " Drama",
          " Drama",
          " Drama",
          " Drama",
          " Drama",
          " Drama",
          " Drama",
          " Drama",
          " Drama",
          " Drama",
          " Drama",
          " Drama",
          " Drama",
          " Drama",
          " Drama",
          " Drama",
          " Drama",
          " Drama",
          " Drama",
          " Drama",
          " Drama",
          " Drama",
          " Drama",
          " Drama",
          " Drama",
          " Drama",
          " Drama",
          " Drama",
          " Drama",
          " Drama",
          " Drama",
          " Drama",
          " Drama",
          " Drama",
          " Drama",
          " Drama",
          " Drama",
          " Drama",
          " Drama",
          " Drama",
          " Drama",
          " Drama",
          " Drama",
          " Drama",
          " Drama",
          " Drama",
          " Drama",
          " Drama",
          " Drama",
          " Drama",
          " Drama",
          " Drama",
          " Drama",
          " Drama",
          " Drama",
          " Drama",
          " Drama",
          " Drama",
          " Drama",
          " Drama",
          " Drama",
          " Drama",
          " Drama",
          " Drama",
          " Drama",
          " Drama",
          " Drama",
          " Drama",
          " Drama",
          " Drama",
          " Drama",
          " Drama",
          " Drama",
          " Drama",
          " Drama",
          " Drama",
          " Drama",
          " Drama",
          " Drama",
          " Drama",
          " Drama",
          " Drama",
          " Drama",
          " Drama",
          " Drama",
          " Drama",
          " Drama",
          " Drama",
          " Drama",
          " Drama",
          " Drama",
          " Drama",
          " Drama",
          " Drama",
          " Drama",
          " Drama",
          " Drama",
          " Drama",
          " Drama",
          " Drama",
          " Drama",
          " Drama",
          " Drama"
         ],
         "yaxis": "y"
        },
        {
         "alignmentgroup": "True",
         "hovertemplate": "Genre=%{y}<br>ReleaseYear=%{x}<extra></extra>",
         "legendgroup": "Comedy",
         "marker": {
          "color": "#ab63fa"
         },
         "name": "Comedy",
         "offsetgroup": "Comedy",
         "orientation": "v",
         "showlegend": true,
         "textposition": "auto",
         "type": "bar",
         "x": [
          1990,
          1990,
          1990,
          1990,
          1990,
          1990,
          1990,
          1990,
          1990,
          1990,
          1990,
          1990,
          1991,
          1991,
          1991,
          1991,
          1991,
          1991,
          1991,
          1991,
          1991,
          1991,
          1991,
          1991,
          1991,
          1991,
          1991,
          1991,
          1991,
          1991,
          1992,
          1992,
          1992,
          1992,
          1992,
          1992,
          1992,
          1992,
          1992,
          1992,
          1992,
          1992,
          1992,
          1993,
          1993,
          1993,
          1993,
          1993,
          1993,
          1993,
          1993,
          1993,
          1993,
          1993,
          1993,
          1994,
          1994,
          1994,
          1994,
          1994,
          1994,
          1994,
          1994,
          1994,
          1994,
          1994,
          1994,
          1994,
          1994,
          1994,
          1994,
          1995,
          1995,
          1995,
          1995,
          1995,
          1995,
          1995,
          1995,
          1995,
          1995,
          1996,
          1996,
          1996,
          1996,
          1996,
          1996,
          1996,
          1996,
          1996,
          1996,
          1996,
          1996,
          1996,
          1996,
          1997,
          1997,
          1997,
          1997,
          1997,
          1997,
          1997,
          1997,
          1997,
          1998,
          1998,
          1998,
          1998,
          1998,
          1998,
          1998,
          1998,
          1998,
          1998,
          1998,
          1998,
          1999,
          1999,
          1999,
          1999,
          1999,
          1999,
          1999,
          1999,
          2000,
          2000,
          2000,
          2000,
          2000,
          2000,
          2000,
          2000,
          2000,
          2000,
          2000,
          2000,
          2000,
          2001,
          2001,
          2001,
          2001,
          2001,
          2001,
          2001,
          2001,
          2001,
          2001,
          2001,
          2001,
          2002,
          2002,
          2002,
          2002,
          2002,
          2002,
          2002,
          2003,
          2003,
          2003,
          2003,
          2003,
          2003,
          2003,
          2003,
          2003,
          2003,
          2003,
          2003,
          2003,
          2004,
          2004,
          2004,
          2004,
          2004,
          2004,
          2004,
          2004,
          2004,
          2004,
          2004,
          2005,
          2005,
          2005,
          2005,
          2005,
          2006,
          2006,
          2006,
          2006,
          2006,
          2006,
          2006,
          2006,
          2007,
          2007,
          2007,
          2007,
          2007,
          2008,
          2008,
          2008,
          2008,
          2008,
          2008,
          2008,
          2008,
          2008,
          2009,
          2009,
          2009,
          2009,
          2009,
          2009,
          2009,
          2009,
          2009,
          2010,
          2010,
          2010,
          2010,
          2010,
          2010,
          2010,
          2011,
          2011,
          2011,
          2011,
          2011,
          2011,
          2011,
          2011,
          2011,
          2011,
          2011,
          2011,
          2012,
          2012,
          2012,
          2012,
          2012,
          2012,
          2012,
          2012,
          2013,
          2013,
          2013,
          2013,
          2013,
          2013,
          2013,
          2013,
          2014,
          2014,
          2015,
          2015,
          2015,
          2015,
          2016,
          2016,
          2017,
          2017,
          2018,
          2018,
          2018
         ],
         "xaxis": "x",
         "y": [
          "Comedy",
          "Comedy",
          "Comedy",
          "Comedy",
          "Comedy",
          "Comedy",
          "Comedy",
          "Comedy",
          "Comedy",
          "Comedy",
          "Comedy",
          "Comedy",
          "Comedy",
          "Comedy",
          "Comedy",
          "Comedy",
          "Comedy",
          "Comedy",
          "Comedy",
          "Comedy",
          "Comedy",
          "Comedy",
          "Comedy",
          "Comedy",
          "Comedy",
          "Comedy",
          "Comedy",
          "Comedy",
          "Comedy",
          "Comedy",
          "Comedy",
          "Comedy",
          "Comedy",
          "Comedy",
          "Comedy",
          "Comedy",
          "Comedy",
          "Comedy",
          "Comedy",
          "Comedy",
          "Comedy",
          "Comedy",
          "Comedy",
          "Comedy",
          "Comedy",
          "Comedy",
          "Comedy",
          "Comedy",
          "Comedy",
          "Comedy",
          "Comedy",
          "Comedy",
          "Comedy",
          "Comedy",
          "Comedy",
          "Comedy",
          "Comedy",
          "Comedy",
          "Comedy",
          "Comedy",
          "Comedy",
          "Comedy",
          "Comedy",
          "Comedy",
          "Comedy",
          "Comedy",
          "Comedy",
          "Comedy",
          "Comedy",
          "Comedy",
          "Comedy",
          "Comedy",
          "Comedy",
          "Comedy",
          "Comedy",
          "Comedy",
          "Comedy",
          "Comedy",
          "Comedy",
          "Comedy",
          "Comedy",
          "Comedy",
          "Comedy",
          "Comedy",
          "Comedy",
          "Comedy",
          "Comedy",
          "Comedy",
          "Comedy",
          "Comedy",
          "Comedy",
          "Comedy",
          "Comedy",
          "Comedy",
          "Comedy",
          "Comedy",
          "Comedy",
          "Comedy",
          "Comedy",
          "Comedy",
          "Comedy",
          "Comedy",
          "Comedy",
          "Comedy",
          "Comedy",
          "Comedy",
          "Comedy",
          "Comedy",
          "Comedy",
          "Comedy",
          "Comedy",
          "Comedy",
          "Comedy",
          "Comedy",
          "Comedy",
          "Comedy",
          "Comedy",
          "Comedy",
          "Comedy",
          "Comedy",
          "Comedy",
          "Comedy",
          "Comedy",
          "Comedy",
          "Comedy",
          "Comedy",
          "Comedy",
          "Comedy",
          "Comedy",
          "Comedy",
          "Comedy",
          "Comedy",
          "Comedy",
          "Comedy",
          "Comedy",
          "Comedy",
          "Comedy",
          "Comedy",
          "Comedy",
          "Comedy",
          "Comedy",
          "Comedy",
          "Comedy",
          "Comedy",
          "Comedy",
          "Comedy",
          "Comedy",
          "Comedy",
          "Comedy",
          "Comedy",
          "Comedy",
          "Comedy",
          "Comedy",
          "Comedy",
          "Comedy",
          "Comedy",
          "Comedy",
          "Comedy",
          "Comedy",
          "Comedy",
          "Comedy",
          "Comedy",
          "Comedy",
          "Comedy",
          "Comedy",
          "Comedy",
          "Comedy",
          "Comedy",
          "Comedy",
          "Comedy",
          "Comedy",
          "Comedy",
          "Comedy",
          "Comedy",
          "Comedy",
          "Comedy",
          "Comedy",
          "Comedy",
          "Comedy",
          "Comedy",
          "Comedy",
          "Comedy",
          "Comedy",
          "Comedy",
          "Comedy",
          "Comedy",
          "Comedy",
          "Comedy",
          "Comedy",
          "Comedy",
          "Comedy",
          "Comedy",
          "Comedy",
          "Comedy",
          "Comedy",
          "Comedy",
          "Comedy",
          "Comedy",
          "Comedy",
          "Comedy",
          "Comedy",
          "Comedy",
          "Comedy",
          "Comedy",
          "Comedy",
          "Comedy",
          "Comedy",
          "Comedy",
          "Comedy",
          "Comedy",
          "Comedy",
          "Comedy",
          "Comedy",
          "Comedy",
          "Comedy",
          "Comedy",
          "Comedy",
          "Comedy",
          "Comedy",
          "Comedy",
          "Comedy",
          "Comedy",
          "Comedy",
          "Comedy",
          "Comedy",
          "Comedy",
          "Comedy",
          "Comedy",
          "Comedy",
          "Comedy",
          "Comedy",
          "Comedy",
          "Comedy",
          "Comedy",
          "Comedy",
          "Comedy",
          "Comedy",
          "Comedy",
          "Comedy",
          "Comedy",
          "Comedy",
          "Comedy",
          "Comedy",
          "Comedy",
          "Comedy",
          "Comedy",
          "Comedy",
          "Comedy",
          "Comedy",
          "Comedy",
          "Comedy",
          "Comedy",
          "Comedy",
          "Comedy",
          "Comedy",
          "Comedy",
          "Comedy",
          "Comedy",
          "Comedy",
          "Comedy",
          "Comedy",
          "Comedy",
          "Comedy",
          "Comedy"
         ],
         "yaxis": "y"
        },
        {
         "alignmentgroup": "True",
         "hovertemplate": "Genre=%{y}<br>ReleaseYear=%{x}<extra></extra>",
         "legendgroup": " Family",
         "marker": {
          "color": "#FFA15A"
         },
         "name": " Family",
         "offsetgroup": " Family",
         "orientation": "v",
         "showlegend": true,
         "textposition": "auto",
         "type": "bar",
         "x": [
          1990,
          1990,
          1990,
          1991,
          1991,
          1991,
          1991,
          1991,
          1992,
          1992,
          1992,
          1992,
          1992,
          1992,
          1993,
          1993,
          1993,
          1993,
          1993,
          1993,
          1993,
          1993,
          1994,
          1994,
          1994,
          1994,
          1994,
          1995,
          1995,
          1995,
          1996,
          1996,
          1996,
          1996,
          1997,
          1997,
          1997,
          1998,
          1998,
          1999,
          1999,
          2000,
          2001,
          2001,
          2001,
          2002,
          2003,
          2003,
          2004,
          2004,
          2004,
          2004,
          2005,
          2005,
          2005,
          2005,
          2005,
          2006,
          2006,
          2007,
          2007,
          2007,
          2007,
          2007,
          2008,
          2008,
          2009,
          2009,
          2009,
          2009,
          2010,
          2010,
          2010,
          2010,
          2011,
          2011,
          2012,
          2012,
          2014,
          2014,
          2015,
          2015,
          2015,
          2016,
          2016,
          2016,
          2017,
          2017,
          2018
         ],
         "xaxis": "x",
         "y": [
          " Family",
          " Family",
          " Family",
          " Family",
          " Family",
          " Family",
          " Family",
          " Family",
          " Family",
          " Family",
          " Family",
          " Family",
          " Family",
          " Family",
          " Family",
          " Family",
          " Family",
          " Family",
          " Family",
          " Family",
          " Family",
          " Family",
          " Family",
          " Family",
          " Family",
          " Family",
          " Family",
          " Family",
          " Family",
          " Family",
          " Family",
          " Family",
          " Family",
          " Family",
          " Family",
          " Family",
          " Family",
          " Family",
          " Family",
          " Family",
          " Family",
          " Family",
          " Family",
          " Family",
          " Family",
          " Family",
          " Family",
          " Family",
          " Family",
          " Family",
          " Family",
          " Family",
          " Family",
          " Family",
          " Family",
          " Family",
          " Family",
          " Family",
          " Family",
          " Family",
          " Family",
          " Family",
          " Family",
          " Family",
          " Family",
          " Family",
          " Family",
          " Family",
          " Family",
          " Family",
          " Family",
          " Family",
          " Family",
          " Family",
          " Family",
          " Family",
          " Family",
          " Family",
          " Family",
          " Family",
          " Family",
          " Family",
          " Family",
          " Family",
          " Family",
          " Family",
          " Family",
          " Family",
          " Family"
         ],
         "yaxis": "y"
        },
        {
         "alignmentgroup": "True",
         "hovertemplate": "Genre=%{y}<br>ReleaseYear=%{x}<extra></extra>",
         "legendgroup": "Drama",
         "marker": {
          "color": "#19d3f3"
         },
         "name": "Drama",
         "offsetgroup": "Drama",
         "orientation": "v",
         "showlegend": true,
         "textposition": "auto",
         "type": "bar",
         "x": [
          1990,
          1990,
          1990,
          1990,
          1990,
          1990,
          1991,
          1991,
          1991,
          1991,
          1991,
          1991,
          1991,
          1991,
          1992,
          1992,
          1992,
          1992,
          1992,
          1992,
          1992,
          1992,
          1992,
          1993,
          1993,
          1993,
          1993,
          1993,
          1993,
          1993,
          1993,
          1994,
          1994,
          1994,
          1994,
          1994,
          1994,
          1994,
          1994,
          1994,
          1994,
          1995,
          1995,
          1995,
          1995,
          1996,
          1996,
          1996,
          1996,
          1996,
          1996,
          1996,
          1997,
          1997,
          1997,
          1997,
          1997,
          1997,
          1997,
          1998,
          1998,
          1998,
          1998,
          1998,
          1998,
          1998,
          1998,
          1999,
          1999,
          1999,
          1999,
          1999,
          1999,
          1999,
          1999,
          2000,
          2000,
          2000,
          2000,
          2000,
          2000,
          2000,
          2000,
          2001,
          2001,
          2001,
          2001,
          2001,
          2001,
          2001,
          2001,
          2001,
          2002,
          2002,
          2002,
          2002,
          2002,
          2002,
          2002,
          2003,
          2004,
          2004,
          2004,
          2004,
          2004,
          2004,
          2004,
          2004,
          2004,
          2004,
          2005,
          2005,
          2005,
          2005,
          2005,
          2005,
          2006,
          2006,
          2006,
          2006,
          2006,
          2006,
          2006,
          2007,
          2007,
          2007,
          2007,
          2008,
          2008,
          2008,
          2008,
          2008,
          2008,
          2008,
          2008,
          2008,
          2008,
          2008,
          2008,
          2009,
          2009,
          2009,
          2009,
          2009,
          2009,
          2009,
          2010,
          2010,
          2010,
          2011,
          2011,
          2011,
          2011,
          2012,
          2012,
          2012,
          2012,
          2012,
          2012,
          2012,
          2012,
          2012,
          2012,
          2013,
          2013,
          2013,
          2013,
          2014,
          2014,
          2014,
          2014,
          2014,
          2014,
          2015,
          2015,
          2015,
          2015,
          2015,
          2015,
          2015,
          2015,
          2015,
          2016,
          2016,
          2016,
          2016,
          2016,
          2016,
          2016,
          2017,
          2017,
          2017,
          2018,
          2018,
          2018,
          2018,
          2018,
          2018,
          2018
         ],
         "xaxis": "x",
         "y": [
          "Drama",
          "Drama",
          "Drama",
          "Drama",
          "Drama",
          "Drama",
          "Drama",
          "Drama",
          "Drama",
          "Drama",
          "Drama",
          "Drama",
          "Drama",
          "Drama",
          "Drama",
          "Drama",
          "Drama",
          "Drama",
          "Drama",
          "Drama",
          "Drama",
          "Drama",
          "Drama",
          "Drama",
          "Drama",
          "Drama",
          "Drama",
          "Drama",
          "Drama",
          "Drama",
          "Drama",
          "Drama",
          "Drama",
          "Drama",
          "Drama",
          "Drama",
          "Drama",
          "Drama",
          "Drama",
          "Drama",
          "Drama",
          "Drama",
          "Drama",
          "Drama",
          "Drama",
          "Drama",
          "Drama",
          "Drama",
          "Drama",
          "Drama",
          "Drama",
          "Drama",
          "Drama",
          "Drama",
          "Drama",
          "Drama",
          "Drama",
          "Drama",
          "Drama",
          "Drama",
          "Drama",
          "Drama",
          "Drama",
          "Drama",
          "Drama",
          "Drama",
          "Drama",
          "Drama",
          "Drama",
          "Drama",
          "Drama",
          "Drama",
          "Drama",
          "Drama",
          "Drama",
          "Drama",
          "Drama",
          "Drama",
          "Drama",
          "Drama",
          "Drama",
          "Drama",
          "Drama",
          "Drama",
          "Drama",
          "Drama",
          "Drama",
          "Drama",
          "Drama",
          "Drama",
          "Drama",
          "Drama",
          "Drama",
          "Drama",
          "Drama",
          "Drama",
          "Drama",
          "Drama",
          "Drama",
          "Drama",
          "Drama",
          "Drama",
          "Drama",
          "Drama",
          "Drama",
          "Drama",
          "Drama",
          "Drama",
          "Drama",
          "Drama",
          "Drama",
          "Drama",
          "Drama",
          "Drama",
          "Drama",
          "Drama",
          "Drama",
          "Drama",
          "Drama",
          "Drama",
          "Drama",
          "Drama",
          "Drama",
          "Drama",
          "Drama",
          "Drama",
          "Drama",
          "Drama",
          "Drama",
          "Drama",
          "Drama",
          "Drama",
          "Drama",
          "Drama",
          "Drama",
          "Drama",
          "Drama",
          "Drama",
          "Drama",
          "Drama",
          "Drama",
          "Drama",
          "Drama",
          "Drama",
          "Drama",
          "Drama",
          "Drama",
          "Drama",
          "Drama",
          "Drama",
          "Drama",
          "Drama",
          "Drama",
          "Drama",
          "Drama",
          "Drama",
          "Drama",
          "Drama",
          "Drama",
          "Drama",
          "Drama",
          "Drama",
          "Drama",
          "Drama",
          "Drama",
          "Drama",
          "Drama",
          "Drama",
          "Drama",
          "Drama",
          "Drama",
          "Drama",
          "Drama",
          "Drama",
          "Drama",
          "Drama",
          "Drama",
          "Drama",
          "Drama",
          "Drama",
          "Drama",
          "Drama",
          "Drama",
          "Drama",
          "Drama",
          "Drama",
          "Drama",
          "Drama",
          "Drama",
          "Drama",
          "Drama",
          "Drama",
          "Drama",
          "Drama",
          "Drama",
          "Drama",
          "Drama",
          "Drama",
          "Drama"
         ],
         "yaxis": "y"
        },
        {
         "alignmentgroup": "True",
         "hovertemplate": "Genre=%{y}<br>ReleaseYear=%{x}<extra></extra>",
         "legendgroup": " Fantasy",
         "marker": {
          "color": "#FF6692"
         },
         "name": " Fantasy",
         "offsetgroup": " Fantasy",
         "orientation": "v",
         "showlegend": true,
         "textposition": "auto",
         "type": "bar",
         "x": [
          1990,
          1990,
          1990,
          1990,
          1990,
          1991,
          1991,
          1991,
          1991,
          1991,
          1991,
          1991,
          1991,
          1992,
          1992,
          1992,
          1993,
          1993,
          1993,
          1993,
          1994,
          1994,
          1994,
          1995,
          1995,
          1995,
          1995,
          1996,
          1996,
          1996,
          1996,
          1996,
          1996,
          1997,
          1997,
          1998,
          1998,
          1998,
          1998,
          1998,
          1999,
          1999,
          1999,
          1999,
          1999,
          1999,
          2000,
          2000,
          2000,
          2000,
          2000,
          2001,
          2001,
          2001,
          2001,
          2002,
          2002,
          2002,
          2002,
          2002,
          2003,
          2003,
          2003,
          2003,
          2003,
          2003,
          2003,
          2003,
          2003,
          2004,
          2004,
          2004,
          2005,
          2005,
          2005,
          2005,
          2006,
          2006,
          2006,
          2006,
          2006,
          2006,
          2007,
          2007,
          2007,
          2007,
          2008,
          2008,
          2008,
          2008,
          2008,
          2009,
          2009,
          2009,
          2009,
          2009,
          2010,
          2010,
          2010,
          2010,
          2010,
          2010,
          2010,
          2011,
          2011,
          2011,
          2011,
          2011,
          2011,
          2012,
          2012,
          2012,
          2012,
          2013,
          2013,
          2013,
          2013,
          2013,
          2013,
          2014,
          2015,
          2015,
          2016,
          2016,
          2016,
          2016,
          2016,
          2016,
          2016,
          2016,
          2016,
          2016,
          2016,
          2017,
          2017,
          2017,
          2017,
          2017,
          2017,
          2017,
          2017,
          2017,
          2017,
          2017,
          2018,
          2018,
          2018
         ],
         "xaxis": "x",
         "y": [
          " Fantasy",
          " Fantasy",
          " Fantasy",
          " Fantasy",
          " Fantasy",
          " Fantasy",
          " Fantasy",
          " Fantasy",
          " Fantasy",
          " Fantasy",
          " Fantasy",
          " Fantasy",
          " Fantasy",
          " Fantasy",
          " Fantasy",
          " Fantasy",
          " Fantasy",
          " Fantasy",
          " Fantasy",
          " Fantasy",
          " Fantasy",
          " Fantasy",
          " Fantasy",
          " Fantasy",
          " Fantasy",
          " Fantasy",
          " Fantasy",
          " Fantasy",
          " Fantasy",
          " Fantasy",
          " Fantasy",
          " Fantasy",
          " Fantasy",
          " Fantasy",
          " Fantasy",
          " Fantasy",
          " Fantasy",
          " Fantasy",
          " Fantasy",
          " Fantasy",
          " Fantasy",
          " Fantasy",
          " Fantasy",
          " Fantasy",
          " Fantasy",
          " Fantasy",
          " Fantasy",
          " Fantasy",
          " Fantasy",
          " Fantasy",
          " Fantasy",
          " Fantasy",
          " Fantasy",
          " Fantasy",
          " Fantasy",
          " Fantasy",
          " Fantasy",
          " Fantasy",
          " Fantasy",
          " Fantasy",
          " Fantasy",
          " Fantasy",
          " Fantasy",
          " Fantasy",
          " Fantasy",
          " Fantasy",
          " Fantasy",
          " Fantasy",
          " Fantasy",
          " Fantasy",
          " Fantasy",
          " Fantasy",
          " Fantasy",
          " Fantasy",
          " Fantasy",
          " Fantasy",
          " Fantasy",
          " Fantasy",
          " Fantasy",
          " Fantasy",
          " Fantasy",
          " Fantasy",
          " Fantasy",
          " Fantasy",
          " Fantasy",
          " Fantasy",
          " Fantasy",
          " Fantasy",
          " Fantasy",
          " Fantasy",
          " Fantasy",
          " Fantasy",
          " Fantasy",
          " Fantasy",
          " Fantasy",
          " Fantasy",
          " Fantasy",
          " Fantasy",
          " Fantasy",
          " Fantasy",
          " Fantasy",
          " Fantasy",
          " Fantasy",
          " Fantasy",
          " Fantasy",
          " Fantasy",
          " Fantasy",
          " Fantasy",
          " Fantasy",
          " Fantasy",
          " Fantasy",
          " Fantasy",
          " Fantasy",
          " Fantasy",
          " Fantasy",
          " Fantasy",
          " Fantasy",
          " Fantasy",
          " Fantasy",
          " Fantasy",
          " Fantasy",
          " Fantasy",
          " Fantasy",
          " Fantasy",
          " Fantasy",
          " Fantasy",
          " Fantasy",
          " Fantasy",
          " Fantasy",
          " Fantasy",
          " Fantasy",
          " Fantasy",
          " Fantasy",
          " Fantasy",
          " Fantasy",
          " Fantasy",
          " Fantasy",
          " Fantasy",
          " Fantasy",
          " Fantasy",
          " Fantasy",
          " Fantasy",
          " Fantasy",
          " Fantasy",
          " Fantasy",
          " Fantasy",
          " Fantasy"
         ],
         "yaxis": "y"
        },
        {
         "alignmentgroup": "True",
         "hovertemplate": "Genre=%{y}<br>ReleaseYear=%{x}<extra></extra>",
         "legendgroup": " Romance",
         "marker": {
          "color": "#B6E880"
         },
         "name": " Romance",
         "offsetgroup": " Romance",
         "orientation": "v",
         "showlegend": true,
         "textposition": "auto",
         "type": "bar",
         "x": [
          1990,
          1990,
          1990,
          1990,
          1990,
          1990,
          1991,
          1991,
          1991,
          1991,
          1991,
          1992,
          1992,
          1992,
          1992,
          1993,
          1993,
          1993,
          1993,
          1993,
          1993,
          1993,
          1993,
          1993,
          1993,
          1994,
          1994,
          1994,
          1994,
          1994,
          1994,
          1994,
          1994,
          1994,
          1994,
          1994,
          1995,
          1995,
          1995,
          1995,
          1995,
          1995,
          1995,
          1995,
          1996,
          1996,
          1996,
          1996,
          1996,
          1997,
          1997,
          1997,
          1997,
          1997,
          1997,
          1998,
          1998,
          1998,
          1998,
          1998,
          1998,
          1998,
          1999,
          1999,
          1999,
          1999,
          1999,
          2000,
          2000,
          2000,
          2000,
          2000,
          2000,
          2001,
          2001,
          2001,
          2001,
          2001,
          2001,
          2001,
          2002,
          2002,
          2002,
          2002,
          2002,
          2002,
          2003,
          2003,
          2003,
          2003,
          2004,
          2004,
          2004,
          2004,
          2004,
          2004,
          2004,
          2004,
          2004,
          2005,
          2005,
          2005,
          2005,
          2005,
          2005,
          2006,
          2006,
          2006,
          2007,
          2007,
          2007,
          2008,
          2008,
          2008,
          2008,
          2008,
          2008,
          2008,
          2008,
          2008,
          2008,
          2009,
          2009,
          2009,
          2009,
          2009,
          2009,
          2009,
          2009,
          2009,
          2009,
          2010,
          2010,
          2010,
          2011,
          2011,
          2011,
          2011,
          2011,
          2011,
          2011,
          2011,
          2011,
          2012,
          2012,
          2012,
          2012,
          2012,
          2013,
          2013,
          2013,
          2013,
          2013,
          2014,
          2014,
          2014,
          2015,
          2015,
          2015,
          2015,
          2015,
          2016,
          2016,
          2017,
          2017,
          2018,
          2018,
          2018
         ],
         "xaxis": "x",
         "y": [
          " Romance",
          " Romance",
          " Romance",
          " Romance",
          " Romance",
          " Romance",
          " Romance",
          " Romance",
          " Romance",
          " Romance",
          " Romance",
          " Romance",
          " Romance",
          " Romance",
          " Romance",
          " Romance",
          " Romance",
          " Romance",
          " Romance",
          " Romance",
          " Romance",
          " Romance",
          " Romance",
          " Romance",
          " Romance",
          " Romance",
          " Romance",
          " Romance",
          " Romance",
          " Romance",
          " Romance",
          " Romance",
          " Romance",
          " Romance",
          " Romance",
          " Romance",
          " Romance",
          " Romance",
          " Romance",
          " Romance",
          " Romance",
          " Romance",
          " Romance",
          " Romance",
          " Romance",
          " Romance",
          " Romance",
          " Romance",
          " Romance",
          " Romance",
          " Romance",
          " Romance",
          " Romance",
          " Romance",
          " Romance",
          " Romance",
          " Romance",
          " Romance",
          " Romance",
          " Romance",
          " Romance",
          " Romance",
          " Romance",
          " Romance",
          " Romance",
          " Romance",
          " Romance",
          " Romance",
          " Romance",
          " Romance",
          " Romance",
          " Romance",
          " Romance",
          " Romance",
          " Romance",
          " Romance",
          " Romance",
          " Romance",
          " Romance",
          " Romance",
          " Romance",
          " Romance",
          " Romance",
          " Romance",
          " Romance",
          " Romance",
          " Romance",
          " Romance",
          " Romance",
          " Romance",
          " Romance",
          " Romance",
          " Romance",
          " Romance",
          " Romance",
          " Romance",
          " Romance",
          " Romance",
          " Romance",
          " Romance",
          " Romance",
          " Romance",
          " Romance",
          " Romance",
          " Romance",
          " Romance",
          " Romance",
          " Romance",
          " Romance",
          " Romance",
          " Romance",
          " Romance",
          " Romance",
          " Romance",
          " Romance",
          " Romance",
          " Romance",
          " Romance",
          " Romance",
          " Romance",
          " Romance",
          " Romance",
          " Romance",
          " Romance",
          " Romance",
          " Romance",
          " Romance",
          " Romance",
          " Romance",
          " Romance",
          " Romance",
          " Romance",
          " Romance",
          " Romance",
          " Romance",
          " Romance",
          " Romance",
          " Romance",
          " Romance",
          " Romance",
          " Romance",
          " Romance",
          " Romance",
          " Romance",
          " Romance",
          " Romance",
          " Romance",
          " Romance",
          " Romance",
          " Romance",
          " Romance",
          " Romance",
          " Romance",
          " Romance",
          " Romance",
          " Romance",
          " Romance",
          " Romance",
          " Romance",
          " Romance",
          " Romance",
          " Romance",
          " Romance",
          " Romance",
          " Romance",
          " Romance",
          " Romance",
          " Romance"
         ],
         "yaxis": "y"
        },
        {
         "alignmentgroup": "True",
         "hovertemplate": "Genre=%{y}<br>ReleaseYear=%{x}<extra></extra>",
         "legendgroup": "Adventure",
         "marker": {
          "color": "#FF97FF"
         },
         "name": "Adventure",
         "offsetgroup": "Adventure",
         "orientation": "v",
         "showlegend": true,
         "textposition": "auto",
         "type": "bar",
         "x": [
          1990,
          1990,
          1990,
          1991,
          1991,
          1991,
          1992,
          1992,
          1992,
          1993,
          1993,
          1993,
          1993,
          1993,
          1995,
          1995,
          1995,
          1995,
          1995,
          1996,
          1996,
          1997,
          1997,
          1997,
          1998,
          1998,
          1999,
          1999,
          1999,
          2000,
          2000,
          2000,
          2000,
          2001,
          2002,
          2002,
          2003,
          2003,
          2003,
          2004,
          2004,
          2004,
          2005,
          2005,
          2005,
          2005,
          2005,
          2005,
          2006,
          2006,
          2006,
          2007,
          2007,
          2007,
          2007,
          2007,
          2009,
          2009,
          2009,
          2009,
          2010,
          2010,
          2010,
          2011,
          2011,
          2012,
          2012,
          2012,
          2012,
          2013,
          2013,
          2014,
          2014,
          2014,
          2014,
          2015,
          2016,
          2016,
          2016,
          2017,
          2018,
          2018
         ],
         "xaxis": "x",
         "y": [
          "Adventure",
          "Adventure",
          "Adventure",
          "Adventure",
          "Adventure",
          "Adventure",
          "Adventure",
          "Adventure",
          "Adventure",
          "Adventure",
          "Adventure",
          "Adventure",
          "Adventure",
          "Adventure",
          "Adventure",
          "Adventure",
          "Adventure",
          "Adventure",
          "Adventure",
          "Adventure",
          "Adventure",
          "Adventure",
          "Adventure",
          "Adventure",
          "Adventure",
          "Adventure",
          "Adventure",
          "Adventure",
          "Adventure",
          "Adventure",
          "Adventure",
          "Adventure",
          "Adventure",
          "Adventure",
          "Adventure",
          "Adventure",
          "Adventure",
          "Adventure",
          "Adventure",
          "Adventure",
          "Adventure",
          "Adventure",
          "Adventure",
          "Adventure",
          "Adventure",
          "Adventure",
          "Adventure",
          "Adventure",
          "Adventure",
          "Adventure",
          "Adventure",
          "Adventure",
          "Adventure",
          "Adventure",
          "Adventure",
          "Adventure",
          "Adventure",
          "Adventure",
          "Adventure",
          "Adventure",
          "Adventure",
          "Adventure",
          "Adventure",
          "Adventure",
          "Adventure",
          "Adventure",
          "Adventure",
          "Adventure",
          "Adventure",
          "Adventure",
          "Adventure",
          "Adventure",
          "Adventure",
          "Adventure",
          "Adventure",
          "Adventure",
          "Adventure",
          "Adventure",
          "Adventure",
          "Adventure",
          "Adventure",
          "Adventure"
         ],
         "yaxis": "y"
        },
        {
         "alignmentgroup": "True",
         "hovertemplate": "Genre=%{y}<br>ReleaseYear=%{x}<extra></extra>",
         "legendgroup": " Comedy",
         "marker": {
          "color": "#FECB52"
         },
         "name": " Comedy",
         "offsetgroup": " Comedy",
         "orientation": "v",
         "showlegend": true,
         "textposition": "auto",
         "type": "bar",
         "x": [
          1990,
          1990,
          1990,
          1990,
          1990,
          1990,
          1991,
          1991,
          1991,
          1991,
          1991,
          1991,
          1992,
          1992,
          1992,
          1992,
          1992,
          1992,
          1992,
          1993,
          1993,
          1993,
          1993,
          1993,
          1993,
          1994,
          1994,
          1994,
          1994,
          1994,
          1994,
          1995,
          1995,
          1995,
          1995,
          1995,
          1996,
          1996,
          1996,
          1997,
          1997,
          1997,
          1997,
          1997,
          1998,
          1998,
          1998,
          1998,
          1998,
          1998,
          1998,
          1998,
          1999,
          1999,
          1999,
          1999,
          1999,
          1999,
          1999,
          1999,
          1999,
          2000,
          2000,
          2000,
          2000,
          2000,
          2000,
          2000,
          2001,
          2001,
          2001,
          2002,
          2002,
          2002,
          2002,
          2003,
          2003,
          2003,
          2003,
          2004,
          2004,
          2004,
          2005,
          2005,
          2005,
          2005,
          2005,
          2006,
          2006,
          2006,
          2006,
          2006,
          2006,
          2007,
          2007,
          2007,
          2007,
          2007,
          2007,
          2008,
          2008,
          2008,
          2008,
          2009,
          2009,
          2009,
          2009,
          2009,
          2009,
          2009,
          2010,
          2010,
          2010,
          2010,
          2010,
          2010,
          2010,
          2010,
          2010,
          2010,
          2011,
          2011,
          2011,
          2012,
          2012,
          2012,
          2012,
          2012,
          2012,
          2012,
          2012,
          2012,
          2013,
          2013,
          2013,
          2013,
          2013,
          2013,
          2013,
          2013,
          2013,
          2013,
          2013,
          2014,
          2014,
          2014,
          2014,
          2014,
          2014,
          2014,
          2014,
          2014,
          2014,
          2015,
          2015,
          2015,
          2015,
          2015,
          2015,
          2015,
          2016,
          2016,
          2016,
          2016,
          2016,
          2016,
          2016,
          2016,
          2016,
          2016,
          2016,
          2016,
          2016,
          2016,
          2016,
          2017,
          2017,
          2017,
          2017,
          2017,
          2017,
          2017,
          2017,
          2017,
          2017,
          2017,
          2018,
          2018,
          2018,
          2018,
          2018,
          2018,
          2018,
          2018,
          2018,
          2018,
          2018,
          2018,
          2018
         ],
         "xaxis": "x",
         "y": [
          " Comedy",
          " Comedy",
          " Comedy",
          " Comedy",
          " Comedy",
          " Comedy",
          " Comedy",
          " Comedy",
          " Comedy",
          " Comedy",
          " Comedy",
          " Comedy",
          " Comedy",
          " Comedy",
          " Comedy",
          " Comedy",
          " Comedy",
          " Comedy",
          " Comedy",
          " Comedy",
          " Comedy",
          " Comedy",
          " Comedy",
          " Comedy",
          " Comedy",
          " Comedy",
          " Comedy",
          " Comedy",
          " Comedy",
          " Comedy",
          " Comedy",
          " Comedy",
          " Comedy",
          " Comedy",
          " Comedy",
          " Comedy",
          " Comedy",
          " Comedy",
          " Comedy",
          " Comedy",
          " Comedy",
          " Comedy",
          " Comedy",
          " Comedy",
          " Comedy",
          " Comedy",
          " Comedy",
          " Comedy",
          " Comedy",
          " Comedy",
          " Comedy",
          " Comedy",
          " Comedy",
          " Comedy",
          " Comedy",
          " Comedy",
          " Comedy",
          " Comedy",
          " Comedy",
          " Comedy",
          " Comedy",
          " Comedy",
          " Comedy",
          " Comedy",
          " Comedy",
          " Comedy",
          " Comedy",
          " Comedy",
          " Comedy",
          " Comedy",
          " Comedy",
          " Comedy",
          " Comedy",
          " Comedy",
          " Comedy",
          " Comedy",
          " Comedy",
          " Comedy",
          " Comedy",
          " Comedy",
          " Comedy",
          " Comedy",
          " Comedy",
          " Comedy",
          " Comedy",
          " Comedy",
          " Comedy",
          " Comedy",
          " Comedy",
          " Comedy",
          " Comedy",
          " Comedy",
          " Comedy",
          " Comedy",
          " Comedy",
          " Comedy",
          " Comedy",
          " Comedy",
          " Comedy",
          " Comedy",
          " Comedy",
          " Comedy",
          " Comedy",
          " Comedy",
          " Comedy",
          " Comedy",
          " Comedy",
          " Comedy",
          " Comedy",
          " Comedy",
          " Comedy",
          " Comedy",
          " Comedy",
          " Comedy",
          " Comedy",
          " Comedy",
          " Comedy",
          " Comedy",
          " Comedy",
          " Comedy",
          " Comedy",
          " Comedy",
          " Comedy",
          " Comedy",
          " Comedy",
          " Comedy",
          " Comedy",
          " Comedy",
          " Comedy",
          " Comedy",
          " Comedy",
          " Comedy",
          " Comedy",
          " Comedy",
          " Comedy",
          " Comedy",
          " Comedy",
          " Comedy",
          " Comedy",
          " Comedy",
          " Comedy",
          " Comedy",
          " Comedy",
          " Comedy",
          " Comedy",
          " Comedy",
          " Comedy",
          " Comedy",
          " Comedy",
          " Comedy",
          " Comedy",
          " Comedy",
          " Comedy",
          " Comedy",
          " Comedy",
          " Comedy",
          " Comedy",
          " Comedy",
          " Comedy",
          " Comedy",
          " Comedy",
          " Comedy",
          " Comedy",
          " Comedy",
          " Comedy",
          " Comedy",
          " Comedy",
          " Comedy",
          " Comedy",
          " Comedy",
          " Comedy",
          " Comedy",
          " Comedy",
          " Comedy",
          " Comedy",
          " Comedy",
          " Comedy",
          " Comedy",
          " Comedy",
          " Comedy",
          " Comedy",
          " Comedy",
          " Comedy",
          " Comedy",
          " Comedy",
          " Comedy",
          " Comedy",
          " Comedy",
          " Comedy",
          " Comedy",
          " Comedy",
          " Comedy",
          " Comedy",
          " Comedy",
          " Comedy",
          " Comedy",
          " Comedy",
          " Comedy",
          " Comedy"
         ],
         "yaxis": "y"
        },
        {
         "alignmentgroup": "True",
         "hovertemplate": "Genre=%{y}<br>ReleaseYear=%{x}<extra></extra>",
         "legendgroup": " Sci-Fi",
         "marker": {
          "color": "#636efa"
         },
         "name": " Sci-Fi",
         "offsetgroup": " Sci-Fi",
         "orientation": "v",
         "showlegend": true,
         "textposition": "auto",
         "type": "bar",
         "x": [
          1990,
          1990,
          1990,
          1990,
          1990,
          1990,
          1991,
          1991,
          1992,
          1992,
          1992,
          1993,
          1993,
          1993,
          1994,
          1994,
          1994,
          1995,
          1995,
          1995,
          1995,
          1995,
          1995,
          1996,
          1996,
          1996,
          1996,
          1997,
          1997,
          1997,
          1997,
          1997,
          1997,
          1997,
          1997,
          1997,
          1997,
          1997,
          1998,
          1998,
          1998,
          1998,
          1998,
          1998,
          1998,
          1998,
          1999,
          1999,
          1999,
          1999,
          1999,
          2000,
          2000,
          2000,
          2000,
          2000,
          2000,
          2001,
          2001,
          2001,
          2001,
          2001,
          2001,
          2002,
          2002,
          2002,
          2002,
          2002,
          2002,
          2002,
          2003,
          2003,
          2003,
          2003,
          2003,
          2004,
          2004,
          2004,
          2004,
          2004,
          2004,
          2004,
          2005,
          2005,
          2005,
          2005,
          2005,
          2006,
          2006,
          2006,
          2006,
          2006,
          2006,
          2007,
          2007,
          2007,
          2007,
          2007,
          2007,
          2008,
          2008,
          2008,
          2008,
          2008,
          2008,
          2009,
          2009,
          2009,
          2009,
          2009,
          2009,
          2009,
          2009,
          2009,
          2010,
          2010,
          2010,
          2010,
          2011,
          2011,
          2011,
          2011,
          2011,
          2011,
          2011,
          2011,
          2011,
          2011,
          2011,
          2012,
          2012,
          2012,
          2012,
          2012,
          2012,
          2012,
          2012,
          2012,
          2013,
          2013,
          2013,
          2013,
          2013,
          2013,
          2013,
          2013,
          2013,
          2013,
          2013,
          2013,
          2013,
          2013,
          2013,
          2013,
          2014,
          2014,
          2014,
          2014,
          2014,
          2014,
          2014,
          2014,
          2014,
          2014,
          2014,
          2014,
          2014,
          2014,
          2014,
          2015,
          2015,
          2015,
          2015,
          2015,
          2015,
          2015,
          2015,
          2015,
          2015,
          2015,
          2015,
          2016,
          2016,
          2016,
          2016,
          2016,
          2016,
          2016,
          2016,
          2016,
          2016,
          2017,
          2017,
          2017,
          2017,
          2017,
          2017,
          2017,
          2018,
          2018,
          2018,
          2018,
          2018,
          2018,
          2018,
          2018,
          2018,
          2018,
          2018,
          2018,
          2018,
          2018,
          2018,
          2018,
          2018,
          2018
         ],
         "xaxis": "x",
         "y": [
          " Sci-Fi",
          " Sci-Fi",
          " Sci-Fi",
          " Sci-Fi",
          " Sci-Fi",
          " Sci-Fi",
          " Sci-Fi",
          " Sci-Fi",
          " Sci-Fi",
          " Sci-Fi",
          " Sci-Fi",
          " Sci-Fi",
          " Sci-Fi",
          " Sci-Fi",
          " Sci-Fi",
          " Sci-Fi",
          " Sci-Fi",
          " Sci-Fi",
          " Sci-Fi",
          " Sci-Fi",
          " Sci-Fi",
          " Sci-Fi",
          " Sci-Fi",
          " Sci-Fi",
          " Sci-Fi",
          " Sci-Fi",
          " Sci-Fi",
          " Sci-Fi",
          " Sci-Fi",
          " Sci-Fi",
          " Sci-Fi",
          " Sci-Fi",
          " Sci-Fi",
          " Sci-Fi",
          " Sci-Fi",
          " Sci-Fi",
          " Sci-Fi",
          " Sci-Fi",
          " Sci-Fi",
          " Sci-Fi",
          " Sci-Fi",
          " Sci-Fi",
          " Sci-Fi",
          " Sci-Fi",
          " Sci-Fi",
          " Sci-Fi",
          " Sci-Fi",
          " Sci-Fi",
          " Sci-Fi",
          " Sci-Fi",
          " Sci-Fi",
          " Sci-Fi",
          " Sci-Fi",
          " Sci-Fi",
          " Sci-Fi",
          " Sci-Fi",
          " Sci-Fi",
          " Sci-Fi",
          " Sci-Fi",
          " Sci-Fi",
          " Sci-Fi",
          " Sci-Fi",
          " Sci-Fi",
          " Sci-Fi",
          " Sci-Fi",
          " Sci-Fi",
          " Sci-Fi",
          " Sci-Fi",
          " Sci-Fi",
          " Sci-Fi",
          " Sci-Fi",
          " Sci-Fi",
          " Sci-Fi",
          " Sci-Fi",
          " Sci-Fi",
          " Sci-Fi",
          " Sci-Fi",
          " Sci-Fi",
          " Sci-Fi",
          " Sci-Fi",
          " Sci-Fi",
          " Sci-Fi",
          " Sci-Fi",
          " Sci-Fi",
          " Sci-Fi",
          " Sci-Fi",
          " Sci-Fi",
          " Sci-Fi",
          " Sci-Fi",
          " Sci-Fi",
          " Sci-Fi",
          " Sci-Fi",
          " Sci-Fi",
          " Sci-Fi",
          " Sci-Fi",
          " Sci-Fi",
          " Sci-Fi",
          " Sci-Fi",
          " Sci-Fi",
          " Sci-Fi",
          " Sci-Fi",
          " Sci-Fi",
          " Sci-Fi",
          " Sci-Fi",
          " Sci-Fi",
          " Sci-Fi",
          " Sci-Fi",
          " Sci-Fi",
          " Sci-Fi",
          " Sci-Fi",
          " Sci-Fi",
          " Sci-Fi",
          " Sci-Fi",
          " Sci-Fi",
          " Sci-Fi",
          " Sci-Fi",
          " Sci-Fi",
          " Sci-Fi",
          " Sci-Fi",
          " Sci-Fi",
          " Sci-Fi",
          " Sci-Fi",
          " Sci-Fi",
          " Sci-Fi",
          " Sci-Fi",
          " Sci-Fi",
          " Sci-Fi",
          " Sci-Fi",
          " Sci-Fi",
          " Sci-Fi",
          " Sci-Fi",
          " Sci-Fi",
          " Sci-Fi",
          " Sci-Fi",
          " Sci-Fi",
          " Sci-Fi",
          " Sci-Fi",
          " Sci-Fi",
          " Sci-Fi",
          " Sci-Fi",
          " Sci-Fi",
          " Sci-Fi",
          " Sci-Fi",
          " Sci-Fi",
          " Sci-Fi",
          " Sci-Fi",
          " Sci-Fi",
          " Sci-Fi",
          " Sci-Fi",
          " Sci-Fi",
          " Sci-Fi",
          " Sci-Fi",
          " Sci-Fi",
          " Sci-Fi",
          " Sci-Fi",
          " Sci-Fi",
          " Sci-Fi",
          " Sci-Fi",
          " Sci-Fi",
          " Sci-Fi",
          " Sci-Fi",
          " Sci-Fi",
          " Sci-Fi",
          " Sci-Fi",
          " Sci-Fi",
          " Sci-Fi",
          " Sci-Fi",
          " Sci-Fi",
          " Sci-Fi",
          " Sci-Fi",
          " Sci-Fi",
          " Sci-Fi",
          " Sci-Fi",
          " Sci-Fi",
          " Sci-Fi",
          " Sci-Fi",
          " Sci-Fi",
          " Sci-Fi",
          " Sci-Fi",
          " Sci-Fi",
          " Sci-Fi",
          " Sci-Fi",
          " Sci-Fi",
          " Sci-Fi",
          " Sci-Fi",
          " Sci-Fi",
          " Sci-Fi",
          " Sci-Fi",
          " Sci-Fi",
          " Sci-Fi",
          " Sci-Fi",
          " Sci-Fi",
          " Sci-Fi",
          " Sci-Fi",
          " Sci-Fi",
          " Sci-Fi",
          " Sci-Fi",
          " Sci-Fi",
          " Sci-Fi",
          " Sci-Fi",
          " Sci-Fi",
          " Sci-Fi",
          " Sci-Fi",
          " Sci-Fi",
          " Sci-Fi",
          " Sci-Fi",
          " Sci-Fi",
          " Sci-Fi",
          " Sci-Fi",
          " Sci-Fi",
          " Sci-Fi",
          " Sci-Fi",
          " Sci-Fi",
          " Sci-Fi",
          " Sci-Fi",
          " Sci-Fi"
         ],
         "yaxis": "y"
        },
        {
         "alignmentgroup": "True",
         "hovertemplate": "Genre=%{y}<br>ReleaseYear=%{x}<extra></extra>",
         "legendgroup": "Crime",
         "marker": {
          "color": "#EF553B"
         },
         "name": "Crime",
         "offsetgroup": "Crime",
         "orientation": "v",
         "showlegend": true,
         "textposition": "auto",
         "type": "bar",
         "x": [
          1990,
          1990,
          1990,
          1991,
          1991,
          1991,
          1991,
          1992,
          1992,
          1992,
          1992,
          1992,
          1993,
          1993,
          1993,
          1993,
          1993,
          1993,
          1993,
          1993,
          1994,
          1994,
          1994,
          1995,
          1995,
          1995,
          1995,
          1995,
          1996,
          1996,
          1996,
          1996,
          1997,
          1997,
          1997,
          1998,
          1998,
          1998,
          1999,
          1999,
          1999,
          2000,
          2000,
          2001,
          2001,
          2001,
          2001,
          2002,
          2002,
          2002,
          2002,
          2002,
          2002,
          2002,
          2002,
          2003,
          2003,
          2003,
          2004,
          2004,
          2004,
          2005,
          2005,
          2005,
          2006,
          2006,
          2006,
          2006,
          2007,
          2007,
          2007,
          2007,
          2007,
          2007,
          2008,
          2009,
          2010,
          2011,
          2011,
          2012,
          2012,
          2012,
          2013,
          2013,
          2013,
          2013,
          2013,
          2014,
          2015,
          2016,
          2016,
          2017,
          2017,
          2018
         ],
         "xaxis": "x",
         "y": [
          "Crime",
          "Crime",
          "Crime",
          "Crime",
          "Crime",
          "Crime",
          "Crime",
          "Crime",
          "Crime",
          "Crime",
          "Crime",
          "Crime",
          "Crime",
          "Crime",
          "Crime",
          "Crime",
          "Crime",
          "Crime",
          "Crime",
          "Crime",
          "Crime",
          "Crime",
          "Crime",
          "Crime",
          "Crime",
          "Crime",
          "Crime",
          "Crime",
          "Crime",
          "Crime",
          "Crime",
          "Crime",
          "Crime",
          "Crime",
          "Crime",
          "Crime",
          "Crime",
          "Crime",
          "Crime",
          "Crime",
          "Crime",
          "Crime",
          "Crime",
          "Crime",
          "Crime",
          "Crime",
          "Crime",
          "Crime",
          "Crime",
          "Crime",
          "Crime",
          "Crime",
          "Crime",
          "Crime",
          "Crime",
          "Crime",
          "Crime",
          "Crime",
          "Crime",
          "Crime",
          "Crime",
          "Crime",
          "Crime",
          "Crime",
          "Crime",
          "Crime",
          "Crime",
          "Crime",
          "Crime",
          "Crime",
          "Crime",
          "Crime",
          "Crime",
          "Crime",
          "Crime",
          "Crime",
          "Crime",
          "Crime",
          "Crime",
          "Crime",
          "Crime",
          "Crime",
          "Crime",
          "Crime",
          "Crime",
          "Crime",
          "Crime",
          "Crime",
          "Crime",
          "Crime",
          "Crime",
          "Crime",
          "Crime",
          "Crime"
         ],
         "yaxis": "y"
        },
        {
         "alignmentgroup": "True",
         "hovertemplate": "Genre=%{y}<br>ReleaseYear=%{x}<extra></extra>",
         "legendgroup": "Action",
         "marker": {
          "color": "#00cc96"
         },
         "name": "Action",
         "offsetgroup": "Action",
         "orientation": "v",
         "showlegend": true,
         "textposition": "auto",
         "type": "bar",
         "x": [
          1990,
          1990,
          1990,
          1990,
          1990,
          1990,
          1990,
          1990,
          1990,
          1990,
          1990,
          1990,
          1990,
          1990,
          1991,
          1991,
          1991,
          1991,
          1991,
          1991,
          1991,
          1991,
          1991,
          1991,
          1991,
          1991,
          1992,
          1992,
          1992,
          1992,
          1992,
          1992,
          1992,
          1992,
          1992,
          1992,
          1992,
          1992,
          1992,
          1993,
          1993,
          1993,
          1993,
          1993,
          1993,
          1993,
          1993,
          1993,
          1994,
          1994,
          1994,
          1994,
          1994,
          1994,
          1994,
          1994,
          1994,
          1994,
          1994,
          1994,
          1994,
          1994,
          1995,
          1995,
          1995,
          1995,
          1995,
          1995,
          1995,
          1995,
          1995,
          1995,
          1995,
          1995,
          1995,
          1995,
          1995,
          1995,
          1996,
          1996,
          1996,
          1996,
          1996,
          1996,
          1996,
          1996,
          1996,
          1996,
          1996,
          1996,
          1996,
          1996,
          1997,
          1997,
          1997,
          1997,
          1997,
          1997,
          1997,
          1997,
          1997,
          1997,
          1997,
          1997,
          1997,
          1997,
          1997,
          1997,
          1998,
          1998,
          1998,
          1998,
          1998,
          1998,
          1998,
          1998,
          1998,
          1998,
          1998,
          1998,
          1998,
          1998,
          1999,
          1999,
          1999,
          1999,
          1999,
          1999,
          1999,
          1999,
          1999,
          1999,
          1999,
          1999,
          1999,
          2000,
          2000,
          2000,
          2000,
          2000,
          2000,
          2000,
          2000,
          2000,
          2000,
          2000,
          2000,
          2001,
          2001,
          2001,
          2001,
          2001,
          2001,
          2001,
          2001,
          2001,
          2001,
          2001,
          2002,
          2002,
          2002,
          2002,
          2002,
          2002,
          2002,
          2002,
          2002,
          2002,
          2002,
          2002,
          2002,
          2002,
          2002,
          2002,
          2002,
          2002,
          2003,
          2003,
          2003,
          2003,
          2003,
          2003,
          2003,
          2003,
          2003,
          2003,
          2003,
          2003,
          2003,
          2003,
          2003,
          2003,
          2003,
          2003,
          2003,
          2003,
          2003,
          2003,
          2004,
          2004,
          2004,
          2004,
          2004,
          2004,
          2004,
          2004,
          2004,
          2004,
          2004,
          2004,
          2004,
          2005,
          2005,
          2005,
          2005,
          2005,
          2005,
          2005,
          2005,
          2005,
          2005,
          2005,
          2005,
          2005,
          2005,
          2005,
          2006,
          2006,
          2006,
          2006,
          2006,
          2006,
          2006,
          2006,
          2006,
          2006,
          2006,
          2006,
          2006,
          2007,
          2007,
          2007,
          2007,
          2007,
          2007,
          2007,
          2007,
          2007,
          2007,
          2007,
          2007,
          2007,
          2007,
          2007,
          2007,
          2008,
          2008,
          2008,
          2008,
          2008,
          2008,
          2008,
          2008,
          2008,
          2008,
          2008,
          2008,
          2008,
          2008,
          2008,
          2008,
          2008,
          2008,
          2008,
          2009,
          2009,
          2009,
          2009,
          2009,
          2009,
          2009,
          2009,
          2009,
          2009,
          2009,
          2009,
          2009,
          2009,
          2009,
          2009,
          2009,
          2010,
          2010,
          2010,
          2010,
          2010,
          2010,
          2010,
          2010,
          2010,
          2010,
          2010,
          2010,
          2010,
          2010,
          2010,
          2010,
          2010,
          2010,
          2010,
          2010,
          2010,
          2011,
          2011,
          2011,
          2011,
          2011,
          2011,
          2011,
          2011,
          2011,
          2011,
          2011,
          2011,
          2011,
          2011,
          2011,
          2011,
          2011,
          2011,
          2011,
          2011,
          2011,
          2011,
          2012,
          2012,
          2012,
          2012,
          2012,
          2012,
          2012,
          2012,
          2012,
          2012,
          2012,
          2012,
          2012,
          2012,
          2012,
          2012,
          2012,
          2012,
          2012,
          2012,
          2012,
          2012,
          2012,
          2013,
          2013,
          2013,
          2013,
          2013,
          2013,
          2013,
          2013,
          2013,
          2013,
          2013,
          2013,
          2013,
          2013,
          2013,
          2013,
          2013,
          2013,
          2013,
          2013,
          2013,
          2013,
          2013,
          2013,
          2013,
          2013,
          2013,
          2013,
          2014,
          2014,
          2014,
          2014,
          2014,
          2014,
          2014,
          2014,
          2014,
          2014,
          2014,
          2014,
          2014,
          2014,
          2014,
          2014,
          2014,
          2014,
          2014,
          2014,
          2014,
          2014,
          2014,
          2014,
          2014,
          2014,
          2014,
          2014,
          2014,
          2014,
          2014,
          2014,
          2014,
          2014,
          2014,
          2015,
          2015,
          2015,
          2015,
          2015,
          2015,
          2015,
          2015,
          2015,
          2015,
          2015,
          2015,
          2015,
          2015,
          2015,
          2015,
          2015,
          2015,
          2015,
          2015,
          2015,
          2015,
          2015,
          2015,
          2015,
          2015,
          2015,
          2016,
          2016,
          2016,
          2016,
          2016,
          2016,
          2016,
          2016,
          2016,
          2016,
          2016,
          2016,
          2016,
          2016,
          2016,
          2016,
          2016,
          2016,
          2016,
          2016,
          2016,
          2016,
          2016,
          2016,
          2016,
          2016,
          2016,
          2016,
          2016,
          2017,
          2017,
          2017,
          2017,
          2017,
          2017,
          2017,
          2017,
          2017,
          2017,
          2017,
          2017,
          2017,
          2017,
          2017,
          2017,
          2017,
          2017,
          2017,
          2017,
          2017,
          2017,
          2017,
          2017,
          2017,
          2017,
          2017,
          2017,
          2017,
          2017,
          2017,
          2017,
          2017,
          2017,
          2018,
          2018,
          2018,
          2018,
          2018,
          2018,
          2018,
          2018,
          2018,
          2018,
          2018,
          2018,
          2018,
          2018,
          2018,
          2018,
          2018,
          2018,
          2018,
          2018,
          2018,
          2018,
          2018,
          2018,
          2018,
          2018,
          2018,
          2018
         ],
         "xaxis": "x",
         "y": [
          "Action",
          "Action",
          "Action",
          "Action",
          "Action",
          "Action",
          "Action",
          "Action",
          "Action",
          "Action",
          "Action",
          "Action",
          "Action",
          "Action",
          "Action",
          "Action",
          "Action",
          "Action",
          "Action",
          "Action",
          "Action",
          "Action",
          "Action",
          "Action",
          "Action",
          "Action",
          "Action",
          "Action",
          "Action",
          "Action",
          "Action",
          "Action",
          "Action",
          "Action",
          "Action",
          "Action",
          "Action",
          "Action",
          "Action",
          "Action",
          "Action",
          "Action",
          "Action",
          "Action",
          "Action",
          "Action",
          "Action",
          "Action",
          "Action",
          "Action",
          "Action",
          "Action",
          "Action",
          "Action",
          "Action",
          "Action",
          "Action",
          "Action",
          "Action",
          "Action",
          "Action",
          "Action",
          "Action",
          "Action",
          "Action",
          "Action",
          "Action",
          "Action",
          "Action",
          "Action",
          "Action",
          "Action",
          "Action",
          "Action",
          "Action",
          "Action",
          "Action",
          "Action",
          "Action",
          "Action",
          "Action",
          "Action",
          "Action",
          "Action",
          "Action",
          "Action",
          "Action",
          "Action",
          "Action",
          "Action",
          "Action",
          "Action",
          "Action",
          "Action",
          "Action",
          "Action",
          "Action",
          "Action",
          "Action",
          "Action",
          "Action",
          "Action",
          "Action",
          "Action",
          "Action",
          "Action",
          "Action",
          "Action",
          "Action",
          "Action",
          "Action",
          "Action",
          "Action",
          "Action",
          "Action",
          "Action",
          "Action",
          "Action",
          "Action",
          "Action",
          "Action",
          "Action",
          "Action",
          "Action",
          "Action",
          "Action",
          "Action",
          "Action",
          "Action",
          "Action",
          "Action",
          "Action",
          "Action",
          "Action",
          "Action",
          "Action",
          "Action",
          "Action",
          "Action",
          "Action",
          "Action",
          "Action",
          "Action",
          "Action",
          "Action",
          "Action",
          "Action",
          "Action",
          "Action",
          "Action",
          "Action",
          "Action",
          "Action",
          "Action",
          "Action",
          "Action",
          "Action",
          "Action",
          "Action",
          "Action",
          "Action",
          "Action",
          "Action",
          "Action",
          "Action",
          "Action",
          "Action",
          "Action",
          "Action",
          "Action",
          "Action",
          "Action",
          "Action",
          "Action",
          "Action",
          "Action",
          "Action",
          "Action",
          "Action",
          "Action",
          "Action",
          "Action",
          "Action",
          "Action",
          "Action",
          "Action",
          "Action",
          "Action",
          "Action",
          "Action",
          "Action",
          "Action",
          "Action",
          "Action",
          "Action",
          "Action",
          "Action",
          "Action",
          "Action",
          "Action",
          "Action",
          "Action",
          "Action",
          "Action",
          "Action",
          "Action",
          "Action",
          "Action",
          "Action",
          "Action",
          "Action",
          "Action",
          "Action",
          "Action",
          "Action",
          "Action",
          "Action",
          "Action",
          "Action",
          "Action",
          "Action",
          "Action",
          "Action",
          "Action",
          "Action",
          "Action",
          "Action",
          "Action",
          "Action",
          "Action",
          "Action",
          "Action",
          "Action",
          "Action",
          "Action",
          "Action",
          "Action",
          "Action",
          "Action",
          "Action",
          "Action",
          "Action",
          "Action",
          "Action",
          "Action",
          "Action",
          "Action",
          "Action",
          "Action",
          "Action",
          "Action",
          "Action",
          "Action",
          "Action",
          "Action",
          "Action",
          "Action",
          "Action",
          "Action",
          "Action",
          "Action",
          "Action",
          "Action",
          "Action",
          "Action",
          "Action",
          "Action",
          "Action",
          "Action",
          "Action",
          "Action",
          "Action",
          "Action",
          "Action",
          "Action",
          "Action",
          "Action",
          "Action",
          "Action",
          "Action",
          "Action",
          "Action",
          "Action",
          "Action",
          "Action",
          "Action",
          "Action",
          "Action",
          "Action",
          "Action",
          "Action",
          "Action",
          "Action",
          "Action",
          "Action",
          "Action",
          "Action",
          "Action",
          "Action",
          "Action",
          "Action",
          "Action",
          "Action",
          "Action",
          "Action",
          "Action",
          "Action",
          "Action",
          "Action",
          "Action",
          "Action",
          "Action",
          "Action",
          "Action",
          "Action",
          "Action",
          "Action",
          "Action",
          "Action",
          "Action",
          "Action",
          "Action",
          "Action",
          "Action",
          "Action",
          "Action",
          "Action",
          "Action",
          "Action",
          "Action",
          "Action",
          "Action",
          "Action",
          "Action",
          "Action",
          "Action",
          "Action",
          "Action",
          "Action",
          "Action",
          "Action",
          "Action",
          "Action",
          "Action",
          "Action",
          "Action",
          "Action",
          "Action",
          "Action",
          "Action",
          "Action",
          "Action",
          "Action",
          "Action",
          "Action",
          "Action",
          "Action",
          "Action",
          "Action",
          "Action",
          "Action",
          "Action",
          "Action",
          "Action",
          "Action",
          "Action",
          "Action",
          "Action",
          "Action",
          "Action",
          "Action",
          "Action",
          "Action",
          "Action",
          "Action",
          "Action",
          "Action",
          "Action",
          "Action",
          "Action",
          "Action",
          "Action",
          "Action",
          "Action",
          "Action",
          "Action",
          "Action",
          "Action",
          "Action",
          "Action",
          "Action",
          "Action",
          "Action",
          "Action",
          "Action",
          "Action",
          "Action",
          "Action",
          "Action",
          "Action",
          "Action",
          "Action",
          "Action",
          "Action",
          "Action",
          "Action",
          "Action",
          "Action",
          "Action",
          "Action",
          "Action",
          "Action",
          "Action",
          "Action",
          "Action",
          "Action",
          "Action",
          "Action",
          "Action",
          "Action",
          "Action",
          "Action",
          "Action",
          "Action",
          "Action",
          "Action",
          "Action",
          "Action",
          "Action",
          "Action",
          "Action",
          "Action",
          "Action",
          "Action",
          "Action",
          "Action",
          "Action",
          "Action",
          "Action",
          "Action",
          "Action",
          "Action",
          "Action",
          "Action",
          "Action",
          "Action",
          "Action",
          "Action",
          "Action",
          "Action",
          "Action",
          "Action",
          "Action",
          "Action",
          "Action",
          "Action",
          "Action",
          "Action",
          "Action",
          "Action",
          "Action",
          "Action",
          "Action",
          "Action",
          "Action",
          "Action",
          "Action",
          "Action",
          "Action",
          "Action",
          "Action",
          "Action",
          "Action",
          "Action",
          "Action",
          "Action",
          "Action",
          "Action",
          "Action",
          "Action",
          "Action",
          "Action",
          "Action",
          "Action",
          "Action",
          "Action",
          "Action",
          "Action",
          "Action",
          "Action",
          "Action",
          "Action",
          "Action",
          "Action",
          "Action",
          "Action",
          "Action",
          "Action",
          "Action",
          "Action",
          "Action",
          "Action",
          "Action",
          "Action",
          "Action",
          "Action",
          "Action",
          "Action",
          "Action",
          "Action",
          "Action",
          "Action",
          "Action",
          "Action",
          "Action",
          "Action",
          "Action",
          "Action",
          "Action",
          "Action",
          "Action",
          "Action",
          "Action",
          "Action",
          "Action",
          "Action",
          "Action",
          "Action",
          "Action",
          "Action",
          "Action",
          "Action",
          "Action",
          "Action",
          "Action",
          "Action",
          "Action",
          "Action"
         ],
         "yaxis": "y"
        },
        {
         "alignmentgroup": "True",
         "hovertemplate": "Genre=%{y}<br>ReleaseYear=%{x}<extra></extra>",
         "legendgroup": " Thriller",
         "marker": {
          "color": "#ab63fa"
         },
         "name": " Thriller",
         "offsetgroup": " Thriller",
         "orientation": "v",
         "showlegend": true,
         "textposition": "auto",
         "type": "bar",
         "x": [
          1990,
          1990,
          1990,
          1990,
          1990,
          1990,
          1990,
          1990,
          1990,
          1990,
          1991,
          1991,
          1991,
          1991,
          1991,
          1991,
          1991,
          1992,
          1992,
          1992,
          1992,
          1992,
          1992,
          1992,
          1992,
          1992,
          1992,
          1992,
          1992,
          1993,
          1993,
          1993,
          1993,
          1993,
          1993,
          1993,
          1993,
          1994,
          1994,
          1994,
          1994,
          1994,
          1995,
          1995,
          1995,
          1995,
          1995,
          1995,
          1995,
          1995,
          1995,
          1995,
          1995,
          1996,
          1996,
          1996,
          1996,
          1996,
          1996,
          1996,
          1996,
          1996,
          1996,
          1996,
          1997,
          1997,
          1997,
          1997,
          1997,
          1997,
          1997,
          1997,
          1997,
          1997,
          1997,
          1998,
          1998,
          1998,
          1998,
          1998,
          1998,
          1998,
          1999,
          1999,
          1999,
          1999,
          1999,
          1999,
          1999,
          1999,
          2000,
          2000,
          2000,
          2000,
          2000,
          2000,
          2001,
          2001,
          2001,
          2001,
          2001,
          2001,
          2001,
          2001,
          2001,
          2001,
          2002,
          2002,
          2002,
          2002,
          2002,
          2002,
          2002,
          2002,
          2002,
          2002,
          2003,
          2003,
          2003,
          2003,
          2003,
          2003,
          2003,
          2003,
          2003,
          2003,
          2004,
          2004,
          2004,
          2004,
          2004,
          2004,
          2004,
          2004,
          2004,
          2005,
          2005,
          2005,
          2005,
          2005,
          2005,
          2005,
          2005,
          2005,
          2006,
          2006,
          2006,
          2006,
          2006,
          2006,
          2006,
          2006,
          2006,
          2006,
          2006,
          2007,
          2007,
          2007,
          2007,
          2007,
          2007,
          2007,
          2007,
          2007,
          2007,
          2007,
          2007,
          2008,
          2008,
          2008,
          2008,
          2008,
          2008,
          2008,
          2008,
          2008,
          2009,
          2009,
          2009,
          2009,
          2009,
          2009,
          2009,
          2010,
          2010,
          2010,
          2010,
          2010,
          2010,
          2010,
          2010,
          2010,
          2011,
          2011,
          2011,
          2011,
          2011,
          2011,
          2011,
          2011,
          2011,
          2012,
          2012,
          2012,
          2012,
          2012,
          2012,
          2012,
          2012,
          2012,
          2012,
          2012,
          2012,
          2012,
          2012,
          2013,
          2013,
          2013,
          2013,
          2013,
          2013,
          2013,
          2014,
          2014,
          2014,
          2014,
          2014,
          2014,
          2014,
          2014,
          2014,
          2015,
          2015,
          2015,
          2015,
          2015,
          2015,
          2015,
          2015,
          2016,
          2016,
          2016,
          2016,
          2016,
          2017,
          2017,
          2017,
          2017,
          2017,
          2017,
          2018,
          2018,
          2018,
          2018,
          2018,
          2018,
          2018
         ],
         "xaxis": "x",
         "y": [
          " Thriller",
          " Thriller",
          " Thriller",
          " Thriller",
          " Thriller",
          " Thriller",
          " Thriller",
          " Thriller",
          " Thriller",
          " Thriller",
          " Thriller",
          " Thriller",
          " Thriller",
          " Thriller",
          " Thriller",
          " Thriller",
          " Thriller",
          " Thriller",
          " Thriller",
          " Thriller",
          " Thriller",
          " Thriller",
          " Thriller",
          " Thriller",
          " Thriller",
          " Thriller",
          " Thriller",
          " Thriller",
          " Thriller",
          " Thriller",
          " Thriller",
          " Thriller",
          " Thriller",
          " Thriller",
          " Thriller",
          " Thriller",
          " Thriller",
          " Thriller",
          " Thriller",
          " Thriller",
          " Thriller",
          " Thriller",
          " Thriller",
          " Thriller",
          " Thriller",
          " Thriller",
          " Thriller",
          " Thriller",
          " Thriller",
          " Thriller",
          " Thriller",
          " Thriller",
          " Thriller",
          " Thriller",
          " Thriller",
          " Thriller",
          " Thriller",
          " Thriller",
          " Thriller",
          " Thriller",
          " Thriller",
          " Thriller",
          " Thriller",
          " Thriller",
          " Thriller",
          " Thriller",
          " Thriller",
          " Thriller",
          " Thriller",
          " Thriller",
          " Thriller",
          " Thriller",
          " Thriller",
          " Thriller",
          " Thriller",
          " Thriller",
          " Thriller",
          " Thriller",
          " Thriller",
          " Thriller",
          " Thriller",
          " Thriller",
          " Thriller",
          " Thriller",
          " Thriller",
          " Thriller",
          " Thriller",
          " Thriller",
          " Thriller",
          " Thriller",
          " Thriller",
          " Thriller",
          " Thriller",
          " Thriller",
          " Thriller",
          " Thriller",
          " Thriller",
          " Thriller",
          " Thriller",
          " Thriller",
          " Thriller",
          " Thriller",
          " Thriller",
          " Thriller",
          " Thriller",
          " Thriller",
          " Thriller",
          " Thriller",
          " Thriller",
          " Thriller",
          " Thriller",
          " Thriller",
          " Thriller",
          " Thriller",
          " Thriller",
          " Thriller",
          " Thriller",
          " Thriller",
          " Thriller",
          " Thriller",
          " Thriller",
          " Thriller",
          " Thriller",
          " Thriller",
          " Thriller",
          " Thriller",
          " Thriller",
          " Thriller",
          " Thriller",
          " Thriller",
          " Thriller",
          " Thriller",
          " Thriller",
          " Thriller",
          " Thriller",
          " Thriller",
          " Thriller",
          " Thriller",
          " Thriller",
          " Thriller",
          " Thriller",
          " Thriller",
          " Thriller",
          " Thriller",
          " Thriller",
          " Thriller",
          " Thriller",
          " Thriller",
          " Thriller",
          " Thriller",
          " Thriller",
          " Thriller",
          " Thriller",
          " Thriller",
          " Thriller",
          " Thriller",
          " Thriller",
          " Thriller",
          " Thriller",
          " Thriller",
          " Thriller",
          " Thriller",
          " Thriller",
          " Thriller",
          " Thriller",
          " Thriller",
          " Thriller",
          " Thriller",
          " Thriller",
          " Thriller",
          " Thriller",
          " Thriller",
          " Thriller",
          " Thriller",
          " Thriller",
          " Thriller",
          " Thriller",
          " Thriller",
          " Thriller",
          " Thriller",
          " Thriller",
          " Thriller",
          " Thriller",
          " Thriller",
          " Thriller",
          " Thriller",
          " Thriller",
          " Thriller",
          " Thriller",
          " Thriller",
          " Thriller",
          " Thriller",
          " Thriller",
          " Thriller",
          " Thriller",
          " Thriller",
          " Thriller",
          " Thriller",
          " Thriller",
          " Thriller",
          " Thriller",
          " Thriller",
          " Thriller",
          " Thriller",
          " Thriller",
          " Thriller",
          " Thriller",
          " Thriller",
          " Thriller",
          " Thriller",
          " Thriller",
          " Thriller",
          " Thriller",
          " Thriller",
          " Thriller",
          " Thriller",
          " Thriller",
          " Thriller",
          " Thriller",
          " Thriller",
          " Thriller",
          " Thriller",
          " Thriller",
          " Thriller",
          " Thriller",
          " Thriller",
          " Thriller",
          " Thriller",
          " Thriller",
          " Thriller",
          " Thriller",
          " Thriller",
          " Thriller",
          " Thriller",
          " Thriller",
          " Thriller",
          " Thriller",
          " Thriller",
          " Thriller",
          " Thriller",
          " Thriller",
          " Thriller",
          " Thriller",
          " Thriller",
          " Thriller",
          " Thriller",
          " Thriller",
          " Thriller",
          " Thriller",
          " Thriller",
          " Thriller",
          " Thriller",
          " Thriller",
          " Thriller",
          " Thriller",
          " Thriller",
          " Thriller"
         ],
         "yaxis": "y"
        },
        {
         "alignmentgroup": "True",
         "hovertemplate": "Genre=%{y}<br>ReleaseYear=%{x}<extra></extra>",
         "legendgroup": " Western",
         "marker": {
          "color": "#FFA15A"
         },
         "name": " Western",
         "offsetgroup": " Western",
         "orientation": "v",
         "showlegend": true,
         "textposition": "auto",
         "type": "bar",
         "x": [
          1990,
          1990,
          1992,
          1992,
          2010,
          2012,
          2012,
          2016,
          2016
         ],
         "xaxis": "x",
         "y": [
          " Western",
          " Western",
          " Western",
          " Western",
          " Western",
          " Western",
          " Western",
          " Western",
          " Western"
         ],
         "yaxis": "y"
        },
        {
         "alignmentgroup": "True",
         "hovertemplate": "Genre=%{y}<br>ReleaseYear=%{x}<extra></extra>",
         "legendgroup": " Adventure",
         "marker": {
          "color": "#19d3f3"
         },
         "name": " Adventure",
         "offsetgroup": " Adventure",
         "orientation": "v",
         "showlegend": true,
         "textposition": "auto",
         "type": "bar",
         "x": [
          1990,
          1990,
          1990,
          1991,
          1991,
          1991,
          1991,
          1991,
          1991,
          1992,
          1992,
          1992,
          1993,
          1993,
          1993,
          1993,
          1994,
          1994,
          1994,
          1994,
          1994,
          1994,
          1995,
          1995,
          1995,
          1995,
          1995,
          1995,
          1995,
          1995,
          1996,
          1996,
          1996,
          1996,
          1996,
          1996,
          1996,
          1996,
          1996,
          1996,
          1996,
          1996,
          1997,
          1997,
          1997,
          1997,
          1997,
          1997,
          1997,
          1997,
          1997,
          1997,
          1998,
          1998,
          1998,
          1998,
          1998,
          1998,
          1998,
          1998,
          1999,
          1999,
          1999,
          1999,
          1999,
          1999,
          1999,
          1999,
          1999,
          1999,
          2000,
          2000,
          2000,
          2000,
          2000,
          2000,
          2000,
          2000,
          2000,
          2001,
          2001,
          2001,
          2001,
          2001,
          2001,
          2001,
          2001,
          2001,
          2002,
          2002,
          2002,
          2002,
          2002,
          2002,
          2002,
          2002,
          2002,
          2002,
          2002,
          2002,
          2002,
          2003,
          2003,
          2003,
          2003,
          2003,
          2003,
          2003,
          2003,
          2004,
          2004,
          2004,
          2004,
          2004,
          2004,
          2004,
          2004,
          2004,
          2005,
          2005,
          2005,
          2005,
          2005,
          2005,
          2005,
          2006,
          2006,
          2006,
          2006,
          2006,
          2006,
          2006,
          2006,
          2007,
          2007,
          2007,
          2007,
          2007,
          2007,
          2007,
          2007,
          2008,
          2008,
          2008,
          2008,
          2008,
          2008,
          2008,
          2008,
          2008,
          2008,
          2008,
          2009,
          2009,
          2009,
          2009,
          2009,
          2009,
          2009,
          2009,
          2009,
          2009,
          2009,
          2009,
          2010,
          2010,
          2010,
          2010,
          2010,
          2010,
          2010,
          2010,
          2010,
          2010,
          2010,
          2010,
          2010,
          2010,
          2010,
          2011,
          2011,
          2011,
          2011,
          2011,
          2011,
          2011,
          2011,
          2011,
          2011,
          2011,
          2011,
          2011,
          2011,
          2011,
          2011,
          2011,
          2012,
          2012,
          2012,
          2012,
          2012,
          2012,
          2012,
          2012,
          2012,
          2012,
          2012,
          2012,
          2012,
          2012,
          2012,
          2012,
          2012,
          2013,
          2013,
          2013,
          2013,
          2013,
          2013,
          2013,
          2013,
          2013,
          2013,
          2013,
          2013,
          2013,
          2013,
          2013,
          2013,
          2013,
          2013,
          2013,
          2013,
          2013,
          2013,
          2014,
          2014,
          2014,
          2014,
          2014,
          2014,
          2014,
          2014,
          2014,
          2014,
          2014,
          2014,
          2014,
          2014,
          2014,
          2014,
          2014,
          2014,
          2014,
          2014,
          2014,
          2014,
          2015,
          2015,
          2015,
          2015,
          2015,
          2015,
          2015,
          2015,
          2015,
          2015,
          2015,
          2015,
          2015,
          2015,
          2015,
          2015,
          2015,
          2015,
          2015,
          2015,
          2015,
          2015,
          2015,
          2015,
          2015,
          2015,
          2016,
          2016,
          2016,
          2016,
          2016,
          2016,
          2016,
          2016,
          2016,
          2016,
          2016,
          2016,
          2016,
          2016,
          2016,
          2016,
          2016,
          2016,
          2016,
          2016,
          2016,
          2016,
          2016,
          2016,
          2016,
          2016,
          2016,
          2016,
          2017,
          2017,
          2017,
          2017,
          2017,
          2017,
          2017,
          2017,
          2017,
          2017,
          2017,
          2017,
          2017,
          2017,
          2017,
          2017,
          2017,
          2017,
          2017,
          2017,
          2017,
          2017,
          2017,
          2017,
          2017,
          2018,
          2018,
          2018,
          2018,
          2018,
          2018,
          2018,
          2018,
          2018,
          2018,
          2018,
          2018,
          2018,
          2018,
          2018,
          2018,
          2018,
          2018,
          2018,
          2018,
          2018,
          2018,
          2018,
          2018,
          2018
         ],
         "xaxis": "x",
         "y": [
          " Adventure",
          " Adventure",
          " Adventure",
          " Adventure",
          " Adventure",
          " Adventure",
          " Adventure",
          " Adventure",
          " Adventure",
          " Adventure",
          " Adventure",
          " Adventure",
          " Adventure",
          " Adventure",
          " Adventure",
          " Adventure",
          " Adventure",
          " Adventure",
          " Adventure",
          " Adventure",
          " Adventure",
          " Adventure",
          " Adventure",
          " Adventure",
          " Adventure",
          " Adventure",
          " Adventure",
          " Adventure",
          " Adventure",
          " Adventure",
          " Adventure",
          " Adventure",
          " Adventure",
          " Adventure",
          " Adventure",
          " Adventure",
          " Adventure",
          " Adventure",
          " Adventure",
          " Adventure",
          " Adventure",
          " Adventure",
          " Adventure",
          " Adventure",
          " Adventure",
          " Adventure",
          " Adventure",
          " Adventure",
          " Adventure",
          " Adventure",
          " Adventure",
          " Adventure",
          " Adventure",
          " Adventure",
          " Adventure",
          " Adventure",
          " Adventure",
          " Adventure",
          " Adventure",
          " Adventure",
          " Adventure",
          " Adventure",
          " Adventure",
          " Adventure",
          " Adventure",
          " Adventure",
          " Adventure",
          " Adventure",
          " Adventure",
          " Adventure",
          " Adventure",
          " Adventure",
          " Adventure",
          " Adventure",
          " Adventure",
          " Adventure",
          " Adventure",
          " Adventure",
          " Adventure",
          " Adventure",
          " Adventure",
          " Adventure",
          " Adventure",
          " Adventure",
          " Adventure",
          " Adventure",
          " Adventure",
          " Adventure",
          " Adventure",
          " Adventure",
          " Adventure",
          " Adventure",
          " Adventure",
          " Adventure",
          " Adventure",
          " Adventure",
          " Adventure",
          " Adventure",
          " Adventure",
          " Adventure",
          " Adventure",
          " Adventure",
          " Adventure",
          " Adventure",
          " Adventure",
          " Adventure",
          " Adventure",
          " Adventure",
          " Adventure",
          " Adventure",
          " Adventure",
          " Adventure",
          " Adventure",
          " Adventure",
          " Adventure",
          " Adventure",
          " Adventure",
          " Adventure",
          " Adventure",
          " Adventure",
          " Adventure",
          " Adventure",
          " Adventure",
          " Adventure",
          " Adventure",
          " Adventure",
          " Adventure",
          " Adventure",
          " Adventure",
          " Adventure",
          " Adventure",
          " Adventure",
          " Adventure",
          " Adventure",
          " Adventure",
          " Adventure",
          " Adventure",
          " Adventure",
          " Adventure",
          " Adventure",
          " Adventure",
          " Adventure",
          " Adventure",
          " Adventure",
          " Adventure",
          " Adventure",
          " Adventure",
          " Adventure",
          " Adventure",
          " Adventure",
          " Adventure",
          " Adventure",
          " Adventure",
          " Adventure",
          " Adventure",
          " Adventure",
          " Adventure",
          " Adventure",
          " Adventure",
          " Adventure",
          " Adventure",
          " Adventure",
          " Adventure",
          " Adventure",
          " Adventure",
          " Adventure",
          " Adventure",
          " Adventure",
          " Adventure",
          " Adventure",
          " Adventure",
          " Adventure",
          " Adventure",
          " Adventure",
          " Adventure",
          " Adventure",
          " Adventure",
          " Adventure",
          " Adventure",
          " Adventure",
          " Adventure",
          " Adventure",
          " Adventure",
          " Adventure",
          " Adventure",
          " Adventure",
          " Adventure",
          " Adventure",
          " Adventure",
          " Adventure",
          " Adventure",
          " Adventure",
          " Adventure",
          " Adventure",
          " Adventure",
          " Adventure",
          " Adventure",
          " Adventure",
          " Adventure",
          " Adventure",
          " Adventure",
          " Adventure",
          " Adventure",
          " Adventure",
          " Adventure",
          " Adventure",
          " Adventure",
          " Adventure",
          " Adventure",
          " Adventure",
          " Adventure",
          " Adventure",
          " Adventure",
          " Adventure",
          " Adventure",
          " Adventure",
          " Adventure",
          " Adventure",
          " Adventure",
          " Adventure",
          " Adventure",
          " Adventure",
          " Adventure",
          " Adventure",
          " Adventure",
          " Adventure",
          " Adventure",
          " Adventure",
          " Adventure",
          " Adventure",
          " Adventure",
          " Adventure",
          " Adventure",
          " Adventure",
          " Adventure",
          " Adventure",
          " Adventure",
          " Adventure",
          " Adventure",
          " Adventure",
          " Adventure",
          " Adventure",
          " Adventure",
          " Adventure",
          " Adventure",
          " Adventure",
          " Adventure",
          " Adventure",
          " Adventure",
          " Adventure",
          " Adventure",
          " Adventure",
          " Adventure",
          " Adventure",
          " Adventure",
          " Adventure",
          " Adventure",
          " Adventure",
          " Adventure",
          " Adventure",
          " Adventure",
          " Adventure",
          " Adventure",
          " Adventure",
          " Adventure",
          " Adventure",
          " Adventure",
          " Adventure",
          " Adventure",
          " Adventure",
          " Adventure",
          " Adventure",
          " Adventure",
          " Adventure",
          " Adventure",
          " Adventure",
          " Adventure",
          " Adventure",
          " Adventure",
          " Adventure",
          " Adventure",
          " Adventure",
          " Adventure",
          " Adventure",
          " Adventure",
          " Adventure",
          " Adventure",
          " Adventure",
          " Adventure",
          " Adventure",
          " Adventure",
          " Adventure",
          " Adventure",
          " Adventure",
          " Adventure",
          " Adventure",
          " Adventure",
          " Adventure",
          " Adventure",
          " Adventure",
          " Adventure",
          " Adventure",
          " Adventure",
          " Adventure",
          " Adventure",
          " Adventure",
          " Adventure",
          " Adventure",
          " Adventure",
          " Adventure",
          " Adventure",
          " Adventure",
          " Adventure",
          " Adventure",
          " Adventure",
          " Adventure",
          " Adventure",
          " Adventure",
          " Adventure",
          " Adventure",
          " Adventure",
          " Adventure",
          " Adventure",
          " Adventure",
          " Adventure",
          " Adventure",
          " Adventure",
          " Adventure",
          " Adventure",
          " Adventure",
          " Adventure",
          " Adventure",
          " Adventure",
          " Adventure",
          " Adventure",
          " Adventure",
          " Adventure",
          " Adventure",
          " Adventure",
          " Adventure",
          " Adventure",
          " Adventure",
          " Adventure",
          " Adventure",
          " Adventure",
          " Adventure",
          " Adventure",
          " Adventure",
          " Adventure",
          " Adventure",
          " Adventure",
          " Adventure",
          " Adventure",
          " Adventure",
          " Adventure",
          " Adventure",
          " Adventure",
          " Adventure",
          " Adventure",
          " Adventure",
          " Adventure"
         ],
         "yaxis": "y"
        },
        {
         "alignmentgroup": "True",
         "hovertemplate": "Genre=%{y}<br>ReleaseYear=%{x}<extra></extra>",
         "legendgroup": " Horror",
         "marker": {
          "color": "#FF6692"
         },
         "name": " Horror",
         "offsetgroup": " Horror",
         "orientation": "v",
         "showlegend": true,
         "textposition": "auto",
         "type": "bar",
         "x": [
          1990,
          1990,
          1990,
          1990,
          1990,
          1990,
          1990,
          1991,
          1991,
          1992,
          1992,
          1992,
          1992,
          1992,
          1994,
          1994,
          1994,
          1994,
          1994,
          1995,
          1996,
          1996,
          1996,
          1997,
          1997,
          1998,
          1998,
          1999,
          1999,
          2000,
          2000,
          2001,
          2002,
          2002,
          2002,
          2003,
          2004,
          2004,
          2004,
          2004,
          2004,
          2005,
          2005,
          2005,
          2007,
          2007,
          2007,
          2007,
          2008,
          2009,
          2009,
          2010,
          2012,
          2013,
          2013,
          2015,
          2016,
          2016,
          2017,
          2018,
          2018,
          2018,
          2018,
          2018,
          2018,
          2018
         ],
         "xaxis": "x",
         "y": [
          " Horror",
          " Horror",
          " Horror",
          " Horror",
          " Horror",
          " Horror",
          " Horror",
          " Horror",
          " Horror",
          " Horror",
          " Horror",
          " Horror",
          " Horror",
          " Horror",
          " Horror",
          " Horror",
          " Horror",
          " Horror",
          " Horror",
          " Horror",
          " Horror",
          " Horror",
          " Horror",
          " Horror",
          " Horror",
          " Horror",
          " Horror",
          " Horror",
          " Horror",
          " Horror",
          " Horror",
          " Horror",
          " Horror",
          " Horror",
          " Horror",
          " Horror",
          " Horror",
          " Horror",
          " Horror",
          " Horror",
          " Horror",
          " Horror",
          " Horror",
          " Horror",
          " Horror",
          " Horror",
          " Horror",
          " Horror",
          " Horror",
          " Horror",
          " Horror",
          " Horror",
          " Horror",
          " Horror",
          " Horror",
          " Horror",
          " Horror",
          " Horror",
          " Horror",
          " Horror",
          " Horror",
          " Horror",
          " Horror",
          " Horror",
          " Horror",
          " Horror"
         ],
         "yaxis": "y"
        },
        {
         "alignmentgroup": "True",
         "hovertemplate": "Genre=%{y}<br>ReleaseYear=%{x}<extra></extra>",
         "legendgroup": " Sport",
         "marker": {
          "color": "#B6E880"
         },
         "name": " Sport",
         "offsetgroup": " Sport",
         "orientation": "v",
         "showlegend": true,
         "textposition": "auto",
         "type": "bar",
         "x": [
          1990,
          1990,
          1992,
          1993,
          1996,
          1996,
          1998,
          1998,
          1999,
          2000,
          2004,
          2004,
          2005,
          2005,
          2006,
          2006,
          2006,
          2008,
          2009,
          2010,
          2011,
          2011,
          2013,
          2015,
          2015
         ],
         "xaxis": "x",
         "y": [
          " Sport",
          " Sport",
          " Sport",
          " Sport",
          " Sport",
          " Sport",
          " Sport",
          " Sport",
          " Sport",
          " Sport",
          " Sport",
          " Sport",
          " Sport",
          " Sport",
          " Sport",
          " Sport",
          " Sport",
          " Sport",
          " Sport",
          " Sport",
          " Sport",
          " Sport",
          " Sport",
          " Sport",
          " Sport"
         ],
         "yaxis": "y"
        },
        {
         "alignmentgroup": "True",
         "hovertemplate": "Genre=%{y}<br>ReleaseYear=%{x}<extra></extra>",
         "legendgroup": " Mystery",
         "marker": {
          "color": "#FF97FF"
         },
         "name": " Mystery",
         "offsetgroup": " Mystery",
         "orientation": "v",
         "showlegend": true,
         "textposition": "auto",
         "type": "bar",
         "x": [
          1990,
          1991,
          1991,
          1992,
          1992,
          1992,
          1993,
          1993,
          1993,
          1994,
          1994,
          1994,
          1994,
          1994,
          1995,
          1995,
          1996,
          1996,
          1997,
          1997,
          1997,
          1997,
          1997,
          1997,
          1997,
          1997,
          1998,
          1998,
          1998,
          1998,
          1999,
          1999,
          1999,
          1999,
          1999,
          2000,
          2000,
          2000,
          2000,
          2001,
          2001,
          2001,
          2001,
          2001,
          2002,
          2002,
          2002,
          2002,
          2002,
          2002,
          2003,
          2003,
          2004,
          2004,
          2004,
          2004,
          2005,
          2005,
          2006,
          2006,
          2006,
          2006,
          2006,
          2006,
          2007,
          2007,
          2007,
          2007,
          2007,
          2007,
          2007,
          2007,
          2007,
          2007,
          2008,
          2009,
          2009,
          2009,
          2009,
          2009,
          2009,
          2009,
          2010,
          2010,
          2011,
          2011,
          2011,
          2011,
          2012,
          2012,
          2012,
          2013,
          2013,
          2013,
          2013,
          2014,
          2014,
          2014,
          2014,
          2014,
          2014,
          2014,
          2014,
          2014,
          2015,
          2015,
          2016,
          2016,
          2016,
          2016,
          2017,
          2017,
          2017,
          2017,
          2017,
          2017,
          2018,
          2018,
          2018,
          2018
         ],
         "xaxis": "x",
         "y": [
          " Mystery",
          " Mystery",
          " Mystery",
          " Mystery",
          " Mystery",
          " Mystery",
          " Mystery",
          " Mystery",
          " Mystery",
          " Mystery",
          " Mystery",
          " Mystery",
          " Mystery",
          " Mystery",
          " Mystery",
          " Mystery",
          " Mystery",
          " Mystery",
          " Mystery",
          " Mystery",
          " Mystery",
          " Mystery",
          " Mystery",
          " Mystery",
          " Mystery",
          " Mystery",
          " Mystery",
          " Mystery",
          " Mystery",
          " Mystery",
          " Mystery",
          " Mystery",
          " Mystery",
          " Mystery",
          " Mystery",
          " Mystery",
          " Mystery",
          " Mystery",
          " Mystery",
          " Mystery",
          " Mystery",
          " Mystery",
          " Mystery",
          " Mystery",
          " Mystery",
          " Mystery",
          " Mystery",
          " Mystery",
          " Mystery",
          " Mystery",
          " Mystery",
          " Mystery",
          " Mystery",
          " Mystery",
          " Mystery",
          " Mystery",
          " Mystery",
          " Mystery",
          " Mystery",
          " Mystery",
          " Mystery",
          " Mystery",
          " Mystery",
          " Mystery",
          " Mystery",
          " Mystery",
          " Mystery",
          " Mystery",
          " Mystery",
          " Mystery",
          " Mystery",
          " Mystery",
          " Mystery",
          " Mystery",
          " Mystery",
          " Mystery",
          " Mystery",
          " Mystery",
          " Mystery",
          " Mystery",
          " Mystery",
          " Mystery",
          " Mystery",
          " Mystery",
          " Mystery",
          " Mystery",
          " Mystery",
          " Mystery",
          " Mystery",
          " Mystery",
          " Mystery",
          " Mystery",
          " Mystery",
          " Mystery",
          " Mystery",
          " Mystery",
          " Mystery",
          " Mystery",
          " Mystery",
          " Mystery",
          " Mystery",
          " Mystery",
          " Mystery",
          " Mystery",
          " Mystery",
          " Mystery",
          " Mystery",
          " Mystery",
          " Mystery",
          " Mystery",
          " Mystery",
          " Mystery",
          " Mystery",
          " Mystery",
          " Mystery",
          " Mystery",
          " Mystery",
          " Mystery",
          " Mystery",
          " Mystery"
         ],
         "yaxis": "y"
        },
        {
         "alignmentgroup": "True",
         "hovertemplate": "Genre=%{y}<br>ReleaseYear=%{x}<extra></extra>",
         "legendgroup": " Musical",
         "marker": {
          "color": "#FECB52"
         },
         "name": " Musical",
         "offsetgroup": " Musical",
         "orientation": "v",
         "showlegend": true,
         "textposition": "auto",
         "type": "bar",
         "x": [
          1990,
          1993,
          2000,
          2001,
          2002,
          2007,
          2008,
          2012,
          2017,
          2017,
          2017,
          2018
         ],
         "xaxis": "x",
         "y": [
          " Musical",
          " Musical",
          " Musical",
          " Musical",
          " Musical",
          " Musical",
          " Musical",
          " Musical",
          " Musical",
          " Musical",
          " Musical",
          " Musical"
         ],
         "yaxis": "y"
        },
        {
         "alignmentgroup": "True",
         "hovertemplate": "Genre=%{y}<br>ReleaseYear=%{x}<extra></extra>",
         "legendgroup": "Horror",
         "marker": {
          "color": "#636efa"
         },
         "name": "Horror",
         "offsetgroup": "Horror",
         "orientation": "v",
         "showlegend": true,
         "textposition": "auto",
         "type": "bar",
         "x": [
          1990,
          1990,
          1991,
          1992,
          1992,
          1996,
          1997,
          1997,
          1997,
          1998,
          1999,
          2000,
          2000,
          2000,
          2001,
          2001,
          2002,
          2003,
          2003,
          2004,
          2005,
          2006,
          2006,
          2006,
          2007,
          2007,
          2008,
          2009,
          2009,
          2010,
          2011,
          2012,
          2013,
          2014,
          2016,
          2016,
          2017,
          2017,
          2017,
          2017,
          2017,
          2018,
          2018
         ],
         "xaxis": "x",
         "y": [
          "Horror",
          "Horror",
          "Horror",
          "Horror",
          "Horror",
          "Horror",
          "Horror",
          "Horror",
          "Horror",
          "Horror",
          "Horror",
          "Horror",
          "Horror",
          "Horror",
          "Horror",
          "Horror",
          "Horror",
          "Horror",
          "Horror",
          "Horror",
          "Horror",
          "Horror",
          "Horror",
          "Horror",
          "Horror",
          "Horror",
          "Horror",
          "Horror",
          "Horror",
          "Horror",
          "Horror",
          "Horror",
          "Horror",
          "Horror",
          "Horror",
          "Horror",
          "Horror",
          "Horror",
          "Horror",
          "Horror",
          "Horror",
          "Horror",
          "Horror"
         ],
         "yaxis": "y"
        },
        {
         "alignmentgroup": "True",
         "hovertemplate": "Genre=%{y}<br>ReleaseYear=%{x}<extra></extra>",
         "legendgroup": "Animation",
         "marker": {
          "color": "#EF553B"
         },
         "name": "Animation",
         "offsetgroup": "Animation",
         "orientation": "v",
         "showlegend": true,
         "textposition": "auto",
         "type": "bar",
         "x": [
          1990,
          1991,
          1992,
          1992,
          1993,
          1994,
          1995,
          1995,
          1996,
          1996,
          1996,
          1996,
          1997,
          1997,
          1997,
          1998,
          1998,
          1998,
          1998,
          1999,
          1999,
          1999,
          1999,
          2000,
          2000,
          2001,
          2001,
          2001,
          2002,
          2002,
          2003,
          2004,
          2004,
          2004,
          2005,
          2005,
          2006,
          2006,
          2006,
          2006,
          2007,
          2007,
          2007,
          2007,
          2008,
          2008,
          2008,
          2009,
          2009,
          2009,
          2009,
          2009,
          2010,
          2010,
          2010,
          2010,
          2010,
          2010,
          2011,
          2011,
          2011,
          2012,
          2012,
          2012,
          2012,
          2012,
          2012,
          2013,
          2013,
          2013,
          2013,
          2013,
          2014,
          2014,
          2014,
          2014,
          2015,
          2015,
          2016,
          2016,
          2016,
          2016,
          2016,
          2016,
          2016,
          2016,
          2017,
          2017,
          2018,
          2018,
          2018,
          2018,
          2018,
          2018,
          2018
         ],
         "xaxis": "x",
         "y": [
          "Animation",
          "Animation",
          "Animation",
          "Animation",
          "Animation",
          "Animation",
          "Animation",
          "Animation",
          "Animation",
          "Animation",
          "Animation",
          "Animation",
          "Animation",
          "Animation",
          "Animation",
          "Animation",
          "Animation",
          "Animation",
          "Animation",
          "Animation",
          "Animation",
          "Animation",
          "Animation",
          "Animation",
          "Animation",
          "Animation",
          "Animation",
          "Animation",
          "Animation",
          "Animation",
          "Animation",
          "Animation",
          "Animation",
          "Animation",
          "Animation",
          "Animation",
          "Animation",
          "Animation",
          "Animation",
          "Animation",
          "Animation",
          "Animation",
          "Animation",
          "Animation",
          "Animation",
          "Animation",
          "Animation",
          "Animation",
          "Animation",
          "Animation",
          "Animation",
          "Animation",
          "Animation",
          "Animation",
          "Animation",
          "Animation",
          "Animation",
          "Animation",
          "Animation",
          "Animation",
          "Animation",
          "Animation",
          "Animation",
          "Animation",
          "Animation",
          "Animation",
          "Animation",
          "Animation",
          "Animation",
          "Animation",
          "Animation",
          "Animation",
          "Animation",
          "Animation",
          "Animation",
          "Animation",
          "Animation",
          "Animation",
          "Animation",
          "Animation",
          "Animation",
          "Animation",
          "Animation",
          "Animation",
          "Animation",
          "Animation",
          "Animation",
          "Animation",
          "Animation",
          "Animation",
          "Animation",
          "Animation",
          "Animation",
          "Animation",
          "Animation"
         ],
         "yaxis": "y"
        },
        {
         "alignmentgroup": "True",
         "hovertemplate": "Genre=%{y}<br>ReleaseYear=%{x}<extra></extra>",
         "legendgroup": "Mystery",
         "marker": {
          "color": "#00cc96"
         },
         "name": "Mystery",
         "offsetgroup": "Mystery",
         "orientation": "v",
         "showlegend": true,
         "textposition": "auto",
         "type": "bar",
         "x": [
          1990,
          1995,
          1997,
          1998,
          1999,
          1999,
          2000,
          2003,
          2006,
          2010
         ],
         "xaxis": "x",
         "y": [
          "Mystery",
          "Mystery",
          "Mystery",
          "Mystery",
          "Mystery",
          "Mystery",
          "Mystery",
          "Mystery",
          "Mystery",
          "Mystery"
         ],
         "yaxis": "y"
        },
        {
         "alignmentgroup": "True",
         "hovertemplate": "Genre=%{y}<br>ReleaseYear=%{x}<extra></extra>",
         "legendgroup": " History",
         "marker": {
          "color": "#ab63fa"
         },
         "name": " History",
         "offsetgroup": " History",
         "orientation": "v",
         "showlegend": true,
         "textposition": "auto",
         "type": "bar",
         "x": [
          1991,
          1991,
          1992,
          1993,
          1994,
          1995,
          1995,
          1998,
          1998,
          1999,
          2000,
          2001,
          2001,
          2001,
          2002,
          2002,
          2003,
          2004,
          2004,
          2004,
          2005,
          2005,
          2006,
          2006,
          2008,
          2008,
          2010,
          2010,
          2012,
          2012,
          2012,
          2013,
          2015,
          2015,
          2015,
          2016,
          2016,
          2016,
          2016,
          2017,
          2017,
          2018
         ],
         "xaxis": "x",
         "y": [
          " History",
          " History",
          " History",
          " History",
          " History",
          " History",
          " History",
          " History",
          " History",
          " History",
          " History",
          " History",
          " History",
          " History",
          " History",
          " History",
          " History",
          " History",
          " History",
          " History",
          " History",
          " History",
          " History",
          " History",
          " History",
          " History",
          " History",
          " History",
          " History",
          " History",
          " History",
          " History",
          " History",
          " History",
          " History",
          " History",
          " History",
          " History",
          " History",
          " History",
          " History",
          " History"
         ],
         "yaxis": "y"
        },
        {
         "alignmentgroup": "True",
         "hovertemplate": "Genre=%{y}<br>ReleaseYear=%{x}<extra></extra>",
         "legendgroup": " Music",
         "marker": {
          "color": "#FFA15A"
         },
         "name": " Music",
         "offsetgroup": " Music",
         "orientation": "v",
         "showlegend": true,
         "textposition": "auto",
         "type": "bar",
         "x": [
          1991,
          1991,
          1991,
          1992,
          1992,
          1993,
          1993,
          1993,
          1994,
          1994,
          1996,
          1998,
          2000,
          2000,
          2000,
          2002,
          2002,
          2003,
          2005,
          2010,
          2012,
          2014,
          2016,
          2018,
          2018,
          2018,
          2018
         ],
         "xaxis": "x",
         "y": [
          " Music",
          " Music",
          " Music",
          " Music",
          " Music",
          " Music",
          " Music",
          " Music",
          " Music",
          " Music",
          " Music",
          " Music",
          " Music",
          " Music",
          " Music",
          " Music",
          " Music",
          " Music",
          " Music",
          " Music",
          " Music",
          " Music",
          " Music",
          " Music",
          " Music",
          " Music",
          " Music"
         ],
         "yaxis": "y"
        },
        {
         "alignmentgroup": "True",
         "hovertemplate": "Genre=%{y}<br>ReleaseYear=%{x}<extra></extra>",
         "legendgroup": "Fantasy",
         "marker": {
          "color": "#19d3f3"
         },
         "name": "Fantasy",
         "offsetgroup": "Fantasy",
         "orientation": "v",
         "showlegend": true,
         "textposition": "auto",
         "type": "bar",
         "x": [
          1991,
          1994,
          1995,
          1999,
          2001,
          2007
         ],
         "xaxis": "x",
         "y": [
          "Fantasy",
          "Fantasy",
          "Fantasy",
          "Fantasy",
          "Fantasy",
          "Fantasy"
         ],
         "yaxis": "y"
        },
        {
         "alignmentgroup": "True",
         "hovertemplate": "Genre=%{y}<br>ReleaseYear=%{x}<extra></extra>",
         "legendgroup": " Biography",
         "marker": {
          "color": "#FF6692"
         },
         "name": " Biography",
         "offsetgroup": " Biography",
         "orientation": "v",
         "showlegend": true,
         "textposition": "auto",
         "type": "bar",
         "x": [
          1993,
          1993,
          1997,
          2005,
          2007,
          2008,
          2013,
          2014,
          2015,
          2015,
          2015,
          2017
         ],
         "xaxis": "x",
         "y": [
          " Biography",
          " Biography",
          " Biography",
          " Biography",
          " Biography",
          " Biography",
          " Biography",
          " Biography",
          " Biography",
          " Biography",
          " Biography",
          " Biography"
         ],
         "yaxis": "y"
        },
        {
         "alignmentgroup": "True",
         "hovertemplate": "Genre=%{y}<br>ReleaseYear=%{x}<extra></extra>",
         "legendgroup": " War",
         "marker": {
          "color": "#B6E880"
         },
         "name": " War",
         "offsetgroup": " War",
         "orientation": "v",
         "showlegend": true,
         "textposition": "auto",
         "type": "bar",
         "x": [
          1994,
          1996,
          1998,
          1998,
          2001,
          2001,
          2003,
          2006,
          2008,
          2008,
          2009,
          2014
         ],
         "xaxis": "x",
         "y": [
          " War",
          " War",
          " War",
          " War",
          " War",
          " War",
          " War",
          " War",
          " War",
          " War",
          " War",
          " War"
         ],
         "yaxis": "y"
        },
        {
         "alignmentgroup": "True",
         "hovertemplate": "Genre=%{y}<br>ReleaseYear=%{x}<extra></extra>",
         "legendgroup": " Action",
         "marker": {
          "color": "#FF97FF"
         },
         "name": " Action",
         "offsetgroup": " Action",
         "orientation": "v",
         "showlegend": true,
         "textposition": "auto",
         "type": "bar",
         "x": [
          1999,
          2004,
          2008,
          2010,
          2010,
          2011,
          2011,
          2014,
          2014,
          2014,
          2014,
          2018,
          2018,
          2018,
          2018
         ],
         "xaxis": "x",
         "y": [
          " Action",
          " Action",
          " Action",
          " Action",
          " Action",
          " Action",
          " Action",
          " Action",
          " Action",
          " Action",
          " Action",
          " Action",
          " Action",
          " Action",
          " Action"
         ],
         "yaxis": "y"
        },
        {
         "alignmentgroup": "True",
         "hovertemplate": "Genre=%{y}<br>ReleaseYear=%{x}<extra></extra>",
         "legendgroup": "Documentary",
         "marker": {
          "color": "#FECB52"
         },
         "name": "Documentary",
         "offsetgroup": "Documentary",
         "orientation": "v",
         "showlegend": true,
         "textposition": "auto",
         "type": "bar",
         "x": [
          2002
         ],
         "xaxis": "x",
         "y": [
          "Documentary"
         ],
         "yaxis": "y"
        },
        {
         "alignmentgroup": "True",
         "hovertemplate": "Genre=%{y}<br>ReleaseYear=%{x}<extra></extra>",
         "legendgroup": "Sci-Fi",
         "marker": {
          "color": "#636efa"
         },
         "name": "Sci-Fi",
         "offsetgroup": "Sci-Fi",
         "orientation": "v",
         "showlegend": true,
         "textposition": "auto",
         "type": "bar",
         "x": [
          2007,
          2011
         ],
         "xaxis": "x",
         "y": [
          "Sci-Fi",
          "Sci-Fi"
         ],
         "yaxis": "y"
        },
        {
         "alignmentgroup": "True",
         "hovertemplate": "Genre=%{y}<br>ReleaseYear=%{x}<extra></extra>",
         "legendgroup": "Romance",
         "marker": {
          "color": "#EF553B"
         },
         "name": "Romance",
         "offsetgroup": "Romance",
         "orientation": "v",
         "showlegend": true,
         "textposition": "auto",
         "type": "bar",
         "x": [
          2011
         ],
         "xaxis": "x",
         "y": [
          "Romance"
         ],
         "yaxis": "y"
        },
        {
         "alignmentgroup": "True",
         "hovertemplate": "Genre=%{y}<br>ReleaseYear=%{x}<extra></extra>",
         "legendgroup": "Family",
         "marker": {
          "color": "#00cc96"
         },
         "name": "Family",
         "offsetgroup": "Family",
         "orientation": "v",
         "showlegend": true,
         "textposition": "auto",
         "type": "bar",
         "x": [
          2017
         ],
         "xaxis": "x",
         "y": [
          "Family"
         ],
         "yaxis": "y"
        }
       ],
       "layout": {
        "barmode": "relative",
        "legend": {
         "title": {
          "text": "Genre"
         },
         "tracegroupgap": 0
        },
        "margin": {
         "t": 60
        },
        "template": {
         "data": {
          "bar": [
           {
            "error_x": {
             "color": "#2a3f5f"
            },
            "error_y": {
             "color": "#2a3f5f"
            },
            "marker": {
             "line": {
              "color": "#E5ECF6",
              "width": 0.5
             }
            },
            "type": "bar"
           }
          ],
          "barpolar": [
           {
            "marker": {
             "line": {
              "color": "#E5ECF6",
              "width": 0.5
             }
            },
            "type": "barpolar"
           }
          ],
          "carpet": [
           {
            "aaxis": {
             "endlinecolor": "#2a3f5f",
             "gridcolor": "white",
             "linecolor": "white",
             "minorgridcolor": "white",
             "startlinecolor": "#2a3f5f"
            },
            "baxis": {
             "endlinecolor": "#2a3f5f",
             "gridcolor": "white",
             "linecolor": "white",
             "minorgridcolor": "white",
             "startlinecolor": "#2a3f5f"
            },
            "type": "carpet"
           }
          ],
          "choropleth": [
           {
            "colorbar": {
             "outlinewidth": 0,
             "ticks": ""
            },
            "type": "choropleth"
           }
          ],
          "contour": [
           {
            "colorbar": {
             "outlinewidth": 0,
             "ticks": ""
            },
            "colorscale": [
             [
              0,
              "#0d0887"
             ],
             [
              0.1111111111111111,
              "#46039f"
             ],
             [
              0.2222222222222222,
              "#7201a8"
             ],
             [
              0.3333333333333333,
              "#9c179e"
             ],
             [
              0.4444444444444444,
              "#bd3786"
             ],
             [
              0.5555555555555556,
              "#d8576b"
             ],
             [
              0.6666666666666666,
              "#ed7953"
             ],
             [
              0.7777777777777778,
              "#fb9f3a"
             ],
             [
              0.8888888888888888,
              "#fdca26"
             ],
             [
              1,
              "#f0f921"
             ]
            ],
            "type": "contour"
           }
          ],
          "contourcarpet": [
           {
            "colorbar": {
             "outlinewidth": 0,
             "ticks": ""
            },
            "type": "contourcarpet"
           }
          ],
          "heatmap": [
           {
            "colorbar": {
             "outlinewidth": 0,
             "ticks": ""
            },
            "colorscale": [
             [
              0,
              "#0d0887"
             ],
             [
              0.1111111111111111,
              "#46039f"
             ],
             [
              0.2222222222222222,
              "#7201a8"
             ],
             [
              0.3333333333333333,
              "#9c179e"
             ],
             [
              0.4444444444444444,
              "#bd3786"
             ],
             [
              0.5555555555555556,
              "#d8576b"
             ],
             [
              0.6666666666666666,
              "#ed7953"
             ],
             [
              0.7777777777777778,
              "#fb9f3a"
             ],
             [
              0.8888888888888888,
              "#fdca26"
             ],
             [
              1,
              "#f0f921"
             ]
            ],
            "type": "heatmap"
           }
          ],
          "heatmapgl": [
           {
            "colorbar": {
             "outlinewidth": 0,
             "ticks": ""
            },
            "colorscale": [
             [
              0,
              "#0d0887"
             ],
             [
              0.1111111111111111,
              "#46039f"
             ],
             [
              0.2222222222222222,
              "#7201a8"
             ],
             [
              0.3333333333333333,
              "#9c179e"
             ],
             [
              0.4444444444444444,
              "#bd3786"
             ],
             [
              0.5555555555555556,
              "#d8576b"
             ],
             [
              0.6666666666666666,
              "#ed7953"
             ],
             [
              0.7777777777777778,
              "#fb9f3a"
             ],
             [
              0.8888888888888888,
              "#fdca26"
             ],
             [
              1,
              "#f0f921"
             ]
            ],
            "type": "heatmapgl"
           }
          ],
          "histogram": [
           {
            "marker": {
             "colorbar": {
              "outlinewidth": 0,
              "ticks": ""
             }
            },
            "type": "histogram"
           }
          ],
          "histogram2d": [
           {
            "colorbar": {
             "outlinewidth": 0,
             "ticks": ""
            },
            "colorscale": [
             [
              0,
              "#0d0887"
             ],
             [
              0.1111111111111111,
              "#46039f"
             ],
             [
              0.2222222222222222,
              "#7201a8"
             ],
             [
              0.3333333333333333,
              "#9c179e"
             ],
             [
              0.4444444444444444,
              "#bd3786"
             ],
             [
              0.5555555555555556,
              "#d8576b"
             ],
             [
              0.6666666666666666,
              "#ed7953"
             ],
             [
              0.7777777777777778,
              "#fb9f3a"
             ],
             [
              0.8888888888888888,
              "#fdca26"
             ],
             [
              1,
              "#f0f921"
             ]
            ],
            "type": "histogram2d"
           }
          ],
          "histogram2dcontour": [
           {
            "colorbar": {
             "outlinewidth": 0,
             "ticks": ""
            },
            "colorscale": [
             [
              0,
              "#0d0887"
             ],
             [
              0.1111111111111111,
              "#46039f"
             ],
             [
              0.2222222222222222,
              "#7201a8"
             ],
             [
              0.3333333333333333,
              "#9c179e"
             ],
             [
              0.4444444444444444,
              "#bd3786"
             ],
             [
              0.5555555555555556,
              "#d8576b"
             ],
             [
              0.6666666666666666,
              "#ed7953"
             ],
             [
              0.7777777777777778,
              "#fb9f3a"
             ],
             [
              0.8888888888888888,
              "#fdca26"
             ],
             [
              1,
              "#f0f921"
             ]
            ],
            "type": "histogram2dcontour"
           }
          ],
          "mesh3d": [
           {
            "colorbar": {
             "outlinewidth": 0,
             "ticks": ""
            },
            "type": "mesh3d"
           }
          ],
          "parcoords": [
           {
            "line": {
             "colorbar": {
              "outlinewidth": 0,
              "ticks": ""
             }
            },
            "type": "parcoords"
           }
          ],
          "pie": [
           {
            "automargin": true,
            "type": "pie"
           }
          ],
          "scatter": [
           {
            "marker": {
             "colorbar": {
              "outlinewidth": 0,
              "ticks": ""
             }
            },
            "type": "scatter"
           }
          ],
          "scatter3d": [
           {
            "line": {
             "colorbar": {
              "outlinewidth": 0,
              "ticks": ""
             }
            },
            "marker": {
             "colorbar": {
              "outlinewidth": 0,
              "ticks": ""
             }
            },
            "type": "scatter3d"
           }
          ],
          "scattercarpet": [
           {
            "marker": {
             "colorbar": {
              "outlinewidth": 0,
              "ticks": ""
             }
            },
            "type": "scattercarpet"
           }
          ],
          "scattergeo": [
           {
            "marker": {
             "colorbar": {
              "outlinewidth": 0,
              "ticks": ""
             }
            },
            "type": "scattergeo"
           }
          ],
          "scattergl": [
           {
            "marker": {
             "colorbar": {
              "outlinewidth": 0,
              "ticks": ""
             }
            },
            "type": "scattergl"
           }
          ],
          "scattermapbox": [
           {
            "marker": {
             "colorbar": {
              "outlinewidth": 0,
              "ticks": ""
             }
            },
            "type": "scattermapbox"
           }
          ],
          "scatterpolar": [
           {
            "marker": {
             "colorbar": {
              "outlinewidth": 0,
              "ticks": ""
             }
            },
            "type": "scatterpolar"
           }
          ],
          "scatterpolargl": [
           {
            "marker": {
             "colorbar": {
              "outlinewidth": 0,
              "ticks": ""
             }
            },
            "type": "scatterpolargl"
           }
          ],
          "scatterternary": [
           {
            "marker": {
             "colorbar": {
              "outlinewidth": 0,
              "ticks": ""
             }
            },
            "type": "scatterternary"
           }
          ],
          "surface": [
           {
            "colorbar": {
             "outlinewidth": 0,
             "ticks": ""
            },
            "colorscale": [
             [
              0,
              "#0d0887"
             ],
             [
              0.1111111111111111,
              "#46039f"
             ],
             [
              0.2222222222222222,
              "#7201a8"
             ],
             [
              0.3333333333333333,
              "#9c179e"
             ],
             [
              0.4444444444444444,
              "#bd3786"
             ],
             [
              0.5555555555555556,
              "#d8576b"
             ],
             [
              0.6666666666666666,
              "#ed7953"
             ],
             [
              0.7777777777777778,
              "#fb9f3a"
             ],
             [
              0.8888888888888888,
              "#fdca26"
             ],
             [
              1,
              "#f0f921"
             ]
            ],
            "type": "surface"
           }
          ],
          "table": [
           {
            "cells": {
             "fill": {
              "color": "#EBF0F8"
             },
             "line": {
              "color": "white"
             }
            },
            "header": {
             "fill": {
              "color": "#C8D4E3"
             },
             "line": {
              "color": "white"
             }
            },
            "type": "table"
           }
          ]
         },
         "layout": {
          "annotationdefaults": {
           "arrowcolor": "#2a3f5f",
           "arrowhead": 0,
           "arrowwidth": 1
          },
          "coloraxis": {
           "colorbar": {
            "outlinewidth": 0,
            "ticks": ""
           }
          },
          "colorscale": {
           "diverging": [
            [
             0,
             "#8e0152"
            ],
            [
             0.1,
             "#c51b7d"
            ],
            [
             0.2,
             "#de77ae"
            ],
            [
             0.3,
             "#f1b6da"
            ],
            [
             0.4,
             "#fde0ef"
            ],
            [
             0.5,
             "#f7f7f7"
            ],
            [
             0.6,
             "#e6f5d0"
            ],
            [
             0.7,
             "#b8e186"
            ],
            [
             0.8,
             "#7fbc41"
            ],
            [
             0.9,
             "#4d9221"
            ],
            [
             1,
             "#276419"
            ]
           ],
           "sequential": [
            [
             0,
             "#0d0887"
            ],
            [
             0.1111111111111111,
             "#46039f"
            ],
            [
             0.2222222222222222,
             "#7201a8"
            ],
            [
             0.3333333333333333,
             "#9c179e"
            ],
            [
             0.4444444444444444,
             "#bd3786"
            ],
            [
             0.5555555555555556,
             "#d8576b"
            ],
            [
             0.6666666666666666,
             "#ed7953"
            ],
            [
             0.7777777777777778,
             "#fb9f3a"
            ],
            [
             0.8888888888888888,
             "#fdca26"
            ],
            [
             1,
             "#f0f921"
            ]
           ],
           "sequentialminus": [
            [
             0,
             "#0d0887"
            ],
            [
             0.1111111111111111,
             "#46039f"
            ],
            [
             0.2222222222222222,
             "#7201a8"
            ],
            [
             0.3333333333333333,
             "#9c179e"
            ],
            [
             0.4444444444444444,
             "#bd3786"
            ],
            [
             0.5555555555555556,
             "#d8576b"
            ],
            [
             0.6666666666666666,
             "#ed7953"
            ],
            [
             0.7777777777777778,
             "#fb9f3a"
            ],
            [
             0.8888888888888888,
             "#fdca26"
            ],
            [
             1,
             "#f0f921"
            ]
           ]
          },
          "colorway": [
           "#636efa",
           "#EF553B",
           "#00cc96",
           "#ab63fa",
           "#FFA15A",
           "#19d3f3",
           "#FF6692",
           "#B6E880",
           "#FF97FF",
           "#FECB52"
          ],
          "font": {
           "color": "#2a3f5f"
          },
          "geo": {
           "bgcolor": "white",
           "lakecolor": "white",
           "landcolor": "#E5ECF6",
           "showlakes": true,
           "showland": true,
           "subunitcolor": "white"
          },
          "hoverlabel": {
           "align": "left"
          },
          "hovermode": "closest",
          "mapbox": {
           "style": "light"
          },
          "paper_bgcolor": "white",
          "plot_bgcolor": "#E5ECF6",
          "polar": {
           "angularaxis": {
            "gridcolor": "white",
            "linecolor": "white",
            "ticks": ""
           },
           "bgcolor": "#E5ECF6",
           "radialaxis": {
            "gridcolor": "white",
            "linecolor": "white",
            "ticks": ""
           }
          },
          "scene": {
           "xaxis": {
            "backgroundcolor": "#E5ECF6",
            "gridcolor": "white",
            "gridwidth": 2,
            "linecolor": "white",
            "showbackground": true,
            "ticks": "",
            "zerolinecolor": "white"
           },
           "yaxis": {
            "backgroundcolor": "#E5ECF6",
            "gridcolor": "white",
            "gridwidth": 2,
            "linecolor": "white",
            "showbackground": true,
            "ticks": "",
            "zerolinecolor": "white"
           },
           "zaxis": {
            "backgroundcolor": "#E5ECF6",
            "gridcolor": "white",
            "gridwidth": 2,
            "linecolor": "white",
            "showbackground": true,
            "ticks": "",
            "zerolinecolor": "white"
           }
          },
          "shapedefaults": {
           "line": {
            "color": "#2a3f5f"
           }
          },
          "ternary": {
           "aaxis": {
            "gridcolor": "white",
            "linecolor": "white",
            "ticks": ""
           },
           "baxis": {
            "gridcolor": "white",
            "linecolor": "white",
            "ticks": ""
           },
           "bgcolor": "#E5ECF6",
           "caxis": {
            "gridcolor": "white",
            "linecolor": "white",
            "ticks": ""
           }
          },
          "title": {
           "x": 0.05
          },
          "xaxis": {
           "automargin": true,
           "gridcolor": "white",
           "linecolor": "white",
           "ticks": "",
           "title": {
            "standoff": 15
           },
           "zerolinecolor": "white",
           "zerolinewidth": 2
          },
          "yaxis": {
           "automargin": true,
           "gridcolor": "white",
           "linecolor": "white",
           "ticks": "",
           "title": {
            "standoff": 15
           },
           "zerolinecolor": "white",
           "zerolinewidth": 2
          }
         }
        },
        "title": {
         "text": "Movie Count by Genre"
        },
        "xaxis": {
         "anchor": "y",
         "domain": [
          0,
          1
         ],
         "title": {
          "text": "ReleaseYear"
         }
        },
        "yaxis": {
         "anchor": "x",
         "categoryarray": [
          "Family",
          "Romance",
          "Sci-Fi",
          "Documentary",
          " Action",
          " War",
          " Biography",
          "Fantasy",
          " Music",
          " History",
          "Mystery",
          "Animation",
          "Horror",
          " Musical",
          " Mystery",
          " Sport",
          " Horror",
          " Adventure",
          " Western",
          " Thriller",
          "Action",
          "Crime",
          " Sci-Fi",
          " Comedy",
          "Adventure",
          " Romance",
          " Fantasy",
          "Drama",
          " Family",
          "Comedy",
          " Drama",
          " Crime",
          "Biography"
         ],
         "categoryorder": "array",
         "domain": [
          0,
          1
         ],
         "title": {
          "text": "Genre"
         }
        }
       }
      },
      "text/html": [
       "<div>\n",
       "        \n",
       "        \n",
       "            <div id=\"6cf09f93-b908-4586-a89a-f17ce6285892\" class=\"plotly-graph-div\" style=\"height:525px; width:100%;\"></div>\n",
       "            <script type=\"text/javascript\">\n",
       "                require([\"plotly\"], function(Plotly) {\n",
       "                    window.PLOTLYENV=window.PLOTLYENV || {};\n",
       "                    \n",
       "                if (document.getElementById(\"6cf09f93-b908-4586-a89a-f17ce6285892\")) {\n",
       "                    Plotly.newPlot(\n",
       "                        '6cf09f93-b908-4586-a89a-f17ce6285892',\n",
       "                        [{\"alignmentgroup\": \"True\", \"hovertemplate\": \"Genre=%{y}<br>ReleaseYear=%{x}<extra></extra>\", \"legendgroup\": \"Biography\", \"marker\": {\"color\": \"#636efa\"}, \"name\": \"Biography\", \"offsetgroup\": \"Biography\", \"orientation\": \"v\", \"showlegend\": true, \"textposition\": \"auto\", \"type\": \"bar\", \"x\": [1990, 1990, 1991, 1992, 1992, 1993, 1993, 1993, 1994, 1994, 1994, 1995, 1995, 1996, 1997, 1998, 1998, 1999, 1999, 1999, 2000, 2000, 2000, 2001, 2001, 2002, 2002, 2003, 2004, 2004, 2004, 2004, 2005, 2005, 2006, 2006, 2007, 2008, 2009, 2009, 2010, 2010, 2010, 2010, 2010, 2011, 2011, 2012, 2012, 2013, 2013, 2013, 2013, 2013, 2014, 2014, 2015, 2015, 2015, 2015, 2015, 2015, 2015, 2015, 2015, 2016, 2016, 2016, 2016, 2016, 2016, 2016, 2016, 2017, 2017, 2017, 2017, 2018, 2018, 2018, 2018, 2018, 2018, 2018, 2018], \"xaxis\": \"x\", \"y\": [\"Biography\", \"Biography\", \"Biography\", \"Biography\", \"Biography\", \"Biography\", \"Biography\", \"Biography\", \"Biography\", \"Biography\", \"Biography\", \"Biography\", \"Biography\", \"Biography\", \"Biography\", \"Biography\", \"Biography\", \"Biography\", \"Biography\", \"Biography\", \"Biography\", \"Biography\", \"Biography\", \"Biography\", \"Biography\", \"Biography\", \"Biography\", \"Biography\", \"Biography\", \"Biography\", \"Biography\", \"Biography\", \"Biography\", \"Biography\", \"Biography\", \"Biography\", \"Biography\", \"Biography\", \"Biography\", \"Biography\", \"Biography\", \"Biography\", \"Biography\", \"Biography\", \"Biography\", \"Biography\", \"Biography\", \"Biography\", \"Biography\", \"Biography\", \"Biography\", \"Biography\", \"Biography\", \"Biography\", \"Biography\", \"Biography\", \"Biography\", \"Biography\", \"Biography\", \"Biography\", \"Biography\", \"Biography\", \"Biography\", \"Biography\", \"Biography\", \"Biography\", \"Biography\", \"Biography\", \"Biography\", \"Biography\", \"Biography\", \"Biography\", \"Biography\", \"Biography\", \"Biography\", \"Biography\", \"Biography\", \"Biography\", \"Biography\", \"Biography\", \"Biography\", \"Biography\", \"Biography\", \"Biography\", \"Biography\"], \"yaxis\": \"y\"}, {\"alignmentgroup\": \"True\", \"hovertemplate\": \"Genre=%{y}<br>ReleaseYear=%{x}<extra></extra>\", \"legendgroup\": \" Crime\", \"marker\": {\"color\": \"#EF553B\"}, \"name\": \" Crime\", \"offsetgroup\": \" Crime\", \"orientation\": \"v\", \"showlegend\": true, \"textposition\": \"auto\", \"type\": \"bar\", \"x\": [1990, 1990, 1990, 1990, 1990, 1990, 1990, 1990, 1991, 1991, 1991, 1991, 1991, 1991, 1991, 1991, 1992, 1992, 1992, 1992, 1992, 1992, 1992, 1992, 1992, 1992, 1993, 1993, 1994, 1994, 1994, 1994, 1994, 1994, 1994, 1994, 1994, 1994, 1995, 1995, 1995, 1995, 1995, 1995, 1995, 1995, 1996, 1996, 1996, 1996, 1996, 1996, 1997, 1997, 1997, 1997, 1997, 1997, 1998, 1998, 1998, 1998, 1998, 1998, 1998, 1998, 1999, 1999, 1999, 1999, 2000, 2000, 2000, 2000, 2000, 2000, 2001, 2001, 2001, 2001, 2001, 2002, 2002, 2002, 2002, 2002, 2003, 2003, 2003, 2003, 2003, 2003, 2003, 2003, 2003, 2003, 2004, 2004, 2005, 2005, 2005, 2005, 2006, 2006, 2006, 2007, 2007, 2007, 2007, 2008, 2008, 2008, 2008, 2008, 2008, 2008, 2009, 2009, 2009, 2009, 2010, 2010, 2010, 2010, 2010, 2011, 2011, 2012, 2012, 2012, 2012, 2012, 2012, 2012, 2013, 2013, 2013, 2013, 2013, 2014, 2014, 2014, 2014, 2014, 2014, 2014, 2015, 2015, 2015, 2015, 2015, 2015, 2015, 2015, 2016, 2016, 2016, 2016, 2016, 2016, 2017, 2017, 2017, 2017, 2017, 2018, 2018, 2018, 2018, 2018, 2018, 2018], \"xaxis\": \"x\", \"y\": [\" Crime\", \" Crime\", \" Crime\", \" Crime\", \" Crime\", \" Crime\", \" Crime\", \" Crime\", \" Crime\", \" Crime\", \" Crime\", \" Crime\", \" Crime\", \" Crime\", \" Crime\", \" Crime\", \" Crime\", \" Crime\", \" Crime\", \" Crime\", \" Crime\", \" Crime\", \" Crime\", \" Crime\", \" Crime\", \" Crime\", \" Crime\", \" Crime\", \" Crime\", \" Crime\", \" Crime\", \" Crime\", \" Crime\", \" Crime\", \" Crime\", \" Crime\", \" Crime\", \" Crime\", \" Crime\", \" Crime\", \" Crime\", \" Crime\", \" Crime\", \" Crime\", \" Crime\", \" Crime\", \" Crime\", \" Crime\", \" Crime\", \" Crime\", \" Crime\", \" Crime\", \" Crime\", \" Crime\", \" Crime\", \" Crime\", \" Crime\", \" Crime\", \" Crime\", \" Crime\", \" Crime\", \" Crime\", \" Crime\", \" Crime\", \" Crime\", \" Crime\", \" Crime\", \" Crime\", \" Crime\", \" Crime\", \" Crime\", \" Crime\", \" Crime\", \" Crime\", \" Crime\", \" Crime\", \" Crime\", \" Crime\", \" Crime\", \" Crime\", \" Crime\", \" Crime\", \" Crime\", \" Crime\", \" Crime\", \" Crime\", \" Crime\", \" Crime\", \" Crime\", \" Crime\", \" Crime\", \" Crime\", \" Crime\", \" Crime\", \" Crime\", \" Crime\", \" Crime\", \" Crime\", \" Crime\", \" Crime\", \" Crime\", \" Crime\", \" Crime\", \" Crime\", \" Crime\", \" Crime\", \" Crime\", \" Crime\", \" Crime\", \" Crime\", \" Crime\", \" Crime\", \" Crime\", \" Crime\", \" Crime\", \" Crime\", \" Crime\", \" Crime\", \" Crime\", \" Crime\", \" Crime\", \" Crime\", \" Crime\", \" Crime\", \" Crime\", \" Crime\", \" Crime\", \" Crime\", \" Crime\", \" Crime\", \" Crime\", \" Crime\", \" Crime\", \" Crime\", \" Crime\", \" Crime\", \" Crime\", \" Crime\", \" Crime\", \" Crime\", \" Crime\", \" Crime\", \" Crime\", \" Crime\", \" Crime\", \" Crime\", \" Crime\", \" Crime\", \" Crime\", \" Crime\", \" Crime\", \" Crime\", \" Crime\", \" Crime\", \" Crime\", \" Crime\", \" Crime\", \" Crime\", \" Crime\", \" Crime\", \" Crime\", \" Crime\", \" Crime\", \" Crime\", \" Crime\", \" Crime\", \" Crime\", \" Crime\", \" Crime\", \" Crime\", \" Crime\", \" Crime\"], \"yaxis\": \"y\"}, {\"alignmentgroup\": \"True\", \"hovertemplate\": \"Genre=%{y}<br>ReleaseYear=%{x}<extra></extra>\", \"legendgroup\": \" Drama\", \"marker\": {\"color\": \"#00cc96\"}, \"name\": \" Drama\", \"offsetgroup\": \" Drama\", \"orientation\": \"v\", \"showlegend\": true, \"textposition\": \"auto\", \"type\": \"bar\", \"x\": [1990, 1990, 1990, 1990, 1990, 1990, 1990, 1990, 1990, 1991, 1991, 1991, 1991, 1991, 1991, 1991, 1991, 1991, 1991, 1991, 1991, 1991, 1991, 1991, 1991, 1992, 1992, 1992, 1992, 1992, 1992, 1992, 1992, 1992, 1992, 1992, 1992, 1992, 1992, 1992, 1992, 1992, 1993, 1993, 1993, 1993, 1993, 1993, 1993, 1993, 1993, 1993, 1993, 1993, 1993, 1993, 1993, 1993, 1993, 1993, 1993, 1993, 1994, 1994, 1994, 1994, 1994, 1994, 1994, 1994, 1994, 1994, 1994, 1994, 1994, 1994, 1994, 1994, 1994, 1995, 1995, 1995, 1995, 1995, 1995, 1995, 1995, 1995, 1995, 1995, 1995, 1995, 1995, 1995, 1995, 1995, 1995, 1996, 1996, 1996, 1996, 1996, 1996, 1996, 1996, 1996, 1996, 1996, 1996, 1996, 1996, 1996, 1996, 1996, 1996, 1997, 1997, 1997, 1997, 1997, 1997, 1997, 1997, 1997, 1997, 1997, 1997, 1997, 1997, 1997, 1998, 1998, 1998, 1998, 1998, 1998, 1998, 1998, 1998, 1998, 1998, 1998, 1998, 1998, 1998, 1998, 1998, 1999, 1999, 1999, 1999, 1999, 1999, 1999, 1999, 1999, 1999, 1999, 1999, 1999, 2000, 2000, 2000, 2000, 2000, 2000, 2000, 2000, 2000, 2000, 2000, 2000, 2000, 2000, 2000, 2001, 2001, 2001, 2001, 2001, 2001, 2001, 2001, 2001, 2001, 2001, 2002, 2002, 2002, 2002, 2002, 2002, 2002, 2002, 2002, 2002, 2002, 2002, 2002, 2002, 2002, 2002, 2002, 2002, 2002, 2003, 2003, 2003, 2003, 2003, 2003, 2003, 2003, 2003, 2003, 2003, 2003, 2003, 2003, 2003, 2004, 2004, 2004, 2004, 2004, 2004, 2004, 2004, 2004, 2004, 2004, 2004, 2005, 2005, 2005, 2005, 2005, 2005, 2005, 2005, 2005, 2005, 2005, 2006, 2006, 2006, 2006, 2006, 2006, 2006, 2006, 2006, 2006, 2006, 2006, 2006, 2006, 2006, 2007, 2007, 2007, 2007, 2007, 2007, 2007, 2007, 2007, 2007, 2007, 2007, 2007, 2007, 2007, 2008, 2008, 2008, 2008, 2008, 2008, 2008, 2008, 2008, 2009, 2009, 2009, 2009, 2009, 2009, 2009, 2009, 2009, 2009, 2009, 2009, 2009, 2009, 2010, 2010, 2010, 2010, 2010, 2010, 2010, 2010, 2010, 2010, 2010, 2010, 2010, 2010, 2011, 2011, 2011, 2011, 2011, 2011, 2011, 2011, 2011, 2011, 2011, 2011, 2011, 2011, 2011, 2011, 2011, 2012, 2012, 2012, 2012, 2012, 2012, 2012, 2012, 2012, 2012, 2012, 2012, 2012, 2012, 2013, 2013, 2013, 2013, 2013, 2013, 2013, 2013, 2013, 2013, 2013, 2013, 2013, 2013, 2013, 2013, 2013, 2013, 2013, 2014, 2014, 2014, 2014, 2014, 2014, 2014, 2014, 2014, 2014, 2014, 2014, 2014, 2015, 2015, 2015, 2015, 2015, 2015, 2015, 2015, 2015, 2015, 2015, 2015, 2015, 2015, 2015, 2015, 2015, 2016, 2016, 2016, 2016, 2016, 2016, 2016, 2016, 2016, 2016, 2016, 2016, 2016, 2016, 2016, 2016, 2016, 2017, 2017, 2017, 2017, 2017, 2017, 2017, 2017, 2017, 2017, 2017, 2017, 2017, 2017, 2017, 2017, 2017, 2017, 2018, 2018, 2018, 2018, 2018, 2018, 2018, 2018, 2018, 2018, 2018, 2018, 2018, 2018, 2018], \"xaxis\": \"x\", \"y\": [\" Drama\", \" Drama\", \" Drama\", \" Drama\", \" Drama\", \" Drama\", \" Drama\", \" Drama\", \" Drama\", \" Drama\", \" Drama\", \" Drama\", \" Drama\", \" Drama\", \" Drama\", \" Drama\", \" Drama\", \" Drama\", \" Drama\", \" Drama\", \" Drama\", \" Drama\", \" Drama\", \" Drama\", \" Drama\", \" Drama\", \" Drama\", \" Drama\", \" Drama\", \" Drama\", \" Drama\", \" Drama\", \" Drama\", \" Drama\", \" Drama\", \" Drama\", \" Drama\", \" Drama\", \" Drama\", \" Drama\", \" Drama\", \" Drama\", \" Drama\", \" Drama\", \" Drama\", \" Drama\", \" Drama\", \" Drama\", \" Drama\", \" Drama\", \" Drama\", \" Drama\", \" Drama\", \" Drama\", \" Drama\", \" Drama\", \" Drama\", \" Drama\", \" Drama\", \" Drama\", \" Drama\", \" Drama\", \" Drama\", \" Drama\", \" Drama\", \" Drama\", \" Drama\", \" Drama\", \" Drama\", \" Drama\", \" Drama\", \" Drama\", \" Drama\", \" Drama\", \" Drama\", \" Drama\", \" Drama\", \" Drama\", \" Drama\", \" Drama\", \" Drama\", \" Drama\", \" Drama\", \" Drama\", \" Drama\", \" Drama\", \" Drama\", \" Drama\", \" Drama\", \" Drama\", \" Drama\", \" Drama\", \" Drama\", \" Drama\", \" Drama\", \" Drama\", \" Drama\", \" Drama\", \" Drama\", \" Drama\", \" Drama\", \" Drama\", \" Drama\", \" Drama\", \" Drama\", \" Drama\", \" Drama\", \" Drama\", \" Drama\", \" Drama\", \" Drama\", \" Drama\", \" Drama\", \" Drama\", \" Drama\", \" Drama\", \" Drama\", \" Drama\", \" Drama\", \" Drama\", \" Drama\", \" Drama\", \" Drama\", \" Drama\", \" Drama\", \" Drama\", \" Drama\", \" Drama\", \" Drama\", \" Drama\", \" Drama\", \" Drama\", \" Drama\", \" Drama\", \" Drama\", \" Drama\", \" Drama\", \" Drama\", \" Drama\", \" Drama\", \" Drama\", \" Drama\", \" Drama\", \" Drama\", \" Drama\", \" Drama\", \" Drama\", \" Drama\", \" Drama\", \" Drama\", \" Drama\", \" Drama\", \" Drama\", \" Drama\", \" Drama\", \" Drama\", \" Drama\", \" Drama\", \" Drama\", \" Drama\", \" Drama\", \" Drama\", \" Drama\", \" Drama\", \" Drama\", \" Drama\", \" Drama\", \" Drama\", \" Drama\", \" Drama\", \" Drama\", \" Drama\", \" Drama\", \" Drama\", \" Drama\", \" Drama\", \" Drama\", \" Drama\", \" Drama\", \" Drama\", \" Drama\", \" Drama\", \" Drama\", \" Drama\", \" Drama\", \" Drama\", \" Drama\", \" Drama\", \" Drama\", \" Drama\", \" Drama\", \" Drama\", \" Drama\", \" Drama\", \" Drama\", \" Drama\", \" Drama\", \" Drama\", \" Drama\", \" Drama\", \" Drama\", \" Drama\", \" Drama\", \" Drama\", \" Drama\", \" Drama\", \" Drama\", \" Drama\", \" Drama\", \" Drama\", \" Drama\", \" Drama\", \" Drama\", \" Drama\", \" Drama\", \" Drama\", \" Drama\", \" Drama\", \" Drama\", \" Drama\", \" Drama\", \" Drama\", \" Drama\", \" Drama\", \" Drama\", \" Drama\", \" Drama\", \" Drama\", \" Drama\", \" Drama\", \" Drama\", \" Drama\", \" Drama\", \" Drama\", \" Drama\", \" Drama\", \" Drama\", \" Drama\", \" Drama\", \" Drama\", \" Drama\", \" Drama\", \" Drama\", \" Drama\", \" Drama\", \" Drama\", \" Drama\", \" Drama\", \" Drama\", \" Drama\", \" Drama\", \" Drama\", \" Drama\", \" Drama\", \" Drama\", \" Drama\", \" Drama\", \" Drama\", \" Drama\", \" Drama\", \" Drama\", \" Drama\", \" Drama\", \" Drama\", \" Drama\", \" Drama\", \" Drama\", \" Drama\", \" Drama\", \" Drama\", \" Drama\", \" Drama\", \" Drama\", \" Drama\", \" Drama\", \" Drama\", \" Drama\", \" Drama\", \" Drama\", \" Drama\", \" Drama\", \" Drama\", \" Drama\", \" Drama\", \" Drama\", \" Drama\", \" Drama\", \" Drama\", \" Drama\", \" Drama\", \" Drama\", \" Drama\", \" Drama\", \" Drama\", \" Drama\", \" Drama\", \" Drama\", \" Drama\", \" Drama\", \" Drama\", \" Drama\", \" Drama\", \" Drama\", \" Drama\", \" Drama\", \" Drama\", \" Drama\", \" Drama\", \" Drama\", \" Drama\", \" Drama\", \" Drama\", \" Drama\", \" Drama\", \" Drama\", \" Drama\", \" Drama\", \" Drama\", \" Drama\", \" Drama\", \" Drama\", \" Drama\", \" Drama\", \" Drama\", \" Drama\", \" Drama\", \" Drama\", \" Drama\", \" Drama\", \" Drama\", \" Drama\", \" Drama\", \" Drama\", \" Drama\", \" Drama\", \" Drama\", \" Drama\", \" Drama\", \" Drama\", \" Drama\", \" Drama\", \" Drama\", \" Drama\", \" Drama\", \" Drama\", \" Drama\", \" Drama\", \" Drama\", \" Drama\", \" Drama\", \" Drama\", \" Drama\", \" Drama\", \" Drama\", \" Drama\", \" Drama\", \" Drama\", \" Drama\", \" Drama\", \" Drama\", \" Drama\", \" Drama\", \" Drama\", \" Drama\", \" Drama\", \" Drama\", \" Drama\", \" Drama\", \" Drama\", \" Drama\", \" Drama\", \" Drama\", \" Drama\", \" Drama\", \" Drama\", \" Drama\", \" Drama\", \" Drama\", \" Drama\", \" Drama\", \" Drama\", \" Drama\", \" Drama\", \" Drama\", \" Drama\", \" Drama\", \" Drama\", \" Drama\", \" Drama\", \" Drama\", \" Drama\", \" Drama\", \" Drama\", \" Drama\", \" Drama\", \" Drama\", \" Drama\", \" Drama\", \" Drama\", \" Drama\", \" Drama\", \" Drama\", \" Drama\", \" Drama\", \" Drama\", \" Drama\", \" Drama\", \" Drama\", \" Drama\", \" Drama\", \" Drama\", \" Drama\", \" Drama\", \" Drama\", \" Drama\", \" Drama\", \" Drama\", \" Drama\", \" Drama\", \" Drama\", \" Drama\", \" Drama\", \" Drama\", \" Drama\", \" Drama\", \" Drama\", \" Drama\", \" Drama\", \" Drama\", \" Drama\", \" Drama\", \" Drama\", \" Drama\", \" Drama\", \" Drama\", \" Drama\", \" Drama\", \" Drama\", \" Drama\", \" Drama\"], \"yaxis\": \"y\"}, {\"alignmentgroup\": \"True\", \"hovertemplate\": \"Genre=%{y}<br>ReleaseYear=%{x}<extra></extra>\", \"legendgroup\": \"Comedy\", \"marker\": {\"color\": \"#ab63fa\"}, \"name\": \"Comedy\", \"offsetgroup\": \"Comedy\", \"orientation\": \"v\", \"showlegend\": true, \"textposition\": \"auto\", \"type\": \"bar\", \"x\": [1990, 1990, 1990, 1990, 1990, 1990, 1990, 1990, 1990, 1990, 1990, 1990, 1991, 1991, 1991, 1991, 1991, 1991, 1991, 1991, 1991, 1991, 1991, 1991, 1991, 1991, 1991, 1991, 1991, 1991, 1992, 1992, 1992, 1992, 1992, 1992, 1992, 1992, 1992, 1992, 1992, 1992, 1992, 1993, 1993, 1993, 1993, 1993, 1993, 1993, 1993, 1993, 1993, 1993, 1993, 1994, 1994, 1994, 1994, 1994, 1994, 1994, 1994, 1994, 1994, 1994, 1994, 1994, 1994, 1994, 1994, 1995, 1995, 1995, 1995, 1995, 1995, 1995, 1995, 1995, 1995, 1996, 1996, 1996, 1996, 1996, 1996, 1996, 1996, 1996, 1996, 1996, 1996, 1996, 1996, 1997, 1997, 1997, 1997, 1997, 1997, 1997, 1997, 1997, 1998, 1998, 1998, 1998, 1998, 1998, 1998, 1998, 1998, 1998, 1998, 1998, 1999, 1999, 1999, 1999, 1999, 1999, 1999, 1999, 2000, 2000, 2000, 2000, 2000, 2000, 2000, 2000, 2000, 2000, 2000, 2000, 2000, 2001, 2001, 2001, 2001, 2001, 2001, 2001, 2001, 2001, 2001, 2001, 2001, 2002, 2002, 2002, 2002, 2002, 2002, 2002, 2003, 2003, 2003, 2003, 2003, 2003, 2003, 2003, 2003, 2003, 2003, 2003, 2003, 2004, 2004, 2004, 2004, 2004, 2004, 2004, 2004, 2004, 2004, 2004, 2005, 2005, 2005, 2005, 2005, 2006, 2006, 2006, 2006, 2006, 2006, 2006, 2006, 2007, 2007, 2007, 2007, 2007, 2008, 2008, 2008, 2008, 2008, 2008, 2008, 2008, 2008, 2009, 2009, 2009, 2009, 2009, 2009, 2009, 2009, 2009, 2010, 2010, 2010, 2010, 2010, 2010, 2010, 2011, 2011, 2011, 2011, 2011, 2011, 2011, 2011, 2011, 2011, 2011, 2011, 2012, 2012, 2012, 2012, 2012, 2012, 2012, 2012, 2013, 2013, 2013, 2013, 2013, 2013, 2013, 2013, 2014, 2014, 2015, 2015, 2015, 2015, 2016, 2016, 2017, 2017, 2018, 2018, 2018], \"xaxis\": \"x\", \"y\": [\"Comedy\", \"Comedy\", \"Comedy\", \"Comedy\", \"Comedy\", \"Comedy\", \"Comedy\", \"Comedy\", \"Comedy\", \"Comedy\", \"Comedy\", \"Comedy\", \"Comedy\", \"Comedy\", \"Comedy\", \"Comedy\", \"Comedy\", \"Comedy\", \"Comedy\", \"Comedy\", \"Comedy\", \"Comedy\", \"Comedy\", \"Comedy\", \"Comedy\", \"Comedy\", \"Comedy\", \"Comedy\", \"Comedy\", \"Comedy\", \"Comedy\", \"Comedy\", \"Comedy\", \"Comedy\", \"Comedy\", \"Comedy\", \"Comedy\", \"Comedy\", \"Comedy\", \"Comedy\", \"Comedy\", \"Comedy\", \"Comedy\", \"Comedy\", \"Comedy\", \"Comedy\", \"Comedy\", \"Comedy\", \"Comedy\", \"Comedy\", \"Comedy\", \"Comedy\", \"Comedy\", \"Comedy\", \"Comedy\", \"Comedy\", \"Comedy\", \"Comedy\", \"Comedy\", \"Comedy\", \"Comedy\", \"Comedy\", \"Comedy\", \"Comedy\", \"Comedy\", \"Comedy\", \"Comedy\", \"Comedy\", \"Comedy\", \"Comedy\", \"Comedy\", \"Comedy\", \"Comedy\", \"Comedy\", \"Comedy\", \"Comedy\", \"Comedy\", \"Comedy\", \"Comedy\", \"Comedy\", \"Comedy\", \"Comedy\", \"Comedy\", \"Comedy\", \"Comedy\", \"Comedy\", \"Comedy\", \"Comedy\", \"Comedy\", \"Comedy\", \"Comedy\", \"Comedy\", \"Comedy\", \"Comedy\", \"Comedy\", \"Comedy\", \"Comedy\", \"Comedy\", \"Comedy\", \"Comedy\", \"Comedy\", \"Comedy\", \"Comedy\", \"Comedy\", \"Comedy\", \"Comedy\", \"Comedy\", \"Comedy\", \"Comedy\", \"Comedy\", \"Comedy\", \"Comedy\", \"Comedy\", \"Comedy\", \"Comedy\", \"Comedy\", \"Comedy\", \"Comedy\", \"Comedy\", \"Comedy\", \"Comedy\", \"Comedy\", \"Comedy\", \"Comedy\", \"Comedy\", \"Comedy\", \"Comedy\", \"Comedy\", \"Comedy\", \"Comedy\", \"Comedy\", \"Comedy\", \"Comedy\", \"Comedy\", \"Comedy\", \"Comedy\", \"Comedy\", \"Comedy\", \"Comedy\", \"Comedy\", \"Comedy\", \"Comedy\", \"Comedy\", \"Comedy\", \"Comedy\", \"Comedy\", \"Comedy\", \"Comedy\", \"Comedy\", \"Comedy\", \"Comedy\", \"Comedy\", \"Comedy\", \"Comedy\", \"Comedy\", \"Comedy\", \"Comedy\", \"Comedy\", \"Comedy\", \"Comedy\", \"Comedy\", \"Comedy\", \"Comedy\", \"Comedy\", \"Comedy\", \"Comedy\", \"Comedy\", \"Comedy\", \"Comedy\", \"Comedy\", \"Comedy\", \"Comedy\", \"Comedy\", \"Comedy\", \"Comedy\", \"Comedy\", \"Comedy\", \"Comedy\", \"Comedy\", \"Comedy\", \"Comedy\", \"Comedy\", \"Comedy\", \"Comedy\", \"Comedy\", \"Comedy\", \"Comedy\", \"Comedy\", \"Comedy\", \"Comedy\", \"Comedy\", \"Comedy\", \"Comedy\", \"Comedy\", \"Comedy\", \"Comedy\", \"Comedy\", \"Comedy\", \"Comedy\", \"Comedy\", \"Comedy\", \"Comedy\", \"Comedy\", \"Comedy\", \"Comedy\", \"Comedy\", \"Comedy\", \"Comedy\", \"Comedy\", \"Comedy\", \"Comedy\", \"Comedy\", \"Comedy\", \"Comedy\", \"Comedy\", \"Comedy\", \"Comedy\", \"Comedy\", \"Comedy\", \"Comedy\", \"Comedy\", \"Comedy\", \"Comedy\", \"Comedy\", \"Comedy\", \"Comedy\", \"Comedy\", \"Comedy\", \"Comedy\", \"Comedy\", \"Comedy\", \"Comedy\", \"Comedy\", \"Comedy\", \"Comedy\", \"Comedy\", \"Comedy\", \"Comedy\", \"Comedy\", \"Comedy\", \"Comedy\", \"Comedy\", \"Comedy\", \"Comedy\", \"Comedy\", \"Comedy\", \"Comedy\", \"Comedy\", \"Comedy\", \"Comedy\", \"Comedy\", \"Comedy\", \"Comedy\", \"Comedy\", \"Comedy\", \"Comedy\", \"Comedy\", \"Comedy\", \"Comedy\", \"Comedy\", \"Comedy\", \"Comedy\", \"Comedy\", \"Comedy\"], \"yaxis\": \"y\"}, {\"alignmentgroup\": \"True\", \"hovertemplate\": \"Genre=%{y}<br>ReleaseYear=%{x}<extra></extra>\", \"legendgroup\": \" Family\", \"marker\": {\"color\": \"#FFA15A\"}, \"name\": \" Family\", \"offsetgroup\": \" Family\", \"orientation\": \"v\", \"showlegend\": true, \"textposition\": \"auto\", \"type\": \"bar\", \"x\": [1990, 1990, 1990, 1991, 1991, 1991, 1991, 1991, 1992, 1992, 1992, 1992, 1992, 1992, 1993, 1993, 1993, 1993, 1993, 1993, 1993, 1993, 1994, 1994, 1994, 1994, 1994, 1995, 1995, 1995, 1996, 1996, 1996, 1996, 1997, 1997, 1997, 1998, 1998, 1999, 1999, 2000, 2001, 2001, 2001, 2002, 2003, 2003, 2004, 2004, 2004, 2004, 2005, 2005, 2005, 2005, 2005, 2006, 2006, 2007, 2007, 2007, 2007, 2007, 2008, 2008, 2009, 2009, 2009, 2009, 2010, 2010, 2010, 2010, 2011, 2011, 2012, 2012, 2014, 2014, 2015, 2015, 2015, 2016, 2016, 2016, 2017, 2017, 2018], \"xaxis\": \"x\", \"y\": [\" Family\", \" Family\", \" Family\", \" Family\", \" Family\", \" Family\", \" Family\", \" Family\", \" Family\", \" Family\", \" Family\", \" Family\", \" Family\", \" Family\", \" Family\", \" Family\", \" Family\", \" Family\", \" Family\", \" Family\", \" Family\", \" Family\", \" Family\", \" Family\", \" Family\", \" Family\", \" Family\", \" Family\", \" Family\", \" Family\", \" Family\", \" Family\", \" Family\", \" Family\", \" Family\", \" Family\", \" Family\", \" Family\", \" Family\", \" Family\", \" Family\", \" Family\", \" Family\", \" Family\", \" Family\", \" Family\", \" Family\", \" Family\", \" Family\", \" Family\", \" Family\", \" Family\", \" Family\", \" Family\", \" Family\", \" Family\", \" Family\", \" Family\", \" Family\", \" Family\", \" Family\", \" Family\", \" Family\", \" Family\", \" Family\", \" Family\", \" Family\", \" Family\", \" Family\", \" Family\", \" Family\", \" Family\", \" Family\", \" Family\", \" Family\", \" Family\", \" Family\", \" Family\", \" Family\", \" Family\", \" Family\", \" Family\", \" Family\", \" Family\", \" Family\", \" Family\", \" Family\", \" Family\", \" Family\"], \"yaxis\": \"y\"}, {\"alignmentgroup\": \"True\", \"hovertemplate\": \"Genre=%{y}<br>ReleaseYear=%{x}<extra></extra>\", \"legendgroup\": \"Drama\", \"marker\": {\"color\": \"#19d3f3\"}, \"name\": \"Drama\", \"offsetgroup\": \"Drama\", \"orientation\": \"v\", \"showlegend\": true, \"textposition\": \"auto\", \"type\": \"bar\", \"x\": [1990, 1990, 1990, 1990, 1990, 1990, 1991, 1991, 1991, 1991, 1991, 1991, 1991, 1991, 1992, 1992, 1992, 1992, 1992, 1992, 1992, 1992, 1992, 1993, 1993, 1993, 1993, 1993, 1993, 1993, 1993, 1994, 1994, 1994, 1994, 1994, 1994, 1994, 1994, 1994, 1994, 1995, 1995, 1995, 1995, 1996, 1996, 1996, 1996, 1996, 1996, 1996, 1997, 1997, 1997, 1997, 1997, 1997, 1997, 1998, 1998, 1998, 1998, 1998, 1998, 1998, 1998, 1999, 1999, 1999, 1999, 1999, 1999, 1999, 1999, 2000, 2000, 2000, 2000, 2000, 2000, 2000, 2000, 2001, 2001, 2001, 2001, 2001, 2001, 2001, 2001, 2001, 2002, 2002, 2002, 2002, 2002, 2002, 2002, 2003, 2004, 2004, 2004, 2004, 2004, 2004, 2004, 2004, 2004, 2004, 2005, 2005, 2005, 2005, 2005, 2005, 2006, 2006, 2006, 2006, 2006, 2006, 2006, 2007, 2007, 2007, 2007, 2008, 2008, 2008, 2008, 2008, 2008, 2008, 2008, 2008, 2008, 2008, 2008, 2009, 2009, 2009, 2009, 2009, 2009, 2009, 2010, 2010, 2010, 2011, 2011, 2011, 2011, 2012, 2012, 2012, 2012, 2012, 2012, 2012, 2012, 2012, 2012, 2013, 2013, 2013, 2013, 2014, 2014, 2014, 2014, 2014, 2014, 2015, 2015, 2015, 2015, 2015, 2015, 2015, 2015, 2015, 2016, 2016, 2016, 2016, 2016, 2016, 2016, 2017, 2017, 2017, 2018, 2018, 2018, 2018, 2018, 2018, 2018], \"xaxis\": \"x\", \"y\": [\"Drama\", \"Drama\", \"Drama\", \"Drama\", \"Drama\", \"Drama\", \"Drama\", \"Drama\", \"Drama\", \"Drama\", \"Drama\", \"Drama\", \"Drama\", \"Drama\", \"Drama\", \"Drama\", \"Drama\", \"Drama\", \"Drama\", \"Drama\", \"Drama\", \"Drama\", \"Drama\", \"Drama\", \"Drama\", \"Drama\", \"Drama\", \"Drama\", \"Drama\", \"Drama\", \"Drama\", \"Drama\", \"Drama\", \"Drama\", \"Drama\", \"Drama\", \"Drama\", \"Drama\", \"Drama\", \"Drama\", \"Drama\", \"Drama\", \"Drama\", \"Drama\", \"Drama\", \"Drama\", \"Drama\", \"Drama\", \"Drama\", \"Drama\", \"Drama\", \"Drama\", \"Drama\", \"Drama\", \"Drama\", \"Drama\", \"Drama\", \"Drama\", \"Drama\", \"Drama\", \"Drama\", \"Drama\", \"Drama\", \"Drama\", \"Drama\", \"Drama\", \"Drama\", \"Drama\", \"Drama\", \"Drama\", \"Drama\", \"Drama\", \"Drama\", \"Drama\", \"Drama\", \"Drama\", \"Drama\", \"Drama\", \"Drama\", \"Drama\", \"Drama\", \"Drama\", \"Drama\", \"Drama\", \"Drama\", \"Drama\", \"Drama\", \"Drama\", \"Drama\", \"Drama\", \"Drama\", \"Drama\", \"Drama\", \"Drama\", \"Drama\", \"Drama\", \"Drama\", \"Drama\", \"Drama\", \"Drama\", \"Drama\", \"Drama\", \"Drama\", \"Drama\", \"Drama\", \"Drama\", \"Drama\", \"Drama\", \"Drama\", \"Drama\", \"Drama\", \"Drama\", \"Drama\", \"Drama\", \"Drama\", \"Drama\", \"Drama\", \"Drama\", \"Drama\", \"Drama\", \"Drama\", \"Drama\", \"Drama\", \"Drama\", \"Drama\", \"Drama\", \"Drama\", \"Drama\", \"Drama\", \"Drama\", \"Drama\", \"Drama\", \"Drama\", \"Drama\", \"Drama\", \"Drama\", \"Drama\", \"Drama\", \"Drama\", \"Drama\", \"Drama\", \"Drama\", \"Drama\", \"Drama\", \"Drama\", \"Drama\", \"Drama\", \"Drama\", \"Drama\", \"Drama\", \"Drama\", \"Drama\", \"Drama\", \"Drama\", \"Drama\", \"Drama\", \"Drama\", \"Drama\", \"Drama\", \"Drama\", \"Drama\", \"Drama\", \"Drama\", \"Drama\", \"Drama\", \"Drama\", \"Drama\", \"Drama\", \"Drama\", \"Drama\", \"Drama\", \"Drama\", \"Drama\", \"Drama\", \"Drama\", \"Drama\", \"Drama\", \"Drama\", \"Drama\", \"Drama\", \"Drama\", \"Drama\", \"Drama\", \"Drama\", \"Drama\", \"Drama\", \"Drama\", \"Drama\", \"Drama\", \"Drama\", \"Drama\", \"Drama\", \"Drama\", \"Drama\", \"Drama\", \"Drama\", \"Drama\", \"Drama\", \"Drama\"], \"yaxis\": \"y\"}, {\"alignmentgroup\": \"True\", \"hovertemplate\": \"Genre=%{y}<br>ReleaseYear=%{x}<extra></extra>\", \"legendgroup\": \" Fantasy\", \"marker\": {\"color\": \"#FF6692\"}, \"name\": \" Fantasy\", \"offsetgroup\": \" Fantasy\", \"orientation\": \"v\", \"showlegend\": true, \"textposition\": \"auto\", \"type\": \"bar\", \"x\": [1990, 1990, 1990, 1990, 1990, 1991, 1991, 1991, 1991, 1991, 1991, 1991, 1991, 1992, 1992, 1992, 1993, 1993, 1993, 1993, 1994, 1994, 1994, 1995, 1995, 1995, 1995, 1996, 1996, 1996, 1996, 1996, 1996, 1997, 1997, 1998, 1998, 1998, 1998, 1998, 1999, 1999, 1999, 1999, 1999, 1999, 2000, 2000, 2000, 2000, 2000, 2001, 2001, 2001, 2001, 2002, 2002, 2002, 2002, 2002, 2003, 2003, 2003, 2003, 2003, 2003, 2003, 2003, 2003, 2004, 2004, 2004, 2005, 2005, 2005, 2005, 2006, 2006, 2006, 2006, 2006, 2006, 2007, 2007, 2007, 2007, 2008, 2008, 2008, 2008, 2008, 2009, 2009, 2009, 2009, 2009, 2010, 2010, 2010, 2010, 2010, 2010, 2010, 2011, 2011, 2011, 2011, 2011, 2011, 2012, 2012, 2012, 2012, 2013, 2013, 2013, 2013, 2013, 2013, 2014, 2015, 2015, 2016, 2016, 2016, 2016, 2016, 2016, 2016, 2016, 2016, 2016, 2016, 2017, 2017, 2017, 2017, 2017, 2017, 2017, 2017, 2017, 2017, 2017, 2018, 2018, 2018], \"xaxis\": \"x\", \"y\": [\" Fantasy\", \" Fantasy\", \" Fantasy\", \" Fantasy\", \" Fantasy\", \" Fantasy\", \" Fantasy\", \" Fantasy\", \" Fantasy\", \" Fantasy\", \" Fantasy\", \" Fantasy\", \" Fantasy\", \" Fantasy\", \" Fantasy\", \" Fantasy\", \" Fantasy\", \" Fantasy\", \" Fantasy\", \" Fantasy\", \" Fantasy\", \" Fantasy\", \" Fantasy\", \" Fantasy\", \" Fantasy\", \" Fantasy\", \" Fantasy\", \" Fantasy\", \" Fantasy\", \" Fantasy\", \" Fantasy\", \" Fantasy\", \" Fantasy\", \" Fantasy\", \" Fantasy\", \" Fantasy\", \" Fantasy\", \" Fantasy\", \" Fantasy\", \" Fantasy\", \" Fantasy\", \" Fantasy\", \" Fantasy\", \" Fantasy\", \" Fantasy\", \" Fantasy\", \" Fantasy\", \" Fantasy\", \" Fantasy\", \" Fantasy\", \" Fantasy\", \" Fantasy\", \" Fantasy\", \" Fantasy\", \" Fantasy\", \" Fantasy\", \" Fantasy\", \" Fantasy\", \" Fantasy\", \" Fantasy\", \" Fantasy\", \" Fantasy\", \" Fantasy\", \" Fantasy\", \" Fantasy\", \" Fantasy\", \" Fantasy\", \" Fantasy\", \" Fantasy\", \" Fantasy\", \" Fantasy\", \" Fantasy\", \" Fantasy\", \" Fantasy\", \" Fantasy\", \" Fantasy\", \" Fantasy\", \" Fantasy\", \" Fantasy\", \" Fantasy\", \" Fantasy\", \" Fantasy\", \" Fantasy\", \" Fantasy\", \" Fantasy\", \" Fantasy\", \" Fantasy\", \" Fantasy\", \" Fantasy\", \" Fantasy\", \" Fantasy\", \" Fantasy\", \" Fantasy\", \" Fantasy\", \" Fantasy\", \" Fantasy\", \" Fantasy\", \" Fantasy\", \" Fantasy\", \" Fantasy\", \" Fantasy\", \" Fantasy\", \" Fantasy\", \" Fantasy\", \" Fantasy\", \" Fantasy\", \" Fantasy\", \" Fantasy\", \" Fantasy\", \" Fantasy\", \" Fantasy\", \" Fantasy\", \" Fantasy\", \" Fantasy\", \" Fantasy\", \" Fantasy\", \" Fantasy\", \" Fantasy\", \" Fantasy\", \" Fantasy\", \" Fantasy\", \" Fantasy\", \" Fantasy\", \" Fantasy\", \" Fantasy\", \" Fantasy\", \" Fantasy\", \" Fantasy\", \" Fantasy\", \" Fantasy\", \" Fantasy\", \" Fantasy\", \" Fantasy\", \" Fantasy\", \" Fantasy\", \" Fantasy\", \" Fantasy\", \" Fantasy\", \" Fantasy\", \" Fantasy\", \" Fantasy\", \" Fantasy\", \" Fantasy\", \" Fantasy\", \" Fantasy\", \" Fantasy\", \" Fantasy\"], \"yaxis\": \"y\"}, {\"alignmentgroup\": \"True\", \"hovertemplate\": \"Genre=%{y}<br>ReleaseYear=%{x}<extra></extra>\", \"legendgroup\": \" Romance\", \"marker\": {\"color\": \"#B6E880\"}, \"name\": \" Romance\", \"offsetgroup\": \" Romance\", \"orientation\": \"v\", \"showlegend\": true, \"textposition\": \"auto\", \"type\": \"bar\", \"x\": [1990, 1990, 1990, 1990, 1990, 1990, 1991, 1991, 1991, 1991, 1991, 1992, 1992, 1992, 1992, 1993, 1993, 1993, 1993, 1993, 1993, 1993, 1993, 1993, 1993, 1994, 1994, 1994, 1994, 1994, 1994, 1994, 1994, 1994, 1994, 1994, 1995, 1995, 1995, 1995, 1995, 1995, 1995, 1995, 1996, 1996, 1996, 1996, 1996, 1997, 1997, 1997, 1997, 1997, 1997, 1998, 1998, 1998, 1998, 1998, 1998, 1998, 1999, 1999, 1999, 1999, 1999, 2000, 2000, 2000, 2000, 2000, 2000, 2001, 2001, 2001, 2001, 2001, 2001, 2001, 2002, 2002, 2002, 2002, 2002, 2002, 2003, 2003, 2003, 2003, 2004, 2004, 2004, 2004, 2004, 2004, 2004, 2004, 2004, 2005, 2005, 2005, 2005, 2005, 2005, 2006, 2006, 2006, 2007, 2007, 2007, 2008, 2008, 2008, 2008, 2008, 2008, 2008, 2008, 2008, 2008, 2009, 2009, 2009, 2009, 2009, 2009, 2009, 2009, 2009, 2009, 2010, 2010, 2010, 2011, 2011, 2011, 2011, 2011, 2011, 2011, 2011, 2011, 2012, 2012, 2012, 2012, 2012, 2013, 2013, 2013, 2013, 2013, 2014, 2014, 2014, 2015, 2015, 2015, 2015, 2015, 2016, 2016, 2017, 2017, 2018, 2018, 2018], \"xaxis\": \"x\", \"y\": [\" Romance\", \" Romance\", \" Romance\", \" Romance\", \" Romance\", \" Romance\", \" Romance\", \" Romance\", \" Romance\", \" Romance\", \" Romance\", \" Romance\", \" Romance\", \" Romance\", \" Romance\", \" Romance\", \" Romance\", \" Romance\", \" Romance\", \" Romance\", \" Romance\", \" Romance\", \" Romance\", \" Romance\", \" Romance\", \" Romance\", \" Romance\", \" Romance\", \" Romance\", \" Romance\", \" Romance\", \" Romance\", \" Romance\", \" Romance\", \" Romance\", \" Romance\", \" Romance\", \" Romance\", \" Romance\", \" Romance\", \" Romance\", \" Romance\", \" Romance\", \" Romance\", \" Romance\", \" Romance\", \" Romance\", \" Romance\", \" Romance\", \" Romance\", \" Romance\", \" Romance\", \" Romance\", \" Romance\", \" Romance\", \" Romance\", \" Romance\", \" Romance\", \" Romance\", \" Romance\", \" Romance\", \" Romance\", \" Romance\", \" Romance\", \" Romance\", \" Romance\", \" Romance\", \" Romance\", \" Romance\", \" Romance\", \" Romance\", \" Romance\", \" Romance\", \" Romance\", \" Romance\", \" Romance\", \" Romance\", \" Romance\", \" Romance\", \" Romance\", \" Romance\", \" Romance\", \" Romance\", \" Romance\", \" Romance\", \" Romance\", \" Romance\", \" Romance\", \" Romance\", \" Romance\", \" Romance\", \" Romance\", \" Romance\", \" Romance\", \" Romance\", \" Romance\", \" Romance\", \" Romance\", \" Romance\", \" Romance\", \" Romance\", \" Romance\", \" Romance\", \" Romance\", \" Romance\", \" Romance\", \" Romance\", \" Romance\", \" Romance\", \" Romance\", \" Romance\", \" Romance\", \" Romance\", \" Romance\", \" Romance\", \" Romance\", \" Romance\", \" Romance\", \" Romance\", \" Romance\", \" Romance\", \" Romance\", \" Romance\", \" Romance\", \" Romance\", \" Romance\", \" Romance\", \" Romance\", \" Romance\", \" Romance\", \" Romance\", \" Romance\", \" Romance\", \" Romance\", \" Romance\", \" Romance\", \" Romance\", \" Romance\", \" Romance\", \" Romance\", \" Romance\", \" Romance\", \" Romance\", \" Romance\", \" Romance\", \" Romance\", \" Romance\", \" Romance\", \" Romance\", \" Romance\", \" Romance\", \" Romance\", \" Romance\", \" Romance\", \" Romance\", \" Romance\", \" Romance\", \" Romance\", \" Romance\", \" Romance\", \" Romance\", \" Romance\", \" Romance\", \" Romance\", \" Romance\", \" Romance\", \" Romance\", \" Romance\"], \"yaxis\": \"y\"}, {\"alignmentgroup\": \"True\", \"hovertemplate\": \"Genre=%{y}<br>ReleaseYear=%{x}<extra></extra>\", \"legendgroup\": \"Adventure\", \"marker\": {\"color\": \"#FF97FF\"}, \"name\": \"Adventure\", \"offsetgroup\": \"Adventure\", \"orientation\": \"v\", \"showlegend\": true, \"textposition\": \"auto\", \"type\": \"bar\", \"x\": [1990, 1990, 1990, 1991, 1991, 1991, 1992, 1992, 1992, 1993, 1993, 1993, 1993, 1993, 1995, 1995, 1995, 1995, 1995, 1996, 1996, 1997, 1997, 1997, 1998, 1998, 1999, 1999, 1999, 2000, 2000, 2000, 2000, 2001, 2002, 2002, 2003, 2003, 2003, 2004, 2004, 2004, 2005, 2005, 2005, 2005, 2005, 2005, 2006, 2006, 2006, 2007, 2007, 2007, 2007, 2007, 2009, 2009, 2009, 2009, 2010, 2010, 2010, 2011, 2011, 2012, 2012, 2012, 2012, 2013, 2013, 2014, 2014, 2014, 2014, 2015, 2016, 2016, 2016, 2017, 2018, 2018], \"xaxis\": \"x\", \"y\": [\"Adventure\", \"Adventure\", \"Adventure\", \"Adventure\", \"Adventure\", \"Adventure\", \"Adventure\", \"Adventure\", \"Adventure\", \"Adventure\", \"Adventure\", \"Adventure\", \"Adventure\", \"Adventure\", \"Adventure\", \"Adventure\", \"Adventure\", \"Adventure\", \"Adventure\", \"Adventure\", \"Adventure\", \"Adventure\", \"Adventure\", \"Adventure\", \"Adventure\", \"Adventure\", \"Adventure\", \"Adventure\", \"Adventure\", \"Adventure\", \"Adventure\", \"Adventure\", \"Adventure\", \"Adventure\", \"Adventure\", \"Adventure\", \"Adventure\", \"Adventure\", \"Adventure\", \"Adventure\", \"Adventure\", \"Adventure\", \"Adventure\", \"Adventure\", \"Adventure\", \"Adventure\", \"Adventure\", \"Adventure\", \"Adventure\", \"Adventure\", \"Adventure\", \"Adventure\", \"Adventure\", \"Adventure\", \"Adventure\", \"Adventure\", \"Adventure\", \"Adventure\", \"Adventure\", \"Adventure\", \"Adventure\", \"Adventure\", \"Adventure\", \"Adventure\", \"Adventure\", \"Adventure\", \"Adventure\", \"Adventure\", \"Adventure\", \"Adventure\", \"Adventure\", \"Adventure\", \"Adventure\", \"Adventure\", \"Adventure\", \"Adventure\", \"Adventure\", \"Adventure\", \"Adventure\", \"Adventure\", \"Adventure\", \"Adventure\"], \"yaxis\": \"y\"}, {\"alignmentgroup\": \"True\", \"hovertemplate\": \"Genre=%{y}<br>ReleaseYear=%{x}<extra></extra>\", \"legendgroup\": \" Comedy\", \"marker\": {\"color\": \"#FECB52\"}, \"name\": \" Comedy\", \"offsetgroup\": \" Comedy\", \"orientation\": \"v\", \"showlegend\": true, \"textposition\": \"auto\", \"type\": \"bar\", \"x\": [1990, 1990, 1990, 1990, 1990, 1990, 1991, 1991, 1991, 1991, 1991, 1991, 1992, 1992, 1992, 1992, 1992, 1992, 1992, 1993, 1993, 1993, 1993, 1993, 1993, 1994, 1994, 1994, 1994, 1994, 1994, 1995, 1995, 1995, 1995, 1995, 1996, 1996, 1996, 1997, 1997, 1997, 1997, 1997, 1998, 1998, 1998, 1998, 1998, 1998, 1998, 1998, 1999, 1999, 1999, 1999, 1999, 1999, 1999, 1999, 1999, 2000, 2000, 2000, 2000, 2000, 2000, 2000, 2001, 2001, 2001, 2002, 2002, 2002, 2002, 2003, 2003, 2003, 2003, 2004, 2004, 2004, 2005, 2005, 2005, 2005, 2005, 2006, 2006, 2006, 2006, 2006, 2006, 2007, 2007, 2007, 2007, 2007, 2007, 2008, 2008, 2008, 2008, 2009, 2009, 2009, 2009, 2009, 2009, 2009, 2010, 2010, 2010, 2010, 2010, 2010, 2010, 2010, 2010, 2010, 2011, 2011, 2011, 2012, 2012, 2012, 2012, 2012, 2012, 2012, 2012, 2012, 2013, 2013, 2013, 2013, 2013, 2013, 2013, 2013, 2013, 2013, 2013, 2014, 2014, 2014, 2014, 2014, 2014, 2014, 2014, 2014, 2014, 2015, 2015, 2015, 2015, 2015, 2015, 2015, 2016, 2016, 2016, 2016, 2016, 2016, 2016, 2016, 2016, 2016, 2016, 2016, 2016, 2016, 2016, 2017, 2017, 2017, 2017, 2017, 2017, 2017, 2017, 2017, 2017, 2017, 2018, 2018, 2018, 2018, 2018, 2018, 2018, 2018, 2018, 2018, 2018, 2018, 2018], \"xaxis\": \"x\", \"y\": [\" Comedy\", \" Comedy\", \" Comedy\", \" Comedy\", \" Comedy\", \" Comedy\", \" Comedy\", \" Comedy\", \" Comedy\", \" Comedy\", \" Comedy\", \" Comedy\", \" Comedy\", \" Comedy\", \" Comedy\", \" Comedy\", \" Comedy\", \" Comedy\", \" Comedy\", \" Comedy\", \" Comedy\", \" Comedy\", \" Comedy\", \" Comedy\", \" Comedy\", \" Comedy\", \" Comedy\", \" Comedy\", \" Comedy\", \" Comedy\", \" Comedy\", \" Comedy\", \" Comedy\", \" Comedy\", \" Comedy\", \" Comedy\", \" Comedy\", \" Comedy\", \" Comedy\", \" Comedy\", \" Comedy\", \" Comedy\", \" Comedy\", \" Comedy\", \" Comedy\", \" Comedy\", \" Comedy\", \" Comedy\", \" Comedy\", \" Comedy\", \" Comedy\", \" Comedy\", \" Comedy\", \" Comedy\", \" Comedy\", \" Comedy\", \" Comedy\", \" Comedy\", \" Comedy\", \" Comedy\", \" Comedy\", \" Comedy\", \" Comedy\", \" Comedy\", \" Comedy\", \" Comedy\", \" Comedy\", \" Comedy\", \" Comedy\", \" Comedy\", \" Comedy\", \" Comedy\", \" Comedy\", \" Comedy\", \" Comedy\", \" Comedy\", \" Comedy\", \" Comedy\", \" Comedy\", \" Comedy\", \" Comedy\", \" Comedy\", \" Comedy\", \" Comedy\", \" Comedy\", \" Comedy\", \" Comedy\", \" Comedy\", \" Comedy\", \" Comedy\", \" Comedy\", \" Comedy\", \" Comedy\", \" Comedy\", \" Comedy\", \" Comedy\", \" Comedy\", \" Comedy\", \" Comedy\", \" Comedy\", \" Comedy\", \" Comedy\", \" Comedy\", \" Comedy\", \" Comedy\", \" Comedy\", \" Comedy\", \" Comedy\", \" Comedy\", \" Comedy\", \" Comedy\", \" Comedy\", \" Comedy\", \" Comedy\", \" Comedy\", \" Comedy\", \" Comedy\", \" Comedy\", \" Comedy\", \" Comedy\", \" Comedy\", \" Comedy\", \" Comedy\", \" Comedy\", \" Comedy\", \" Comedy\", \" Comedy\", \" Comedy\", \" Comedy\", \" Comedy\", \" Comedy\", \" Comedy\", \" Comedy\", \" Comedy\", \" Comedy\", \" Comedy\", \" Comedy\", \" Comedy\", \" Comedy\", \" Comedy\", \" Comedy\", \" Comedy\", \" Comedy\", \" Comedy\", \" Comedy\", \" Comedy\", \" Comedy\", \" Comedy\", \" Comedy\", \" Comedy\", \" Comedy\", \" Comedy\", \" Comedy\", \" Comedy\", \" Comedy\", \" Comedy\", \" Comedy\", \" Comedy\", \" Comedy\", \" Comedy\", \" Comedy\", \" Comedy\", \" Comedy\", \" Comedy\", \" Comedy\", \" Comedy\", \" Comedy\", \" Comedy\", \" Comedy\", \" Comedy\", \" Comedy\", \" Comedy\", \" Comedy\", \" Comedy\", \" Comedy\", \" Comedy\", \" Comedy\", \" Comedy\", \" Comedy\", \" Comedy\", \" Comedy\", \" Comedy\", \" Comedy\", \" Comedy\", \" Comedy\", \" Comedy\", \" Comedy\", \" Comedy\", \" Comedy\", \" Comedy\", \" Comedy\", \" Comedy\", \" Comedy\", \" Comedy\", \" Comedy\", \" Comedy\", \" Comedy\", \" Comedy\", \" Comedy\"], \"yaxis\": \"y\"}, {\"alignmentgroup\": \"True\", \"hovertemplate\": \"Genre=%{y}<br>ReleaseYear=%{x}<extra></extra>\", \"legendgroup\": \" Sci-Fi\", \"marker\": {\"color\": \"#636efa\"}, \"name\": \" Sci-Fi\", \"offsetgroup\": \" Sci-Fi\", \"orientation\": \"v\", \"showlegend\": true, \"textposition\": \"auto\", \"type\": \"bar\", \"x\": [1990, 1990, 1990, 1990, 1990, 1990, 1991, 1991, 1992, 1992, 1992, 1993, 1993, 1993, 1994, 1994, 1994, 1995, 1995, 1995, 1995, 1995, 1995, 1996, 1996, 1996, 1996, 1997, 1997, 1997, 1997, 1997, 1997, 1997, 1997, 1997, 1997, 1997, 1998, 1998, 1998, 1998, 1998, 1998, 1998, 1998, 1999, 1999, 1999, 1999, 1999, 2000, 2000, 2000, 2000, 2000, 2000, 2001, 2001, 2001, 2001, 2001, 2001, 2002, 2002, 2002, 2002, 2002, 2002, 2002, 2003, 2003, 2003, 2003, 2003, 2004, 2004, 2004, 2004, 2004, 2004, 2004, 2005, 2005, 2005, 2005, 2005, 2006, 2006, 2006, 2006, 2006, 2006, 2007, 2007, 2007, 2007, 2007, 2007, 2008, 2008, 2008, 2008, 2008, 2008, 2009, 2009, 2009, 2009, 2009, 2009, 2009, 2009, 2009, 2010, 2010, 2010, 2010, 2011, 2011, 2011, 2011, 2011, 2011, 2011, 2011, 2011, 2011, 2011, 2012, 2012, 2012, 2012, 2012, 2012, 2012, 2012, 2012, 2013, 2013, 2013, 2013, 2013, 2013, 2013, 2013, 2013, 2013, 2013, 2013, 2013, 2013, 2013, 2013, 2014, 2014, 2014, 2014, 2014, 2014, 2014, 2014, 2014, 2014, 2014, 2014, 2014, 2014, 2014, 2015, 2015, 2015, 2015, 2015, 2015, 2015, 2015, 2015, 2015, 2015, 2015, 2016, 2016, 2016, 2016, 2016, 2016, 2016, 2016, 2016, 2016, 2017, 2017, 2017, 2017, 2017, 2017, 2017, 2018, 2018, 2018, 2018, 2018, 2018, 2018, 2018, 2018, 2018, 2018, 2018, 2018, 2018, 2018, 2018, 2018, 2018], \"xaxis\": \"x\", \"y\": [\" Sci-Fi\", \" Sci-Fi\", \" Sci-Fi\", \" Sci-Fi\", \" Sci-Fi\", \" Sci-Fi\", \" Sci-Fi\", \" Sci-Fi\", \" Sci-Fi\", \" Sci-Fi\", \" Sci-Fi\", \" Sci-Fi\", \" Sci-Fi\", \" Sci-Fi\", \" Sci-Fi\", \" Sci-Fi\", \" Sci-Fi\", \" Sci-Fi\", \" Sci-Fi\", \" Sci-Fi\", \" Sci-Fi\", \" Sci-Fi\", \" Sci-Fi\", \" Sci-Fi\", \" Sci-Fi\", \" Sci-Fi\", \" Sci-Fi\", \" Sci-Fi\", \" Sci-Fi\", \" Sci-Fi\", \" Sci-Fi\", \" Sci-Fi\", \" Sci-Fi\", \" Sci-Fi\", \" Sci-Fi\", \" Sci-Fi\", \" Sci-Fi\", \" Sci-Fi\", \" Sci-Fi\", \" Sci-Fi\", \" Sci-Fi\", \" Sci-Fi\", \" Sci-Fi\", \" Sci-Fi\", \" Sci-Fi\", \" Sci-Fi\", \" Sci-Fi\", \" Sci-Fi\", \" Sci-Fi\", \" Sci-Fi\", \" Sci-Fi\", \" Sci-Fi\", \" Sci-Fi\", \" Sci-Fi\", \" Sci-Fi\", \" Sci-Fi\", \" Sci-Fi\", \" Sci-Fi\", \" Sci-Fi\", \" Sci-Fi\", \" Sci-Fi\", \" Sci-Fi\", \" Sci-Fi\", \" Sci-Fi\", \" Sci-Fi\", \" Sci-Fi\", \" Sci-Fi\", \" Sci-Fi\", \" Sci-Fi\", \" Sci-Fi\", \" Sci-Fi\", \" Sci-Fi\", \" Sci-Fi\", \" Sci-Fi\", \" Sci-Fi\", \" Sci-Fi\", \" Sci-Fi\", \" Sci-Fi\", \" Sci-Fi\", \" Sci-Fi\", \" Sci-Fi\", \" Sci-Fi\", \" Sci-Fi\", \" Sci-Fi\", \" Sci-Fi\", \" Sci-Fi\", \" Sci-Fi\", \" Sci-Fi\", \" Sci-Fi\", \" Sci-Fi\", \" Sci-Fi\", \" Sci-Fi\", \" Sci-Fi\", \" Sci-Fi\", \" Sci-Fi\", \" Sci-Fi\", \" Sci-Fi\", \" Sci-Fi\", \" Sci-Fi\", \" Sci-Fi\", \" Sci-Fi\", \" Sci-Fi\", \" Sci-Fi\", \" Sci-Fi\", \" Sci-Fi\", \" Sci-Fi\", \" Sci-Fi\", \" Sci-Fi\", \" Sci-Fi\", \" Sci-Fi\", \" Sci-Fi\", \" Sci-Fi\", \" Sci-Fi\", \" Sci-Fi\", \" Sci-Fi\", \" Sci-Fi\", \" Sci-Fi\", \" Sci-Fi\", \" Sci-Fi\", \" Sci-Fi\", \" Sci-Fi\", \" Sci-Fi\", \" Sci-Fi\", \" Sci-Fi\", \" Sci-Fi\", \" Sci-Fi\", \" Sci-Fi\", \" Sci-Fi\", \" Sci-Fi\", \" Sci-Fi\", \" Sci-Fi\", \" Sci-Fi\", \" Sci-Fi\", \" Sci-Fi\", \" Sci-Fi\", \" Sci-Fi\", \" Sci-Fi\", \" Sci-Fi\", \" Sci-Fi\", \" Sci-Fi\", \" Sci-Fi\", \" Sci-Fi\", \" Sci-Fi\", \" Sci-Fi\", \" Sci-Fi\", \" Sci-Fi\", \" Sci-Fi\", \" Sci-Fi\", \" Sci-Fi\", \" Sci-Fi\", \" Sci-Fi\", \" Sci-Fi\", \" Sci-Fi\", \" Sci-Fi\", \" Sci-Fi\", \" Sci-Fi\", \" Sci-Fi\", \" Sci-Fi\", \" Sci-Fi\", \" Sci-Fi\", \" Sci-Fi\", \" Sci-Fi\", \" Sci-Fi\", \" Sci-Fi\", \" Sci-Fi\", \" Sci-Fi\", \" Sci-Fi\", \" Sci-Fi\", \" Sci-Fi\", \" Sci-Fi\", \" Sci-Fi\", \" Sci-Fi\", \" Sci-Fi\", \" Sci-Fi\", \" Sci-Fi\", \" Sci-Fi\", \" Sci-Fi\", \" Sci-Fi\", \" Sci-Fi\", \" Sci-Fi\", \" Sci-Fi\", \" Sci-Fi\", \" Sci-Fi\", \" Sci-Fi\", \" Sci-Fi\", \" Sci-Fi\", \" Sci-Fi\", \" Sci-Fi\", \" Sci-Fi\", \" Sci-Fi\", \" Sci-Fi\", \" Sci-Fi\", \" Sci-Fi\", \" Sci-Fi\", \" Sci-Fi\", \" Sci-Fi\", \" Sci-Fi\", \" Sci-Fi\", \" Sci-Fi\", \" Sci-Fi\", \" Sci-Fi\", \" Sci-Fi\", \" Sci-Fi\", \" Sci-Fi\", \" Sci-Fi\", \" Sci-Fi\", \" Sci-Fi\", \" Sci-Fi\", \" Sci-Fi\", \" Sci-Fi\", \" Sci-Fi\", \" Sci-Fi\", \" Sci-Fi\", \" Sci-Fi\", \" Sci-Fi\", \" Sci-Fi\"], \"yaxis\": \"y\"}, {\"alignmentgroup\": \"True\", \"hovertemplate\": \"Genre=%{y}<br>ReleaseYear=%{x}<extra></extra>\", \"legendgroup\": \"Crime\", \"marker\": {\"color\": \"#EF553B\"}, \"name\": \"Crime\", \"offsetgroup\": \"Crime\", \"orientation\": \"v\", \"showlegend\": true, \"textposition\": \"auto\", \"type\": \"bar\", \"x\": [1990, 1990, 1990, 1991, 1991, 1991, 1991, 1992, 1992, 1992, 1992, 1992, 1993, 1993, 1993, 1993, 1993, 1993, 1993, 1993, 1994, 1994, 1994, 1995, 1995, 1995, 1995, 1995, 1996, 1996, 1996, 1996, 1997, 1997, 1997, 1998, 1998, 1998, 1999, 1999, 1999, 2000, 2000, 2001, 2001, 2001, 2001, 2002, 2002, 2002, 2002, 2002, 2002, 2002, 2002, 2003, 2003, 2003, 2004, 2004, 2004, 2005, 2005, 2005, 2006, 2006, 2006, 2006, 2007, 2007, 2007, 2007, 2007, 2007, 2008, 2009, 2010, 2011, 2011, 2012, 2012, 2012, 2013, 2013, 2013, 2013, 2013, 2014, 2015, 2016, 2016, 2017, 2017, 2018], \"xaxis\": \"x\", \"y\": [\"Crime\", \"Crime\", \"Crime\", \"Crime\", \"Crime\", \"Crime\", \"Crime\", \"Crime\", \"Crime\", \"Crime\", \"Crime\", \"Crime\", \"Crime\", \"Crime\", \"Crime\", \"Crime\", \"Crime\", \"Crime\", \"Crime\", \"Crime\", \"Crime\", \"Crime\", \"Crime\", \"Crime\", \"Crime\", \"Crime\", \"Crime\", \"Crime\", \"Crime\", \"Crime\", \"Crime\", \"Crime\", \"Crime\", \"Crime\", \"Crime\", \"Crime\", \"Crime\", \"Crime\", \"Crime\", \"Crime\", \"Crime\", \"Crime\", \"Crime\", \"Crime\", \"Crime\", \"Crime\", \"Crime\", \"Crime\", \"Crime\", \"Crime\", \"Crime\", \"Crime\", \"Crime\", \"Crime\", \"Crime\", \"Crime\", \"Crime\", \"Crime\", \"Crime\", \"Crime\", \"Crime\", \"Crime\", \"Crime\", \"Crime\", \"Crime\", \"Crime\", \"Crime\", \"Crime\", \"Crime\", \"Crime\", \"Crime\", \"Crime\", \"Crime\", \"Crime\", \"Crime\", \"Crime\", \"Crime\", \"Crime\", \"Crime\", \"Crime\", \"Crime\", \"Crime\", \"Crime\", \"Crime\", \"Crime\", \"Crime\", \"Crime\", \"Crime\", \"Crime\", \"Crime\", \"Crime\", \"Crime\", \"Crime\", \"Crime\"], \"yaxis\": \"y\"}, {\"alignmentgroup\": \"True\", \"hovertemplate\": \"Genre=%{y}<br>ReleaseYear=%{x}<extra></extra>\", \"legendgroup\": \"Action\", \"marker\": {\"color\": \"#00cc96\"}, \"name\": \"Action\", \"offsetgroup\": \"Action\", \"orientation\": \"v\", \"showlegend\": true, \"textposition\": \"auto\", \"type\": \"bar\", \"x\": [1990, 1990, 1990, 1990, 1990, 1990, 1990, 1990, 1990, 1990, 1990, 1990, 1990, 1990, 1991, 1991, 1991, 1991, 1991, 1991, 1991, 1991, 1991, 1991, 1991, 1991, 1992, 1992, 1992, 1992, 1992, 1992, 1992, 1992, 1992, 1992, 1992, 1992, 1992, 1993, 1993, 1993, 1993, 1993, 1993, 1993, 1993, 1993, 1994, 1994, 1994, 1994, 1994, 1994, 1994, 1994, 1994, 1994, 1994, 1994, 1994, 1994, 1995, 1995, 1995, 1995, 1995, 1995, 1995, 1995, 1995, 1995, 1995, 1995, 1995, 1995, 1995, 1995, 1996, 1996, 1996, 1996, 1996, 1996, 1996, 1996, 1996, 1996, 1996, 1996, 1996, 1996, 1997, 1997, 1997, 1997, 1997, 1997, 1997, 1997, 1997, 1997, 1997, 1997, 1997, 1997, 1997, 1997, 1998, 1998, 1998, 1998, 1998, 1998, 1998, 1998, 1998, 1998, 1998, 1998, 1998, 1998, 1999, 1999, 1999, 1999, 1999, 1999, 1999, 1999, 1999, 1999, 1999, 1999, 1999, 2000, 2000, 2000, 2000, 2000, 2000, 2000, 2000, 2000, 2000, 2000, 2000, 2001, 2001, 2001, 2001, 2001, 2001, 2001, 2001, 2001, 2001, 2001, 2002, 2002, 2002, 2002, 2002, 2002, 2002, 2002, 2002, 2002, 2002, 2002, 2002, 2002, 2002, 2002, 2002, 2002, 2003, 2003, 2003, 2003, 2003, 2003, 2003, 2003, 2003, 2003, 2003, 2003, 2003, 2003, 2003, 2003, 2003, 2003, 2003, 2003, 2003, 2003, 2004, 2004, 2004, 2004, 2004, 2004, 2004, 2004, 2004, 2004, 2004, 2004, 2004, 2005, 2005, 2005, 2005, 2005, 2005, 2005, 2005, 2005, 2005, 2005, 2005, 2005, 2005, 2005, 2006, 2006, 2006, 2006, 2006, 2006, 2006, 2006, 2006, 2006, 2006, 2006, 2006, 2007, 2007, 2007, 2007, 2007, 2007, 2007, 2007, 2007, 2007, 2007, 2007, 2007, 2007, 2007, 2007, 2008, 2008, 2008, 2008, 2008, 2008, 2008, 2008, 2008, 2008, 2008, 2008, 2008, 2008, 2008, 2008, 2008, 2008, 2008, 2009, 2009, 2009, 2009, 2009, 2009, 2009, 2009, 2009, 2009, 2009, 2009, 2009, 2009, 2009, 2009, 2009, 2010, 2010, 2010, 2010, 2010, 2010, 2010, 2010, 2010, 2010, 2010, 2010, 2010, 2010, 2010, 2010, 2010, 2010, 2010, 2010, 2010, 2011, 2011, 2011, 2011, 2011, 2011, 2011, 2011, 2011, 2011, 2011, 2011, 2011, 2011, 2011, 2011, 2011, 2011, 2011, 2011, 2011, 2011, 2012, 2012, 2012, 2012, 2012, 2012, 2012, 2012, 2012, 2012, 2012, 2012, 2012, 2012, 2012, 2012, 2012, 2012, 2012, 2012, 2012, 2012, 2012, 2013, 2013, 2013, 2013, 2013, 2013, 2013, 2013, 2013, 2013, 2013, 2013, 2013, 2013, 2013, 2013, 2013, 2013, 2013, 2013, 2013, 2013, 2013, 2013, 2013, 2013, 2013, 2013, 2014, 2014, 2014, 2014, 2014, 2014, 2014, 2014, 2014, 2014, 2014, 2014, 2014, 2014, 2014, 2014, 2014, 2014, 2014, 2014, 2014, 2014, 2014, 2014, 2014, 2014, 2014, 2014, 2014, 2014, 2014, 2014, 2014, 2014, 2014, 2015, 2015, 2015, 2015, 2015, 2015, 2015, 2015, 2015, 2015, 2015, 2015, 2015, 2015, 2015, 2015, 2015, 2015, 2015, 2015, 2015, 2015, 2015, 2015, 2015, 2015, 2015, 2016, 2016, 2016, 2016, 2016, 2016, 2016, 2016, 2016, 2016, 2016, 2016, 2016, 2016, 2016, 2016, 2016, 2016, 2016, 2016, 2016, 2016, 2016, 2016, 2016, 2016, 2016, 2016, 2016, 2017, 2017, 2017, 2017, 2017, 2017, 2017, 2017, 2017, 2017, 2017, 2017, 2017, 2017, 2017, 2017, 2017, 2017, 2017, 2017, 2017, 2017, 2017, 2017, 2017, 2017, 2017, 2017, 2017, 2017, 2017, 2017, 2017, 2017, 2018, 2018, 2018, 2018, 2018, 2018, 2018, 2018, 2018, 2018, 2018, 2018, 2018, 2018, 2018, 2018, 2018, 2018, 2018, 2018, 2018, 2018, 2018, 2018, 2018, 2018, 2018, 2018], \"xaxis\": \"x\", \"y\": [\"Action\", \"Action\", \"Action\", \"Action\", \"Action\", \"Action\", \"Action\", \"Action\", \"Action\", \"Action\", \"Action\", \"Action\", \"Action\", \"Action\", \"Action\", \"Action\", \"Action\", \"Action\", \"Action\", \"Action\", \"Action\", \"Action\", \"Action\", \"Action\", \"Action\", \"Action\", \"Action\", \"Action\", \"Action\", \"Action\", \"Action\", \"Action\", \"Action\", \"Action\", \"Action\", \"Action\", \"Action\", \"Action\", \"Action\", \"Action\", \"Action\", \"Action\", \"Action\", \"Action\", \"Action\", \"Action\", \"Action\", \"Action\", \"Action\", \"Action\", \"Action\", \"Action\", \"Action\", \"Action\", \"Action\", \"Action\", \"Action\", \"Action\", \"Action\", \"Action\", \"Action\", \"Action\", \"Action\", \"Action\", \"Action\", \"Action\", \"Action\", \"Action\", \"Action\", \"Action\", \"Action\", \"Action\", \"Action\", \"Action\", \"Action\", \"Action\", \"Action\", \"Action\", \"Action\", \"Action\", \"Action\", \"Action\", \"Action\", \"Action\", \"Action\", \"Action\", \"Action\", \"Action\", \"Action\", \"Action\", \"Action\", \"Action\", \"Action\", \"Action\", \"Action\", \"Action\", \"Action\", \"Action\", \"Action\", \"Action\", \"Action\", \"Action\", \"Action\", \"Action\", \"Action\", \"Action\", \"Action\", \"Action\", \"Action\", \"Action\", \"Action\", \"Action\", \"Action\", \"Action\", \"Action\", \"Action\", \"Action\", \"Action\", \"Action\", \"Action\", \"Action\", \"Action\", \"Action\", \"Action\", \"Action\", \"Action\", \"Action\", \"Action\", \"Action\", \"Action\", \"Action\", \"Action\", \"Action\", \"Action\", \"Action\", \"Action\", \"Action\", \"Action\", \"Action\", \"Action\", \"Action\", \"Action\", \"Action\", \"Action\", \"Action\", \"Action\", \"Action\", \"Action\", \"Action\", \"Action\", \"Action\", \"Action\", \"Action\", \"Action\", \"Action\", \"Action\", \"Action\", \"Action\", \"Action\", \"Action\", \"Action\", \"Action\", \"Action\", \"Action\", \"Action\", \"Action\", \"Action\", \"Action\", \"Action\", \"Action\", \"Action\", \"Action\", \"Action\", \"Action\", \"Action\", \"Action\", \"Action\", \"Action\", \"Action\", \"Action\", \"Action\", \"Action\", \"Action\", \"Action\", \"Action\", \"Action\", \"Action\", \"Action\", \"Action\", \"Action\", \"Action\", \"Action\", \"Action\", \"Action\", \"Action\", \"Action\", \"Action\", \"Action\", \"Action\", \"Action\", \"Action\", \"Action\", \"Action\", \"Action\", \"Action\", \"Action\", \"Action\", \"Action\", \"Action\", \"Action\", \"Action\", \"Action\", \"Action\", \"Action\", \"Action\", \"Action\", \"Action\", \"Action\", \"Action\", \"Action\", \"Action\", \"Action\", \"Action\", \"Action\", \"Action\", \"Action\", \"Action\", \"Action\", \"Action\", \"Action\", \"Action\", \"Action\", \"Action\", \"Action\", \"Action\", \"Action\", \"Action\", \"Action\", \"Action\", \"Action\", \"Action\", \"Action\", \"Action\", \"Action\", \"Action\", \"Action\", \"Action\", \"Action\", \"Action\", \"Action\", \"Action\", \"Action\", \"Action\", \"Action\", \"Action\", \"Action\", \"Action\", \"Action\", \"Action\", \"Action\", \"Action\", \"Action\", \"Action\", \"Action\", \"Action\", \"Action\", \"Action\", \"Action\", \"Action\", \"Action\", \"Action\", \"Action\", \"Action\", \"Action\", \"Action\", \"Action\", \"Action\", \"Action\", \"Action\", \"Action\", \"Action\", \"Action\", \"Action\", \"Action\", \"Action\", \"Action\", \"Action\", \"Action\", \"Action\", \"Action\", \"Action\", \"Action\", \"Action\", \"Action\", \"Action\", \"Action\", \"Action\", \"Action\", \"Action\", \"Action\", \"Action\", \"Action\", \"Action\", \"Action\", \"Action\", \"Action\", \"Action\", \"Action\", \"Action\", \"Action\", \"Action\", \"Action\", \"Action\", \"Action\", \"Action\", \"Action\", \"Action\", \"Action\", \"Action\", \"Action\", \"Action\", \"Action\", \"Action\", \"Action\", \"Action\", \"Action\", \"Action\", \"Action\", \"Action\", \"Action\", \"Action\", \"Action\", \"Action\", \"Action\", \"Action\", \"Action\", \"Action\", \"Action\", \"Action\", \"Action\", \"Action\", \"Action\", \"Action\", \"Action\", \"Action\", \"Action\", \"Action\", \"Action\", \"Action\", \"Action\", \"Action\", \"Action\", \"Action\", \"Action\", \"Action\", \"Action\", \"Action\", \"Action\", \"Action\", \"Action\", \"Action\", \"Action\", \"Action\", \"Action\", \"Action\", \"Action\", \"Action\", \"Action\", \"Action\", \"Action\", \"Action\", \"Action\", \"Action\", \"Action\", \"Action\", \"Action\", \"Action\", \"Action\", \"Action\", \"Action\", \"Action\", \"Action\", \"Action\", \"Action\", \"Action\", \"Action\", \"Action\", \"Action\", \"Action\", \"Action\", \"Action\", \"Action\", \"Action\", \"Action\", \"Action\", \"Action\", \"Action\", \"Action\", \"Action\", \"Action\", \"Action\", \"Action\", \"Action\", \"Action\", \"Action\", \"Action\", \"Action\", \"Action\", \"Action\", \"Action\", \"Action\", \"Action\", \"Action\", \"Action\", \"Action\", \"Action\", \"Action\", \"Action\", \"Action\", \"Action\", \"Action\", \"Action\", \"Action\", \"Action\", \"Action\", \"Action\", \"Action\", \"Action\", \"Action\", \"Action\", \"Action\", \"Action\", \"Action\", \"Action\", \"Action\", \"Action\", \"Action\", \"Action\", \"Action\", \"Action\", \"Action\", \"Action\", \"Action\", \"Action\", \"Action\", \"Action\", \"Action\", \"Action\", \"Action\", \"Action\", \"Action\", \"Action\", \"Action\", \"Action\", \"Action\", \"Action\", \"Action\", \"Action\", \"Action\", \"Action\", \"Action\", \"Action\", \"Action\", \"Action\", \"Action\", \"Action\", \"Action\", \"Action\", \"Action\", \"Action\", \"Action\", \"Action\", \"Action\", \"Action\", \"Action\", \"Action\", \"Action\", \"Action\", \"Action\", \"Action\", \"Action\", \"Action\", \"Action\", \"Action\", \"Action\", \"Action\", \"Action\", \"Action\", \"Action\", \"Action\", \"Action\", \"Action\", \"Action\", \"Action\", \"Action\", \"Action\", \"Action\", \"Action\", \"Action\", \"Action\", \"Action\", \"Action\", \"Action\", \"Action\", \"Action\", \"Action\", \"Action\", \"Action\", \"Action\", \"Action\", \"Action\", \"Action\", \"Action\", \"Action\", \"Action\", \"Action\", \"Action\", \"Action\", \"Action\", \"Action\", \"Action\", \"Action\", \"Action\", \"Action\", \"Action\", \"Action\", \"Action\", \"Action\", \"Action\", \"Action\", \"Action\", \"Action\", \"Action\", \"Action\", \"Action\", \"Action\", \"Action\", \"Action\"], \"yaxis\": \"y\"}, {\"alignmentgroup\": \"True\", \"hovertemplate\": \"Genre=%{y}<br>ReleaseYear=%{x}<extra></extra>\", \"legendgroup\": \" Thriller\", \"marker\": {\"color\": \"#ab63fa\"}, \"name\": \" Thriller\", \"offsetgroup\": \" Thriller\", \"orientation\": \"v\", \"showlegend\": true, \"textposition\": \"auto\", \"type\": \"bar\", \"x\": [1990, 1990, 1990, 1990, 1990, 1990, 1990, 1990, 1990, 1990, 1991, 1991, 1991, 1991, 1991, 1991, 1991, 1992, 1992, 1992, 1992, 1992, 1992, 1992, 1992, 1992, 1992, 1992, 1992, 1993, 1993, 1993, 1993, 1993, 1993, 1993, 1993, 1994, 1994, 1994, 1994, 1994, 1995, 1995, 1995, 1995, 1995, 1995, 1995, 1995, 1995, 1995, 1995, 1996, 1996, 1996, 1996, 1996, 1996, 1996, 1996, 1996, 1996, 1996, 1997, 1997, 1997, 1997, 1997, 1997, 1997, 1997, 1997, 1997, 1997, 1998, 1998, 1998, 1998, 1998, 1998, 1998, 1999, 1999, 1999, 1999, 1999, 1999, 1999, 1999, 2000, 2000, 2000, 2000, 2000, 2000, 2001, 2001, 2001, 2001, 2001, 2001, 2001, 2001, 2001, 2001, 2002, 2002, 2002, 2002, 2002, 2002, 2002, 2002, 2002, 2002, 2003, 2003, 2003, 2003, 2003, 2003, 2003, 2003, 2003, 2003, 2004, 2004, 2004, 2004, 2004, 2004, 2004, 2004, 2004, 2005, 2005, 2005, 2005, 2005, 2005, 2005, 2005, 2005, 2006, 2006, 2006, 2006, 2006, 2006, 2006, 2006, 2006, 2006, 2006, 2007, 2007, 2007, 2007, 2007, 2007, 2007, 2007, 2007, 2007, 2007, 2007, 2008, 2008, 2008, 2008, 2008, 2008, 2008, 2008, 2008, 2009, 2009, 2009, 2009, 2009, 2009, 2009, 2010, 2010, 2010, 2010, 2010, 2010, 2010, 2010, 2010, 2011, 2011, 2011, 2011, 2011, 2011, 2011, 2011, 2011, 2012, 2012, 2012, 2012, 2012, 2012, 2012, 2012, 2012, 2012, 2012, 2012, 2012, 2012, 2013, 2013, 2013, 2013, 2013, 2013, 2013, 2014, 2014, 2014, 2014, 2014, 2014, 2014, 2014, 2014, 2015, 2015, 2015, 2015, 2015, 2015, 2015, 2015, 2016, 2016, 2016, 2016, 2016, 2017, 2017, 2017, 2017, 2017, 2017, 2018, 2018, 2018, 2018, 2018, 2018, 2018], \"xaxis\": \"x\", \"y\": [\" Thriller\", \" Thriller\", \" Thriller\", \" Thriller\", \" Thriller\", \" Thriller\", \" Thriller\", \" Thriller\", \" Thriller\", \" Thriller\", \" Thriller\", \" Thriller\", \" Thriller\", \" Thriller\", \" Thriller\", \" Thriller\", \" Thriller\", \" Thriller\", \" Thriller\", \" Thriller\", \" Thriller\", \" Thriller\", \" Thriller\", \" Thriller\", \" Thriller\", \" Thriller\", \" Thriller\", \" Thriller\", \" Thriller\", \" Thriller\", \" Thriller\", \" Thriller\", \" Thriller\", \" Thriller\", \" Thriller\", \" Thriller\", \" Thriller\", \" Thriller\", \" Thriller\", \" Thriller\", \" Thriller\", \" Thriller\", \" Thriller\", \" Thriller\", \" Thriller\", \" Thriller\", \" Thriller\", \" Thriller\", \" Thriller\", \" Thriller\", \" Thriller\", \" Thriller\", \" Thriller\", \" Thriller\", \" Thriller\", \" Thriller\", \" Thriller\", \" Thriller\", \" Thriller\", \" Thriller\", \" Thriller\", \" Thriller\", \" Thriller\", \" Thriller\", \" Thriller\", \" Thriller\", \" Thriller\", \" Thriller\", \" Thriller\", \" Thriller\", \" Thriller\", \" Thriller\", \" Thriller\", \" Thriller\", \" Thriller\", \" Thriller\", \" Thriller\", \" Thriller\", \" Thriller\", \" Thriller\", \" Thriller\", \" Thriller\", \" Thriller\", \" Thriller\", \" Thriller\", \" Thriller\", \" Thriller\", \" Thriller\", \" Thriller\", \" Thriller\", \" Thriller\", \" Thriller\", \" Thriller\", \" Thriller\", \" Thriller\", \" Thriller\", \" Thriller\", \" Thriller\", \" Thriller\", \" Thriller\", \" Thriller\", \" Thriller\", \" Thriller\", \" Thriller\", \" Thriller\", \" Thriller\", \" Thriller\", \" Thriller\", \" Thriller\", \" Thriller\", \" Thriller\", \" Thriller\", \" Thriller\", \" Thriller\", \" Thriller\", \" Thriller\", \" Thriller\", \" Thriller\", \" Thriller\", \" Thriller\", \" Thriller\", \" Thriller\", \" Thriller\", \" Thriller\", \" Thriller\", \" Thriller\", \" Thriller\", \" Thriller\", \" Thriller\", \" Thriller\", \" Thriller\", \" Thriller\", \" Thriller\", \" Thriller\", \" Thriller\", \" Thriller\", \" Thriller\", \" Thriller\", \" Thriller\", \" Thriller\", \" Thriller\", \" Thriller\", \" Thriller\", \" Thriller\", \" Thriller\", \" Thriller\", \" Thriller\", \" Thriller\", \" Thriller\", \" Thriller\", \" Thriller\", \" Thriller\", \" Thriller\", \" Thriller\", \" Thriller\", \" Thriller\", \" Thriller\", \" Thriller\", \" Thriller\", \" Thriller\", \" Thriller\", \" Thriller\", \" Thriller\", \" Thriller\", \" Thriller\", \" Thriller\", \" Thriller\", \" Thriller\", \" Thriller\", \" Thriller\", \" Thriller\", \" Thriller\", \" Thriller\", \" Thriller\", \" Thriller\", \" Thriller\", \" Thriller\", \" Thriller\", \" Thriller\", \" Thriller\", \" Thriller\", \" Thriller\", \" Thriller\", \" Thriller\", \" Thriller\", \" Thriller\", \" Thriller\", \" Thriller\", \" Thriller\", \" Thriller\", \" Thriller\", \" Thriller\", \" Thriller\", \" Thriller\", \" Thriller\", \" Thriller\", \" Thriller\", \" Thriller\", \" Thriller\", \" Thriller\", \" Thriller\", \" Thriller\", \" Thriller\", \" Thriller\", \" Thriller\", \" Thriller\", \" Thriller\", \" Thriller\", \" Thriller\", \" Thriller\", \" Thriller\", \" Thriller\", \" Thriller\", \" Thriller\", \" Thriller\", \" Thriller\", \" Thriller\", \" Thriller\", \" Thriller\", \" Thriller\", \" Thriller\", \" Thriller\", \" Thriller\", \" Thriller\", \" Thriller\", \" Thriller\", \" Thriller\", \" Thriller\", \" Thriller\", \" Thriller\", \" Thriller\", \" Thriller\", \" Thriller\", \" Thriller\", \" Thriller\", \" Thriller\", \" Thriller\", \" Thriller\", \" Thriller\", \" Thriller\", \" Thriller\", \" Thriller\", \" Thriller\", \" Thriller\", \" Thriller\", \" Thriller\", \" Thriller\", \" Thriller\", \" Thriller\", \" Thriller\", \" Thriller\", \" Thriller\", \" Thriller\", \" Thriller\", \" Thriller\", \" Thriller\", \" Thriller\"], \"yaxis\": \"y\"}, {\"alignmentgroup\": \"True\", \"hovertemplate\": \"Genre=%{y}<br>ReleaseYear=%{x}<extra></extra>\", \"legendgroup\": \" Western\", \"marker\": {\"color\": \"#FFA15A\"}, \"name\": \" Western\", \"offsetgroup\": \" Western\", \"orientation\": \"v\", \"showlegend\": true, \"textposition\": \"auto\", \"type\": \"bar\", \"x\": [1990, 1990, 1992, 1992, 2010, 2012, 2012, 2016, 2016], \"xaxis\": \"x\", \"y\": [\" Western\", \" Western\", \" Western\", \" Western\", \" Western\", \" Western\", \" Western\", \" Western\", \" Western\"], \"yaxis\": \"y\"}, {\"alignmentgroup\": \"True\", \"hovertemplate\": \"Genre=%{y}<br>ReleaseYear=%{x}<extra></extra>\", \"legendgroup\": \" Adventure\", \"marker\": {\"color\": \"#19d3f3\"}, \"name\": \" Adventure\", \"offsetgroup\": \" Adventure\", \"orientation\": \"v\", \"showlegend\": true, \"textposition\": \"auto\", \"type\": \"bar\", \"x\": [1990, 1990, 1990, 1991, 1991, 1991, 1991, 1991, 1991, 1992, 1992, 1992, 1993, 1993, 1993, 1993, 1994, 1994, 1994, 1994, 1994, 1994, 1995, 1995, 1995, 1995, 1995, 1995, 1995, 1995, 1996, 1996, 1996, 1996, 1996, 1996, 1996, 1996, 1996, 1996, 1996, 1996, 1997, 1997, 1997, 1997, 1997, 1997, 1997, 1997, 1997, 1997, 1998, 1998, 1998, 1998, 1998, 1998, 1998, 1998, 1999, 1999, 1999, 1999, 1999, 1999, 1999, 1999, 1999, 1999, 2000, 2000, 2000, 2000, 2000, 2000, 2000, 2000, 2000, 2001, 2001, 2001, 2001, 2001, 2001, 2001, 2001, 2001, 2002, 2002, 2002, 2002, 2002, 2002, 2002, 2002, 2002, 2002, 2002, 2002, 2002, 2003, 2003, 2003, 2003, 2003, 2003, 2003, 2003, 2004, 2004, 2004, 2004, 2004, 2004, 2004, 2004, 2004, 2005, 2005, 2005, 2005, 2005, 2005, 2005, 2006, 2006, 2006, 2006, 2006, 2006, 2006, 2006, 2007, 2007, 2007, 2007, 2007, 2007, 2007, 2007, 2008, 2008, 2008, 2008, 2008, 2008, 2008, 2008, 2008, 2008, 2008, 2009, 2009, 2009, 2009, 2009, 2009, 2009, 2009, 2009, 2009, 2009, 2009, 2010, 2010, 2010, 2010, 2010, 2010, 2010, 2010, 2010, 2010, 2010, 2010, 2010, 2010, 2010, 2011, 2011, 2011, 2011, 2011, 2011, 2011, 2011, 2011, 2011, 2011, 2011, 2011, 2011, 2011, 2011, 2011, 2012, 2012, 2012, 2012, 2012, 2012, 2012, 2012, 2012, 2012, 2012, 2012, 2012, 2012, 2012, 2012, 2012, 2013, 2013, 2013, 2013, 2013, 2013, 2013, 2013, 2013, 2013, 2013, 2013, 2013, 2013, 2013, 2013, 2013, 2013, 2013, 2013, 2013, 2013, 2014, 2014, 2014, 2014, 2014, 2014, 2014, 2014, 2014, 2014, 2014, 2014, 2014, 2014, 2014, 2014, 2014, 2014, 2014, 2014, 2014, 2014, 2015, 2015, 2015, 2015, 2015, 2015, 2015, 2015, 2015, 2015, 2015, 2015, 2015, 2015, 2015, 2015, 2015, 2015, 2015, 2015, 2015, 2015, 2015, 2015, 2015, 2015, 2016, 2016, 2016, 2016, 2016, 2016, 2016, 2016, 2016, 2016, 2016, 2016, 2016, 2016, 2016, 2016, 2016, 2016, 2016, 2016, 2016, 2016, 2016, 2016, 2016, 2016, 2016, 2016, 2017, 2017, 2017, 2017, 2017, 2017, 2017, 2017, 2017, 2017, 2017, 2017, 2017, 2017, 2017, 2017, 2017, 2017, 2017, 2017, 2017, 2017, 2017, 2017, 2017, 2018, 2018, 2018, 2018, 2018, 2018, 2018, 2018, 2018, 2018, 2018, 2018, 2018, 2018, 2018, 2018, 2018, 2018, 2018, 2018, 2018, 2018, 2018, 2018, 2018], \"xaxis\": \"x\", \"y\": [\" Adventure\", \" Adventure\", \" Adventure\", \" Adventure\", \" Adventure\", \" Adventure\", \" Adventure\", \" Adventure\", \" Adventure\", \" Adventure\", \" Adventure\", \" Adventure\", \" Adventure\", \" Adventure\", \" Adventure\", \" Adventure\", \" Adventure\", \" Adventure\", \" Adventure\", \" Adventure\", \" Adventure\", \" Adventure\", \" Adventure\", \" Adventure\", \" Adventure\", \" Adventure\", \" Adventure\", \" Adventure\", \" Adventure\", \" Adventure\", \" Adventure\", \" Adventure\", \" Adventure\", \" Adventure\", \" Adventure\", \" Adventure\", \" Adventure\", \" Adventure\", \" Adventure\", \" Adventure\", \" Adventure\", \" Adventure\", \" Adventure\", \" Adventure\", \" Adventure\", \" Adventure\", \" Adventure\", \" Adventure\", \" Adventure\", \" Adventure\", \" Adventure\", \" Adventure\", \" Adventure\", \" Adventure\", \" Adventure\", \" Adventure\", \" Adventure\", \" Adventure\", \" Adventure\", \" Adventure\", \" Adventure\", \" Adventure\", \" Adventure\", \" Adventure\", \" Adventure\", \" Adventure\", \" Adventure\", \" Adventure\", \" Adventure\", \" Adventure\", \" Adventure\", \" Adventure\", \" Adventure\", \" Adventure\", \" Adventure\", \" Adventure\", \" Adventure\", \" Adventure\", \" Adventure\", \" Adventure\", \" Adventure\", \" Adventure\", \" Adventure\", \" Adventure\", \" Adventure\", \" Adventure\", \" Adventure\", \" Adventure\", \" Adventure\", \" Adventure\", \" Adventure\", \" Adventure\", \" Adventure\", \" Adventure\", \" Adventure\", \" Adventure\", \" Adventure\", \" Adventure\", \" Adventure\", \" Adventure\", \" Adventure\", \" Adventure\", \" Adventure\", \" Adventure\", \" Adventure\", \" Adventure\", \" Adventure\", \" Adventure\", \" Adventure\", \" Adventure\", \" Adventure\", \" Adventure\", \" Adventure\", \" Adventure\", \" Adventure\", \" Adventure\", \" Adventure\", \" Adventure\", \" Adventure\", \" Adventure\", \" Adventure\", \" Adventure\", \" Adventure\", \" Adventure\", \" Adventure\", \" Adventure\", \" Adventure\", \" Adventure\", \" Adventure\", \" Adventure\", \" Adventure\", \" Adventure\", \" Adventure\", \" Adventure\", \" Adventure\", \" Adventure\", \" Adventure\", \" Adventure\", \" Adventure\", \" Adventure\", \" Adventure\", \" Adventure\", \" Adventure\", \" Adventure\", \" Adventure\", \" Adventure\", \" Adventure\", \" Adventure\", \" Adventure\", \" Adventure\", \" Adventure\", \" Adventure\", \" Adventure\", \" Adventure\", \" Adventure\", \" Adventure\", \" Adventure\", \" Adventure\", \" Adventure\", \" Adventure\", \" Adventure\", \" Adventure\", \" Adventure\", \" Adventure\", \" Adventure\", \" Adventure\", \" Adventure\", \" Adventure\", \" Adventure\", \" Adventure\", \" Adventure\", \" Adventure\", \" Adventure\", \" Adventure\", \" Adventure\", \" Adventure\", \" Adventure\", \" Adventure\", \" Adventure\", \" Adventure\", \" Adventure\", \" Adventure\", \" Adventure\", \" Adventure\", \" Adventure\", \" Adventure\", \" Adventure\", \" Adventure\", \" Adventure\", \" Adventure\", \" Adventure\", \" Adventure\", \" Adventure\", \" Adventure\", \" Adventure\", \" Adventure\", \" Adventure\", \" Adventure\", \" Adventure\", \" Adventure\", \" Adventure\", \" Adventure\", \" Adventure\", \" Adventure\", \" Adventure\", \" Adventure\", \" Adventure\", \" Adventure\", \" Adventure\", \" Adventure\", \" Adventure\", \" Adventure\", \" Adventure\", \" Adventure\", \" Adventure\", \" Adventure\", \" Adventure\", \" Adventure\", \" Adventure\", \" Adventure\", \" Adventure\", \" Adventure\", \" Adventure\", \" Adventure\", \" Adventure\", \" Adventure\", \" Adventure\", \" Adventure\", \" Adventure\", \" Adventure\", \" Adventure\", \" Adventure\", \" Adventure\", \" Adventure\", \" Adventure\", \" Adventure\", \" Adventure\", \" Adventure\", \" Adventure\", \" Adventure\", \" Adventure\", \" Adventure\", \" Adventure\", \" Adventure\", \" Adventure\", \" Adventure\", \" Adventure\", \" Adventure\", \" Adventure\", \" Adventure\", \" Adventure\", \" Adventure\", \" Adventure\", \" Adventure\", \" Adventure\", \" Adventure\", \" Adventure\", \" Adventure\", \" Adventure\", \" Adventure\", \" Adventure\", \" Adventure\", \" Adventure\", \" Adventure\", \" Adventure\", \" Adventure\", \" Adventure\", \" Adventure\", \" Adventure\", \" Adventure\", \" Adventure\", \" Adventure\", \" Adventure\", \" Adventure\", \" Adventure\", \" Adventure\", \" Adventure\", \" Adventure\", \" Adventure\", \" Adventure\", \" Adventure\", \" Adventure\", \" Adventure\", \" Adventure\", \" Adventure\", \" Adventure\", \" Adventure\", \" Adventure\", \" Adventure\", \" Adventure\", \" Adventure\", \" Adventure\", \" Adventure\", \" Adventure\", \" Adventure\", \" Adventure\", \" Adventure\", \" Adventure\", \" Adventure\", \" Adventure\", \" Adventure\", \" Adventure\", \" Adventure\", \" Adventure\", \" Adventure\", \" Adventure\", \" Adventure\", \" Adventure\", \" Adventure\", \" Adventure\", \" Adventure\", \" Adventure\", \" Adventure\", \" Adventure\", \" Adventure\", \" Adventure\", \" Adventure\", \" Adventure\", \" Adventure\", \" Adventure\", \" Adventure\", \" Adventure\", \" Adventure\", \" Adventure\", \" Adventure\", \" Adventure\", \" Adventure\", \" Adventure\", \" Adventure\", \" Adventure\", \" Adventure\", \" Adventure\", \" Adventure\", \" Adventure\", \" Adventure\", \" Adventure\", \" Adventure\", \" Adventure\", \" Adventure\", \" Adventure\", \" Adventure\", \" Adventure\", \" Adventure\", \" Adventure\", \" Adventure\", \" Adventure\", \" Adventure\", \" Adventure\", \" Adventure\", \" Adventure\", \" Adventure\", \" Adventure\", \" Adventure\", \" Adventure\", \" Adventure\", \" Adventure\", \" Adventure\", \" Adventure\", \" Adventure\", \" Adventure\", \" Adventure\"], \"yaxis\": \"y\"}, {\"alignmentgroup\": \"True\", \"hovertemplate\": \"Genre=%{y}<br>ReleaseYear=%{x}<extra></extra>\", \"legendgroup\": \" Horror\", \"marker\": {\"color\": \"#FF6692\"}, \"name\": \" Horror\", \"offsetgroup\": \" Horror\", \"orientation\": \"v\", \"showlegend\": true, \"textposition\": \"auto\", \"type\": \"bar\", \"x\": [1990, 1990, 1990, 1990, 1990, 1990, 1990, 1991, 1991, 1992, 1992, 1992, 1992, 1992, 1994, 1994, 1994, 1994, 1994, 1995, 1996, 1996, 1996, 1997, 1997, 1998, 1998, 1999, 1999, 2000, 2000, 2001, 2002, 2002, 2002, 2003, 2004, 2004, 2004, 2004, 2004, 2005, 2005, 2005, 2007, 2007, 2007, 2007, 2008, 2009, 2009, 2010, 2012, 2013, 2013, 2015, 2016, 2016, 2017, 2018, 2018, 2018, 2018, 2018, 2018, 2018], \"xaxis\": \"x\", \"y\": [\" Horror\", \" Horror\", \" Horror\", \" Horror\", \" Horror\", \" Horror\", \" Horror\", \" Horror\", \" Horror\", \" Horror\", \" Horror\", \" Horror\", \" Horror\", \" Horror\", \" Horror\", \" Horror\", \" Horror\", \" Horror\", \" Horror\", \" Horror\", \" Horror\", \" Horror\", \" Horror\", \" Horror\", \" Horror\", \" Horror\", \" Horror\", \" Horror\", \" Horror\", \" Horror\", \" Horror\", \" Horror\", \" Horror\", \" Horror\", \" Horror\", \" Horror\", \" Horror\", \" Horror\", \" Horror\", \" Horror\", \" Horror\", \" Horror\", \" Horror\", \" Horror\", \" Horror\", \" Horror\", \" Horror\", \" Horror\", \" Horror\", \" Horror\", \" Horror\", \" Horror\", \" Horror\", \" Horror\", \" Horror\", \" Horror\", \" Horror\", \" Horror\", \" Horror\", \" Horror\", \" Horror\", \" Horror\", \" Horror\", \" Horror\", \" Horror\", \" Horror\"], \"yaxis\": \"y\"}, {\"alignmentgroup\": \"True\", \"hovertemplate\": \"Genre=%{y}<br>ReleaseYear=%{x}<extra></extra>\", \"legendgroup\": \" Sport\", \"marker\": {\"color\": \"#B6E880\"}, \"name\": \" Sport\", \"offsetgroup\": \" Sport\", \"orientation\": \"v\", \"showlegend\": true, \"textposition\": \"auto\", \"type\": \"bar\", \"x\": [1990, 1990, 1992, 1993, 1996, 1996, 1998, 1998, 1999, 2000, 2004, 2004, 2005, 2005, 2006, 2006, 2006, 2008, 2009, 2010, 2011, 2011, 2013, 2015, 2015], \"xaxis\": \"x\", \"y\": [\" Sport\", \" Sport\", \" Sport\", \" Sport\", \" Sport\", \" Sport\", \" Sport\", \" Sport\", \" Sport\", \" Sport\", \" Sport\", \" Sport\", \" Sport\", \" Sport\", \" Sport\", \" Sport\", \" Sport\", \" Sport\", \" Sport\", \" Sport\", \" Sport\", \" Sport\", \" Sport\", \" Sport\", \" Sport\"], \"yaxis\": \"y\"}, {\"alignmentgroup\": \"True\", \"hovertemplate\": \"Genre=%{y}<br>ReleaseYear=%{x}<extra></extra>\", \"legendgroup\": \" Mystery\", \"marker\": {\"color\": \"#FF97FF\"}, \"name\": \" Mystery\", \"offsetgroup\": \" Mystery\", \"orientation\": \"v\", \"showlegend\": true, \"textposition\": \"auto\", \"type\": \"bar\", \"x\": [1990, 1991, 1991, 1992, 1992, 1992, 1993, 1993, 1993, 1994, 1994, 1994, 1994, 1994, 1995, 1995, 1996, 1996, 1997, 1997, 1997, 1997, 1997, 1997, 1997, 1997, 1998, 1998, 1998, 1998, 1999, 1999, 1999, 1999, 1999, 2000, 2000, 2000, 2000, 2001, 2001, 2001, 2001, 2001, 2002, 2002, 2002, 2002, 2002, 2002, 2003, 2003, 2004, 2004, 2004, 2004, 2005, 2005, 2006, 2006, 2006, 2006, 2006, 2006, 2007, 2007, 2007, 2007, 2007, 2007, 2007, 2007, 2007, 2007, 2008, 2009, 2009, 2009, 2009, 2009, 2009, 2009, 2010, 2010, 2011, 2011, 2011, 2011, 2012, 2012, 2012, 2013, 2013, 2013, 2013, 2014, 2014, 2014, 2014, 2014, 2014, 2014, 2014, 2014, 2015, 2015, 2016, 2016, 2016, 2016, 2017, 2017, 2017, 2017, 2017, 2017, 2018, 2018, 2018, 2018], \"xaxis\": \"x\", \"y\": [\" Mystery\", \" Mystery\", \" Mystery\", \" Mystery\", \" Mystery\", \" Mystery\", \" Mystery\", \" Mystery\", \" Mystery\", \" Mystery\", \" Mystery\", \" Mystery\", \" Mystery\", \" Mystery\", \" Mystery\", \" Mystery\", \" Mystery\", \" Mystery\", \" Mystery\", \" Mystery\", \" Mystery\", \" Mystery\", \" Mystery\", \" Mystery\", \" Mystery\", \" Mystery\", \" Mystery\", \" Mystery\", \" Mystery\", \" Mystery\", \" Mystery\", \" Mystery\", \" Mystery\", \" Mystery\", \" Mystery\", \" Mystery\", \" Mystery\", \" Mystery\", \" Mystery\", \" Mystery\", \" Mystery\", \" Mystery\", \" Mystery\", \" Mystery\", \" Mystery\", \" Mystery\", \" Mystery\", \" Mystery\", \" Mystery\", \" Mystery\", \" Mystery\", \" Mystery\", \" Mystery\", \" Mystery\", \" Mystery\", \" Mystery\", \" Mystery\", \" Mystery\", \" Mystery\", \" Mystery\", \" Mystery\", \" Mystery\", \" Mystery\", \" Mystery\", \" Mystery\", \" Mystery\", \" Mystery\", \" Mystery\", \" Mystery\", \" Mystery\", \" Mystery\", \" Mystery\", \" Mystery\", \" Mystery\", \" Mystery\", \" Mystery\", \" Mystery\", \" Mystery\", \" Mystery\", \" Mystery\", \" Mystery\", \" Mystery\", \" Mystery\", \" Mystery\", \" Mystery\", \" Mystery\", \" Mystery\", \" Mystery\", \" Mystery\", \" Mystery\", \" Mystery\", \" Mystery\", \" Mystery\", \" Mystery\", \" Mystery\", \" Mystery\", \" Mystery\", \" Mystery\", \" Mystery\", \" Mystery\", \" Mystery\", \" Mystery\", \" Mystery\", \" Mystery\", \" Mystery\", \" Mystery\", \" Mystery\", \" Mystery\", \" Mystery\", \" Mystery\", \" Mystery\", \" Mystery\", \" Mystery\", \" Mystery\", \" Mystery\", \" Mystery\", \" Mystery\", \" Mystery\", \" Mystery\", \" Mystery\"], \"yaxis\": \"y\"}, {\"alignmentgroup\": \"True\", \"hovertemplate\": \"Genre=%{y}<br>ReleaseYear=%{x}<extra></extra>\", \"legendgroup\": \" Musical\", \"marker\": {\"color\": \"#FECB52\"}, \"name\": \" Musical\", \"offsetgroup\": \" Musical\", \"orientation\": \"v\", \"showlegend\": true, \"textposition\": \"auto\", \"type\": \"bar\", \"x\": [1990, 1993, 2000, 2001, 2002, 2007, 2008, 2012, 2017, 2017, 2017, 2018], \"xaxis\": \"x\", \"y\": [\" Musical\", \" Musical\", \" Musical\", \" Musical\", \" Musical\", \" Musical\", \" Musical\", \" Musical\", \" Musical\", \" Musical\", \" Musical\", \" Musical\"], \"yaxis\": \"y\"}, {\"alignmentgroup\": \"True\", \"hovertemplate\": \"Genre=%{y}<br>ReleaseYear=%{x}<extra></extra>\", \"legendgroup\": \"Horror\", \"marker\": {\"color\": \"#636efa\"}, \"name\": \"Horror\", \"offsetgroup\": \"Horror\", \"orientation\": \"v\", \"showlegend\": true, \"textposition\": \"auto\", \"type\": \"bar\", \"x\": [1990, 1990, 1991, 1992, 1992, 1996, 1997, 1997, 1997, 1998, 1999, 2000, 2000, 2000, 2001, 2001, 2002, 2003, 2003, 2004, 2005, 2006, 2006, 2006, 2007, 2007, 2008, 2009, 2009, 2010, 2011, 2012, 2013, 2014, 2016, 2016, 2017, 2017, 2017, 2017, 2017, 2018, 2018], \"xaxis\": \"x\", \"y\": [\"Horror\", \"Horror\", \"Horror\", \"Horror\", \"Horror\", \"Horror\", \"Horror\", \"Horror\", \"Horror\", \"Horror\", \"Horror\", \"Horror\", \"Horror\", \"Horror\", \"Horror\", \"Horror\", \"Horror\", \"Horror\", \"Horror\", \"Horror\", \"Horror\", \"Horror\", \"Horror\", \"Horror\", \"Horror\", \"Horror\", \"Horror\", \"Horror\", \"Horror\", \"Horror\", \"Horror\", \"Horror\", \"Horror\", \"Horror\", \"Horror\", \"Horror\", \"Horror\", \"Horror\", \"Horror\", \"Horror\", \"Horror\", \"Horror\", \"Horror\"], \"yaxis\": \"y\"}, {\"alignmentgroup\": \"True\", \"hovertemplate\": \"Genre=%{y}<br>ReleaseYear=%{x}<extra></extra>\", \"legendgroup\": \"Animation\", \"marker\": {\"color\": \"#EF553B\"}, \"name\": \"Animation\", \"offsetgroup\": \"Animation\", \"orientation\": \"v\", \"showlegend\": true, \"textposition\": \"auto\", \"type\": \"bar\", \"x\": [1990, 1991, 1992, 1992, 1993, 1994, 1995, 1995, 1996, 1996, 1996, 1996, 1997, 1997, 1997, 1998, 1998, 1998, 1998, 1999, 1999, 1999, 1999, 2000, 2000, 2001, 2001, 2001, 2002, 2002, 2003, 2004, 2004, 2004, 2005, 2005, 2006, 2006, 2006, 2006, 2007, 2007, 2007, 2007, 2008, 2008, 2008, 2009, 2009, 2009, 2009, 2009, 2010, 2010, 2010, 2010, 2010, 2010, 2011, 2011, 2011, 2012, 2012, 2012, 2012, 2012, 2012, 2013, 2013, 2013, 2013, 2013, 2014, 2014, 2014, 2014, 2015, 2015, 2016, 2016, 2016, 2016, 2016, 2016, 2016, 2016, 2017, 2017, 2018, 2018, 2018, 2018, 2018, 2018, 2018], \"xaxis\": \"x\", \"y\": [\"Animation\", \"Animation\", \"Animation\", \"Animation\", \"Animation\", \"Animation\", \"Animation\", \"Animation\", \"Animation\", \"Animation\", \"Animation\", \"Animation\", \"Animation\", \"Animation\", \"Animation\", \"Animation\", \"Animation\", \"Animation\", \"Animation\", \"Animation\", \"Animation\", \"Animation\", \"Animation\", \"Animation\", \"Animation\", \"Animation\", \"Animation\", \"Animation\", \"Animation\", \"Animation\", \"Animation\", \"Animation\", \"Animation\", \"Animation\", \"Animation\", \"Animation\", \"Animation\", \"Animation\", \"Animation\", \"Animation\", \"Animation\", \"Animation\", \"Animation\", \"Animation\", \"Animation\", \"Animation\", \"Animation\", \"Animation\", \"Animation\", \"Animation\", \"Animation\", \"Animation\", \"Animation\", \"Animation\", \"Animation\", \"Animation\", \"Animation\", \"Animation\", \"Animation\", \"Animation\", \"Animation\", \"Animation\", \"Animation\", \"Animation\", \"Animation\", \"Animation\", \"Animation\", \"Animation\", \"Animation\", \"Animation\", \"Animation\", \"Animation\", \"Animation\", \"Animation\", \"Animation\", \"Animation\", \"Animation\", \"Animation\", \"Animation\", \"Animation\", \"Animation\", \"Animation\", \"Animation\", \"Animation\", \"Animation\", \"Animation\", \"Animation\", \"Animation\", \"Animation\", \"Animation\", \"Animation\", \"Animation\", \"Animation\", \"Animation\", \"Animation\"], \"yaxis\": \"y\"}, {\"alignmentgroup\": \"True\", \"hovertemplate\": \"Genre=%{y}<br>ReleaseYear=%{x}<extra></extra>\", \"legendgroup\": \"Mystery\", \"marker\": {\"color\": \"#00cc96\"}, \"name\": \"Mystery\", \"offsetgroup\": \"Mystery\", \"orientation\": \"v\", \"showlegend\": true, \"textposition\": \"auto\", \"type\": \"bar\", \"x\": [1990, 1995, 1997, 1998, 1999, 1999, 2000, 2003, 2006, 2010], \"xaxis\": \"x\", \"y\": [\"Mystery\", \"Mystery\", \"Mystery\", \"Mystery\", \"Mystery\", \"Mystery\", \"Mystery\", \"Mystery\", \"Mystery\", \"Mystery\"], \"yaxis\": \"y\"}, {\"alignmentgroup\": \"True\", \"hovertemplate\": \"Genre=%{y}<br>ReleaseYear=%{x}<extra></extra>\", \"legendgroup\": \" History\", \"marker\": {\"color\": \"#ab63fa\"}, \"name\": \" History\", \"offsetgroup\": \" History\", \"orientation\": \"v\", \"showlegend\": true, \"textposition\": \"auto\", \"type\": \"bar\", \"x\": [1991, 1991, 1992, 1993, 1994, 1995, 1995, 1998, 1998, 1999, 2000, 2001, 2001, 2001, 2002, 2002, 2003, 2004, 2004, 2004, 2005, 2005, 2006, 2006, 2008, 2008, 2010, 2010, 2012, 2012, 2012, 2013, 2015, 2015, 2015, 2016, 2016, 2016, 2016, 2017, 2017, 2018], \"xaxis\": \"x\", \"y\": [\" History\", \" History\", \" History\", \" History\", \" History\", \" History\", \" History\", \" History\", \" History\", \" History\", \" History\", \" History\", \" History\", \" History\", \" History\", \" History\", \" History\", \" History\", \" History\", \" History\", \" History\", \" History\", \" History\", \" History\", \" History\", \" History\", \" History\", \" History\", \" History\", \" History\", \" History\", \" History\", \" History\", \" History\", \" History\", \" History\", \" History\", \" History\", \" History\", \" History\", \" History\", \" History\"], \"yaxis\": \"y\"}, {\"alignmentgroup\": \"True\", \"hovertemplate\": \"Genre=%{y}<br>ReleaseYear=%{x}<extra></extra>\", \"legendgroup\": \" Music\", \"marker\": {\"color\": \"#FFA15A\"}, \"name\": \" Music\", \"offsetgroup\": \" Music\", \"orientation\": \"v\", \"showlegend\": true, \"textposition\": \"auto\", \"type\": \"bar\", \"x\": [1991, 1991, 1991, 1992, 1992, 1993, 1993, 1993, 1994, 1994, 1996, 1998, 2000, 2000, 2000, 2002, 2002, 2003, 2005, 2010, 2012, 2014, 2016, 2018, 2018, 2018, 2018], \"xaxis\": \"x\", \"y\": [\" Music\", \" Music\", \" Music\", \" Music\", \" Music\", \" Music\", \" Music\", \" Music\", \" Music\", \" Music\", \" Music\", \" Music\", \" Music\", \" Music\", \" Music\", \" Music\", \" Music\", \" Music\", \" Music\", \" Music\", \" Music\", \" Music\", \" Music\", \" Music\", \" Music\", \" Music\", \" Music\"], \"yaxis\": \"y\"}, {\"alignmentgroup\": \"True\", \"hovertemplate\": \"Genre=%{y}<br>ReleaseYear=%{x}<extra></extra>\", \"legendgroup\": \"Fantasy\", \"marker\": {\"color\": \"#19d3f3\"}, \"name\": \"Fantasy\", \"offsetgroup\": \"Fantasy\", \"orientation\": \"v\", \"showlegend\": true, \"textposition\": \"auto\", \"type\": \"bar\", \"x\": [1991, 1994, 1995, 1999, 2001, 2007], \"xaxis\": \"x\", \"y\": [\"Fantasy\", \"Fantasy\", \"Fantasy\", \"Fantasy\", \"Fantasy\", \"Fantasy\"], \"yaxis\": \"y\"}, {\"alignmentgroup\": \"True\", \"hovertemplate\": \"Genre=%{y}<br>ReleaseYear=%{x}<extra></extra>\", \"legendgroup\": \" Biography\", \"marker\": {\"color\": \"#FF6692\"}, \"name\": \" Biography\", \"offsetgroup\": \" Biography\", \"orientation\": \"v\", \"showlegend\": true, \"textposition\": \"auto\", \"type\": \"bar\", \"x\": [1993, 1993, 1997, 2005, 2007, 2008, 2013, 2014, 2015, 2015, 2015, 2017], \"xaxis\": \"x\", \"y\": [\" Biography\", \" Biography\", \" Biography\", \" Biography\", \" Biography\", \" Biography\", \" Biography\", \" Biography\", \" Biography\", \" Biography\", \" Biography\", \" Biography\"], \"yaxis\": \"y\"}, {\"alignmentgroup\": \"True\", \"hovertemplate\": \"Genre=%{y}<br>ReleaseYear=%{x}<extra></extra>\", \"legendgroup\": \" War\", \"marker\": {\"color\": \"#B6E880\"}, \"name\": \" War\", \"offsetgroup\": \" War\", \"orientation\": \"v\", \"showlegend\": true, \"textposition\": \"auto\", \"type\": \"bar\", \"x\": [1994, 1996, 1998, 1998, 2001, 2001, 2003, 2006, 2008, 2008, 2009, 2014], \"xaxis\": \"x\", \"y\": [\" War\", \" War\", \" War\", \" War\", \" War\", \" War\", \" War\", \" War\", \" War\", \" War\", \" War\", \" War\"], \"yaxis\": \"y\"}, {\"alignmentgroup\": \"True\", \"hovertemplate\": \"Genre=%{y}<br>ReleaseYear=%{x}<extra></extra>\", \"legendgroup\": \" Action\", \"marker\": {\"color\": \"#FF97FF\"}, \"name\": \" Action\", \"offsetgroup\": \" Action\", \"orientation\": \"v\", \"showlegend\": true, \"textposition\": \"auto\", \"type\": \"bar\", \"x\": [1999, 2004, 2008, 2010, 2010, 2011, 2011, 2014, 2014, 2014, 2014, 2018, 2018, 2018, 2018], \"xaxis\": \"x\", \"y\": [\" Action\", \" Action\", \" Action\", \" Action\", \" Action\", \" Action\", \" Action\", \" Action\", \" Action\", \" Action\", \" Action\", \" Action\", \" Action\", \" Action\", \" Action\"], \"yaxis\": \"y\"}, {\"alignmentgroup\": \"True\", \"hovertemplate\": \"Genre=%{y}<br>ReleaseYear=%{x}<extra></extra>\", \"legendgroup\": \"Documentary\", \"marker\": {\"color\": \"#FECB52\"}, \"name\": \"Documentary\", \"offsetgroup\": \"Documentary\", \"orientation\": \"v\", \"showlegend\": true, \"textposition\": \"auto\", \"type\": \"bar\", \"x\": [2002], \"xaxis\": \"x\", \"y\": [\"Documentary\"], \"yaxis\": \"y\"}, {\"alignmentgroup\": \"True\", \"hovertemplate\": \"Genre=%{y}<br>ReleaseYear=%{x}<extra></extra>\", \"legendgroup\": \"Sci-Fi\", \"marker\": {\"color\": \"#636efa\"}, \"name\": \"Sci-Fi\", \"offsetgroup\": \"Sci-Fi\", \"orientation\": \"v\", \"showlegend\": true, \"textposition\": \"auto\", \"type\": \"bar\", \"x\": [2007, 2011], \"xaxis\": \"x\", \"y\": [\"Sci-Fi\", \"Sci-Fi\"], \"yaxis\": \"y\"}, {\"alignmentgroup\": \"True\", \"hovertemplate\": \"Genre=%{y}<br>ReleaseYear=%{x}<extra></extra>\", \"legendgroup\": \"Romance\", \"marker\": {\"color\": \"#EF553B\"}, \"name\": \"Romance\", \"offsetgroup\": \"Romance\", \"orientation\": \"v\", \"showlegend\": true, \"textposition\": \"auto\", \"type\": \"bar\", \"x\": [2011], \"xaxis\": \"x\", \"y\": [\"Romance\"], \"yaxis\": \"y\"}, {\"alignmentgroup\": \"True\", \"hovertemplate\": \"Genre=%{y}<br>ReleaseYear=%{x}<extra></extra>\", \"legendgroup\": \"Family\", \"marker\": {\"color\": \"#00cc96\"}, \"name\": \"Family\", \"offsetgroup\": \"Family\", \"orientation\": \"v\", \"showlegend\": true, \"textposition\": \"auto\", \"type\": \"bar\", \"x\": [2017], \"xaxis\": \"x\", \"y\": [\"Family\"], \"yaxis\": \"y\"}],\n",
       "                        {\"barmode\": \"relative\", \"legend\": {\"title\": {\"text\": \"Genre\"}, \"tracegroupgap\": 0}, \"margin\": {\"t\": 60}, \"template\": {\"data\": {\"bar\": [{\"error_x\": {\"color\": \"#2a3f5f\"}, \"error_y\": {\"color\": \"#2a3f5f\"}, \"marker\": {\"line\": {\"color\": \"#E5ECF6\", \"width\": 0.5}}, \"type\": \"bar\"}], \"barpolar\": [{\"marker\": {\"line\": {\"color\": \"#E5ECF6\", \"width\": 0.5}}, \"type\": \"barpolar\"}], \"carpet\": [{\"aaxis\": {\"endlinecolor\": \"#2a3f5f\", \"gridcolor\": \"white\", \"linecolor\": \"white\", \"minorgridcolor\": \"white\", \"startlinecolor\": \"#2a3f5f\"}, \"baxis\": {\"endlinecolor\": \"#2a3f5f\", \"gridcolor\": \"white\", \"linecolor\": \"white\", \"minorgridcolor\": \"white\", \"startlinecolor\": \"#2a3f5f\"}, \"type\": \"carpet\"}], \"choropleth\": [{\"colorbar\": {\"outlinewidth\": 0, \"ticks\": \"\"}, \"type\": \"choropleth\"}], \"contour\": [{\"colorbar\": {\"outlinewidth\": 0, \"ticks\": \"\"}, \"colorscale\": [[0.0, \"#0d0887\"], [0.1111111111111111, \"#46039f\"], [0.2222222222222222, \"#7201a8\"], [0.3333333333333333, \"#9c179e\"], [0.4444444444444444, \"#bd3786\"], [0.5555555555555556, \"#d8576b\"], [0.6666666666666666, \"#ed7953\"], [0.7777777777777778, \"#fb9f3a\"], [0.8888888888888888, \"#fdca26\"], [1.0, \"#f0f921\"]], \"type\": \"contour\"}], \"contourcarpet\": [{\"colorbar\": {\"outlinewidth\": 0, \"ticks\": \"\"}, \"type\": \"contourcarpet\"}], \"heatmap\": [{\"colorbar\": {\"outlinewidth\": 0, \"ticks\": \"\"}, \"colorscale\": [[0.0, \"#0d0887\"], [0.1111111111111111, \"#46039f\"], [0.2222222222222222, \"#7201a8\"], [0.3333333333333333, \"#9c179e\"], [0.4444444444444444, \"#bd3786\"], [0.5555555555555556, \"#d8576b\"], [0.6666666666666666, \"#ed7953\"], [0.7777777777777778, \"#fb9f3a\"], [0.8888888888888888, \"#fdca26\"], [1.0, \"#f0f921\"]], \"type\": \"heatmap\"}], \"heatmapgl\": [{\"colorbar\": {\"outlinewidth\": 0, \"ticks\": \"\"}, \"colorscale\": [[0.0, \"#0d0887\"], [0.1111111111111111, \"#46039f\"], [0.2222222222222222, \"#7201a8\"], [0.3333333333333333, \"#9c179e\"], [0.4444444444444444, \"#bd3786\"], [0.5555555555555556, \"#d8576b\"], [0.6666666666666666, \"#ed7953\"], [0.7777777777777778, \"#fb9f3a\"], [0.8888888888888888, \"#fdca26\"], [1.0, \"#f0f921\"]], \"type\": \"heatmapgl\"}], \"histogram\": [{\"marker\": {\"colorbar\": {\"outlinewidth\": 0, \"ticks\": \"\"}}, \"type\": \"histogram\"}], \"histogram2d\": [{\"colorbar\": {\"outlinewidth\": 0, \"ticks\": \"\"}, \"colorscale\": [[0.0, \"#0d0887\"], [0.1111111111111111, \"#46039f\"], [0.2222222222222222, \"#7201a8\"], [0.3333333333333333, \"#9c179e\"], [0.4444444444444444, \"#bd3786\"], [0.5555555555555556, \"#d8576b\"], [0.6666666666666666, \"#ed7953\"], [0.7777777777777778, \"#fb9f3a\"], [0.8888888888888888, \"#fdca26\"], [1.0, \"#f0f921\"]], \"type\": \"histogram2d\"}], \"histogram2dcontour\": [{\"colorbar\": {\"outlinewidth\": 0, \"ticks\": \"\"}, \"colorscale\": [[0.0, \"#0d0887\"], [0.1111111111111111, \"#46039f\"], [0.2222222222222222, \"#7201a8\"], [0.3333333333333333, \"#9c179e\"], [0.4444444444444444, \"#bd3786\"], [0.5555555555555556, \"#d8576b\"], [0.6666666666666666, \"#ed7953\"], [0.7777777777777778, \"#fb9f3a\"], [0.8888888888888888, \"#fdca26\"], [1.0, \"#f0f921\"]], \"type\": \"histogram2dcontour\"}], \"mesh3d\": [{\"colorbar\": {\"outlinewidth\": 0, \"ticks\": \"\"}, \"type\": \"mesh3d\"}], \"parcoords\": [{\"line\": {\"colorbar\": {\"outlinewidth\": 0, \"ticks\": \"\"}}, \"type\": \"parcoords\"}], \"pie\": [{\"automargin\": true, \"type\": \"pie\"}], \"scatter\": [{\"marker\": {\"colorbar\": {\"outlinewidth\": 0, \"ticks\": \"\"}}, \"type\": \"scatter\"}], \"scatter3d\": [{\"line\": {\"colorbar\": {\"outlinewidth\": 0, \"ticks\": \"\"}}, \"marker\": {\"colorbar\": {\"outlinewidth\": 0, \"ticks\": \"\"}}, \"type\": \"scatter3d\"}], \"scattercarpet\": [{\"marker\": {\"colorbar\": {\"outlinewidth\": 0, \"ticks\": \"\"}}, \"type\": \"scattercarpet\"}], \"scattergeo\": [{\"marker\": {\"colorbar\": {\"outlinewidth\": 0, \"ticks\": \"\"}}, \"type\": \"scattergeo\"}], \"scattergl\": [{\"marker\": {\"colorbar\": {\"outlinewidth\": 0, \"ticks\": \"\"}}, \"type\": \"scattergl\"}], \"scattermapbox\": [{\"marker\": {\"colorbar\": {\"outlinewidth\": 0, \"ticks\": \"\"}}, \"type\": \"scattermapbox\"}], \"scatterpolar\": [{\"marker\": {\"colorbar\": {\"outlinewidth\": 0, \"ticks\": \"\"}}, \"type\": \"scatterpolar\"}], \"scatterpolargl\": [{\"marker\": {\"colorbar\": {\"outlinewidth\": 0, \"ticks\": \"\"}}, \"type\": \"scatterpolargl\"}], \"scatterternary\": [{\"marker\": {\"colorbar\": {\"outlinewidth\": 0, \"ticks\": \"\"}}, \"type\": \"scatterternary\"}], \"surface\": [{\"colorbar\": {\"outlinewidth\": 0, \"ticks\": \"\"}, \"colorscale\": [[0.0, \"#0d0887\"], [0.1111111111111111, \"#46039f\"], [0.2222222222222222, \"#7201a8\"], [0.3333333333333333, \"#9c179e\"], [0.4444444444444444, \"#bd3786\"], [0.5555555555555556, \"#d8576b\"], [0.6666666666666666, \"#ed7953\"], [0.7777777777777778, \"#fb9f3a\"], [0.8888888888888888, \"#fdca26\"], [1.0, \"#f0f921\"]], \"type\": \"surface\"}], \"table\": [{\"cells\": {\"fill\": {\"color\": \"#EBF0F8\"}, \"line\": {\"color\": \"white\"}}, \"header\": {\"fill\": {\"color\": \"#C8D4E3\"}, \"line\": {\"color\": \"white\"}}, \"type\": \"table\"}]}, \"layout\": {\"annotationdefaults\": {\"arrowcolor\": \"#2a3f5f\", \"arrowhead\": 0, \"arrowwidth\": 1}, \"coloraxis\": {\"colorbar\": {\"outlinewidth\": 0, \"ticks\": \"\"}}, \"colorscale\": {\"diverging\": [[0, \"#8e0152\"], [0.1, \"#c51b7d\"], [0.2, \"#de77ae\"], [0.3, \"#f1b6da\"], [0.4, \"#fde0ef\"], [0.5, \"#f7f7f7\"], [0.6, \"#e6f5d0\"], [0.7, \"#b8e186\"], [0.8, \"#7fbc41\"], [0.9, \"#4d9221\"], [1, \"#276419\"]], \"sequential\": [[0.0, \"#0d0887\"], [0.1111111111111111, \"#46039f\"], [0.2222222222222222, \"#7201a8\"], [0.3333333333333333, \"#9c179e\"], [0.4444444444444444, \"#bd3786\"], [0.5555555555555556, \"#d8576b\"], [0.6666666666666666, \"#ed7953\"], [0.7777777777777778, \"#fb9f3a\"], [0.8888888888888888, \"#fdca26\"], [1.0, \"#f0f921\"]], \"sequentialminus\": [[0.0, \"#0d0887\"], [0.1111111111111111, \"#46039f\"], [0.2222222222222222, \"#7201a8\"], [0.3333333333333333, \"#9c179e\"], [0.4444444444444444, \"#bd3786\"], [0.5555555555555556, \"#d8576b\"], [0.6666666666666666, \"#ed7953\"], [0.7777777777777778, \"#fb9f3a\"], [0.8888888888888888, \"#fdca26\"], [1.0, \"#f0f921\"]]}, \"colorway\": [\"#636efa\", \"#EF553B\", \"#00cc96\", \"#ab63fa\", \"#FFA15A\", \"#19d3f3\", \"#FF6692\", \"#B6E880\", \"#FF97FF\", \"#FECB52\"], \"font\": {\"color\": \"#2a3f5f\"}, \"geo\": {\"bgcolor\": \"white\", \"lakecolor\": \"white\", \"landcolor\": \"#E5ECF6\", \"showlakes\": true, \"showland\": true, \"subunitcolor\": \"white\"}, \"hoverlabel\": {\"align\": \"left\"}, \"hovermode\": \"closest\", \"mapbox\": {\"style\": \"light\"}, \"paper_bgcolor\": \"white\", \"plot_bgcolor\": \"#E5ECF6\", \"polar\": {\"angularaxis\": {\"gridcolor\": \"white\", \"linecolor\": \"white\", \"ticks\": \"\"}, \"bgcolor\": \"#E5ECF6\", \"radialaxis\": {\"gridcolor\": \"white\", \"linecolor\": \"white\", \"ticks\": \"\"}}, \"scene\": {\"xaxis\": {\"backgroundcolor\": \"#E5ECF6\", \"gridcolor\": \"white\", \"gridwidth\": 2, \"linecolor\": \"white\", \"showbackground\": true, \"ticks\": \"\", \"zerolinecolor\": \"white\"}, \"yaxis\": {\"backgroundcolor\": \"#E5ECF6\", \"gridcolor\": \"white\", \"gridwidth\": 2, \"linecolor\": \"white\", \"showbackground\": true, \"ticks\": \"\", \"zerolinecolor\": \"white\"}, \"zaxis\": {\"backgroundcolor\": \"#E5ECF6\", \"gridcolor\": \"white\", \"gridwidth\": 2, \"linecolor\": \"white\", \"showbackground\": true, \"ticks\": \"\", \"zerolinecolor\": \"white\"}}, \"shapedefaults\": {\"line\": {\"color\": \"#2a3f5f\"}}, \"ternary\": {\"aaxis\": {\"gridcolor\": \"white\", \"linecolor\": \"white\", \"ticks\": \"\"}, \"baxis\": {\"gridcolor\": \"white\", \"linecolor\": \"white\", \"ticks\": \"\"}, \"bgcolor\": \"#E5ECF6\", \"caxis\": {\"gridcolor\": \"white\", \"linecolor\": \"white\", \"ticks\": \"\"}}, \"title\": {\"x\": 0.05}, \"xaxis\": {\"automargin\": true, \"gridcolor\": \"white\", \"linecolor\": \"white\", \"ticks\": \"\", \"title\": {\"standoff\": 15}, \"zerolinecolor\": \"white\", \"zerolinewidth\": 2}, \"yaxis\": {\"automargin\": true, \"gridcolor\": \"white\", \"linecolor\": \"white\", \"ticks\": \"\", \"title\": {\"standoff\": 15}, \"zerolinecolor\": \"white\", \"zerolinewidth\": 2}}}, \"title\": {\"text\": \"Movie Count by Genre\"}, \"xaxis\": {\"anchor\": \"y\", \"domain\": [0.0, 1.0], \"title\": {\"text\": \"ReleaseYear\"}}, \"yaxis\": {\"anchor\": \"x\", \"categoryarray\": [\"Family\", \"Romance\", \"Sci-Fi\", \"Documentary\", \" Action\", \" War\", \" Biography\", \"Fantasy\", \" Music\", \" History\", \"Mystery\", \"Animation\", \"Horror\", \" Musical\", \" Mystery\", \" Sport\", \" Horror\", \" Adventure\", \" Western\", \" Thriller\", \"Action\", \"Crime\", \" Sci-Fi\", \" Comedy\", \"Adventure\", \" Romance\", \" Fantasy\", \"Drama\", \" Family\", \"Comedy\", \" Drama\", \" Crime\", \"Biography\"], \"categoryorder\": \"array\", \"domain\": [0.0, 1.0], \"title\": {\"text\": \"Genre\"}}},\n",
       "                        {\"responsive\": true}\n",
       "                    ).then(function(){\n",
       "                            \n",
       "var gd = document.getElementById('6cf09f93-b908-4586-a89a-f17ce6285892');\n",
       "var x = new MutationObserver(function (mutations, observer) {{\n",
       "        var display = window.getComputedStyle(gd).display;\n",
       "        if (!display || display === 'none') {{\n",
       "            console.log([gd, 'removed!']);\n",
       "            Plotly.purge(gd);\n",
       "            observer.disconnect();\n",
       "        }}\n",
       "}});\n",
       "\n",
       "// Listen for the removal of the full notebook cells\n",
       "var notebookContainer = gd.closest('#notebook-container');\n",
       "if (notebookContainer) {{\n",
       "    x.observe(notebookContainer, {childList: true});\n",
       "}}\n",
       "\n",
       "// Listen for the clearing of the current output cell\n",
       "var outputEl = gd.closest('.output');\n",
       "if (outputEl) {{\n",
       "    x.observe(outputEl, {childList: true});\n",
       "}}\n",
       "\n",
       "                        })\n",
       "                };\n",
       "                });\n",
       "            </script>\n",
       "        </div>"
      ]
     },
     "metadata": {},
     "output_type": "display_data"
    }
   ],
   "source": [
    "#Plotting Number Of Movies Released Every Year By Genre\n",
    "fig = px.bar(Model_DF_Temp, x='ReleaseYear',y='Genre',color='Genre')\n",
    "fig.update_layout(title_text='Movie Count by Genre')\n",
    "fig.show()"
   ]
  },
  {
   "cell_type": "code",
   "execution_count": 62,
   "metadata": {},
   "outputs": [
    {
     "data": {
      "application/vnd.plotly.v1+json": {
       "config": {
        "plotlyServerURL": "https://plot.ly"
       },
       "data": [
        {
         "alignmentgroup": "True",
         "hovertemplate": "Genre=%{x}<br>IMDB_Rating=%{marker.color}<extra></extra>",
         "legendgroup": "",
         "marker": {
          "color": [
           7.760000000000001,
           6.924376731301933,
           7.508333333333333,
           6.931155778894472,
           7.020930232558141,
           7.348636363636364,
           6.816853932584268,
           6.797278911564625,
           7.604761904761904,
           6.6803030303030315,
           7.322222222222222,
           7.233333333333332,
           7.184999999999998,
           7.067857142857146,
           6.8,
           7.172,
           7.050583657587548,
           7.741666666666666,
           7.599999999999999,
           6.798884758364307,
           7.135365853658535,
           7.452631578947365,
           7.724705882352943,
           6.855303030303035,
           7.512765957446806,
           7.9,
           7.4477386934673415,
           7.1,
           6.633333333333333,
           6.674418604651166,
           7.369999999999999,
           7,
           7.300000000000001
          ],
          "coloraxis": "coloraxis"
         },
         "name": "",
         "offsetgroup": "",
         "orientation": "v",
         "showlegend": false,
         "textposition": "auto",
         "type": "bar",
         "x": [
          " Action",
          " Adventure",
          " Biography",
          " Comedy",
          " Crime",
          " Drama",
          " Family",
          " Fantasy",
          " History",
          " Horror",
          " Music",
          " Musical",
          " Mystery",
          " Romance",
          " Sci-Fi",
          " Sport",
          " Thriller",
          " War",
          " Western",
          "Action",
          "Adventure",
          "Animation",
          "Biography",
          "Comedy",
          "Crime",
          "Documentary",
          "Drama",
          "Family",
          "Fantasy",
          "Horror",
          "Mystery",
          "Romance",
          "Sci-Fi"
         ],
         "xaxis": "x",
         "y": [
          7.760000000000001,
          6.924376731301933,
          7.508333333333333,
          6.931155778894472,
          7.020930232558141,
          7.348636363636364,
          6.816853932584268,
          6.797278911564625,
          7.604761904761904,
          6.6803030303030315,
          7.322222222222222,
          7.233333333333332,
          7.184999999999998,
          7.067857142857146,
          6.8,
          7.172,
          7.050583657587548,
          7.741666666666666,
          7.599999999999999,
          6.798884758364307,
          7.135365853658535,
          7.452631578947365,
          7.724705882352943,
          6.855303030303035,
          7.512765957446806,
          7.9,
          7.4477386934673415,
          7.1,
          6.633333333333333,
          6.674418604651166,
          7.369999999999999,
          7,
          7.300000000000001
         ],
         "yaxis": "y"
        }
       ],
       "layout": {
        "barmode": "relative",
        "coloraxis": {
         "colorbar": {
          "title": {
           "text": "IMDB_Rating"
          }
         },
         "colorscale": [
          [
           0,
           "#0d0887"
          ],
          [
           0.1111111111111111,
           "#46039f"
          ],
          [
           0.2222222222222222,
           "#7201a8"
          ],
          [
           0.3333333333333333,
           "#9c179e"
          ],
          [
           0.4444444444444444,
           "#bd3786"
          ],
          [
           0.5555555555555556,
           "#d8576b"
          ],
          [
           0.6666666666666666,
           "#ed7953"
          ],
          [
           0.7777777777777778,
           "#fb9f3a"
          ],
          [
           0.8888888888888888,
           "#fdca26"
          ],
          [
           1,
           "#f0f921"
          ]
         ]
        },
        "legend": {
         "tracegroupgap": 0
        },
        "margin": {
         "t": 60
        },
        "template": {
         "data": {
          "bar": [
           {
            "error_x": {
             "color": "#2a3f5f"
            },
            "error_y": {
             "color": "#2a3f5f"
            },
            "marker": {
             "line": {
              "color": "#E5ECF6",
              "width": 0.5
             }
            },
            "type": "bar"
           }
          ],
          "barpolar": [
           {
            "marker": {
             "line": {
              "color": "#E5ECF6",
              "width": 0.5
             }
            },
            "type": "barpolar"
           }
          ],
          "carpet": [
           {
            "aaxis": {
             "endlinecolor": "#2a3f5f",
             "gridcolor": "white",
             "linecolor": "white",
             "minorgridcolor": "white",
             "startlinecolor": "#2a3f5f"
            },
            "baxis": {
             "endlinecolor": "#2a3f5f",
             "gridcolor": "white",
             "linecolor": "white",
             "minorgridcolor": "white",
             "startlinecolor": "#2a3f5f"
            },
            "type": "carpet"
           }
          ],
          "choropleth": [
           {
            "colorbar": {
             "outlinewidth": 0,
             "ticks": ""
            },
            "type": "choropleth"
           }
          ],
          "contour": [
           {
            "colorbar": {
             "outlinewidth": 0,
             "ticks": ""
            },
            "colorscale": [
             [
              0,
              "#0d0887"
             ],
             [
              0.1111111111111111,
              "#46039f"
             ],
             [
              0.2222222222222222,
              "#7201a8"
             ],
             [
              0.3333333333333333,
              "#9c179e"
             ],
             [
              0.4444444444444444,
              "#bd3786"
             ],
             [
              0.5555555555555556,
              "#d8576b"
             ],
             [
              0.6666666666666666,
              "#ed7953"
             ],
             [
              0.7777777777777778,
              "#fb9f3a"
             ],
             [
              0.8888888888888888,
              "#fdca26"
             ],
             [
              1,
              "#f0f921"
             ]
            ],
            "type": "contour"
           }
          ],
          "contourcarpet": [
           {
            "colorbar": {
             "outlinewidth": 0,
             "ticks": ""
            },
            "type": "contourcarpet"
           }
          ],
          "heatmap": [
           {
            "colorbar": {
             "outlinewidth": 0,
             "ticks": ""
            },
            "colorscale": [
             [
              0,
              "#0d0887"
             ],
             [
              0.1111111111111111,
              "#46039f"
             ],
             [
              0.2222222222222222,
              "#7201a8"
             ],
             [
              0.3333333333333333,
              "#9c179e"
             ],
             [
              0.4444444444444444,
              "#bd3786"
             ],
             [
              0.5555555555555556,
              "#d8576b"
             ],
             [
              0.6666666666666666,
              "#ed7953"
             ],
             [
              0.7777777777777778,
              "#fb9f3a"
             ],
             [
              0.8888888888888888,
              "#fdca26"
             ],
             [
              1,
              "#f0f921"
             ]
            ],
            "type": "heatmap"
           }
          ],
          "heatmapgl": [
           {
            "colorbar": {
             "outlinewidth": 0,
             "ticks": ""
            },
            "colorscale": [
             [
              0,
              "#0d0887"
             ],
             [
              0.1111111111111111,
              "#46039f"
             ],
             [
              0.2222222222222222,
              "#7201a8"
             ],
             [
              0.3333333333333333,
              "#9c179e"
             ],
             [
              0.4444444444444444,
              "#bd3786"
             ],
             [
              0.5555555555555556,
              "#d8576b"
             ],
             [
              0.6666666666666666,
              "#ed7953"
             ],
             [
              0.7777777777777778,
              "#fb9f3a"
             ],
             [
              0.8888888888888888,
              "#fdca26"
             ],
             [
              1,
              "#f0f921"
             ]
            ],
            "type": "heatmapgl"
           }
          ],
          "histogram": [
           {
            "marker": {
             "colorbar": {
              "outlinewidth": 0,
              "ticks": ""
             }
            },
            "type": "histogram"
           }
          ],
          "histogram2d": [
           {
            "colorbar": {
             "outlinewidth": 0,
             "ticks": ""
            },
            "colorscale": [
             [
              0,
              "#0d0887"
             ],
             [
              0.1111111111111111,
              "#46039f"
             ],
             [
              0.2222222222222222,
              "#7201a8"
             ],
             [
              0.3333333333333333,
              "#9c179e"
             ],
             [
              0.4444444444444444,
              "#bd3786"
             ],
             [
              0.5555555555555556,
              "#d8576b"
             ],
             [
              0.6666666666666666,
              "#ed7953"
             ],
             [
              0.7777777777777778,
              "#fb9f3a"
             ],
             [
              0.8888888888888888,
              "#fdca26"
             ],
             [
              1,
              "#f0f921"
             ]
            ],
            "type": "histogram2d"
           }
          ],
          "histogram2dcontour": [
           {
            "colorbar": {
             "outlinewidth": 0,
             "ticks": ""
            },
            "colorscale": [
             [
              0,
              "#0d0887"
             ],
             [
              0.1111111111111111,
              "#46039f"
             ],
             [
              0.2222222222222222,
              "#7201a8"
             ],
             [
              0.3333333333333333,
              "#9c179e"
             ],
             [
              0.4444444444444444,
              "#bd3786"
             ],
             [
              0.5555555555555556,
              "#d8576b"
             ],
             [
              0.6666666666666666,
              "#ed7953"
             ],
             [
              0.7777777777777778,
              "#fb9f3a"
             ],
             [
              0.8888888888888888,
              "#fdca26"
             ],
             [
              1,
              "#f0f921"
             ]
            ],
            "type": "histogram2dcontour"
           }
          ],
          "mesh3d": [
           {
            "colorbar": {
             "outlinewidth": 0,
             "ticks": ""
            },
            "type": "mesh3d"
           }
          ],
          "parcoords": [
           {
            "line": {
             "colorbar": {
              "outlinewidth": 0,
              "ticks": ""
             }
            },
            "type": "parcoords"
           }
          ],
          "pie": [
           {
            "automargin": true,
            "type": "pie"
           }
          ],
          "scatter": [
           {
            "marker": {
             "colorbar": {
              "outlinewidth": 0,
              "ticks": ""
             }
            },
            "type": "scatter"
           }
          ],
          "scatter3d": [
           {
            "line": {
             "colorbar": {
              "outlinewidth": 0,
              "ticks": ""
             }
            },
            "marker": {
             "colorbar": {
              "outlinewidth": 0,
              "ticks": ""
             }
            },
            "type": "scatter3d"
           }
          ],
          "scattercarpet": [
           {
            "marker": {
             "colorbar": {
              "outlinewidth": 0,
              "ticks": ""
             }
            },
            "type": "scattercarpet"
           }
          ],
          "scattergeo": [
           {
            "marker": {
             "colorbar": {
              "outlinewidth": 0,
              "ticks": ""
             }
            },
            "type": "scattergeo"
           }
          ],
          "scattergl": [
           {
            "marker": {
             "colorbar": {
              "outlinewidth": 0,
              "ticks": ""
             }
            },
            "type": "scattergl"
           }
          ],
          "scattermapbox": [
           {
            "marker": {
             "colorbar": {
              "outlinewidth": 0,
              "ticks": ""
             }
            },
            "type": "scattermapbox"
           }
          ],
          "scatterpolar": [
           {
            "marker": {
             "colorbar": {
              "outlinewidth": 0,
              "ticks": ""
             }
            },
            "type": "scatterpolar"
           }
          ],
          "scatterpolargl": [
           {
            "marker": {
             "colorbar": {
              "outlinewidth": 0,
              "ticks": ""
             }
            },
            "type": "scatterpolargl"
           }
          ],
          "scatterternary": [
           {
            "marker": {
             "colorbar": {
              "outlinewidth": 0,
              "ticks": ""
             }
            },
            "type": "scatterternary"
           }
          ],
          "surface": [
           {
            "colorbar": {
             "outlinewidth": 0,
             "ticks": ""
            },
            "colorscale": [
             [
              0,
              "#0d0887"
             ],
             [
              0.1111111111111111,
              "#46039f"
             ],
             [
              0.2222222222222222,
              "#7201a8"
             ],
             [
              0.3333333333333333,
              "#9c179e"
             ],
             [
              0.4444444444444444,
              "#bd3786"
             ],
             [
              0.5555555555555556,
              "#d8576b"
             ],
             [
              0.6666666666666666,
              "#ed7953"
             ],
             [
              0.7777777777777778,
              "#fb9f3a"
             ],
             [
              0.8888888888888888,
              "#fdca26"
             ],
             [
              1,
              "#f0f921"
             ]
            ],
            "type": "surface"
           }
          ],
          "table": [
           {
            "cells": {
             "fill": {
              "color": "#EBF0F8"
             },
             "line": {
              "color": "white"
             }
            },
            "header": {
             "fill": {
              "color": "#C8D4E3"
             },
             "line": {
              "color": "white"
             }
            },
            "type": "table"
           }
          ]
         },
         "layout": {
          "annotationdefaults": {
           "arrowcolor": "#2a3f5f",
           "arrowhead": 0,
           "arrowwidth": 1
          },
          "coloraxis": {
           "colorbar": {
            "outlinewidth": 0,
            "ticks": ""
           }
          },
          "colorscale": {
           "diverging": [
            [
             0,
             "#8e0152"
            ],
            [
             0.1,
             "#c51b7d"
            ],
            [
             0.2,
             "#de77ae"
            ],
            [
             0.3,
             "#f1b6da"
            ],
            [
             0.4,
             "#fde0ef"
            ],
            [
             0.5,
             "#f7f7f7"
            ],
            [
             0.6,
             "#e6f5d0"
            ],
            [
             0.7,
             "#b8e186"
            ],
            [
             0.8,
             "#7fbc41"
            ],
            [
             0.9,
             "#4d9221"
            ],
            [
             1,
             "#276419"
            ]
           ],
           "sequential": [
            [
             0,
             "#0d0887"
            ],
            [
             0.1111111111111111,
             "#46039f"
            ],
            [
             0.2222222222222222,
             "#7201a8"
            ],
            [
             0.3333333333333333,
             "#9c179e"
            ],
            [
             0.4444444444444444,
             "#bd3786"
            ],
            [
             0.5555555555555556,
             "#d8576b"
            ],
            [
             0.6666666666666666,
             "#ed7953"
            ],
            [
             0.7777777777777778,
             "#fb9f3a"
            ],
            [
             0.8888888888888888,
             "#fdca26"
            ],
            [
             1,
             "#f0f921"
            ]
           ],
           "sequentialminus": [
            [
             0,
             "#0d0887"
            ],
            [
             0.1111111111111111,
             "#46039f"
            ],
            [
             0.2222222222222222,
             "#7201a8"
            ],
            [
             0.3333333333333333,
             "#9c179e"
            ],
            [
             0.4444444444444444,
             "#bd3786"
            ],
            [
             0.5555555555555556,
             "#d8576b"
            ],
            [
             0.6666666666666666,
             "#ed7953"
            ],
            [
             0.7777777777777778,
             "#fb9f3a"
            ],
            [
             0.8888888888888888,
             "#fdca26"
            ],
            [
             1,
             "#f0f921"
            ]
           ]
          },
          "colorway": [
           "#636efa",
           "#EF553B",
           "#00cc96",
           "#ab63fa",
           "#FFA15A",
           "#19d3f3",
           "#FF6692",
           "#B6E880",
           "#FF97FF",
           "#FECB52"
          ],
          "font": {
           "color": "#2a3f5f"
          },
          "geo": {
           "bgcolor": "white",
           "lakecolor": "white",
           "landcolor": "#E5ECF6",
           "showlakes": true,
           "showland": true,
           "subunitcolor": "white"
          },
          "hoverlabel": {
           "align": "left"
          },
          "hovermode": "closest",
          "mapbox": {
           "style": "light"
          },
          "paper_bgcolor": "white",
          "plot_bgcolor": "#E5ECF6",
          "polar": {
           "angularaxis": {
            "gridcolor": "white",
            "linecolor": "white",
            "ticks": ""
           },
           "bgcolor": "#E5ECF6",
           "radialaxis": {
            "gridcolor": "white",
            "linecolor": "white",
            "ticks": ""
           }
          },
          "scene": {
           "xaxis": {
            "backgroundcolor": "#E5ECF6",
            "gridcolor": "white",
            "gridwidth": 2,
            "linecolor": "white",
            "showbackground": true,
            "ticks": "",
            "zerolinecolor": "white"
           },
           "yaxis": {
            "backgroundcolor": "#E5ECF6",
            "gridcolor": "white",
            "gridwidth": 2,
            "linecolor": "white",
            "showbackground": true,
            "ticks": "",
            "zerolinecolor": "white"
           },
           "zaxis": {
            "backgroundcolor": "#E5ECF6",
            "gridcolor": "white",
            "gridwidth": 2,
            "linecolor": "white",
            "showbackground": true,
            "ticks": "",
            "zerolinecolor": "white"
           }
          },
          "shapedefaults": {
           "line": {
            "color": "#2a3f5f"
           }
          },
          "ternary": {
           "aaxis": {
            "gridcolor": "white",
            "linecolor": "white",
            "ticks": ""
           },
           "baxis": {
            "gridcolor": "white",
            "linecolor": "white",
            "ticks": ""
           },
           "bgcolor": "#E5ECF6",
           "caxis": {
            "gridcolor": "white",
            "linecolor": "white",
            "ticks": ""
           }
          },
          "title": {
           "x": 0.05
          },
          "xaxis": {
           "automargin": true,
           "gridcolor": "white",
           "linecolor": "white",
           "ticks": "",
           "title": {
            "standoff": 15
           },
           "zerolinecolor": "white",
           "zerolinewidth": 2
          },
          "yaxis": {
           "automargin": true,
           "gridcolor": "white",
           "linecolor": "white",
           "ticks": "",
           "title": {
            "standoff": 15
           },
           "zerolinecolor": "white",
           "zerolinewidth": 2
          }
         }
        },
        "title": {
         "text": "Critic Ratings by Genre"
        },
        "xaxis": {
         "anchor": "y",
         "domain": [
          0,
          1
         ],
         "title": {
          "text": "Genre"
         }
        },
        "yaxis": {
         "anchor": "x",
         "domain": [
          0,
          1
         ],
         "title": {
          "text": "IMDB_Rating"
         }
        }
       }
      },
      "text/html": [
       "<div>\n",
       "        \n",
       "        \n",
       "            <div id=\"5eea7390-cc3e-425c-88ac-aa0059960f0a\" class=\"plotly-graph-div\" style=\"height:525px; width:100%;\"></div>\n",
       "            <script type=\"text/javascript\">\n",
       "                require([\"plotly\"], function(Plotly) {\n",
       "                    window.PLOTLYENV=window.PLOTLYENV || {};\n",
       "                    \n",
       "                if (document.getElementById(\"5eea7390-cc3e-425c-88ac-aa0059960f0a\")) {\n",
       "                    Plotly.newPlot(\n",
       "                        '5eea7390-cc3e-425c-88ac-aa0059960f0a',\n",
       "                        [{\"alignmentgroup\": \"True\", \"hovertemplate\": \"Genre=%{x}<br>IMDB_Rating=%{marker.color}<extra></extra>\", \"legendgroup\": \"\", \"marker\": {\"color\": [7.760000000000001, 6.924376731301933, 7.508333333333333, 6.931155778894472, 7.020930232558141, 7.348636363636364, 6.816853932584268, 6.797278911564625, 7.604761904761904, 6.6803030303030315, 7.322222222222222, 7.233333333333332, 7.184999999999998, 7.067857142857146, 6.8, 7.172, 7.050583657587548, 7.741666666666666, 7.599999999999999, 6.798884758364307, 7.135365853658535, 7.452631578947365, 7.724705882352943, 6.855303030303035, 7.512765957446806, 7.9, 7.4477386934673415, 7.1, 6.633333333333333, 6.674418604651166, 7.369999999999999, 7.0, 7.300000000000001], \"coloraxis\": \"coloraxis\"}, \"name\": \"\", \"offsetgroup\": \"\", \"orientation\": \"v\", \"showlegend\": false, \"textposition\": \"auto\", \"type\": \"bar\", \"x\": [\" Action\", \" Adventure\", \" Biography\", \" Comedy\", \" Crime\", \" Drama\", \" Family\", \" Fantasy\", \" History\", \" Horror\", \" Music\", \" Musical\", \" Mystery\", \" Romance\", \" Sci-Fi\", \" Sport\", \" Thriller\", \" War\", \" Western\", \"Action\", \"Adventure\", \"Animation\", \"Biography\", \"Comedy\", \"Crime\", \"Documentary\", \"Drama\", \"Family\", \"Fantasy\", \"Horror\", \"Mystery\", \"Romance\", \"Sci-Fi\"], \"xaxis\": \"x\", \"y\": [7.760000000000001, 6.924376731301933, 7.508333333333333, 6.931155778894472, 7.020930232558141, 7.348636363636364, 6.816853932584268, 6.797278911564625, 7.604761904761904, 6.6803030303030315, 7.322222222222222, 7.233333333333332, 7.184999999999998, 7.067857142857146, 6.8, 7.172, 7.050583657587548, 7.741666666666666, 7.599999999999999, 6.798884758364307, 7.135365853658535, 7.452631578947365, 7.724705882352943, 6.855303030303035, 7.512765957446806, 7.9, 7.4477386934673415, 7.1, 6.633333333333333, 6.674418604651166, 7.369999999999999, 7.0, 7.300000000000001], \"yaxis\": \"y\"}],\n",
       "                        {\"barmode\": \"relative\", \"coloraxis\": {\"colorbar\": {\"title\": {\"text\": \"IMDB_Rating\"}}, \"colorscale\": [[0.0, \"#0d0887\"], [0.1111111111111111, \"#46039f\"], [0.2222222222222222, \"#7201a8\"], [0.3333333333333333, \"#9c179e\"], [0.4444444444444444, \"#bd3786\"], [0.5555555555555556, \"#d8576b\"], [0.6666666666666666, \"#ed7953\"], [0.7777777777777778, \"#fb9f3a\"], [0.8888888888888888, \"#fdca26\"], [1.0, \"#f0f921\"]]}, \"legend\": {\"tracegroupgap\": 0}, \"margin\": {\"t\": 60}, \"template\": {\"data\": {\"bar\": [{\"error_x\": {\"color\": \"#2a3f5f\"}, \"error_y\": {\"color\": \"#2a3f5f\"}, \"marker\": {\"line\": {\"color\": \"#E5ECF6\", \"width\": 0.5}}, \"type\": \"bar\"}], \"barpolar\": [{\"marker\": {\"line\": {\"color\": \"#E5ECF6\", \"width\": 0.5}}, \"type\": \"barpolar\"}], \"carpet\": [{\"aaxis\": {\"endlinecolor\": \"#2a3f5f\", \"gridcolor\": \"white\", \"linecolor\": \"white\", \"minorgridcolor\": \"white\", \"startlinecolor\": \"#2a3f5f\"}, \"baxis\": {\"endlinecolor\": \"#2a3f5f\", \"gridcolor\": \"white\", \"linecolor\": \"white\", \"minorgridcolor\": \"white\", \"startlinecolor\": \"#2a3f5f\"}, \"type\": \"carpet\"}], \"choropleth\": [{\"colorbar\": {\"outlinewidth\": 0, \"ticks\": \"\"}, \"type\": \"choropleth\"}], \"contour\": [{\"colorbar\": {\"outlinewidth\": 0, \"ticks\": \"\"}, \"colorscale\": [[0.0, \"#0d0887\"], [0.1111111111111111, \"#46039f\"], [0.2222222222222222, \"#7201a8\"], [0.3333333333333333, \"#9c179e\"], [0.4444444444444444, \"#bd3786\"], [0.5555555555555556, \"#d8576b\"], [0.6666666666666666, \"#ed7953\"], [0.7777777777777778, \"#fb9f3a\"], [0.8888888888888888, \"#fdca26\"], [1.0, \"#f0f921\"]], \"type\": \"contour\"}], \"contourcarpet\": [{\"colorbar\": {\"outlinewidth\": 0, \"ticks\": \"\"}, \"type\": \"contourcarpet\"}], \"heatmap\": [{\"colorbar\": {\"outlinewidth\": 0, \"ticks\": \"\"}, \"colorscale\": [[0.0, \"#0d0887\"], [0.1111111111111111, \"#46039f\"], [0.2222222222222222, \"#7201a8\"], [0.3333333333333333, \"#9c179e\"], [0.4444444444444444, \"#bd3786\"], [0.5555555555555556, \"#d8576b\"], [0.6666666666666666, \"#ed7953\"], [0.7777777777777778, \"#fb9f3a\"], [0.8888888888888888, \"#fdca26\"], [1.0, \"#f0f921\"]], \"type\": \"heatmap\"}], \"heatmapgl\": [{\"colorbar\": {\"outlinewidth\": 0, \"ticks\": \"\"}, \"colorscale\": [[0.0, \"#0d0887\"], [0.1111111111111111, \"#46039f\"], [0.2222222222222222, \"#7201a8\"], [0.3333333333333333, \"#9c179e\"], [0.4444444444444444, \"#bd3786\"], [0.5555555555555556, \"#d8576b\"], [0.6666666666666666, \"#ed7953\"], [0.7777777777777778, \"#fb9f3a\"], [0.8888888888888888, \"#fdca26\"], [1.0, \"#f0f921\"]], \"type\": \"heatmapgl\"}], \"histogram\": [{\"marker\": {\"colorbar\": {\"outlinewidth\": 0, \"ticks\": \"\"}}, \"type\": \"histogram\"}], \"histogram2d\": [{\"colorbar\": {\"outlinewidth\": 0, \"ticks\": \"\"}, \"colorscale\": [[0.0, \"#0d0887\"], [0.1111111111111111, \"#46039f\"], [0.2222222222222222, \"#7201a8\"], [0.3333333333333333, \"#9c179e\"], [0.4444444444444444, \"#bd3786\"], [0.5555555555555556, \"#d8576b\"], [0.6666666666666666, \"#ed7953\"], [0.7777777777777778, \"#fb9f3a\"], [0.8888888888888888, \"#fdca26\"], [1.0, \"#f0f921\"]], \"type\": \"histogram2d\"}], \"histogram2dcontour\": [{\"colorbar\": {\"outlinewidth\": 0, \"ticks\": \"\"}, \"colorscale\": [[0.0, \"#0d0887\"], [0.1111111111111111, \"#46039f\"], [0.2222222222222222, \"#7201a8\"], [0.3333333333333333, \"#9c179e\"], [0.4444444444444444, \"#bd3786\"], [0.5555555555555556, \"#d8576b\"], [0.6666666666666666, \"#ed7953\"], [0.7777777777777778, \"#fb9f3a\"], [0.8888888888888888, \"#fdca26\"], [1.0, \"#f0f921\"]], \"type\": \"histogram2dcontour\"}], \"mesh3d\": [{\"colorbar\": {\"outlinewidth\": 0, \"ticks\": \"\"}, \"type\": \"mesh3d\"}], \"parcoords\": [{\"line\": {\"colorbar\": {\"outlinewidth\": 0, \"ticks\": \"\"}}, \"type\": \"parcoords\"}], \"pie\": [{\"automargin\": true, \"type\": \"pie\"}], \"scatter\": [{\"marker\": {\"colorbar\": {\"outlinewidth\": 0, \"ticks\": \"\"}}, \"type\": \"scatter\"}], \"scatter3d\": [{\"line\": {\"colorbar\": {\"outlinewidth\": 0, \"ticks\": \"\"}}, \"marker\": {\"colorbar\": {\"outlinewidth\": 0, \"ticks\": \"\"}}, \"type\": \"scatter3d\"}], \"scattercarpet\": [{\"marker\": {\"colorbar\": {\"outlinewidth\": 0, \"ticks\": \"\"}}, \"type\": \"scattercarpet\"}], \"scattergeo\": [{\"marker\": {\"colorbar\": {\"outlinewidth\": 0, \"ticks\": \"\"}}, \"type\": \"scattergeo\"}], \"scattergl\": [{\"marker\": {\"colorbar\": {\"outlinewidth\": 0, \"ticks\": \"\"}}, \"type\": \"scattergl\"}], \"scattermapbox\": [{\"marker\": {\"colorbar\": {\"outlinewidth\": 0, \"ticks\": \"\"}}, \"type\": \"scattermapbox\"}], \"scatterpolar\": [{\"marker\": {\"colorbar\": {\"outlinewidth\": 0, \"ticks\": \"\"}}, \"type\": \"scatterpolar\"}], \"scatterpolargl\": [{\"marker\": {\"colorbar\": {\"outlinewidth\": 0, \"ticks\": \"\"}}, \"type\": \"scatterpolargl\"}], \"scatterternary\": [{\"marker\": {\"colorbar\": {\"outlinewidth\": 0, \"ticks\": \"\"}}, \"type\": \"scatterternary\"}], \"surface\": [{\"colorbar\": {\"outlinewidth\": 0, \"ticks\": \"\"}, \"colorscale\": [[0.0, \"#0d0887\"], [0.1111111111111111, \"#46039f\"], [0.2222222222222222, \"#7201a8\"], [0.3333333333333333, \"#9c179e\"], [0.4444444444444444, \"#bd3786\"], [0.5555555555555556, \"#d8576b\"], [0.6666666666666666, \"#ed7953\"], [0.7777777777777778, \"#fb9f3a\"], [0.8888888888888888, \"#fdca26\"], [1.0, \"#f0f921\"]], \"type\": \"surface\"}], \"table\": [{\"cells\": {\"fill\": {\"color\": \"#EBF0F8\"}, \"line\": {\"color\": \"white\"}}, \"header\": {\"fill\": {\"color\": \"#C8D4E3\"}, \"line\": {\"color\": \"white\"}}, \"type\": \"table\"}]}, \"layout\": {\"annotationdefaults\": {\"arrowcolor\": \"#2a3f5f\", \"arrowhead\": 0, \"arrowwidth\": 1}, \"coloraxis\": {\"colorbar\": {\"outlinewidth\": 0, \"ticks\": \"\"}}, \"colorscale\": {\"diverging\": [[0, \"#8e0152\"], [0.1, \"#c51b7d\"], [0.2, \"#de77ae\"], [0.3, \"#f1b6da\"], [0.4, \"#fde0ef\"], [0.5, \"#f7f7f7\"], [0.6, \"#e6f5d0\"], [0.7, \"#b8e186\"], [0.8, \"#7fbc41\"], [0.9, \"#4d9221\"], [1, \"#276419\"]], \"sequential\": [[0.0, \"#0d0887\"], [0.1111111111111111, \"#46039f\"], [0.2222222222222222, \"#7201a8\"], [0.3333333333333333, \"#9c179e\"], [0.4444444444444444, \"#bd3786\"], [0.5555555555555556, \"#d8576b\"], [0.6666666666666666, \"#ed7953\"], [0.7777777777777778, \"#fb9f3a\"], [0.8888888888888888, \"#fdca26\"], [1.0, \"#f0f921\"]], \"sequentialminus\": [[0.0, \"#0d0887\"], [0.1111111111111111, \"#46039f\"], [0.2222222222222222, \"#7201a8\"], [0.3333333333333333, \"#9c179e\"], [0.4444444444444444, \"#bd3786\"], [0.5555555555555556, \"#d8576b\"], [0.6666666666666666, \"#ed7953\"], [0.7777777777777778, \"#fb9f3a\"], [0.8888888888888888, \"#fdca26\"], [1.0, \"#f0f921\"]]}, \"colorway\": [\"#636efa\", \"#EF553B\", \"#00cc96\", \"#ab63fa\", \"#FFA15A\", \"#19d3f3\", \"#FF6692\", \"#B6E880\", \"#FF97FF\", \"#FECB52\"], \"font\": {\"color\": \"#2a3f5f\"}, \"geo\": {\"bgcolor\": \"white\", \"lakecolor\": \"white\", \"landcolor\": \"#E5ECF6\", \"showlakes\": true, \"showland\": true, \"subunitcolor\": \"white\"}, \"hoverlabel\": {\"align\": \"left\"}, \"hovermode\": \"closest\", \"mapbox\": {\"style\": \"light\"}, \"paper_bgcolor\": \"white\", \"plot_bgcolor\": \"#E5ECF6\", \"polar\": {\"angularaxis\": {\"gridcolor\": \"white\", \"linecolor\": \"white\", \"ticks\": \"\"}, \"bgcolor\": \"#E5ECF6\", \"radialaxis\": {\"gridcolor\": \"white\", \"linecolor\": \"white\", \"ticks\": \"\"}}, \"scene\": {\"xaxis\": {\"backgroundcolor\": \"#E5ECF6\", \"gridcolor\": \"white\", \"gridwidth\": 2, \"linecolor\": \"white\", \"showbackground\": true, \"ticks\": \"\", \"zerolinecolor\": \"white\"}, \"yaxis\": {\"backgroundcolor\": \"#E5ECF6\", \"gridcolor\": \"white\", \"gridwidth\": 2, \"linecolor\": \"white\", \"showbackground\": true, \"ticks\": \"\", \"zerolinecolor\": \"white\"}, \"zaxis\": {\"backgroundcolor\": \"#E5ECF6\", \"gridcolor\": \"white\", \"gridwidth\": 2, \"linecolor\": \"white\", \"showbackground\": true, \"ticks\": \"\", \"zerolinecolor\": \"white\"}}, \"shapedefaults\": {\"line\": {\"color\": \"#2a3f5f\"}}, \"ternary\": {\"aaxis\": {\"gridcolor\": \"white\", \"linecolor\": \"white\", \"ticks\": \"\"}, \"baxis\": {\"gridcolor\": \"white\", \"linecolor\": \"white\", \"ticks\": \"\"}, \"bgcolor\": \"#E5ECF6\", \"caxis\": {\"gridcolor\": \"white\", \"linecolor\": \"white\", \"ticks\": \"\"}}, \"title\": {\"x\": 0.05}, \"xaxis\": {\"automargin\": true, \"gridcolor\": \"white\", \"linecolor\": \"white\", \"ticks\": \"\", \"title\": {\"standoff\": 15}, \"zerolinecolor\": \"white\", \"zerolinewidth\": 2}, \"yaxis\": {\"automargin\": true, \"gridcolor\": \"white\", \"linecolor\": \"white\", \"ticks\": \"\", \"title\": {\"standoff\": 15}, \"zerolinecolor\": \"white\", \"zerolinewidth\": 2}}}, \"title\": {\"text\": \"Critic Ratings by Genre\"}, \"xaxis\": {\"anchor\": \"y\", \"domain\": [0.0, 1.0], \"title\": {\"text\": \"Genre\"}}, \"yaxis\": {\"anchor\": \"x\", \"domain\": [0.0, 1.0], \"title\": {\"text\": \"IMDB_Rating\"}}},\n",
       "                        {\"responsive\": true}\n",
       "                    ).then(function(){\n",
       "                            \n",
       "var gd = document.getElementById('5eea7390-cc3e-425c-88ac-aa0059960f0a');\n",
       "var x = new MutationObserver(function (mutations, observer) {{\n",
       "        var display = window.getComputedStyle(gd).display;\n",
       "        if (!display || display === 'none') {{\n",
       "            console.log([gd, 'removed!']);\n",
       "            Plotly.purge(gd);\n",
       "            observer.disconnect();\n",
       "        }}\n",
       "}});\n",
       "\n",
       "// Listen for the removal of the full notebook cells\n",
       "var notebookContainer = gd.closest('#notebook-container');\n",
       "if (notebookContainer) {{\n",
       "    x.observe(notebookContainer, {childList: true});\n",
       "}}\n",
       "\n",
       "// Listen for the clearing of the current output cell\n",
       "var outputEl = gd.closest('.output');\n",
       "if (outputEl) {{\n",
       "    x.observe(outputEl, {childList: true});\n",
       "}}\n",
       "\n",
       "                        })\n",
       "                };\n",
       "                });\n",
       "            </script>\n",
       "        </div>"
      ]
     },
     "metadata": {},
     "output_type": "display_data"
    }
   ],
   "source": [
    "#Plotting The Critic Ratings By Genre\n",
    "Model_DF2 = Model_DF_Temp.groupby('Genre')['IMDB_Rating'].mean()\n",
    "Model_DF2=Model_DF2.reset_index()\n",
    "fig = px.bar(Model_DF2, x='Genre', y='IMDB_Rating',color='IMDB_Rating')\n",
    "fig.update_layout(title_text='Critic Ratings by Genre')\n",
    "fig.show()"
   ]
  },
  {
   "cell_type": "code",
   "execution_count": 63,
   "metadata": {},
   "outputs": [
    {
     "data": {
      "application/vnd.plotly.v1+json": {
       "config": {
        "plotlyServerURL": "https://plot.ly"
       },
       "data": [
        {
         "hovertemplate": "Metascore_Key=Favorable<br>Genre=%{x}<br>Metascore_Value=%{y}<extra></extra>",
         "legendgroup": "Favorable",
         "line": {
          "color": "#636efa",
          "dash": "solid"
         },
         "mode": "lines",
         "name": "Favorable",
         "showlegend": true,
         "type": "scatter",
         "x": [
          " Action",
          " Adventure",
          " Biography",
          " Comedy",
          " Crime",
          " Drama",
          " Family",
          " Fantasy",
          " History",
          " Horror",
          " Music",
          " Musical",
          " Mystery",
          " Romance",
          " Sci-Fi",
          " Sport",
          " Thriller",
          " War",
          " Western",
          "Action",
          "Adventure",
          "Animation",
          "Biography",
          "Comedy",
          "Crime",
          "Drama",
          "Family",
          "Fantasy",
          "Horror",
          "Mystery",
          "Sci-Fi"
         ],
         "xaxis": "x",
         "y": [
          82.33333333333333,
          75.31188118811882,
          74.25,
          74.5,
          73.32941176470588,
          75.41304347826087,
          76.2,
          75.73972602739725,
          75.1304347826087,
          72,
          76.5,
          74.71428571428571,
          72.6875,
          73.73076923076923,
          73.09917355371901,
          69.88888888888889,
          73.68148148148148,
          75.77777777777777,
          77.16666666666667,
          73.48351648351648,
          75.8780487804878,
          79.10526315789474,
          73.88,
          72.74193548387096,
          74.75,
          74.63025210084034,
          65,
          64,
          69.82352941176471,
          72,
          68
         ],
         "yaxis": "y"
        },
        {
         "hovertemplate": "Metascore_Key=Mixed<br>Genre=%{x}<br>Metascore_Value=%{y}<extra></extra>",
         "legendgroup": "Mixed",
         "line": {
          "color": "#EF553B",
          "dash": "solid"
         },
         "mode": "lines",
         "name": "Mixed",
         "showlegend": true,
         "type": "scatter",
         "x": [
          " Action",
          " Adventure",
          " Biography",
          " Comedy",
          " Crime",
          " Drama",
          " Family",
          " Fantasy",
          " History",
          " Horror",
          " Music",
          " Musical",
          " Mystery",
          " Romance",
          " Sci-Fi",
          " Sport",
          " Thriller",
          " War",
          " Western",
          "Action",
          "Adventure",
          "Animation",
          "Biography",
          "Comedy",
          "Crime",
          "Documentary",
          "Drama",
          "Horror",
          "Mystery",
          "Sci-Fi"
         ],
         "xaxis": "x",
         "y": [
          51.333333333333336,
          52.607142857142854,
          50,
          51.728813559322035,
          51.766666666666666,
          50.74647887323944,
          51.7,
          51.13725490196079,
          50.1,
          48.411764705882355,
          52,
          50,
          51.073170731707314,
          51.032786885245905,
          51.205882352941174,
          50.333333333333336,
          52.362637362637365,
          50.333333333333336,
          53,
          51.81481481481482,
          51.88461538461539,
          52.689655172413794,
          49.608695652173914,
          50.70454545454545,
          50.25,
          45,
          51.92727272727273,
          51.19047619047619,
          53.333333333333336,
          42
         ],
         "yaxis": "y"
        },
        {
         "hovertemplate": "Metascore_Key=Unfavorable<br>Genre=%{x}<br>Metascore_Value=%{y}<extra></extra>",
         "legendgroup": "Unfavorable",
         "line": {
          "color": "#00cc96",
          "dash": "solid"
         },
         "mode": "lines",
         "name": "Unfavorable",
         "showlegend": true,
         "type": "scatter",
         "x": [
          " Adventure",
          " Biography",
          " Comedy",
          " Crime",
          " Drama",
          " Family",
          " Fantasy",
          " History",
          " Horror",
          " Music",
          " Musical",
          " Mystery",
          " Romance",
          " Sci-Fi",
          " Sport",
          " Thriller",
          "Action",
          "Adventure",
          "Animation",
          "Biography",
          "Comedy",
          "Crime",
          "Drama",
          "Fantasy",
          "Horror",
          "Romance"
         ],
         "xaxis": "x",
         "y": [
          32.34782608695652,
          36,
          33.09090909090909,
          35.416666666666664,
          33.95238095238095,
          35.6,
          35.3,
          34.8,
          33.166666666666664,
          39,
          29,
          31.88888888888889,
          31.166666666666668,
          33,
          34.666666666666664,
          35.07142857142857,
          33.810810810810814,
          36,
          32.75,
          34.25,
          32.88235294117647,
          32.6,
          31.75,
          39,
          35.5,
          33
         ],
         "yaxis": "y"
        }
       ],
       "layout": {
        "legend": {
         "title": {
          "text": "Metascore_Key"
         },
         "tracegroupgap": 0
        },
        "margin": {
         "t": 60
        },
        "template": {
         "data": {
          "bar": [
           {
            "error_x": {
             "color": "#2a3f5f"
            },
            "error_y": {
             "color": "#2a3f5f"
            },
            "marker": {
             "line": {
              "color": "#E5ECF6",
              "width": 0.5
             }
            },
            "type": "bar"
           }
          ],
          "barpolar": [
           {
            "marker": {
             "line": {
              "color": "#E5ECF6",
              "width": 0.5
             }
            },
            "type": "barpolar"
           }
          ],
          "carpet": [
           {
            "aaxis": {
             "endlinecolor": "#2a3f5f",
             "gridcolor": "white",
             "linecolor": "white",
             "minorgridcolor": "white",
             "startlinecolor": "#2a3f5f"
            },
            "baxis": {
             "endlinecolor": "#2a3f5f",
             "gridcolor": "white",
             "linecolor": "white",
             "minorgridcolor": "white",
             "startlinecolor": "#2a3f5f"
            },
            "type": "carpet"
           }
          ],
          "choropleth": [
           {
            "colorbar": {
             "outlinewidth": 0,
             "ticks": ""
            },
            "type": "choropleth"
           }
          ],
          "contour": [
           {
            "colorbar": {
             "outlinewidth": 0,
             "ticks": ""
            },
            "colorscale": [
             [
              0,
              "#0d0887"
             ],
             [
              0.1111111111111111,
              "#46039f"
             ],
             [
              0.2222222222222222,
              "#7201a8"
             ],
             [
              0.3333333333333333,
              "#9c179e"
             ],
             [
              0.4444444444444444,
              "#bd3786"
             ],
             [
              0.5555555555555556,
              "#d8576b"
             ],
             [
              0.6666666666666666,
              "#ed7953"
             ],
             [
              0.7777777777777778,
              "#fb9f3a"
             ],
             [
              0.8888888888888888,
              "#fdca26"
             ],
             [
              1,
              "#f0f921"
             ]
            ],
            "type": "contour"
           }
          ],
          "contourcarpet": [
           {
            "colorbar": {
             "outlinewidth": 0,
             "ticks": ""
            },
            "type": "contourcarpet"
           }
          ],
          "heatmap": [
           {
            "colorbar": {
             "outlinewidth": 0,
             "ticks": ""
            },
            "colorscale": [
             [
              0,
              "#0d0887"
             ],
             [
              0.1111111111111111,
              "#46039f"
             ],
             [
              0.2222222222222222,
              "#7201a8"
             ],
             [
              0.3333333333333333,
              "#9c179e"
             ],
             [
              0.4444444444444444,
              "#bd3786"
             ],
             [
              0.5555555555555556,
              "#d8576b"
             ],
             [
              0.6666666666666666,
              "#ed7953"
             ],
             [
              0.7777777777777778,
              "#fb9f3a"
             ],
             [
              0.8888888888888888,
              "#fdca26"
             ],
             [
              1,
              "#f0f921"
             ]
            ],
            "type": "heatmap"
           }
          ],
          "heatmapgl": [
           {
            "colorbar": {
             "outlinewidth": 0,
             "ticks": ""
            },
            "colorscale": [
             [
              0,
              "#0d0887"
             ],
             [
              0.1111111111111111,
              "#46039f"
             ],
             [
              0.2222222222222222,
              "#7201a8"
             ],
             [
              0.3333333333333333,
              "#9c179e"
             ],
             [
              0.4444444444444444,
              "#bd3786"
             ],
             [
              0.5555555555555556,
              "#d8576b"
             ],
             [
              0.6666666666666666,
              "#ed7953"
             ],
             [
              0.7777777777777778,
              "#fb9f3a"
             ],
             [
              0.8888888888888888,
              "#fdca26"
             ],
             [
              1,
              "#f0f921"
             ]
            ],
            "type": "heatmapgl"
           }
          ],
          "histogram": [
           {
            "marker": {
             "colorbar": {
              "outlinewidth": 0,
              "ticks": ""
             }
            },
            "type": "histogram"
           }
          ],
          "histogram2d": [
           {
            "colorbar": {
             "outlinewidth": 0,
             "ticks": ""
            },
            "colorscale": [
             [
              0,
              "#0d0887"
             ],
             [
              0.1111111111111111,
              "#46039f"
             ],
             [
              0.2222222222222222,
              "#7201a8"
             ],
             [
              0.3333333333333333,
              "#9c179e"
             ],
             [
              0.4444444444444444,
              "#bd3786"
             ],
             [
              0.5555555555555556,
              "#d8576b"
             ],
             [
              0.6666666666666666,
              "#ed7953"
             ],
             [
              0.7777777777777778,
              "#fb9f3a"
             ],
             [
              0.8888888888888888,
              "#fdca26"
             ],
             [
              1,
              "#f0f921"
             ]
            ],
            "type": "histogram2d"
           }
          ],
          "histogram2dcontour": [
           {
            "colorbar": {
             "outlinewidth": 0,
             "ticks": ""
            },
            "colorscale": [
             [
              0,
              "#0d0887"
             ],
             [
              0.1111111111111111,
              "#46039f"
             ],
             [
              0.2222222222222222,
              "#7201a8"
             ],
             [
              0.3333333333333333,
              "#9c179e"
             ],
             [
              0.4444444444444444,
              "#bd3786"
             ],
             [
              0.5555555555555556,
              "#d8576b"
             ],
             [
              0.6666666666666666,
              "#ed7953"
             ],
             [
              0.7777777777777778,
              "#fb9f3a"
             ],
             [
              0.8888888888888888,
              "#fdca26"
             ],
             [
              1,
              "#f0f921"
             ]
            ],
            "type": "histogram2dcontour"
           }
          ],
          "mesh3d": [
           {
            "colorbar": {
             "outlinewidth": 0,
             "ticks": ""
            },
            "type": "mesh3d"
           }
          ],
          "parcoords": [
           {
            "line": {
             "colorbar": {
              "outlinewidth": 0,
              "ticks": ""
             }
            },
            "type": "parcoords"
           }
          ],
          "pie": [
           {
            "automargin": true,
            "type": "pie"
           }
          ],
          "scatter": [
           {
            "marker": {
             "colorbar": {
              "outlinewidth": 0,
              "ticks": ""
             }
            },
            "type": "scatter"
           }
          ],
          "scatter3d": [
           {
            "line": {
             "colorbar": {
              "outlinewidth": 0,
              "ticks": ""
             }
            },
            "marker": {
             "colorbar": {
              "outlinewidth": 0,
              "ticks": ""
             }
            },
            "type": "scatter3d"
           }
          ],
          "scattercarpet": [
           {
            "marker": {
             "colorbar": {
              "outlinewidth": 0,
              "ticks": ""
             }
            },
            "type": "scattercarpet"
           }
          ],
          "scattergeo": [
           {
            "marker": {
             "colorbar": {
              "outlinewidth": 0,
              "ticks": ""
             }
            },
            "type": "scattergeo"
           }
          ],
          "scattergl": [
           {
            "marker": {
             "colorbar": {
              "outlinewidth": 0,
              "ticks": ""
             }
            },
            "type": "scattergl"
           }
          ],
          "scattermapbox": [
           {
            "marker": {
             "colorbar": {
              "outlinewidth": 0,
              "ticks": ""
             }
            },
            "type": "scattermapbox"
           }
          ],
          "scatterpolar": [
           {
            "marker": {
             "colorbar": {
              "outlinewidth": 0,
              "ticks": ""
             }
            },
            "type": "scatterpolar"
           }
          ],
          "scatterpolargl": [
           {
            "marker": {
             "colorbar": {
              "outlinewidth": 0,
              "ticks": ""
             }
            },
            "type": "scatterpolargl"
           }
          ],
          "scatterternary": [
           {
            "marker": {
             "colorbar": {
              "outlinewidth": 0,
              "ticks": ""
             }
            },
            "type": "scatterternary"
           }
          ],
          "surface": [
           {
            "colorbar": {
             "outlinewidth": 0,
             "ticks": ""
            },
            "colorscale": [
             [
              0,
              "#0d0887"
             ],
             [
              0.1111111111111111,
              "#46039f"
             ],
             [
              0.2222222222222222,
              "#7201a8"
             ],
             [
              0.3333333333333333,
              "#9c179e"
             ],
             [
              0.4444444444444444,
              "#bd3786"
             ],
             [
              0.5555555555555556,
              "#d8576b"
             ],
             [
              0.6666666666666666,
              "#ed7953"
             ],
             [
              0.7777777777777778,
              "#fb9f3a"
             ],
             [
              0.8888888888888888,
              "#fdca26"
             ],
             [
              1,
              "#f0f921"
             ]
            ],
            "type": "surface"
           }
          ],
          "table": [
           {
            "cells": {
             "fill": {
              "color": "#EBF0F8"
             },
             "line": {
              "color": "white"
             }
            },
            "header": {
             "fill": {
              "color": "#C8D4E3"
             },
             "line": {
              "color": "white"
             }
            },
            "type": "table"
           }
          ]
         },
         "layout": {
          "annotationdefaults": {
           "arrowcolor": "#2a3f5f",
           "arrowhead": 0,
           "arrowwidth": 1
          },
          "coloraxis": {
           "colorbar": {
            "outlinewidth": 0,
            "ticks": ""
           }
          },
          "colorscale": {
           "diverging": [
            [
             0,
             "#8e0152"
            ],
            [
             0.1,
             "#c51b7d"
            ],
            [
             0.2,
             "#de77ae"
            ],
            [
             0.3,
             "#f1b6da"
            ],
            [
             0.4,
             "#fde0ef"
            ],
            [
             0.5,
             "#f7f7f7"
            ],
            [
             0.6,
             "#e6f5d0"
            ],
            [
             0.7,
             "#b8e186"
            ],
            [
             0.8,
             "#7fbc41"
            ],
            [
             0.9,
             "#4d9221"
            ],
            [
             1,
             "#276419"
            ]
           ],
           "sequential": [
            [
             0,
             "#0d0887"
            ],
            [
             0.1111111111111111,
             "#46039f"
            ],
            [
             0.2222222222222222,
             "#7201a8"
            ],
            [
             0.3333333333333333,
             "#9c179e"
            ],
            [
             0.4444444444444444,
             "#bd3786"
            ],
            [
             0.5555555555555556,
             "#d8576b"
            ],
            [
             0.6666666666666666,
             "#ed7953"
            ],
            [
             0.7777777777777778,
             "#fb9f3a"
            ],
            [
             0.8888888888888888,
             "#fdca26"
            ],
            [
             1,
             "#f0f921"
            ]
           ],
           "sequentialminus": [
            [
             0,
             "#0d0887"
            ],
            [
             0.1111111111111111,
             "#46039f"
            ],
            [
             0.2222222222222222,
             "#7201a8"
            ],
            [
             0.3333333333333333,
             "#9c179e"
            ],
            [
             0.4444444444444444,
             "#bd3786"
            ],
            [
             0.5555555555555556,
             "#d8576b"
            ],
            [
             0.6666666666666666,
             "#ed7953"
            ],
            [
             0.7777777777777778,
             "#fb9f3a"
            ],
            [
             0.8888888888888888,
             "#fdca26"
            ],
            [
             1,
             "#f0f921"
            ]
           ]
          },
          "colorway": [
           "#636efa",
           "#EF553B",
           "#00cc96",
           "#ab63fa",
           "#FFA15A",
           "#19d3f3",
           "#FF6692",
           "#B6E880",
           "#FF97FF",
           "#FECB52"
          ],
          "font": {
           "color": "#2a3f5f"
          },
          "geo": {
           "bgcolor": "white",
           "lakecolor": "white",
           "landcolor": "#E5ECF6",
           "showlakes": true,
           "showland": true,
           "subunitcolor": "white"
          },
          "hoverlabel": {
           "align": "left"
          },
          "hovermode": "closest",
          "mapbox": {
           "style": "light"
          },
          "paper_bgcolor": "white",
          "plot_bgcolor": "#E5ECF6",
          "polar": {
           "angularaxis": {
            "gridcolor": "white",
            "linecolor": "white",
            "ticks": ""
           },
           "bgcolor": "#E5ECF6",
           "radialaxis": {
            "gridcolor": "white",
            "linecolor": "white",
            "ticks": ""
           }
          },
          "scene": {
           "xaxis": {
            "backgroundcolor": "#E5ECF6",
            "gridcolor": "white",
            "gridwidth": 2,
            "linecolor": "white",
            "showbackground": true,
            "ticks": "",
            "zerolinecolor": "white"
           },
           "yaxis": {
            "backgroundcolor": "#E5ECF6",
            "gridcolor": "white",
            "gridwidth": 2,
            "linecolor": "white",
            "showbackground": true,
            "ticks": "",
            "zerolinecolor": "white"
           },
           "zaxis": {
            "backgroundcolor": "#E5ECF6",
            "gridcolor": "white",
            "gridwidth": 2,
            "linecolor": "white",
            "showbackground": true,
            "ticks": "",
            "zerolinecolor": "white"
           }
          },
          "shapedefaults": {
           "line": {
            "color": "#2a3f5f"
           }
          },
          "ternary": {
           "aaxis": {
            "gridcolor": "white",
            "linecolor": "white",
            "ticks": ""
           },
           "baxis": {
            "gridcolor": "white",
            "linecolor": "white",
            "ticks": ""
           },
           "bgcolor": "#E5ECF6",
           "caxis": {
            "gridcolor": "white",
            "linecolor": "white",
            "ticks": ""
           }
          },
          "title": {
           "x": 0.05
          },
          "xaxis": {
           "automargin": true,
           "gridcolor": "white",
           "linecolor": "white",
           "ticks": "",
           "title": {
            "standoff": 15
           },
           "zerolinecolor": "white",
           "zerolinewidth": 2
          },
          "yaxis": {
           "automargin": true,
           "gridcolor": "white",
           "linecolor": "white",
           "ticks": "",
           "title": {
            "standoff": 15
           },
           "zerolinecolor": "white",
           "zerolinewidth": 2
          }
         }
        },
        "title": {
         "text": "Audience Ratings by Genre"
        },
        "xaxis": {
         "anchor": "y",
         "domain": [
          0,
          1
         ],
         "title": {
          "text": "Genre"
         }
        },
        "yaxis": {
         "anchor": "x",
         "domain": [
          0,
          1
         ],
         "title": {
          "text": "Metascore_Value"
         }
        }
       }
      },
      "text/html": [
       "<div>\n",
       "        \n",
       "        \n",
       "            <div id=\"f863af92-00fc-4b62-99f7-82713a13fb5e\" class=\"plotly-graph-div\" style=\"height:525px; width:100%;\"></div>\n",
       "            <script type=\"text/javascript\">\n",
       "                require([\"plotly\"], function(Plotly) {\n",
       "                    window.PLOTLYENV=window.PLOTLYENV || {};\n",
       "                    \n",
       "                if (document.getElementById(\"f863af92-00fc-4b62-99f7-82713a13fb5e\")) {\n",
       "                    Plotly.newPlot(\n",
       "                        'f863af92-00fc-4b62-99f7-82713a13fb5e',\n",
       "                        [{\"hovertemplate\": \"Metascore_Key=Favorable<br>Genre=%{x}<br>Metascore_Value=%{y}<extra></extra>\", \"legendgroup\": \"Favorable\", \"line\": {\"color\": \"#636efa\", \"dash\": \"solid\"}, \"mode\": \"lines\", \"name\": \"Favorable\", \"showlegend\": true, \"type\": \"scatter\", \"x\": [\" Action\", \" Adventure\", \" Biography\", \" Comedy\", \" Crime\", \" Drama\", \" Family\", \" Fantasy\", \" History\", \" Horror\", \" Music\", \" Musical\", \" Mystery\", \" Romance\", \" Sci-Fi\", \" Sport\", \" Thriller\", \" War\", \" Western\", \"Action\", \"Adventure\", \"Animation\", \"Biography\", \"Comedy\", \"Crime\", \"Drama\", \"Family\", \"Fantasy\", \"Horror\", \"Mystery\", \"Sci-Fi\"], \"xaxis\": \"x\", \"y\": [82.33333333333333, 75.31188118811882, 74.25, 74.5, 73.32941176470588, 75.41304347826087, 76.2, 75.73972602739725, 75.1304347826087, 72.0, 76.5, 74.71428571428571, 72.6875, 73.73076923076923, 73.09917355371901, 69.88888888888889, 73.68148148148148, 75.77777777777777, 77.16666666666667, 73.48351648351648, 75.8780487804878, 79.10526315789474, 73.88, 72.74193548387096, 74.75, 74.63025210084034, 65.0, 64.0, 69.82352941176471, 72.0, 68.0], \"yaxis\": \"y\"}, {\"hovertemplate\": \"Metascore_Key=Mixed<br>Genre=%{x}<br>Metascore_Value=%{y}<extra></extra>\", \"legendgroup\": \"Mixed\", \"line\": {\"color\": \"#EF553B\", \"dash\": \"solid\"}, \"mode\": \"lines\", \"name\": \"Mixed\", \"showlegend\": true, \"type\": \"scatter\", \"x\": [\" Action\", \" Adventure\", \" Biography\", \" Comedy\", \" Crime\", \" Drama\", \" Family\", \" Fantasy\", \" History\", \" Horror\", \" Music\", \" Musical\", \" Mystery\", \" Romance\", \" Sci-Fi\", \" Sport\", \" Thriller\", \" War\", \" Western\", \"Action\", \"Adventure\", \"Animation\", \"Biography\", \"Comedy\", \"Crime\", \"Documentary\", \"Drama\", \"Horror\", \"Mystery\", \"Sci-Fi\"], \"xaxis\": \"x\", \"y\": [51.333333333333336, 52.607142857142854, 50.0, 51.728813559322035, 51.766666666666666, 50.74647887323944, 51.7, 51.13725490196079, 50.1, 48.411764705882355, 52.0, 50.0, 51.073170731707314, 51.032786885245905, 51.205882352941174, 50.333333333333336, 52.362637362637365, 50.333333333333336, 53.0, 51.81481481481482, 51.88461538461539, 52.689655172413794, 49.608695652173914, 50.70454545454545, 50.25, 45.0, 51.92727272727273, 51.19047619047619, 53.333333333333336, 42.0], \"yaxis\": \"y\"}, {\"hovertemplate\": \"Metascore_Key=Unfavorable<br>Genre=%{x}<br>Metascore_Value=%{y}<extra></extra>\", \"legendgroup\": \"Unfavorable\", \"line\": {\"color\": \"#00cc96\", \"dash\": \"solid\"}, \"mode\": \"lines\", \"name\": \"Unfavorable\", \"showlegend\": true, \"type\": \"scatter\", \"x\": [\" Adventure\", \" Biography\", \" Comedy\", \" Crime\", \" Drama\", \" Family\", \" Fantasy\", \" History\", \" Horror\", \" Music\", \" Musical\", \" Mystery\", \" Romance\", \" Sci-Fi\", \" Sport\", \" Thriller\", \"Action\", \"Adventure\", \"Animation\", \"Biography\", \"Comedy\", \"Crime\", \"Drama\", \"Fantasy\", \"Horror\", \"Romance\"], \"xaxis\": \"x\", \"y\": [32.34782608695652, 36.0, 33.09090909090909, 35.416666666666664, 33.95238095238095, 35.6, 35.3, 34.8, 33.166666666666664, 39.0, 29.0, 31.88888888888889, 31.166666666666668, 33.0, 34.666666666666664, 35.07142857142857, 33.810810810810814, 36.0, 32.75, 34.25, 32.88235294117647, 32.6, 31.75, 39.0, 35.5, 33.0], \"yaxis\": \"y\"}],\n",
       "                        {\"legend\": {\"title\": {\"text\": \"Metascore_Key\"}, \"tracegroupgap\": 0}, \"margin\": {\"t\": 60}, \"template\": {\"data\": {\"bar\": [{\"error_x\": {\"color\": \"#2a3f5f\"}, \"error_y\": {\"color\": \"#2a3f5f\"}, \"marker\": {\"line\": {\"color\": \"#E5ECF6\", \"width\": 0.5}}, \"type\": \"bar\"}], \"barpolar\": [{\"marker\": {\"line\": {\"color\": \"#E5ECF6\", \"width\": 0.5}}, \"type\": \"barpolar\"}], \"carpet\": [{\"aaxis\": {\"endlinecolor\": \"#2a3f5f\", \"gridcolor\": \"white\", \"linecolor\": \"white\", \"minorgridcolor\": \"white\", \"startlinecolor\": \"#2a3f5f\"}, \"baxis\": {\"endlinecolor\": \"#2a3f5f\", \"gridcolor\": \"white\", \"linecolor\": \"white\", \"minorgridcolor\": \"white\", \"startlinecolor\": \"#2a3f5f\"}, \"type\": \"carpet\"}], \"choropleth\": [{\"colorbar\": {\"outlinewidth\": 0, \"ticks\": \"\"}, \"type\": \"choropleth\"}], \"contour\": [{\"colorbar\": {\"outlinewidth\": 0, \"ticks\": \"\"}, \"colorscale\": [[0.0, \"#0d0887\"], [0.1111111111111111, \"#46039f\"], [0.2222222222222222, \"#7201a8\"], [0.3333333333333333, \"#9c179e\"], [0.4444444444444444, \"#bd3786\"], [0.5555555555555556, \"#d8576b\"], [0.6666666666666666, \"#ed7953\"], [0.7777777777777778, \"#fb9f3a\"], [0.8888888888888888, \"#fdca26\"], [1.0, \"#f0f921\"]], \"type\": \"contour\"}], \"contourcarpet\": [{\"colorbar\": {\"outlinewidth\": 0, \"ticks\": \"\"}, \"type\": \"contourcarpet\"}], \"heatmap\": [{\"colorbar\": {\"outlinewidth\": 0, \"ticks\": \"\"}, \"colorscale\": [[0.0, \"#0d0887\"], [0.1111111111111111, \"#46039f\"], [0.2222222222222222, \"#7201a8\"], [0.3333333333333333, \"#9c179e\"], [0.4444444444444444, \"#bd3786\"], [0.5555555555555556, \"#d8576b\"], [0.6666666666666666, \"#ed7953\"], [0.7777777777777778, \"#fb9f3a\"], [0.8888888888888888, \"#fdca26\"], [1.0, \"#f0f921\"]], \"type\": \"heatmap\"}], \"heatmapgl\": [{\"colorbar\": {\"outlinewidth\": 0, \"ticks\": \"\"}, \"colorscale\": [[0.0, \"#0d0887\"], [0.1111111111111111, \"#46039f\"], [0.2222222222222222, \"#7201a8\"], [0.3333333333333333, \"#9c179e\"], [0.4444444444444444, \"#bd3786\"], [0.5555555555555556, \"#d8576b\"], [0.6666666666666666, \"#ed7953\"], [0.7777777777777778, \"#fb9f3a\"], [0.8888888888888888, \"#fdca26\"], [1.0, \"#f0f921\"]], \"type\": \"heatmapgl\"}], \"histogram\": [{\"marker\": {\"colorbar\": {\"outlinewidth\": 0, \"ticks\": \"\"}}, \"type\": \"histogram\"}], \"histogram2d\": [{\"colorbar\": {\"outlinewidth\": 0, \"ticks\": \"\"}, \"colorscale\": [[0.0, \"#0d0887\"], [0.1111111111111111, \"#46039f\"], [0.2222222222222222, \"#7201a8\"], [0.3333333333333333, \"#9c179e\"], [0.4444444444444444, \"#bd3786\"], [0.5555555555555556, \"#d8576b\"], [0.6666666666666666, \"#ed7953\"], [0.7777777777777778, \"#fb9f3a\"], [0.8888888888888888, \"#fdca26\"], [1.0, \"#f0f921\"]], \"type\": \"histogram2d\"}], \"histogram2dcontour\": [{\"colorbar\": {\"outlinewidth\": 0, \"ticks\": \"\"}, \"colorscale\": [[0.0, \"#0d0887\"], [0.1111111111111111, \"#46039f\"], [0.2222222222222222, \"#7201a8\"], [0.3333333333333333, \"#9c179e\"], [0.4444444444444444, \"#bd3786\"], [0.5555555555555556, \"#d8576b\"], [0.6666666666666666, \"#ed7953\"], [0.7777777777777778, \"#fb9f3a\"], [0.8888888888888888, \"#fdca26\"], [1.0, \"#f0f921\"]], \"type\": \"histogram2dcontour\"}], \"mesh3d\": [{\"colorbar\": {\"outlinewidth\": 0, \"ticks\": \"\"}, \"type\": \"mesh3d\"}], \"parcoords\": [{\"line\": {\"colorbar\": {\"outlinewidth\": 0, \"ticks\": \"\"}}, \"type\": \"parcoords\"}], \"pie\": [{\"automargin\": true, \"type\": \"pie\"}], \"scatter\": [{\"marker\": {\"colorbar\": {\"outlinewidth\": 0, \"ticks\": \"\"}}, \"type\": \"scatter\"}], \"scatter3d\": [{\"line\": {\"colorbar\": {\"outlinewidth\": 0, \"ticks\": \"\"}}, \"marker\": {\"colorbar\": {\"outlinewidth\": 0, \"ticks\": \"\"}}, \"type\": \"scatter3d\"}], \"scattercarpet\": [{\"marker\": {\"colorbar\": {\"outlinewidth\": 0, \"ticks\": \"\"}}, \"type\": \"scattercarpet\"}], \"scattergeo\": [{\"marker\": {\"colorbar\": {\"outlinewidth\": 0, \"ticks\": \"\"}}, \"type\": \"scattergeo\"}], \"scattergl\": [{\"marker\": {\"colorbar\": {\"outlinewidth\": 0, \"ticks\": \"\"}}, \"type\": \"scattergl\"}], \"scattermapbox\": [{\"marker\": {\"colorbar\": {\"outlinewidth\": 0, \"ticks\": \"\"}}, \"type\": \"scattermapbox\"}], \"scatterpolar\": [{\"marker\": {\"colorbar\": {\"outlinewidth\": 0, \"ticks\": \"\"}}, \"type\": \"scatterpolar\"}], \"scatterpolargl\": [{\"marker\": {\"colorbar\": {\"outlinewidth\": 0, \"ticks\": \"\"}}, \"type\": \"scatterpolargl\"}], \"scatterternary\": [{\"marker\": {\"colorbar\": {\"outlinewidth\": 0, \"ticks\": \"\"}}, \"type\": \"scatterternary\"}], \"surface\": [{\"colorbar\": {\"outlinewidth\": 0, \"ticks\": \"\"}, \"colorscale\": [[0.0, \"#0d0887\"], [0.1111111111111111, \"#46039f\"], [0.2222222222222222, \"#7201a8\"], [0.3333333333333333, \"#9c179e\"], [0.4444444444444444, \"#bd3786\"], [0.5555555555555556, \"#d8576b\"], [0.6666666666666666, \"#ed7953\"], [0.7777777777777778, \"#fb9f3a\"], [0.8888888888888888, \"#fdca26\"], [1.0, \"#f0f921\"]], \"type\": \"surface\"}], \"table\": [{\"cells\": {\"fill\": {\"color\": \"#EBF0F8\"}, \"line\": {\"color\": \"white\"}}, \"header\": {\"fill\": {\"color\": \"#C8D4E3\"}, \"line\": {\"color\": \"white\"}}, \"type\": \"table\"}]}, \"layout\": {\"annotationdefaults\": {\"arrowcolor\": \"#2a3f5f\", \"arrowhead\": 0, \"arrowwidth\": 1}, \"coloraxis\": {\"colorbar\": {\"outlinewidth\": 0, \"ticks\": \"\"}}, \"colorscale\": {\"diverging\": [[0, \"#8e0152\"], [0.1, \"#c51b7d\"], [0.2, \"#de77ae\"], [0.3, \"#f1b6da\"], [0.4, \"#fde0ef\"], [0.5, \"#f7f7f7\"], [0.6, \"#e6f5d0\"], [0.7, \"#b8e186\"], [0.8, \"#7fbc41\"], [0.9, \"#4d9221\"], [1, \"#276419\"]], \"sequential\": [[0.0, \"#0d0887\"], [0.1111111111111111, \"#46039f\"], [0.2222222222222222, \"#7201a8\"], [0.3333333333333333, \"#9c179e\"], [0.4444444444444444, \"#bd3786\"], [0.5555555555555556, \"#d8576b\"], [0.6666666666666666, \"#ed7953\"], [0.7777777777777778, \"#fb9f3a\"], [0.8888888888888888, \"#fdca26\"], [1.0, \"#f0f921\"]], \"sequentialminus\": [[0.0, \"#0d0887\"], [0.1111111111111111, \"#46039f\"], [0.2222222222222222, \"#7201a8\"], [0.3333333333333333, \"#9c179e\"], [0.4444444444444444, \"#bd3786\"], [0.5555555555555556, \"#d8576b\"], [0.6666666666666666, \"#ed7953\"], [0.7777777777777778, \"#fb9f3a\"], [0.8888888888888888, \"#fdca26\"], [1.0, \"#f0f921\"]]}, \"colorway\": [\"#636efa\", \"#EF553B\", \"#00cc96\", \"#ab63fa\", \"#FFA15A\", \"#19d3f3\", \"#FF6692\", \"#B6E880\", \"#FF97FF\", \"#FECB52\"], \"font\": {\"color\": \"#2a3f5f\"}, \"geo\": {\"bgcolor\": \"white\", \"lakecolor\": \"white\", \"landcolor\": \"#E5ECF6\", \"showlakes\": true, \"showland\": true, \"subunitcolor\": \"white\"}, \"hoverlabel\": {\"align\": \"left\"}, \"hovermode\": \"closest\", \"mapbox\": {\"style\": \"light\"}, \"paper_bgcolor\": \"white\", \"plot_bgcolor\": \"#E5ECF6\", \"polar\": {\"angularaxis\": {\"gridcolor\": \"white\", \"linecolor\": \"white\", \"ticks\": \"\"}, \"bgcolor\": \"#E5ECF6\", \"radialaxis\": {\"gridcolor\": \"white\", \"linecolor\": \"white\", \"ticks\": \"\"}}, \"scene\": {\"xaxis\": {\"backgroundcolor\": \"#E5ECF6\", \"gridcolor\": \"white\", \"gridwidth\": 2, \"linecolor\": \"white\", \"showbackground\": true, \"ticks\": \"\", \"zerolinecolor\": \"white\"}, \"yaxis\": {\"backgroundcolor\": \"#E5ECF6\", \"gridcolor\": \"white\", \"gridwidth\": 2, \"linecolor\": \"white\", \"showbackground\": true, \"ticks\": \"\", \"zerolinecolor\": \"white\"}, \"zaxis\": {\"backgroundcolor\": \"#E5ECF6\", \"gridcolor\": \"white\", \"gridwidth\": 2, \"linecolor\": \"white\", \"showbackground\": true, \"ticks\": \"\", \"zerolinecolor\": \"white\"}}, \"shapedefaults\": {\"line\": {\"color\": \"#2a3f5f\"}}, \"ternary\": {\"aaxis\": {\"gridcolor\": \"white\", \"linecolor\": \"white\", \"ticks\": \"\"}, \"baxis\": {\"gridcolor\": \"white\", \"linecolor\": \"white\", \"ticks\": \"\"}, \"bgcolor\": \"#E5ECF6\", \"caxis\": {\"gridcolor\": \"white\", \"linecolor\": \"white\", \"ticks\": \"\"}}, \"title\": {\"x\": 0.05}, \"xaxis\": {\"automargin\": true, \"gridcolor\": \"white\", \"linecolor\": \"white\", \"ticks\": \"\", \"title\": {\"standoff\": 15}, \"zerolinecolor\": \"white\", \"zerolinewidth\": 2}, \"yaxis\": {\"automargin\": true, \"gridcolor\": \"white\", \"linecolor\": \"white\", \"ticks\": \"\", \"title\": {\"standoff\": 15}, \"zerolinecolor\": \"white\", \"zerolinewidth\": 2}}}, \"title\": {\"text\": \"Audience Ratings by Genre\"}, \"xaxis\": {\"anchor\": \"y\", \"domain\": [0.0, 1.0], \"title\": {\"text\": \"Genre\"}}, \"yaxis\": {\"anchor\": \"x\", \"domain\": [0.0, 1.0], \"title\": {\"text\": \"Metascore_Value\"}}},\n",
       "                        {\"responsive\": true}\n",
       "                    ).then(function(){\n",
       "                            \n",
       "var gd = document.getElementById('f863af92-00fc-4b62-99f7-82713a13fb5e');\n",
       "var x = new MutationObserver(function (mutations, observer) {{\n",
       "        var display = window.getComputedStyle(gd).display;\n",
       "        if (!display || display === 'none') {{\n",
       "            console.log([gd, 'removed!']);\n",
       "            Plotly.purge(gd);\n",
       "            observer.disconnect();\n",
       "        }}\n",
       "}});\n",
       "\n",
       "// Listen for the removal of the full notebook cells\n",
       "var notebookContainer = gd.closest('#notebook-container');\n",
       "if (notebookContainer) {{\n",
       "    x.observe(notebookContainer, {childList: true});\n",
       "}}\n",
       "\n",
       "// Listen for the clearing of the current output cell\n",
       "var outputEl = gd.closest('.output');\n",
       "if (outputEl) {{\n",
       "    x.observe(outputEl, {childList: true});\n",
       "}}\n",
       "\n",
       "                        })\n",
       "                };\n",
       "                });\n",
       "            </script>\n",
       "        </div>"
      ]
     },
     "metadata": {},
     "output_type": "display_data"
    }
   ],
   "source": [
    "#Plotting the Metascore By Genre and Metascore Key\n",
    "Model_DF5 = Model_DF_Temp.groupby(['Genre','Metascore_Key'])['Metascore_Value'].mean()\n",
    "Model_DF5=Model_DF5.reset_index()\n",
    "fig = px.line(Model_DF5, x='Genre', y='Metascore_Value',color='Metascore_Key')\n",
    "fig.update_layout(title_text='Audience Ratings by Genre')\n",
    "fig.show()"
   ]
  },
  {
   "cell_type": "code",
   "execution_count": 66,
   "metadata": {},
   "outputs": [
    {
     "data": {
      "application/vnd.plotly.v1+json": {
       "config": {
        "plotlyServerURL": "https://plot.ly"
       },
       "data": [
        {
         "hovertemplate": "ReleaseYear=%{x}<br>IMDB_Rating=%{y}<extra></extra>",
         "legendgroup": "",
         "line": {
          "color": "#636efa",
          "dash": "solid"
         },
         "mode": "lines",
         "name": "",
         "showlegend": false,
         "type": "scatter",
         "x": [
          1990,
          1991,
          1992,
          1993,
          1994,
          1995,
          1996,
          1997,
          1998,
          1999,
          2000,
          2001,
          2002,
          2003,
          2004,
          2005,
          2006,
          2007,
          2008,
          2009,
          2010,
          2011,
          2012,
          2013,
          2014,
          2015,
          2016,
          2017,
          2018
         ],
         "xaxis": "x",
         "y": [
          6.707964601769912,
          6.8876033057851265,
          6.9242187500000005,
          7.1172131147541,
          6.946875000000005,
          7.014754098360651,
          6.7751999999999954,
          6.942857142857142,
          6.9946153846153845,
          7.086440677966097,
          7.003305785123967,
          7.093913043478257,
          7.146969696969699,
          6.966666666666667,
          7.270247933884299,
          7.15981308411215,
          7.209401709401712,
          7.120967741935485,
          7.078991596638653,
          7.0561538461538404,
          7.020930232558137,
          7.076119402985077,
          7.183221476510071,
          7.206962025316455,
          7.177777777777775,
          7.036842105263157,
          7.054970760233918,
          7.159090909090911,
          7.125730994152047
         ],
         "yaxis": "y"
        }
       ],
       "layout": {
        "legend": {
         "tracegroupgap": 0
        },
        "margin": {
         "t": 60
        },
        "template": {
         "data": {
          "bar": [
           {
            "error_x": {
             "color": "#2a3f5f"
            },
            "error_y": {
             "color": "#2a3f5f"
            },
            "marker": {
             "line": {
              "color": "#E5ECF6",
              "width": 0.5
             }
            },
            "type": "bar"
           }
          ],
          "barpolar": [
           {
            "marker": {
             "line": {
              "color": "#E5ECF6",
              "width": 0.5
             }
            },
            "type": "barpolar"
           }
          ],
          "carpet": [
           {
            "aaxis": {
             "endlinecolor": "#2a3f5f",
             "gridcolor": "white",
             "linecolor": "white",
             "minorgridcolor": "white",
             "startlinecolor": "#2a3f5f"
            },
            "baxis": {
             "endlinecolor": "#2a3f5f",
             "gridcolor": "white",
             "linecolor": "white",
             "minorgridcolor": "white",
             "startlinecolor": "#2a3f5f"
            },
            "type": "carpet"
           }
          ],
          "choropleth": [
           {
            "colorbar": {
             "outlinewidth": 0,
             "ticks": ""
            },
            "type": "choropleth"
           }
          ],
          "contour": [
           {
            "colorbar": {
             "outlinewidth": 0,
             "ticks": ""
            },
            "colorscale": [
             [
              0,
              "#0d0887"
             ],
             [
              0.1111111111111111,
              "#46039f"
             ],
             [
              0.2222222222222222,
              "#7201a8"
             ],
             [
              0.3333333333333333,
              "#9c179e"
             ],
             [
              0.4444444444444444,
              "#bd3786"
             ],
             [
              0.5555555555555556,
              "#d8576b"
             ],
             [
              0.6666666666666666,
              "#ed7953"
             ],
             [
              0.7777777777777778,
              "#fb9f3a"
             ],
             [
              0.8888888888888888,
              "#fdca26"
             ],
             [
              1,
              "#f0f921"
             ]
            ],
            "type": "contour"
           }
          ],
          "contourcarpet": [
           {
            "colorbar": {
             "outlinewidth": 0,
             "ticks": ""
            },
            "type": "contourcarpet"
           }
          ],
          "heatmap": [
           {
            "colorbar": {
             "outlinewidth": 0,
             "ticks": ""
            },
            "colorscale": [
             [
              0,
              "#0d0887"
             ],
             [
              0.1111111111111111,
              "#46039f"
             ],
             [
              0.2222222222222222,
              "#7201a8"
             ],
             [
              0.3333333333333333,
              "#9c179e"
             ],
             [
              0.4444444444444444,
              "#bd3786"
             ],
             [
              0.5555555555555556,
              "#d8576b"
             ],
             [
              0.6666666666666666,
              "#ed7953"
             ],
             [
              0.7777777777777778,
              "#fb9f3a"
             ],
             [
              0.8888888888888888,
              "#fdca26"
             ],
             [
              1,
              "#f0f921"
             ]
            ],
            "type": "heatmap"
           }
          ],
          "heatmapgl": [
           {
            "colorbar": {
             "outlinewidth": 0,
             "ticks": ""
            },
            "colorscale": [
             [
              0,
              "#0d0887"
             ],
             [
              0.1111111111111111,
              "#46039f"
             ],
             [
              0.2222222222222222,
              "#7201a8"
             ],
             [
              0.3333333333333333,
              "#9c179e"
             ],
             [
              0.4444444444444444,
              "#bd3786"
             ],
             [
              0.5555555555555556,
              "#d8576b"
             ],
             [
              0.6666666666666666,
              "#ed7953"
             ],
             [
              0.7777777777777778,
              "#fb9f3a"
             ],
             [
              0.8888888888888888,
              "#fdca26"
             ],
             [
              1,
              "#f0f921"
             ]
            ],
            "type": "heatmapgl"
           }
          ],
          "histogram": [
           {
            "marker": {
             "colorbar": {
              "outlinewidth": 0,
              "ticks": ""
             }
            },
            "type": "histogram"
           }
          ],
          "histogram2d": [
           {
            "colorbar": {
             "outlinewidth": 0,
             "ticks": ""
            },
            "colorscale": [
             [
              0,
              "#0d0887"
             ],
             [
              0.1111111111111111,
              "#46039f"
             ],
             [
              0.2222222222222222,
              "#7201a8"
             ],
             [
              0.3333333333333333,
              "#9c179e"
             ],
             [
              0.4444444444444444,
              "#bd3786"
             ],
             [
              0.5555555555555556,
              "#d8576b"
             ],
             [
              0.6666666666666666,
              "#ed7953"
             ],
             [
              0.7777777777777778,
              "#fb9f3a"
             ],
             [
              0.8888888888888888,
              "#fdca26"
             ],
             [
              1,
              "#f0f921"
             ]
            ],
            "type": "histogram2d"
           }
          ],
          "histogram2dcontour": [
           {
            "colorbar": {
             "outlinewidth": 0,
             "ticks": ""
            },
            "colorscale": [
             [
              0,
              "#0d0887"
             ],
             [
              0.1111111111111111,
              "#46039f"
             ],
             [
              0.2222222222222222,
              "#7201a8"
             ],
             [
              0.3333333333333333,
              "#9c179e"
             ],
             [
              0.4444444444444444,
              "#bd3786"
             ],
             [
              0.5555555555555556,
              "#d8576b"
             ],
             [
              0.6666666666666666,
              "#ed7953"
             ],
             [
              0.7777777777777778,
              "#fb9f3a"
             ],
             [
              0.8888888888888888,
              "#fdca26"
             ],
             [
              1,
              "#f0f921"
             ]
            ],
            "type": "histogram2dcontour"
           }
          ],
          "mesh3d": [
           {
            "colorbar": {
             "outlinewidth": 0,
             "ticks": ""
            },
            "type": "mesh3d"
           }
          ],
          "parcoords": [
           {
            "line": {
             "colorbar": {
              "outlinewidth": 0,
              "ticks": ""
             }
            },
            "type": "parcoords"
           }
          ],
          "pie": [
           {
            "automargin": true,
            "type": "pie"
           }
          ],
          "scatter": [
           {
            "marker": {
             "colorbar": {
              "outlinewidth": 0,
              "ticks": ""
             }
            },
            "type": "scatter"
           }
          ],
          "scatter3d": [
           {
            "line": {
             "colorbar": {
              "outlinewidth": 0,
              "ticks": ""
             }
            },
            "marker": {
             "colorbar": {
              "outlinewidth": 0,
              "ticks": ""
             }
            },
            "type": "scatter3d"
           }
          ],
          "scattercarpet": [
           {
            "marker": {
             "colorbar": {
              "outlinewidth": 0,
              "ticks": ""
             }
            },
            "type": "scattercarpet"
           }
          ],
          "scattergeo": [
           {
            "marker": {
             "colorbar": {
              "outlinewidth": 0,
              "ticks": ""
             }
            },
            "type": "scattergeo"
           }
          ],
          "scattergl": [
           {
            "marker": {
             "colorbar": {
              "outlinewidth": 0,
              "ticks": ""
             }
            },
            "type": "scattergl"
           }
          ],
          "scattermapbox": [
           {
            "marker": {
             "colorbar": {
              "outlinewidth": 0,
              "ticks": ""
             }
            },
            "type": "scattermapbox"
           }
          ],
          "scatterpolar": [
           {
            "marker": {
             "colorbar": {
              "outlinewidth": 0,
              "ticks": ""
             }
            },
            "type": "scatterpolar"
           }
          ],
          "scatterpolargl": [
           {
            "marker": {
             "colorbar": {
              "outlinewidth": 0,
              "ticks": ""
             }
            },
            "type": "scatterpolargl"
           }
          ],
          "scatterternary": [
           {
            "marker": {
             "colorbar": {
              "outlinewidth": 0,
              "ticks": ""
             }
            },
            "type": "scatterternary"
           }
          ],
          "surface": [
           {
            "colorbar": {
             "outlinewidth": 0,
             "ticks": ""
            },
            "colorscale": [
             [
              0,
              "#0d0887"
             ],
             [
              0.1111111111111111,
              "#46039f"
             ],
             [
              0.2222222222222222,
              "#7201a8"
             ],
             [
              0.3333333333333333,
              "#9c179e"
             ],
             [
              0.4444444444444444,
              "#bd3786"
             ],
             [
              0.5555555555555556,
              "#d8576b"
             ],
             [
              0.6666666666666666,
              "#ed7953"
             ],
             [
              0.7777777777777778,
              "#fb9f3a"
             ],
             [
              0.8888888888888888,
              "#fdca26"
             ],
             [
              1,
              "#f0f921"
             ]
            ],
            "type": "surface"
           }
          ],
          "table": [
           {
            "cells": {
             "fill": {
              "color": "#EBF0F8"
             },
             "line": {
              "color": "white"
             }
            },
            "header": {
             "fill": {
              "color": "#C8D4E3"
             },
             "line": {
              "color": "white"
             }
            },
            "type": "table"
           }
          ]
         },
         "layout": {
          "annotationdefaults": {
           "arrowcolor": "#2a3f5f",
           "arrowhead": 0,
           "arrowwidth": 1
          },
          "coloraxis": {
           "colorbar": {
            "outlinewidth": 0,
            "ticks": ""
           }
          },
          "colorscale": {
           "diverging": [
            [
             0,
             "#8e0152"
            ],
            [
             0.1,
             "#c51b7d"
            ],
            [
             0.2,
             "#de77ae"
            ],
            [
             0.3,
             "#f1b6da"
            ],
            [
             0.4,
             "#fde0ef"
            ],
            [
             0.5,
             "#f7f7f7"
            ],
            [
             0.6,
             "#e6f5d0"
            ],
            [
             0.7,
             "#b8e186"
            ],
            [
             0.8,
             "#7fbc41"
            ],
            [
             0.9,
             "#4d9221"
            ],
            [
             1,
             "#276419"
            ]
           ],
           "sequential": [
            [
             0,
             "#0d0887"
            ],
            [
             0.1111111111111111,
             "#46039f"
            ],
            [
             0.2222222222222222,
             "#7201a8"
            ],
            [
             0.3333333333333333,
             "#9c179e"
            ],
            [
             0.4444444444444444,
             "#bd3786"
            ],
            [
             0.5555555555555556,
             "#d8576b"
            ],
            [
             0.6666666666666666,
             "#ed7953"
            ],
            [
             0.7777777777777778,
             "#fb9f3a"
            ],
            [
             0.8888888888888888,
             "#fdca26"
            ],
            [
             1,
             "#f0f921"
            ]
           ],
           "sequentialminus": [
            [
             0,
             "#0d0887"
            ],
            [
             0.1111111111111111,
             "#46039f"
            ],
            [
             0.2222222222222222,
             "#7201a8"
            ],
            [
             0.3333333333333333,
             "#9c179e"
            ],
            [
             0.4444444444444444,
             "#bd3786"
            ],
            [
             0.5555555555555556,
             "#d8576b"
            ],
            [
             0.6666666666666666,
             "#ed7953"
            ],
            [
             0.7777777777777778,
             "#fb9f3a"
            ],
            [
             0.8888888888888888,
             "#fdca26"
            ],
            [
             1,
             "#f0f921"
            ]
           ]
          },
          "colorway": [
           "#636efa",
           "#EF553B",
           "#00cc96",
           "#ab63fa",
           "#FFA15A",
           "#19d3f3",
           "#FF6692",
           "#B6E880",
           "#FF97FF",
           "#FECB52"
          ],
          "font": {
           "color": "#2a3f5f"
          },
          "geo": {
           "bgcolor": "white",
           "lakecolor": "white",
           "landcolor": "#E5ECF6",
           "showlakes": true,
           "showland": true,
           "subunitcolor": "white"
          },
          "hoverlabel": {
           "align": "left"
          },
          "hovermode": "closest",
          "mapbox": {
           "style": "light"
          },
          "paper_bgcolor": "white",
          "plot_bgcolor": "#E5ECF6",
          "polar": {
           "angularaxis": {
            "gridcolor": "white",
            "linecolor": "white",
            "ticks": ""
           },
           "bgcolor": "#E5ECF6",
           "radialaxis": {
            "gridcolor": "white",
            "linecolor": "white",
            "ticks": ""
           }
          },
          "scene": {
           "xaxis": {
            "backgroundcolor": "#E5ECF6",
            "gridcolor": "white",
            "gridwidth": 2,
            "linecolor": "white",
            "showbackground": true,
            "ticks": "",
            "zerolinecolor": "white"
           },
           "yaxis": {
            "backgroundcolor": "#E5ECF6",
            "gridcolor": "white",
            "gridwidth": 2,
            "linecolor": "white",
            "showbackground": true,
            "ticks": "",
            "zerolinecolor": "white"
           },
           "zaxis": {
            "backgroundcolor": "#E5ECF6",
            "gridcolor": "white",
            "gridwidth": 2,
            "linecolor": "white",
            "showbackground": true,
            "ticks": "",
            "zerolinecolor": "white"
           }
          },
          "shapedefaults": {
           "line": {
            "color": "#2a3f5f"
           }
          },
          "ternary": {
           "aaxis": {
            "gridcolor": "white",
            "linecolor": "white",
            "ticks": ""
           },
           "baxis": {
            "gridcolor": "white",
            "linecolor": "white",
            "ticks": ""
           },
           "bgcolor": "#E5ECF6",
           "caxis": {
            "gridcolor": "white",
            "linecolor": "white",
            "ticks": ""
           }
          },
          "title": {
           "x": 0.05
          },
          "xaxis": {
           "automargin": true,
           "gridcolor": "white",
           "linecolor": "white",
           "ticks": "",
           "title": {
            "standoff": 15
           },
           "zerolinecolor": "white",
           "zerolinewidth": 2
          },
          "yaxis": {
           "automargin": true,
           "gridcolor": "white",
           "linecolor": "white",
           "ticks": "",
           "title": {
            "standoff": 15
           },
           "zerolinecolor": "white",
           "zerolinewidth": 2
          }
         }
        },
        "title": {
         "text": "Movie Quality By Year"
        },
        "xaxis": {
         "anchor": "y",
         "domain": [
          0,
          1
         ],
         "title": {
          "text": "ReleaseYear"
         }
        },
        "yaxis": {
         "anchor": "x",
         "domain": [
          0,
          1
         ],
         "title": {
          "text": "IMDB_Rating"
         }
        }
       }
      },
      "text/html": [
       "<div>\n",
       "        \n",
       "        \n",
       "            <div id=\"64d87bdc-ee7c-4985-a44b-d33c47b0b844\" class=\"plotly-graph-div\" style=\"height:525px; width:100%;\"></div>\n",
       "            <script type=\"text/javascript\">\n",
       "                require([\"plotly\"], function(Plotly) {\n",
       "                    window.PLOTLYENV=window.PLOTLYENV || {};\n",
       "                    \n",
       "                if (document.getElementById(\"64d87bdc-ee7c-4985-a44b-d33c47b0b844\")) {\n",
       "                    Plotly.newPlot(\n",
       "                        '64d87bdc-ee7c-4985-a44b-d33c47b0b844',\n",
       "                        [{\"hovertemplate\": \"ReleaseYear=%{x}<br>IMDB_Rating=%{y}<extra></extra>\", \"legendgroup\": \"\", \"line\": {\"color\": \"#636efa\", \"dash\": \"solid\"}, \"mode\": \"lines\", \"name\": \"\", \"showlegend\": false, \"type\": \"scatter\", \"x\": [1990, 1991, 1992, 1993, 1994, 1995, 1996, 1997, 1998, 1999, 2000, 2001, 2002, 2003, 2004, 2005, 2006, 2007, 2008, 2009, 2010, 2011, 2012, 2013, 2014, 2015, 2016, 2017, 2018], \"xaxis\": \"x\", \"y\": [6.707964601769912, 6.8876033057851265, 6.9242187500000005, 7.1172131147541, 6.946875000000005, 7.014754098360651, 6.7751999999999954, 6.942857142857142, 6.9946153846153845, 7.086440677966097, 7.003305785123967, 7.093913043478257, 7.146969696969699, 6.966666666666667, 7.270247933884299, 7.15981308411215, 7.209401709401712, 7.120967741935485, 7.078991596638653, 7.0561538461538404, 7.020930232558137, 7.076119402985077, 7.183221476510071, 7.206962025316455, 7.177777777777775, 7.036842105263157, 7.054970760233918, 7.159090909090911, 7.125730994152047], \"yaxis\": \"y\"}],\n",
       "                        {\"legend\": {\"tracegroupgap\": 0}, \"margin\": {\"t\": 60}, \"template\": {\"data\": {\"bar\": [{\"error_x\": {\"color\": \"#2a3f5f\"}, \"error_y\": {\"color\": \"#2a3f5f\"}, \"marker\": {\"line\": {\"color\": \"#E5ECF6\", \"width\": 0.5}}, \"type\": \"bar\"}], \"barpolar\": [{\"marker\": {\"line\": {\"color\": \"#E5ECF6\", \"width\": 0.5}}, \"type\": \"barpolar\"}], \"carpet\": [{\"aaxis\": {\"endlinecolor\": \"#2a3f5f\", \"gridcolor\": \"white\", \"linecolor\": \"white\", \"minorgridcolor\": \"white\", \"startlinecolor\": \"#2a3f5f\"}, \"baxis\": {\"endlinecolor\": \"#2a3f5f\", \"gridcolor\": \"white\", \"linecolor\": \"white\", \"minorgridcolor\": \"white\", \"startlinecolor\": \"#2a3f5f\"}, \"type\": \"carpet\"}], \"choropleth\": [{\"colorbar\": {\"outlinewidth\": 0, \"ticks\": \"\"}, \"type\": \"choropleth\"}], \"contour\": [{\"colorbar\": {\"outlinewidth\": 0, \"ticks\": \"\"}, \"colorscale\": [[0.0, \"#0d0887\"], [0.1111111111111111, \"#46039f\"], [0.2222222222222222, \"#7201a8\"], [0.3333333333333333, \"#9c179e\"], [0.4444444444444444, \"#bd3786\"], [0.5555555555555556, \"#d8576b\"], [0.6666666666666666, \"#ed7953\"], [0.7777777777777778, \"#fb9f3a\"], [0.8888888888888888, \"#fdca26\"], [1.0, \"#f0f921\"]], \"type\": \"contour\"}], \"contourcarpet\": [{\"colorbar\": {\"outlinewidth\": 0, \"ticks\": \"\"}, \"type\": \"contourcarpet\"}], \"heatmap\": [{\"colorbar\": {\"outlinewidth\": 0, \"ticks\": \"\"}, \"colorscale\": [[0.0, \"#0d0887\"], [0.1111111111111111, \"#46039f\"], [0.2222222222222222, \"#7201a8\"], [0.3333333333333333, \"#9c179e\"], [0.4444444444444444, \"#bd3786\"], [0.5555555555555556, \"#d8576b\"], [0.6666666666666666, \"#ed7953\"], [0.7777777777777778, \"#fb9f3a\"], [0.8888888888888888, \"#fdca26\"], [1.0, \"#f0f921\"]], \"type\": \"heatmap\"}], \"heatmapgl\": [{\"colorbar\": {\"outlinewidth\": 0, \"ticks\": \"\"}, \"colorscale\": [[0.0, \"#0d0887\"], [0.1111111111111111, \"#46039f\"], [0.2222222222222222, \"#7201a8\"], [0.3333333333333333, \"#9c179e\"], [0.4444444444444444, \"#bd3786\"], [0.5555555555555556, \"#d8576b\"], [0.6666666666666666, \"#ed7953\"], [0.7777777777777778, \"#fb9f3a\"], [0.8888888888888888, \"#fdca26\"], [1.0, \"#f0f921\"]], \"type\": \"heatmapgl\"}], \"histogram\": [{\"marker\": {\"colorbar\": {\"outlinewidth\": 0, \"ticks\": \"\"}}, \"type\": \"histogram\"}], \"histogram2d\": [{\"colorbar\": {\"outlinewidth\": 0, \"ticks\": \"\"}, \"colorscale\": [[0.0, \"#0d0887\"], [0.1111111111111111, \"#46039f\"], [0.2222222222222222, \"#7201a8\"], [0.3333333333333333, \"#9c179e\"], [0.4444444444444444, \"#bd3786\"], [0.5555555555555556, \"#d8576b\"], [0.6666666666666666, \"#ed7953\"], [0.7777777777777778, \"#fb9f3a\"], [0.8888888888888888, \"#fdca26\"], [1.0, \"#f0f921\"]], \"type\": \"histogram2d\"}], \"histogram2dcontour\": [{\"colorbar\": {\"outlinewidth\": 0, \"ticks\": \"\"}, \"colorscale\": [[0.0, \"#0d0887\"], [0.1111111111111111, \"#46039f\"], [0.2222222222222222, \"#7201a8\"], [0.3333333333333333, \"#9c179e\"], [0.4444444444444444, \"#bd3786\"], [0.5555555555555556, \"#d8576b\"], [0.6666666666666666, \"#ed7953\"], [0.7777777777777778, \"#fb9f3a\"], [0.8888888888888888, \"#fdca26\"], [1.0, \"#f0f921\"]], \"type\": \"histogram2dcontour\"}], \"mesh3d\": [{\"colorbar\": {\"outlinewidth\": 0, \"ticks\": \"\"}, \"type\": \"mesh3d\"}], \"parcoords\": [{\"line\": {\"colorbar\": {\"outlinewidth\": 0, \"ticks\": \"\"}}, \"type\": \"parcoords\"}], \"pie\": [{\"automargin\": true, \"type\": \"pie\"}], \"scatter\": [{\"marker\": {\"colorbar\": {\"outlinewidth\": 0, \"ticks\": \"\"}}, \"type\": \"scatter\"}], \"scatter3d\": [{\"line\": {\"colorbar\": {\"outlinewidth\": 0, \"ticks\": \"\"}}, \"marker\": {\"colorbar\": {\"outlinewidth\": 0, \"ticks\": \"\"}}, \"type\": \"scatter3d\"}], \"scattercarpet\": [{\"marker\": {\"colorbar\": {\"outlinewidth\": 0, \"ticks\": \"\"}}, \"type\": \"scattercarpet\"}], \"scattergeo\": [{\"marker\": {\"colorbar\": {\"outlinewidth\": 0, \"ticks\": \"\"}}, \"type\": \"scattergeo\"}], \"scattergl\": [{\"marker\": {\"colorbar\": {\"outlinewidth\": 0, \"ticks\": \"\"}}, \"type\": \"scattergl\"}], \"scattermapbox\": [{\"marker\": {\"colorbar\": {\"outlinewidth\": 0, \"ticks\": \"\"}}, \"type\": \"scattermapbox\"}], \"scatterpolar\": [{\"marker\": {\"colorbar\": {\"outlinewidth\": 0, \"ticks\": \"\"}}, \"type\": \"scatterpolar\"}], \"scatterpolargl\": [{\"marker\": {\"colorbar\": {\"outlinewidth\": 0, \"ticks\": \"\"}}, \"type\": \"scatterpolargl\"}], \"scatterternary\": [{\"marker\": {\"colorbar\": {\"outlinewidth\": 0, \"ticks\": \"\"}}, \"type\": \"scatterternary\"}], \"surface\": [{\"colorbar\": {\"outlinewidth\": 0, \"ticks\": \"\"}, \"colorscale\": [[0.0, \"#0d0887\"], [0.1111111111111111, \"#46039f\"], [0.2222222222222222, \"#7201a8\"], [0.3333333333333333, \"#9c179e\"], [0.4444444444444444, \"#bd3786\"], [0.5555555555555556, \"#d8576b\"], [0.6666666666666666, \"#ed7953\"], [0.7777777777777778, \"#fb9f3a\"], [0.8888888888888888, \"#fdca26\"], [1.0, \"#f0f921\"]], \"type\": \"surface\"}], \"table\": [{\"cells\": {\"fill\": {\"color\": \"#EBF0F8\"}, \"line\": {\"color\": \"white\"}}, \"header\": {\"fill\": {\"color\": \"#C8D4E3\"}, \"line\": {\"color\": \"white\"}}, \"type\": \"table\"}]}, \"layout\": {\"annotationdefaults\": {\"arrowcolor\": \"#2a3f5f\", \"arrowhead\": 0, \"arrowwidth\": 1}, \"coloraxis\": {\"colorbar\": {\"outlinewidth\": 0, \"ticks\": \"\"}}, \"colorscale\": {\"diverging\": [[0, \"#8e0152\"], [0.1, \"#c51b7d\"], [0.2, \"#de77ae\"], [0.3, \"#f1b6da\"], [0.4, \"#fde0ef\"], [0.5, \"#f7f7f7\"], [0.6, \"#e6f5d0\"], [0.7, \"#b8e186\"], [0.8, \"#7fbc41\"], [0.9, \"#4d9221\"], [1, \"#276419\"]], \"sequential\": [[0.0, \"#0d0887\"], [0.1111111111111111, \"#46039f\"], [0.2222222222222222, \"#7201a8\"], [0.3333333333333333, \"#9c179e\"], [0.4444444444444444, \"#bd3786\"], [0.5555555555555556, \"#d8576b\"], [0.6666666666666666, \"#ed7953\"], [0.7777777777777778, \"#fb9f3a\"], [0.8888888888888888, \"#fdca26\"], [1.0, \"#f0f921\"]], \"sequentialminus\": [[0.0, \"#0d0887\"], [0.1111111111111111, \"#46039f\"], [0.2222222222222222, \"#7201a8\"], [0.3333333333333333, \"#9c179e\"], [0.4444444444444444, \"#bd3786\"], [0.5555555555555556, \"#d8576b\"], [0.6666666666666666, \"#ed7953\"], [0.7777777777777778, \"#fb9f3a\"], [0.8888888888888888, \"#fdca26\"], [1.0, \"#f0f921\"]]}, \"colorway\": [\"#636efa\", \"#EF553B\", \"#00cc96\", \"#ab63fa\", \"#FFA15A\", \"#19d3f3\", \"#FF6692\", \"#B6E880\", \"#FF97FF\", \"#FECB52\"], \"font\": {\"color\": \"#2a3f5f\"}, \"geo\": {\"bgcolor\": \"white\", \"lakecolor\": \"white\", \"landcolor\": \"#E5ECF6\", \"showlakes\": true, \"showland\": true, \"subunitcolor\": \"white\"}, \"hoverlabel\": {\"align\": \"left\"}, \"hovermode\": \"closest\", \"mapbox\": {\"style\": \"light\"}, \"paper_bgcolor\": \"white\", \"plot_bgcolor\": \"#E5ECF6\", \"polar\": {\"angularaxis\": {\"gridcolor\": \"white\", \"linecolor\": \"white\", \"ticks\": \"\"}, \"bgcolor\": \"#E5ECF6\", \"radialaxis\": {\"gridcolor\": \"white\", \"linecolor\": \"white\", \"ticks\": \"\"}}, \"scene\": {\"xaxis\": {\"backgroundcolor\": \"#E5ECF6\", \"gridcolor\": \"white\", \"gridwidth\": 2, \"linecolor\": \"white\", \"showbackground\": true, \"ticks\": \"\", \"zerolinecolor\": \"white\"}, \"yaxis\": {\"backgroundcolor\": \"#E5ECF6\", \"gridcolor\": \"white\", \"gridwidth\": 2, \"linecolor\": \"white\", \"showbackground\": true, \"ticks\": \"\", \"zerolinecolor\": \"white\"}, \"zaxis\": {\"backgroundcolor\": \"#E5ECF6\", \"gridcolor\": \"white\", \"gridwidth\": 2, \"linecolor\": \"white\", \"showbackground\": true, \"ticks\": \"\", \"zerolinecolor\": \"white\"}}, \"shapedefaults\": {\"line\": {\"color\": \"#2a3f5f\"}}, \"ternary\": {\"aaxis\": {\"gridcolor\": \"white\", \"linecolor\": \"white\", \"ticks\": \"\"}, \"baxis\": {\"gridcolor\": \"white\", \"linecolor\": \"white\", \"ticks\": \"\"}, \"bgcolor\": \"#E5ECF6\", \"caxis\": {\"gridcolor\": \"white\", \"linecolor\": \"white\", \"ticks\": \"\"}}, \"title\": {\"x\": 0.05}, \"xaxis\": {\"automargin\": true, \"gridcolor\": \"white\", \"linecolor\": \"white\", \"ticks\": \"\", \"title\": {\"standoff\": 15}, \"zerolinecolor\": \"white\", \"zerolinewidth\": 2}, \"yaxis\": {\"automargin\": true, \"gridcolor\": \"white\", \"linecolor\": \"white\", \"ticks\": \"\", \"title\": {\"standoff\": 15}, \"zerolinecolor\": \"white\", \"zerolinewidth\": 2}}}, \"title\": {\"text\": \"Movie Quality By Year\"}, \"xaxis\": {\"anchor\": \"y\", \"domain\": [0.0, 1.0], \"title\": {\"text\": \"ReleaseYear\"}}, \"yaxis\": {\"anchor\": \"x\", \"domain\": [0.0, 1.0], \"title\": {\"text\": \"IMDB_Rating\"}}},\n",
       "                        {\"responsive\": true}\n",
       "                    ).then(function(){\n",
       "                            \n",
       "var gd = document.getElementById('64d87bdc-ee7c-4985-a44b-d33c47b0b844');\n",
       "var x = new MutationObserver(function (mutations, observer) {{\n",
       "        var display = window.getComputedStyle(gd).display;\n",
       "        if (!display || display === 'none') {{\n",
       "            console.log([gd, 'removed!']);\n",
       "            Plotly.purge(gd);\n",
       "            observer.disconnect();\n",
       "        }}\n",
       "}});\n",
       "\n",
       "// Listen for the removal of the full notebook cells\n",
       "var notebookContainer = gd.closest('#notebook-container');\n",
       "if (notebookContainer) {{\n",
       "    x.observe(notebookContainer, {childList: true});\n",
       "}}\n",
       "\n",
       "// Listen for the clearing of the current output cell\n",
       "var outputEl = gd.closest('.output');\n",
       "if (outputEl) {{\n",
       "    x.observe(outputEl, {childList: true});\n",
       "}}\n",
       "\n",
       "                        })\n",
       "                };\n",
       "                });\n",
       "            </script>\n",
       "        </div>"
      ]
     },
     "metadata": {},
     "output_type": "display_data"
    }
   ],
   "source": [
    "#Plotting The Critics Rating By Year\n",
    "Model_DF4 = Model_DF_Temp.groupby('ReleaseYear')['IMDB_Rating'].mean()\n",
    "Model_DF4=Model_DF4.reset_index()\n",
    "fig = px.line(Model_DF4, x='ReleaseYear', y='IMDB_Rating')\n",
    "fig.update_layout(title_text='Movie Quality By Year')\n",
    "fig.show()"
   ]
  },
  {
   "cell_type": "code",
   "execution_count": 64,
   "metadata": {},
   "outputs": [
    {
     "data": {
      "application/vnd.plotly.v1+json": {
       "config": {
        "plotlyServerURL": "https://plot.ly"
       },
       "data": [
        {
         "hovertemplate": "ReleaseYear=%{x}<br>Metascore_Value=%{y}<extra></extra>",
         "legendgroup": "",
         "line": {
          "color": "#636efa",
          "dash": "solid"
         },
         "mode": "lines",
         "name": "",
         "showlegend": false,
         "type": "scatter",
         "x": [
          1990,
          1991,
          1992,
          1993,
          1994,
          1995,
          1996,
          1997,
          1998,
          1999,
          2000,
          2001,
          2002,
          2003,
          2004,
          2005,
          2006,
          2007,
          2008,
          2009,
          2010,
          2011,
          2012,
          2013,
          2014,
          2015,
          2016,
          2017,
          2018
         ],
         "xaxis": "x",
         "y": [
          59.05263157894737,
          59.432432432432435,
          62.86915887850467,
          66.85576923076923,
          65.08256880733946,
          63.301886792452834,
          61.2803738317757,
          60.4,
          60.40495867768595,
          62.71028037383178,
          60.11864406779661,
          62.24545454545454,
          63.32539682539682,
          59.44444444444444,
          62.03448275862069,
          65.84269662921348,
          64.37864077669903,
          67.51785714285714,
          61.80909090909091,
          61.69565217391305,
          61.942622950819676,
          62.92920353982301,
          63.67123287671233,
          64.23357664233576,
          66.90972222222223,
          66.29629629629629,
          64.15432098765432,
          69.80575539568345,
          67.89506172839506
         ],
         "yaxis": "y"
        }
       ],
       "layout": {
        "legend": {
         "tracegroupgap": 0
        },
        "margin": {
         "t": 60
        },
        "template": {
         "data": {
          "bar": [
           {
            "error_x": {
             "color": "#2a3f5f"
            },
            "error_y": {
             "color": "#2a3f5f"
            },
            "marker": {
             "line": {
              "color": "#E5ECF6",
              "width": 0.5
             }
            },
            "type": "bar"
           }
          ],
          "barpolar": [
           {
            "marker": {
             "line": {
              "color": "#E5ECF6",
              "width": 0.5
             }
            },
            "type": "barpolar"
           }
          ],
          "carpet": [
           {
            "aaxis": {
             "endlinecolor": "#2a3f5f",
             "gridcolor": "white",
             "linecolor": "white",
             "minorgridcolor": "white",
             "startlinecolor": "#2a3f5f"
            },
            "baxis": {
             "endlinecolor": "#2a3f5f",
             "gridcolor": "white",
             "linecolor": "white",
             "minorgridcolor": "white",
             "startlinecolor": "#2a3f5f"
            },
            "type": "carpet"
           }
          ],
          "choropleth": [
           {
            "colorbar": {
             "outlinewidth": 0,
             "ticks": ""
            },
            "type": "choropleth"
           }
          ],
          "contour": [
           {
            "colorbar": {
             "outlinewidth": 0,
             "ticks": ""
            },
            "colorscale": [
             [
              0,
              "#0d0887"
             ],
             [
              0.1111111111111111,
              "#46039f"
             ],
             [
              0.2222222222222222,
              "#7201a8"
             ],
             [
              0.3333333333333333,
              "#9c179e"
             ],
             [
              0.4444444444444444,
              "#bd3786"
             ],
             [
              0.5555555555555556,
              "#d8576b"
             ],
             [
              0.6666666666666666,
              "#ed7953"
             ],
             [
              0.7777777777777778,
              "#fb9f3a"
             ],
             [
              0.8888888888888888,
              "#fdca26"
             ],
             [
              1,
              "#f0f921"
             ]
            ],
            "type": "contour"
           }
          ],
          "contourcarpet": [
           {
            "colorbar": {
             "outlinewidth": 0,
             "ticks": ""
            },
            "type": "contourcarpet"
           }
          ],
          "heatmap": [
           {
            "colorbar": {
             "outlinewidth": 0,
             "ticks": ""
            },
            "colorscale": [
             [
              0,
              "#0d0887"
             ],
             [
              0.1111111111111111,
              "#46039f"
             ],
             [
              0.2222222222222222,
              "#7201a8"
             ],
             [
              0.3333333333333333,
              "#9c179e"
             ],
             [
              0.4444444444444444,
              "#bd3786"
             ],
             [
              0.5555555555555556,
              "#d8576b"
             ],
             [
              0.6666666666666666,
              "#ed7953"
             ],
             [
              0.7777777777777778,
              "#fb9f3a"
             ],
             [
              0.8888888888888888,
              "#fdca26"
             ],
             [
              1,
              "#f0f921"
             ]
            ],
            "type": "heatmap"
           }
          ],
          "heatmapgl": [
           {
            "colorbar": {
             "outlinewidth": 0,
             "ticks": ""
            },
            "colorscale": [
             [
              0,
              "#0d0887"
             ],
             [
              0.1111111111111111,
              "#46039f"
             ],
             [
              0.2222222222222222,
              "#7201a8"
             ],
             [
              0.3333333333333333,
              "#9c179e"
             ],
             [
              0.4444444444444444,
              "#bd3786"
             ],
             [
              0.5555555555555556,
              "#d8576b"
             ],
             [
              0.6666666666666666,
              "#ed7953"
             ],
             [
              0.7777777777777778,
              "#fb9f3a"
             ],
             [
              0.8888888888888888,
              "#fdca26"
             ],
             [
              1,
              "#f0f921"
             ]
            ],
            "type": "heatmapgl"
           }
          ],
          "histogram": [
           {
            "marker": {
             "colorbar": {
              "outlinewidth": 0,
              "ticks": ""
             }
            },
            "type": "histogram"
           }
          ],
          "histogram2d": [
           {
            "colorbar": {
             "outlinewidth": 0,
             "ticks": ""
            },
            "colorscale": [
             [
              0,
              "#0d0887"
             ],
             [
              0.1111111111111111,
              "#46039f"
             ],
             [
              0.2222222222222222,
              "#7201a8"
             ],
             [
              0.3333333333333333,
              "#9c179e"
             ],
             [
              0.4444444444444444,
              "#bd3786"
             ],
             [
              0.5555555555555556,
              "#d8576b"
             ],
             [
              0.6666666666666666,
              "#ed7953"
             ],
             [
              0.7777777777777778,
              "#fb9f3a"
             ],
             [
              0.8888888888888888,
              "#fdca26"
             ],
             [
              1,
              "#f0f921"
             ]
            ],
            "type": "histogram2d"
           }
          ],
          "histogram2dcontour": [
           {
            "colorbar": {
             "outlinewidth": 0,
             "ticks": ""
            },
            "colorscale": [
             [
              0,
              "#0d0887"
             ],
             [
              0.1111111111111111,
              "#46039f"
             ],
             [
              0.2222222222222222,
              "#7201a8"
             ],
             [
              0.3333333333333333,
              "#9c179e"
             ],
             [
              0.4444444444444444,
              "#bd3786"
             ],
             [
              0.5555555555555556,
              "#d8576b"
             ],
             [
              0.6666666666666666,
              "#ed7953"
             ],
             [
              0.7777777777777778,
              "#fb9f3a"
             ],
             [
              0.8888888888888888,
              "#fdca26"
             ],
             [
              1,
              "#f0f921"
             ]
            ],
            "type": "histogram2dcontour"
           }
          ],
          "mesh3d": [
           {
            "colorbar": {
             "outlinewidth": 0,
             "ticks": ""
            },
            "type": "mesh3d"
           }
          ],
          "parcoords": [
           {
            "line": {
             "colorbar": {
              "outlinewidth": 0,
              "ticks": ""
             }
            },
            "type": "parcoords"
           }
          ],
          "pie": [
           {
            "automargin": true,
            "type": "pie"
           }
          ],
          "scatter": [
           {
            "marker": {
             "colorbar": {
              "outlinewidth": 0,
              "ticks": ""
             }
            },
            "type": "scatter"
           }
          ],
          "scatter3d": [
           {
            "line": {
             "colorbar": {
              "outlinewidth": 0,
              "ticks": ""
             }
            },
            "marker": {
             "colorbar": {
              "outlinewidth": 0,
              "ticks": ""
             }
            },
            "type": "scatter3d"
           }
          ],
          "scattercarpet": [
           {
            "marker": {
             "colorbar": {
              "outlinewidth": 0,
              "ticks": ""
             }
            },
            "type": "scattercarpet"
           }
          ],
          "scattergeo": [
           {
            "marker": {
             "colorbar": {
              "outlinewidth": 0,
              "ticks": ""
             }
            },
            "type": "scattergeo"
           }
          ],
          "scattergl": [
           {
            "marker": {
             "colorbar": {
              "outlinewidth": 0,
              "ticks": ""
             }
            },
            "type": "scattergl"
           }
          ],
          "scattermapbox": [
           {
            "marker": {
             "colorbar": {
              "outlinewidth": 0,
              "ticks": ""
             }
            },
            "type": "scattermapbox"
           }
          ],
          "scatterpolar": [
           {
            "marker": {
             "colorbar": {
              "outlinewidth": 0,
              "ticks": ""
             }
            },
            "type": "scatterpolar"
           }
          ],
          "scatterpolargl": [
           {
            "marker": {
             "colorbar": {
              "outlinewidth": 0,
              "ticks": ""
             }
            },
            "type": "scatterpolargl"
           }
          ],
          "scatterternary": [
           {
            "marker": {
             "colorbar": {
              "outlinewidth": 0,
              "ticks": ""
             }
            },
            "type": "scatterternary"
           }
          ],
          "surface": [
           {
            "colorbar": {
             "outlinewidth": 0,
             "ticks": ""
            },
            "colorscale": [
             [
              0,
              "#0d0887"
             ],
             [
              0.1111111111111111,
              "#46039f"
             ],
             [
              0.2222222222222222,
              "#7201a8"
             ],
             [
              0.3333333333333333,
              "#9c179e"
             ],
             [
              0.4444444444444444,
              "#bd3786"
             ],
             [
              0.5555555555555556,
              "#d8576b"
             ],
             [
              0.6666666666666666,
              "#ed7953"
             ],
             [
              0.7777777777777778,
              "#fb9f3a"
             ],
             [
              0.8888888888888888,
              "#fdca26"
             ],
             [
              1,
              "#f0f921"
             ]
            ],
            "type": "surface"
           }
          ],
          "table": [
           {
            "cells": {
             "fill": {
              "color": "#EBF0F8"
             },
             "line": {
              "color": "white"
             }
            },
            "header": {
             "fill": {
              "color": "#C8D4E3"
             },
             "line": {
              "color": "white"
             }
            },
            "type": "table"
           }
          ]
         },
         "layout": {
          "annotationdefaults": {
           "arrowcolor": "#2a3f5f",
           "arrowhead": 0,
           "arrowwidth": 1
          },
          "coloraxis": {
           "colorbar": {
            "outlinewidth": 0,
            "ticks": ""
           }
          },
          "colorscale": {
           "diverging": [
            [
             0,
             "#8e0152"
            ],
            [
             0.1,
             "#c51b7d"
            ],
            [
             0.2,
             "#de77ae"
            ],
            [
             0.3,
             "#f1b6da"
            ],
            [
             0.4,
             "#fde0ef"
            ],
            [
             0.5,
             "#f7f7f7"
            ],
            [
             0.6,
             "#e6f5d0"
            ],
            [
             0.7,
             "#b8e186"
            ],
            [
             0.8,
             "#7fbc41"
            ],
            [
             0.9,
             "#4d9221"
            ],
            [
             1,
             "#276419"
            ]
           ],
           "sequential": [
            [
             0,
             "#0d0887"
            ],
            [
             0.1111111111111111,
             "#46039f"
            ],
            [
             0.2222222222222222,
             "#7201a8"
            ],
            [
             0.3333333333333333,
             "#9c179e"
            ],
            [
             0.4444444444444444,
             "#bd3786"
            ],
            [
             0.5555555555555556,
             "#d8576b"
            ],
            [
             0.6666666666666666,
             "#ed7953"
            ],
            [
             0.7777777777777778,
             "#fb9f3a"
            ],
            [
             0.8888888888888888,
             "#fdca26"
            ],
            [
             1,
             "#f0f921"
            ]
           ],
           "sequentialminus": [
            [
             0,
             "#0d0887"
            ],
            [
             0.1111111111111111,
             "#46039f"
            ],
            [
             0.2222222222222222,
             "#7201a8"
            ],
            [
             0.3333333333333333,
             "#9c179e"
            ],
            [
             0.4444444444444444,
             "#bd3786"
            ],
            [
             0.5555555555555556,
             "#d8576b"
            ],
            [
             0.6666666666666666,
             "#ed7953"
            ],
            [
             0.7777777777777778,
             "#fb9f3a"
            ],
            [
             0.8888888888888888,
             "#fdca26"
            ],
            [
             1,
             "#f0f921"
            ]
           ]
          },
          "colorway": [
           "#636efa",
           "#EF553B",
           "#00cc96",
           "#ab63fa",
           "#FFA15A",
           "#19d3f3",
           "#FF6692",
           "#B6E880",
           "#FF97FF",
           "#FECB52"
          ],
          "font": {
           "color": "#2a3f5f"
          },
          "geo": {
           "bgcolor": "white",
           "lakecolor": "white",
           "landcolor": "#E5ECF6",
           "showlakes": true,
           "showland": true,
           "subunitcolor": "white"
          },
          "hoverlabel": {
           "align": "left"
          },
          "hovermode": "closest",
          "mapbox": {
           "style": "light"
          },
          "paper_bgcolor": "white",
          "plot_bgcolor": "#E5ECF6",
          "polar": {
           "angularaxis": {
            "gridcolor": "white",
            "linecolor": "white",
            "ticks": ""
           },
           "bgcolor": "#E5ECF6",
           "radialaxis": {
            "gridcolor": "white",
            "linecolor": "white",
            "ticks": ""
           }
          },
          "scene": {
           "xaxis": {
            "backgroundcolor": "#E5ECF6",
            "gridcolor": "white",
            "gridwidth": 2,
            "linecolor": "white",
            "showbackground": true,
            "ticks": "",
            "zerolinecolor": "white"
           },
           "yaxis": {
            "backgroundcolor": "#E5ECF6",
            "gridcolor": "white",
            "gridwidth": 2,
            "linecolor": "white",
            "showbackground": true,
            "ticks": "",
            "zerolinecolor": "white"
           },
           "zaxis": {
            "backgroundcolor": "#E5ECF6",
            "gridcolor": "white",
            "gridwidth": 2,
            "linecolor": "white",
            "showbackground": true,
            "ticks": "",
            "zerolinecolor": "white"
           }
          },
          "shapedefaults": {
           "line": {
            "color": "#2a3f5f"
           }
          },
          "ternary": {
           "aaxis": {
            "gridcolor": "white",
            "linecolor": "white",
            "ticks": ""
           },
           "baxis": {
            "gridcolor": "white",
            "linecolor": "white",
            "ticks": ""
           },
           "bgcolor": "#E5ECF6",
           "caxis": {
            "gridcolor": "white",
            "linecolor": "white",
            "ticks": ""
           }
          },
          "title": {
           "x": 0.05
          },
          "xaxis": {
           "automargin": true,
           "gridcolor": "white",
           "linecolor": "white",
           "ticks": "",
           "title": {
            "standoff": 15
           },
           "zerolinecolor": "white",
           "zerolinewidth": 2
          },
          "yaxis": {
           "automargin": true,
           "gridcolor": "white",
           "linecolor": "white",
           "ticks": "",
           "title": {
            "standoff": 15
           },
           "zerolinecolor": "white",
           "zerolinewidth": 2
          }
         }
        },
        "title": {
         "text": "Audience Rating By Year"
        },
        "xaxis": {
         "anchor": "y",
         "domain": [
          0,
          1
         ],
         "title": {
          "text": "ReleaseYear"
         }
        },
        "yaxis": {
         "anchor": "x",
         "domain": [
          0,
          1
         ],
         "title": {
          "text": "Metascore_Value"
         }
        }
       }
      },
      "text/html": [
       "<div>\n",
       "        \n",
       "        \n",
       "            <div id=\"79d436af-478c-4200-9671-8bfa2eb2f13f\" class=\"plotly-graph-div\" style=\"height:525px; width:100%;\"></div>\n",
       "            <script type=\"text/javascript\">\n",
       "                require([\"plotly\"], function(Plotly) {\n",
       "                    window.PLOTLYENV=window.PLOTLYENV || {};\n",
       "                    \n",
       "                if (document.getElementById(\"79d436af-478c-4200-9671-8bfa2eb2f13f\")) {\n",
       "                    Plotly.newPlot(\n",
       "                        '79d436af-478c-4200-9671-8bfa2eb2f13f',\n",
       "                        [{\"hovertemplate\": \"ReleaseYear=%{x}<br>Metascore_Value=%{y}<extra></extra>\", \"legendgroup\": \"\", \"line\": {\"color\": \"#636efa\", \"dash\": \"solid\"}, \"mode\": \"lines\", \"name\": \"\", \"showlegend\": false, \"type\": \"scatter\", \"x\": [1990, 1991, 1992, 1993, 1994, 1995, 1996, 1997, 1998, 1999, 2000, 2001, 2002, 2003, 2004, 2005, 2006, 2007, 2008, 2009, 2010, 2011, 2012, 2013, 2014, 2015, 2016, 2017, 2018], \"xaxis\": \"x\", \"y\": [59.05263157894737, 59.432432432432435, 62.86915887850467, 66.85576923076923, 65.08256880733946, 63.301886792452834, 61.2803738317757, 60.4, 60.40495867768595, 62.71028037383178, 60.11864406779661, 62.24545454545454, 63.32539682539682, 59.44444444444444, 62.03448275862069, 65.84269662921348, 64.37864077669903, 67.51785714285714, 61.80909090909091, 61.69565217391305, 61.942622950819676, 62.92920353982301, 63.67123287671233, 64.23357664233576, 66.90972222222223, 66.29629629629629, 64.15432098765432, 69.80575539568345, 67.89506172839506], \"yaxis\": \"y\"}],\n",
       "                        {\"legend\": {\"tracegroupgap\": 0}, \"margin\": {\"t\": 60}, \"template\": {\"data\": {\"bar\": [{\"error_x\": {\"color\": \"#2a3f5f\"}, \"error_y\": {\"color\": \"#2a3f5f\"}, \"marker\": {\"line\": {\"color\": \"#E5ECF6\", \"width\": 0.5}}, \"type\": \"bar\"}], \"barpolar\": [{\"marker\": {\"line\": {\"color\": \"#E5ECF6\", \"width\": 0.5}}, \"type\": \"barpolar\"}], \"carpet\": [{\"aaxis\": {\"endlinecolor\": \"#2a3f5f\", \"gridcolor\": \"white\", \"linecolor\": \"white\", \"minorgridcolor\": \"white\", \"startlinecolor\": \"#2a3f5f\"}, \"baxis\": {\"endlinecolor\": \"#2a3f5f\", \"gridcolor\": \"white\", \"linecolor\": \"white\", \"minorgridcolor\": \"white\", \"startlinecolor\": \"#2a3f5f\"}, \"type\": \"carpet\"}], \"choropleth\": [{\"colorbar\": {\"outlinewidth\": 0, \"ticks\": \"\"}, \"type\": \"choropleth\"}], \"contour\": [{\"colorbar\": {\"outlinewidth\": 0, \"ticks\": \"\"}, \"colorscale\": [[0.0, \"#0d0887\"], [0.1111111111111111, \"#46039f\"], [0.2222222222222222, \"#7201a8\"], [0.3333333333333333, \"#9c179e\"], [0.4444444444444444, \"#bd3786\"], [0.5555555555555556, \"#d8576b\"], [0.6666666666666666, \"#ed7953\"], [0.7777777777777778, \"#fb9f3a\"], [0.8888888888888888, \"#fdca26\"], [1.0, \"#f0f921\"]], \"type\": \"contour\"}], \"contourcarpet\": [{\"colorbar\": {\"outlinewidth\": 0, \"ticks\": \"\"}, \"type\": \"contourcarpet\"}], \"heatmap\": [{\"colorbar\": {\"outlinewidth\": 0, \"ticks\": \"\"}, \"colorscale\": [[0.0, \"#0d0887\"], [0.1111111111111111, \"#46039f\"], [0.2222222222222222, \"#7201a8\"], [0.3333333333333333, \"#9c179e\"], [0.4444444444444444, \"#bd3786\"], [0.5555555555555556, \"#d8576b\"], [0.6666666666666666, \"#ed7953\"], [0.7777777777777778, \"#fb9f3a\"], [0.8888888888888888, \"#fdca26\"], [1.0, \"#f0f921\"]], \"type\": \"heatmap\"}], \"heatmapgl\": [{\"colorbar\": {\"outlinewidth\": 0, \"ticks\": \"\"}, \"colorscale\": [[0.0, \"#0d0887\"], [0.1111111111111111, \"#46039f\"], [0.2222222222222222, \"#7201a8\"], [0.3333333333333333, \"#9c179e\"], [0.4444444444444444, \"#bd3786\"], [0.5555555555555556, \"#d8576b\"], [0.6666666666666666, \"#ed7953\"], [0.7777777777777778, \"#fb9f3a\"], [0.8888888888888888, \"#fdca26\"], [1.0, \"#f0f921\"]], \"type\": \"heatmapgl\"}], \"histogram\": [{\"marker\": {\"colorbar\": {\"outlinewidth\": 0, \"ticks\": \"\"}}, \"type\": \"histogram\"}], \"histogram2d\": [{\"colorbar\": {\"outlinewidth\": 0, \"ticks\": \"\"}, \"colorscale\": [[0.0, \"#0d0887\"], [0.1111111111111111, \"#46039f\"], [0.2222222222222222, \"#7201a8\"], [0.3333333333333333, \"#9c179e\"], [0.4444444444444444, \"#bd3786\"], [0.5555555555555556, \"#d8576b\"], [0.6666666666666666, \"#ed7953\"], [0.7777777777777778, \"#fb9f3a\"], [0.8888888888888888, \"#fdca26\"], [1.0, \"#f0f921\"]], \"type\": \"histogram2d\"}], \"histogram2dcontour\": [{\"colorbar\": {\"outlinewidth\": 0, \"ticks\": \"\"}, \"colorscale\": [[0.0, \"#0d0887\"], [0.1111111111111111, \"#46039f\"], [0.2222222222222222, \"#7201a8\"], [0.3333333333333333, \"#9c179e\"], [0.4444444444444444, \"#bd3786\"], [0.5555555555555556, \"#d8576b\"], [0.6666666666666666, \"#ed7953\"], [0.7777777777777778, \"#fb9f3a\"], [0.8888888888888888, \"#fdca26\"], [1.0, \"#f0f921\"]], \"type\": \"histogram2dcontour\"}], \"mesh3d\": [{\"colorbar\": {\"outlinewidth\": 0, \"ticks\": \"\"}, \"type\": \"mesh3d\"}], \"parcoords\": [{\"line\": {\"colorbar\": {\"outlinewidth\": 0, \"ticks\": \"\"}}, \"type\": \"parcoords\"}], \"pie\": [{\"automargin\": true, \"type\": \"pie\"}], \"scatter\": [{\"marker\": {\"colorbar\": {\"outlinewidth\": 0, \"ticks\": \"\"}}, \"type\": \"scatter\"}], \"scatter3d\": [{\"line\": {\"colorbar\": {\"outlinewidth\": 0, \"ticks\": \"\"}}, \"marker\": {\"colorbar\": {\"outlinewidth\": 0, \"ticks\": \"\"}}, \"type\": \"scatter3d\"}], \"scattercarpet\": [{\"marker\": {\"colorbar\": {\"outlinewidth\": 0, \"ticks\": \"\"}}, \"type\": \"scattercarpet\"}], \"scattergeo\": [{\"marker\": {\"colorbar\": {\"outlinewidth\": 0, \"ticks\": \"\"}}, \"type\": \"scattergeo\"}], \"scattergl\": [{\"marker\": {\"colorbar\": {\"outlinewidth\": 0, \"ticks\": \"\"}}, \"type\": \"scattergl\"}], \"scattermapbox\": [{\"marker\": {\"colorbar\": {\"outlinewidth\": 0, \"ticks\": \"\"}}, \"type\": \"scattermapbox\"}], \"scatterpolar\": [{\"marker\": {\"colorbar\": {\"outlinewidth\": 0, \"ticks\": \"\"}}, \"type\": \"scatterpolar\"}], \"scatterpolargl\": [{\"marker\": {\"colorbar\": {\"outlinewidth\": 0, \"ticks\": \"\"}}, \"type\": \"scatterpolargl\"}], \"scatterternary\": [{\"marker\": {\"colorbar\": {\"outlinewidth\": 0, \"ticks\": \"\"}}, \"type\": \"scatterternary\"}], \"surface\": [{\"colorbar\": {\"outlinewidth\": 0, \"ticks\": \"\"}, \"colorscale\": [[0.0, \"#0d0887\"], [0.1111111111111111, \"#46039f\"], [0.2222222222222222, \"#7201a8\"], [0.3333333333333333, \"#9c179e\"], [0.4444444444444444, \"#bd3786\"], [0.5555555555555556, \"#d8576b\"], [0.6666666666666666, \"#ed7953\"], [0.7777777777777778, \"#fb9f3a\"], [0.8888888888888888, \"#fdca26\"], [1.0, \"#f0f921\"]], \"type\": \"surface\"}], \"table\": [{\"cells\": {\"fill\": {\"color\": \"#EBF0F8\"}, \"line\": {\"color\": \"white\"}}, \"header\": {\"fill\": {\"color\": \"#C8D4E3\"}, \"line\": {\"color\": \"white\"}}, \"type\": \"table\"}]}, \"layout\": {\"annotationdefaults\": {\"arrowcolor\": \"#2a3f5f\", \"arrowhead\": 0, \"arrowwidth\": 1}, \"coloraxis\": {\"colorbar\": {\"outlinewidth\": 0, \"ticks\": \"\"}}, \"colorscale\": {\"diverging\": [[0, \"#8e0152\"], [0.1, \"#c51b7d\"], [0.2, \"#de77ae\"], [0.3, \"#f1b6da\"], [0.4, \"#fde0ef\"], [0.5, \"#f7f7f7\"], [0.6, \"#e6f5d0\"], [0.7, \"#b8e186\"], [0.8, \"#7fbc41\"], [0.9, \"#4d9221\"], [1, \"#276419\"]], \"sequential\": [[0.0, \"#0d0887\"], [0.1111111111111111, \"#46039f\"], [0.2222222222222222, \"#7201a8\"], [0.3333333333333333, \"#9c179e\"], [0.4444444444444444, \"#bd3786\"], [0.5555555555555556, \"#d8576b\"], [0.6666666666666666, \"#ed7953\"], [0.7777777777777778, \"#fb9f3a\"], [0.8888888888888888, \"#fdca26\"], [1.0, \"#f0f921\"]], \"sequentialminus\": [[0.0, \"#0d0887\"], [0.1111111111111111, \"#46039f\"], [0.2222222222222222, \"#7201a8\"], [0.3333333333333333, \"#9c179e\"], [0.4444444444444444, \"#bd3786\"], [0.5555555555555556, \"#d8576b\"], [0.6666666666666666, \"#ed7953\"], [0.7777777777777778, \"#fb9f3a\"], [0.8888888888888888, \"#fdca26\"], [1.0, \"#f0f921\"]]}, \"colorway\": [\"#636efa\", \"#EF553B\", \"#00cc96\", \"#ab63fa\", \"#FFA15A\", \"#19d3f3\", \"#FF6692\", \"#B6E880\", \"#FF97FF\", \"#FECB52\"], \"font\": {\"color\": \"#2a3f5f\"}, \"geo\": {\"bgcolor\": \"white\", \"lakecolor\": \"white\", \"landcolor\": \"#E5ECF6\", \"showlakes\": true, \"showland\": true, \"subunitcolor\": \"white\"}, \"hoverlabel\": {\"align\": \"left\"}, \"hovermode\": \"closest\", \"mapbox\": {\"style\": \"light\"}, \"paper_bgcolor\": \"white\", \"plot_bgcolor\": \"#E5ECF6\", \"polar\": {\"angularaxis\": {\"gridcolor\": \"white\", \"linecolor\": \"white\", \"ticks\": \"\"}, \"bgcolor\": \"#E5ECF6\", \"radialaxis\": {\"gridcolor\": \"white\", \"linecolor\": \"white\", \"ticks\": \"\"}}, \"scene\": {\"xaxis\": {\"backgroundcolor\": \"#E5ECF6\", \"gridcolor\": \"white\", \"gridwidth\": 2, \"linecolor\": \"white\", \"showbackground\": true, \"ticks\": \"\", \"zerolinecolor\": \"white\"}, \"yaxis\": {\"backgroundcolor\": \"#E5ECF6\", \"gridcolor\": \"white\", \"gridwidth\": 2, \"linecolor\": \"white\", \"showbackground\": true, \"ticks\": \"\", \"zerolinecolor\": \"white\"}, \"zaxis\": {\"backgroundcolor\": \"#E5ECF6\", \"gridcolor\": \"white\", \"gridwidth\": 2, \"linecolor\": \"white\", \"showbackground\": true, \"ticks\": \"\", \"zerolinecolor\": \"white\"}}, \"shapedefaults\": {\"line\": {\"color\": \"#2a3f5f\"}}, \"ternary\": {\"aaxis\": {\"gridcolor\": \"white\", \"linecolor\": \"white\", \"ticks\": \"\"}, \"baxis\": {\"gridcolor\": \"white\", \"linecolor\": \"white\", \"ticks\": \"\"}, \"bgcolor\": \"#E5ECF6\", \"caxis\": {\"gridcolor\": \"white\", \"linecolor\": \"white\", \"ticks\": \"\"}}, \"title\": {\"x\": 0.05}, \"xaxis\": {\"automargin\": true, \"gridcolor\": \"white\", \"linecolor\": \"white\", \"ticks\": \"\", \"title\": {\"standoff\": 15}, \"zerolinecolor\": \"white\", \"zerolinewidth\": 2}, \"yaxis\": {\"automargin\": true, \"gridcolor\": \"white\", \"linecolor\": \"white\", \"ticks\": \"\", \"title\": {\"standoff\": 15}, \"zerolinecolor\": \"white\", \"zerolinewidth\": 2}}}, \"title\": {\"text\": \"Audience Rating By Year\"}, \"xaxis\": {\"anchor\": \"y\", \"domain\": [0.0, 1.0], \"title\": {\"text\": \"ReleaseYear\"}}, \"yaxis\": {\"anchor\": \"x\", \"domain\": [0.0, 1.0], \"title\": {\"text\": \"Metascore_Value\"}}},\n",
       "                        {\"responsive\": true}\n",
       "                    ).then(function(){\n",
       "                            \n",
       "var gd = document.getElementById('79d436af-478c-4200-9671-8bfa2eb2f13f');\n",
       "var x = new MutationObserver(function (mutations, observer) {{\n",
       "        var display = window.getComputedStyle(gd).display;\n",
       "        if (!display || display === 'none') {{\n",
       "            console.log([gd, 'removed!']);\n",
       "            Plotly.purge(gd);\n",
       "            observer.disconnect();\n",
       "        }}\n",
       "}});\n",
       "\n",
       "// Listen for the removal of the full notebook cells\n",
       "var notebookContainer = gd.closest('#notebook-container');\n",
       "if (notebookContainer) {{\n",
       "    x.observe(notebookContainer, {childList: true});\n",
       "}}\n",
       "\n",
       "// Listen for the clearing of the current output cell\n",
       "var outputEl = gd.closest('.output');\n",
       "if (outputEl) {{\n",
       "    x.observe(outputEl, {childList: true});\n",
       "}}\n",
       "\n",
       "                        })\n",
       "                };\n",
       "                });\n",
       "            </script>\n",
       "        </div>"
      ]
     },
     "metadata": {},
     "output_type": "display_data"
    }
   ],
   "source": [
    "#Plotting The Metascore Ratings By Year\n",
    "Model_DF3 = Model_DF_Temp.groupby('ReleaseYear')['Metascore_Value'].mean()\n",
    "Model_DF3=Model_DF3.reset_index()\n",
    "fig = px.line(Model_DF3, x='ReleaseYear', y='Metascore_Value')\n",
    "fig.update_layout(title_text='Audience Rating By Year')\n",
    "fig.show()"
   ]
  },
  {
   "cell_type": "code",
   "execution_count": 65,
   "metadata": {},
   "outputs": [
    {
     "data": {
      "image/png": "[encoded data removed]",
      "text/plain": [
       "<Figure size 1080x360 with 1 Axes>"
      ]
     },
     "metadata": {},
     "output_type": "display_data"
    }
   ],
   "source": [
    "#Finding The Correlation Between Metascore_Value and IMDB_Rating\n",
    "import matplotlib\n",
    "import matplotlib.pyplot as plt\n",
    "import seaborn as sns\n",
    "%matplotlib inline\n",
    "matplotlib.style.use('ggplot')\n",
    "\n",
    "plt.figure(figsize=(15,5))\n",
    "sns.scatterplot(x=\"IMDB_Rating\", y=\"Metascore_Value\", hue=\"Metascore_Key\", s = 50,\n",
    "                     data=Model_DF_Temp);"
   ]
  }
 ],
 "metadata": {
  "kernelspec": {
   "display_name": "Python 3",
   "language": "python",
   "name": "python3"
  },
  "language_info": {
   "codemirror_mode": {
    "name": "ipython",
    "version": 3
   },
   "file_extension": ".py",
   "mimetype": "text/x-python",
   "name": "python",
   "nbconvert_exporter": "python",
   "pygments_lexer": "ipython3",
   "version": "3.7.3"
  }
 },
 "nbformat": 4,
 "nbformat_minor": 2
}
